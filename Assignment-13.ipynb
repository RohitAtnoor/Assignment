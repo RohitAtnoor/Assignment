{
 "cells": [
  {
   "cell_type": "code",
   "execution_count": null,
   "id": "1fa4741e-bab0-4429-a922-0648a50cd908",
   "metadata": {},
   "outputs": [],
   "source": [
    "# 1. What advantages do Excel spreadsheets have over CSV spreadsheets?\n",
    "\n",
    "\"\"\"\n",
    "1. Excel allows for rich formatting options, such as cell borders, font styles, colors, and conditional formatting. \n",
    "2. Excel provides a wide range of built-in formulas and functions that can be used for calculations, data analysis,\n",
    "where as in CSV spreadsheet we do not get htis many options.\n",
    "3. CSV files are plain-text files, Does not contain formatting, formulas, macros, etc. It is also known as flat files.\n",
    "4. Excel sheet also helps in Data analysis and preparing the graph analysis.\n",
    "\n",
    "\"\"\"\n"
   ]
  },
  {
   "cell_type": "code",
   "execution_count": null,
   "id": "0d010183-185d-4d31-a3a8-b260443b0e37",
   "metadata": {},
   "outputs": [],
   "source": [
    "# 2.What do you pass to csv.reader() and csv.writer() to create reader and writer objects?\n",
    "\n",
    "\"\"\"\n",
    "csv.reader() : Firstly we need to open the file in read mode and store it in a variable,\n",
    "and then pass that variable inside the csv.reader().\n",
    "\n",
    "\"\"\"\n",
    "# Open the CSV file in read mode\n",
    "filename = open(\"Enter the file name or path\", \"r\") \n",
    "file = csv.reader(filename)\n",
    "\n",
    "\"\"\"\n",
    "csv.writer() : Firstly we need to open the file in write mode and store it in a variable,\n",
    "and then pass that variable inside the csv.writer().\n",
    "\n",
    "\"\"\"\n",
    "# Open the CSV file in write mode\n",
    "filename = open(\"Enter the file name or path\", \"w\")\n",
    "file = csv.writer(filename)\n"
   ]
  },
  {
   "cell_type": "code",
   "execution_count": null,
   "id": "cad44f53-af9d-4e16-9432-afecc10663eb",
   "metadata": {},
   "outputs": [],
   "source": [
    "# 3. What modes do File objects for reader and writer objects need to be opened in?\n",
    "\n",
    "\"\"\"\n",
    "For reader to read a CSV file he has to open it in read mode.\n",
    "For writer the mode of file should be write to write newly in the csv file.\n",
    "\n",
    "\"\"\""
   ]
  },
  {
   "cell_type": "code",
   "execution_count": null,
   "id": "4599921d-a64b-46e9-a7bc-ebc329900e55",
   "metadata": {},
   "outputs": [],
   "source": [
    "# 4. What method takes a list argument and writes it to a CSV file?\n",
    "\n",
    "# writerow() and writerows() methods are used to write it to a csv file.\n",
    "\n",
    "# Example \n",
    "\n",
    "import csv\n",
    "#open the file in write mode.\n",
    "file = open(\"File name\",\"w\")\n",
    "write = csv.writer(file)\n",
    "# List of values to write as a row\n",
    "row_data = [\"Add the data to be added in new row\"]\n",
    "# Write the row to the CSV file\n",
    "write.writerow(row_data)\n"
   ]
  },
  {
   "cell_type": "code",
   "execution_count": null,
   "id": "875e4612-9a49-48b7-a632-e3d4f15795cd",
   "metadata": {},
   "outputs": [],
   "source": [
    "# 5. What do the keyword arguments delimiter and line terminator do?\n",
    "\n",
    "\"\"\"\n",
    "The delimiter keyword argument specifies the character used to separate values within each row of the CSV file.\n",
    "By default, the comma (',') is used as the delimiter. \n",
    "\n",
    "The lineterminator keyword argument specifies the character sequence used to terminate each line in the CSV file. \n",
    "By default, a newline ('\\n') character is used as the line terminator.\n",
    "\n",
    "\"\"\""
   ]
  },
  {
   "cell_type": "code",
   "execution_count": 16,
   "id": "459f8928-c442-4fc9-8818-9b2d1233f60b",
   "metadata": {},
   "outputs": [
    {
     "name": "stdout",
     "output_type": "stream",
     "text": [
      "{\n",
      "    \"name\": \"Rohti\", \n",
      "    \"age\": 25, \n",
      "    \"city\": \"Bangalore\"\n",
      "}  , \n",
      " \n",
      " type of the variable is <class 'str'>\n",
      "------------------------------------------------------------\n",
      "{'name': 'Rohti', 'age': 25, 'city': 'Bangalore'} , \n",
      " \n",
      " type of the variable is <class 'dict'>\n",
      "\n"
     ]
    }
   ],
   "source": [
    "# 6. What function takes a string of JSON data and returns a Python data structure?\n",
    "\n",
    "# From json module json.loads function is used to return string json data to python data structure.\n",
    "\n",
    "# Example\n",
    "import json\n",
    "# Below is the example josn file\n",
    "json_file = \"\"\"{\n",
    "    \"name\": \"Rohti\", \n",
    "    \"age\": 25, \n",
    "    \"city\": \"Bangalore\"\n",
    "} \"\"\"\n",
    "\n",
    "print(f\"\"\"{json_file} , \n",
    " \n",
    " type of the variable is {type(json_file)}\"\"\")\n",
    "print(\"-\"*60)\n",
    "\n",
    "change_file = json.loads(json_file)\n",
    "\n",
    "print(f\"\"\"{change_file} , \n",
    " \n",
    " type of the variable is {type(change_file)}\"\"\")\n",
    "print()"
   ]
  },
  {
   "cell_type": "code",
   "execution_count": 18,
   "id": "6cce63fa-fcb1-456d-a02d-025fb4fb774c",
   "metadata": {},
   "outputs": [
    {
     "name": "stdout",
     "output_type": "stream",
     "text": [
      "{'name': 'Rohti', 'age': 25, 'city': 'Bangalore'} ,  \n",
      " type of the variable is <class 'dict'>\n",
      "------------------------------------------------------------\n",
      "{\"name\": \"Rohti\", \"age\": 25, \"city\": \"Bangalore\"} ,  \n",
      " type of the variable is <class 'str'>\n"
     ]
    }
   ],
   "source": [
    "# 7. What function takes a Python data structure and returns a string of JSON data?\n",
    "\n",
    "# json.dumps() function is used to change the python data structure to string json file.\n",
    "\n",
    "# Example\n",
    "#continution with above example.\n",
    "change_file = {'name': 'Rohti', 'age': 25, 'city': 'Bangalore'}\n",
    "\n",
    "print(f\"\"\"{change_file} ,  \n",
    " type of the variable is {type(change_file)}\"\"\")\n",
    "print(\"-\"*60)\n",
    "\n",
    "change_to_json = json.dumps(change_file)\n",
    "print(f\"\"\"{change_to_json} ,  \n",
    " type of the variable is {type(change_to_json)}\"\"\")"
   ]
  }
 ],
 "metadata": {
  "kernelspec": {
   "display_name": "Python 3 (ipykernel)",
   "language": "python",
   "name": "python3"
  },
  "language_info": {
   "codemirror_mode": {
    "name": "ipython",
    "version": 3
   },
   "file_extension": ".py",
   "mimetype": "text/x-python",
   "name": "python",
   "nbconvert_exporter": "python",
   "pygments_lexer": "ipython3",
   "version": "3.10.6"
  }
 },
 "nbformat": 4,
 "nbformat_minor": 5
}
