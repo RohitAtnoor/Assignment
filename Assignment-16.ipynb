{
 "cells": [
  {
   "cell_type": "code",
   "execution_count": 15,
   "id": "742a3655-c6b2-4b2e-bced-d7f9acbd6db6",
   "metadata": {},
   "outputs": [
    {
     "name": "stdin",
     "output_type": "stream",
     "text": [
      "Enter your Date of Birth : 1998\n"
     ]
    },
    {
     "name": "stdout",
     "output_type": "stream",
     "text": [
      "The year lis is :[1998, 1999, 2000, 2001, 2002, 2003] \n",
      "The Data type is : <class 'list'>\n"
     ]
    }
   ],
   "source": [
    "\"\"\"\n",
    "1. Create a list called years_list, starting with the year of your birth, and each year thereafter \n",
    "until the year of your fifth birthday. For example, if you were born in 1980, \n",
    "the list would be years_list = [1980, 1981, 1982, 1983, 1984, 1985].\n",
    "\"\"\"\n",
    "\n",
    "year = int(input(\"Enter your Date of Birth :\"))\n",
    "years_list = []\n",
    "\n",
    "for i in range(year , year+6) :\n",
    "    years_list.append(i)\n",
    "    \n",
    "print(f\"The year lis is :{years_list} \\nThe Data type is : {type(years_list)}\")"
   ]
  },
  {
   "cell_type": "code",
   "execution_count": 24,
   "id": "e678760d-2a06-44f5-9ea0-c26d73accfa9",
   "metadata": {},
   "outputs": [
    {
     "name": "stdout",
     "output_type": "stream",
     "text": [
      "[1998, 1999, 2000, 2001, 2002, 2003]\n",
      "2001\n"
     ]
    }
   ],
   "source": [
    "# 2. In which year in years_list was your third birthday? Remember, you were 0 years of age for your first year.\n",
    "\n",
    "print(years_list)\n",
    "bithday = 3\n",
    "year_of_birth = years_list[3]\n",
    "\n",
    "print(year_of_birth)"
   ]
  },
  {
   "cell_type": "code",
   "execution_count": 33,
   "id": "f0d1c8f3-7584-4b5e-be49-d717c1963adb",
   "metadata": {},
   "outputs": [
    {
     "name": "stdout",
     "output_type": "stream",
     "text": [
      "[1998, 1999, 2000, 2001, 2002, 2003]\n",
      "[1998, 1999, 2000, 2001, 2002, 2003]\n",
      "Latest Birthday year is : 2003 \n",
      "Old Birthdat year is : 1998\n"
     ]
    }
   ],
   "source": [
    "# 3.In the years list, which year were you the oldest?\n",
    "\n",
    "print(years_list)\n",
    "# soting the list.\n",
    "sort_years = sorted(years_list)\n",
    "print(sort_years)\n",
    "new_year = max(sort_years)\n",
    "old_year = min(sort_years)\n",
    "\n",
    "print(f\"Latest Birthday year is : {new_year} \\nOld Birthdat year is : {old_year}\")"
   ]
  },
  {
   "cell_type": "code",
   "execution_count": 35,
   "id": "fc130e26-4e27-4972-9865-9a7ffdac602a",
   "metadata": {},
   "outputs": [
    {
     "name": "stdout",
     "output_type": "stream",
     "text": [
      "The things is : ['mozzarella', 'cinderella', 'salmonella'] \n",
      "The Data type of things is : <class 'list'>\n"
     ]
    }
   ],
   "source": [
    "# 4. Make a list called things with these three strings as elements: \"mozzarella\", \"cinderella\", \"salmonella\".\n",
    "\n",
    "things = [\"mozzarella\", \"cinderella\", \"salmonella\"]\n",
    "print(f\"The things is : {things} \\nThe Data type of things is : {type(things)}\")"
   ]
  },
  {
   "cell_type": "code",
   "execution_count": 53,
   "id": "ae690309-a1fb-478c-8c8f-cc6bd74e2148",
   "metadata": {},
   "outputs": [
    {
     "name": "stdout",
     "output_type": "stream",
     "text": [
      "Things Before cpitilizing : ['mozzarella', 'cinderella', 'salmonella'] \n",
      "Things After capitilizing : ['Mozzarella', 'Cinderella', 'Salmonella']\n"
     ]
    }
   ],
   "source": [
    "\"\"\"\n",
    "5. Capitalize the element in things that refers to a person and then print the list.\n",
    "Did it change the element in the list?\n",
    "\"\"\"\n",
    "\n",
    "things = [\"mozzarella\", \"cinderella\", \"salmonella\"]\n",
    "cap_things = []\n",
    "for i in things :\n",
    "    i.capitalize()\n",
    "    cap_things.append(i.capitalize())\n",
    "\n",
    "print(f\"Things Before cpitilizing : {things} \\nThings After capitilizing : {cap_things}\")\n",
    "\n",
    "# Therefore the elements in the things list has changed."
   ]
  },
  {
   "cell_type": "code",
   "execution_count": 54,
   "id": "8847b782-60fb-4c04-a12d-5e834cf55891",
   "metadata": {},
   "outputs": [
    {
     "name": "stdout",
     "output_type": "stream",
     "text": [
      "surprise list is : ['Groucho', 'Chico', 'Harpo'] , Data type of surprise is : <class 'list'>\n"
     ]
    }
   ],
   "source": [
    "# 6. Make a surprise list with the elements \"Groucho,\" \"Chico,\" and \"Harpo.\"\n",
    "\n",
    "surprise = [\"Groucho\", \"Chico\", \"Harpo\"]\n",
    "print(f\"surprise list is : {surprise} , Data type of surprise is : {type(surprise)}\")"
   ]
  },
  {
   "cell_type": "code",
   "execution_count": 67,
   "id": "66a3e7c1-9a08-42e5-bf00-72cf5b3e2ace",
   "metadata": {},
   "outputs": [
    {
     "name": "stdout",
     "output_type": "stream",
     "text": [
      "The surprise list is : ['Groucho', 'Chico', 'Harpo']\n",
      "Lower case of the surprise list : ['groucho', 'chico', 'harpo']\n",
      "Reversed List is : ['harpo', 'chico', 'groucho']\n",
      "The capitilized surprize string is : ['Harpo', 'Chico', 'Groucho']\n"
     ]
    }
   ],
   "source": [
    "# 7. Lowercase the last element of the surprise list, reverse it, and then capitalize it.\n",
    "\n",
    "# Surprise ist with elements.\n",
    "surprise = [\"Groucho\", \"Chico\", \"Harpo\"]\n",
    "print(f\"The surprise list is : {surprise}\")\n",
    "lower_surprise = []\n",
    "# changing the surprise list to lower case\n",
    "for words in surprise :\n",
    "    l = words.lower()\n",
    "    lower_surprise.append(l)\n",
    "\n",
    "print(f\"Lower case of the surprise list : {lower_surprise}\")\n",
    "\n",
    "# Reversing the lower_surprise list\n",
    "reverse_surprise = lower_surprise[::-1]\n",
    "print(f\"Reversed List is : {reverse_surprise}\")\n",
    "\n",
    "# Capitilizing the list now.\n",
    "cap_surprise = []\n",
    "for i in reverse_surprise :\n",
    "    c = i.capitalize()\n",
    "    cap_surprise.append(c)\n",
    "    \n",
    "print(f\"The capitilized surprize string is : {cap_surprise}\")"
   ]
  },
  {
   "cell_type": "code",
   "execution_count": 69,
   "id": "8ef2b36d-8be3-4895-8c8e-27e74025adbc",
   "metadata": {},
   "outputs": [
    {
     "name": "stdout",
     "output_type": "stream",
     "text": [
      "The e2f Dictionary is :{'dog': 'chien', 'cat': 'chat', 'walrus': 'morse'} , The Data type of e2f is : <class 'dict'>\n"
     ]
    }
   ],
   "source": [
    "\"\"\"\n",
    "8. Make an English-to-French dictionary called e2f and print it.\n",
    "Here are your starter words: dog is chien, cat is chat, and walrus is morse.\n",
    "\"\"\"\n",
    "\n",
    "e2f = {\n",
    "    'dog': 'chien',\n",
    "    'cat': 'chat',\n",
    "    'walrus': 'morse'\n",
    "}\n",
    "\n",
    "print(f\"The e2f Dictionary is :{e2f} , The Data type of e2f is : {type(e2f)}\")"
   ]
  },
  {
   "cell_type": "code",
   "execution_count": 98,
   "id": "92a217ed-6691-4c06-a0fc-c91133937fea",
   "metadata": {},
   "outputs": [
    {
     "data": {
      "text/plain": [
       "'morse'"
      ]
     },
     "execution_count": 98,
     "metadata": {},
     "output_type": "execute_result"
    }
   ],
   "source": [
    "# 9. Write the French word for walrus in your three-word dictionary e2f.\n",
    "\n",
    "e2f[\"walrus\"]"
   ]
  },
  {
   "cell_type": "code",
   "execution_count": 77,
   "id": "24a59588-b3a4-47f6-a451-7376b47cf89d",
   "metadata": {},
   "outputs": [
    {
     "name": "stdout",
     "output_type": "stream",
     "text": [
      "The f2e Dictionary is :{'chien': 'dog', 'chat': 'cat', 'morse': 'walrus'} , The Data type of e2f is : <class 'dict'>\n"
     ]
    }
   ],
   "source": [
    "# 10. Make a French-to-English dictionary called f2e from e2f. Use the items method.\n",
    "\n",
    "f2e = {}\n",
    "for key,values in e2f.items() :\n",
    "    f2e[values] = key\n",
    "\n",
    "print(f\"The f2e Dictionary is :{f2e} , The Data type of e2f is : {type(f2e)}\")"
   ]
  },
  {
   "cell_type": "code",
   "execution_count": 82,
   "id": "185ec791-5409-40e8-ad68-e0baa3e2e7f6",
   "metadata": {},
   "outputs": [
    {
     "name": "stdout",
     "output_type": "stream",
     "text": [
      "The english word of chien is : dog\n"
     ]
    }
   ],
   "source": [
    "# 11. Print the English version of the French word chien using f2e.\n",
    "\n",
    "english_word = f2e[\"chien\"]\n",
    "print(f\"The english word of chien is : {english_word}\")"
   ]
  },
  {
   "cell_type": "code",
   "execution_count": 83,
   "id": "7fd7f905-3bf0-41f0-92df-acac88325a57",
   "metadata": {},
   "outputs": [
    {
     "data": {
      "text/plain": [
       "dict_keys(['dog', 'cat', 'walrus'])"
      ]
     },
     "execution_count": 83,
     "metadata": {},
     "output_type": "execute_result"
    }
   ],
   "source": [
    "# 12. Make and print a set of English words from the keys in e2f.\n",
    "\n",
    "e2f.keys()"
   ]
  },
  {
   "cell_type": "code",
   "execution_count": 84,
   "id": "ec90cef5-845c-4643-9acf-2358dbd895bf",
   "metadata": {},
   "outputs": [
    {
     "name": "stdout",
     "output_type": "stream",
     "text": [
      "{'animals': {'cats': ['Henri', 'Grumpy', 'Lucy'], 'octopi': {}, 'emus': {}}, 'plants': {}, 'other': {}}\n"
     ]
    }
   ],
   "source": [
    "\"\"\"\n",
    "13. Make a multilevel dictionary called life. Use these strings for the topmost keys: 'animals', 'plants', and 'other'.\n",
    "Make the 'animals' key refer to another dictionary with the keys 'cats', 'octopi', and 'emus'. \n",
    "Make the 'cats' key refer to a list of strings with the values 'Henri', 'Grumpy', and 'Lucy'.\n",
    "Make all the other keys refer to empty dictionaries.\n",
    "\"\"\"\n",
    "\n",
    "life = {\n",
    "    'animals': {\n",
    "        'cats': ['Henri', 'Grumpy', 'Lucy'],\n",
    "        'octopi': {},\n",
    "        'emus': {}\n",
    "    },\n",
    "    'plants': {},\n",
    "    'other': {}\n",
    "}\n",
    "\n",
    "print(life)\n"
   ]
  },
  {
   "cell_type": "code",
   "execution_count": 92,
   "id": "bf9b75b9-fd72-4c63-8efe-3b8611425278",
   "metadata": {},
   "outputs": [
    {
     "data": {
      "text/plain": [
       "dict_keys(['animals', 'plants', 'other'])"
      ]
     },
     "execution_count": 92,
     "metadata": {},
     "output_type": "execute_result"
    }
   ],
   "source": [
    "# 14. Print the top-level keys of life.\n",
    "\n",
    "life.keys()"
   ]
  },
  {
   "cell_type": "code",
   "execution_count": 93,
   "id": "327bfd6d-ec9e-4797-a299-3178ea44b2e7",
   "metadata": {},
   "outputs": [
    {
     "data": {
      "text/plain": [
       "dict_keys(['cats', 'octopi', 'emus'])"
      ]
     },
     "execution_count": 93,
     "metadata": {},
     "output_type": "execute_result"
    }
   ],
   "source": [
    "# 15. Print the keys for life['animals'].\n",
    "\n",
    "life[\"animals\"].keys()"
   ]
  },
  {
   "cell_type": "code",
   "execution_count": null,
   "id": "d8534f0f-13d5-4191-8287-89a5b4113cda",
   "metadata": {},
   "outputs": [
    {
     "data": {
      "text/plain": [
       "['Henri', 'Grumpy', 'Lucy']"
      ]
     },
     "execution_count": 97,
     "metadata": {},
     "output_type": "execute_result"
    }
   ],
   "source": [
    "# 16. Print the values for life['animals']['cats']\n",
    "\n",
    "life[\"animals\"][\"cats\"]"
   ]
  }
 ],
 "metadata": {
  "kernelspec": {
   "display_name": "Python 3 (ipykernel)",
   "language": "python",
   "name": "python3"
  },
  "language_info": {
   "codemirror_mode": {
    "name": "ipython",
    "version": 3
   },
   "file_extension": ".py",
   "mimetype": "text/x-python",
   "name": "python",
   "nbconvert_exporter": "python",
   "pygments_lexer": "ipython3",
   "version": "3.10.6"
  }
 },
 "nbformat": 4,
 "nbformat_minor": 5
}
