{
 "cells": [
  {
   "cell_type": "code",
   "execution_count": 14,
   "id": "24d34472-a25e-4807-9bf7-5b81f7f156da",
   "metadata": {},
   "outputs": [],
   "source": [
    "# 1. Add the current date to the text file today.txt as a string.\n",
    "\n",
    "import datetime\n",
    "# Opening a file if not exist it will creat a file.\n",
    "file = open(\"today.txt\",\"w\")\n",
    "# getting todays date.\n",
    "today_date = datetime.date.today()\n",
    "file.write(str(today_date))\n",
    "file.close()"
   ]
  },
  {
   "cell_type": "code",
   "execution_count": 18,
   "id": "dec6295f-80b0-4a1e-a459-4c4142f68e52",
   "metadata": {},
   "outputs": [
    {
     "name": "stdout",
     "output_type": "stream",
     "text": [
      "2023-06-03\n"
     ]
    }
   ],
   "source": [
    "# 2. Read the text file today.txt into the string today_string\n",
    "\n",
    "with open(\"today.txt\",\"r\") as today_string :\n",
    "    print(today_string.read())"
   ]
  },
  {
   "cell_type": "code",
   "execution_count": 19,
   "id": "fa939305-756a-4c2b-b7ef-7b4570e7f5b5",
   "metadata": {},
   "outputs": [
    {
     "name": "stdout",
     "output_type": "stream",
     "text": [
      "2023-06-03 00:00:00\n"
     ]
    }
   ],
   "source": [
    "# 3. Parse the date from today_string.\n",
    "\n",
    "date_string = \"2023-06-03\"  # Date string to parse\n",
    "format_string = \"%Y-%m-%d\"  # Format of the date string\n",
    "\n",
    "parsed_date = datetime.datetime.strptime(date_string, format_string)\n",
    "\n",
    "print(parsed_date)\n"
   ]
  },
  {
   "cell_type": "code",
   "execution_count": 37,
   "id": "b8716c4c-1c05-4c71-bc52-a69fe2c02c6b",
   "metadata": {},
   "outputs": [
    {
     "name": "stdout",
     "output_type": "stream",
     "text": [
      "The Current Working Directory is : /home/jovyan/work/Python Assignment\n",
      "test.txt\n",
      "zoo.py\n",
      "Assignment-21.ipynb\n",
      "Assignment-1.ipynb\n",
      "Assignment-6.ipynb\n",
      "Assignment-13.ipynb\n",
      "Assignment-12.ipynb\n",
      "Assignment-3.ipynb\n",
      "Assignment-20.ipynb\n",
      "Assignment-10.ipynb\n",
      "Assignment-16.ipynb\n",
      "Assignment-8.ipynb\n",
      "Assignment-4.ipynb\n",
      "Assignment-19.ipynb\n",
      "__pycache__\n",
      "books.db\n",
      "Assignment-5.ipynb\n",
      ".ipynb_checkpoints\n",
      "Assignment-15.ipynb\n",
      "today.txt\n",
      "Assignment-17.ipynb\n",
      "Assignment-9.ipynb\n",
      "Assignment-14.ipynb\n",
      "Assignment-11.ipynb\n",
      "Assignment-7.ipynb\n",
      "Assignment-2.ipynb\n",
      "Assignment-18.ipynb\n",
      "books.csv\n"
     ]
    }
   ],
   "source": [
    "# 4. List the files in your current directory\n",
    "\n",
    "import os\n",
    "# to get the current working directory.\n",
    "current_directory = os.getcwd()\n",
    "print(f\"The Current Working Directory is : {current_directory}\")\n",
    "\n",
    "# getting the list of files in the Current working folder.\n",
    "file_list = os.listdir(current_directory)\n",
    "\n",
    "# Printing the files 1 by 1\n",
    "for files in file_list :\n",
    "    print(files)"
   ]
  },
  {
   "cell_type": "code",
   "execution_count": 38,
   "id": "c46f1d75-929c-4ead-a668-353f30375683",
   "metadata": {},
   "outputs": [
    {
     "data": {
      "text/plain": [
       "['test.txt',\n",
       " 'zoo.py',\n",
       " 'Assignment-21.ipynb',\n",
       " 'Assignment-1.ipynb',\n",
       " 'Assignment-6.ipynb',\n",
       " 'Assignment-13.ipynb',\n",
       " 'Assignment-12.ipynb',\n",
       " 'Assignment-3.ipynb',\n",
       " 'Assignment-20.ipynb',\n",
       " 'Assignment-10.ipynb',\n",
       " 'Assignment-16.ipynb',\n",
       " 'Assignment-8.ipynb',\n",
       " 'Assignment-4.ipynb',\n",
       " 'Assignment-19.ipynb',\n",
       " '__pycache__',\n",
       " 'books.db',\n",
       " 'Assignment-5.ipynb',\n",
       " '.ipynb_checkpoints',\n",
       " 'Assignment-15.ipynb',\n",
       " 'today.txt',\n",
       " 'Assignment-17.ipynb',\n",
       " 'Assignment-9.ipynb',\n",
       " 'Assignment-14.ipynb',\n",
       " 'Assignment-11.ipynb',\n",
       " 'Assignment-7.ipynb',\n",
       " 'Assignment-2.ipynb',\n",
       " 'Assignment-18.ipynb',\n",
       " 'books.csv']"
      ]
     },
     "execution_count": 38,
     "metadata": {},
     "output_type": "execute_result"
    }
   ],
   "source": [
    "# 5. Create a list of all of the files in your parent directory (minimum five files should be available).\n",
    "\n",
    "import os \n",
    "os.listdir()"
   ]
  },
  {
   "cell_type": "code",
   "execution_count": 39,
   "id": "d5fe08a9-9e2b-4959-8e99-e2132c278b3a",
   "metadata": {},
   "outputs": [
    {
     "name": "stdout",
     "output_type": "stream",
     "text": [
      "Process ID: 3941 | Current Time: 08:17:53\n",
      "Process ID: 3940 | Current Time: 08:17:56\n",
      "Process ID: 3942 | Current Time: 08:17:56\n"
     ]
    }
   ],
   "source": [
    "\"\"\"\n",
    "6. Use multiprocessing to create three separate processes. Make each one wait a random number\n",
    "of seconds between one and five, print the current time, and then exit.\n",
    "\"\"\"\n",
    "\n",
    "import multiprocessing\n",
    "import time\n",
    "import random\n",
    "from datetime import datetime\n",
    "\n",
    "def process_function():\n",
    "    wait_time = random.randint(1, 5)  # Generate a random wait time between 1 and 5 seconds\n",
    "    time.sleep(wait_time)  # Wait for the generated time\n",
    "    current_time = datetime.now().strftime(\"%H:%M:%S\")  # Get the current time\n",
    "    print(f\"Process ID: {multiprocessing.current_process().pid} | Current Time: {current_time}\")\n",
    "\n",
    "if __name__ == \"__main__\":\n",
    "    processes = []\n",
    "\n",
    "    # Create three separate processes\n",
    "    for _ in range(3):\n",
    "        process = multiprocessing.Process(target=process_function)\n",
    "        processes.append(process)\n",
    "        process.start()\n",
    "\n",
    "    # Wait for all processes to finish\n",
    "    for process in processes:\n",
    "        process.join()\n"
   ]
  },
  {
   "cell_type": "code",
   "execution_count": 41,
   "id": "7d5205f6-332f-4467-a69f-cf6aabadcb34",
   "metadata": {},
   "outputs": [
    {
     "name": "stdout",
     "output_type": "stream",
     "text": [
      "1998-05-12 00:00:00 <class 'datetime.datetime'>\n"
     ]
    }
   ],
   "source": [
    "# 7. Create a date object of your day of birth.\n",
    "\n",
    "from datetime import datetime\n",
    "my_dob = datetime.strptime('12/05/1998','%d/%m/%Y')\n",
    "print(my_dob, type(my_dob))"
   ]
  },
  {
   "cell_type": "code",
   "execution_count": 45,
   "id": "48532d42-719f-4736-b40e-ca91055dd059",
   "metadata": {},
   "outputs": [
    {
     "name": "stdout",
     "output_type": "stream",
     "text": [
      "I was born on a Tuesday.\n"
     ]
    }
   ],
   "source": [
    "# 8. What day of the week was your day of birth?\n",
    "\n",
    "import datetime\n",
    "\n",
    "# Define the birth date\n",
    "birth_date = datetime.date(1998, 5, 12)\n",
    "\n",
    "# Get the day of the week\n",
    "day_of_week = birth_date.strftime(\"%A\")\n",
    "\n",
    "# Print the day of the week\n",
    "print(\"I was born on a\", day_of_week + \".\")\n"
   ]
  },
  {
   "cell_type": "code",
   "execution_count": 52,
   "id": "297b50a8-e2ab-4111-a669-d0a84687e4f6",
   "metadata": {},
   "outputs": [
    {
     "data": {
      "text/plain": [
       "datetime.datetime(2025, 9, 27, 0, 0)"
      ]
     },
     "execution_count": 52,
     "metadata": {},
     "output_type": "execute_result"
    }
   ],
   "source": [
    "# 9. When will you be (or when were you) 10,000 days old?\n",
    "\n",
    "from datetime import datetime, timedelta\n",
    "my_dob = datetime.strptime(\"12/05/1998\",'%d/%m/%Y')\n",
    "future_date = my_dob+timedelta(10000)\n",
    "future_date"
   ]
  },
  {
   "cell_type": "code",
   "execution_count": null,
   "id": "48a22fe0-c68c-44a5-8a47-6d7710057752",
   "metadata": {},
   "outputs": [],
   "source": []
  }
 ],
 "metadata": {
  "kernelspec": {
   "display_name": "Python 3 (ipykernel)",
   "language": "python",
   "name": "python3"
  },
  "language_info": {
   "codemirror_mode": {
    "name": "ipython",
    "version": 3
   },
   "file_extension": ".py",
   "mimetype": "text/x-python",
   "name": "python",
   "nbconvert_exporter": "python",
   "pygments_lexer": "ipython3",
   "version": "3.10.6"
  }
 },
 "nbformat": 4,
 "nbformat_minor": 5
}
