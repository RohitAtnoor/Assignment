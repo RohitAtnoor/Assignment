{
 "cells": [
  {
   "cell_type": "code",
   "execution_count": null,
   "id": "c6fb2c2e-7a9a-4ef9-8c4a-cb6b773524ff",
   "metadata": {},
   "outputs": [],
   "source": [
    "# 1. How do you distinguish between shutil.copy() and shutil.copytree()?\n",
    "\n",
    "\"\"\"\n",
    "shutil.copy(src, dst):\n",
    "\n",
    "This function is used to copy a single file from the source (src) to the destination (dst).\n",
    "The src argument represents the path to the source file you want to copy.\n",
    "The dst argument represents the path to the destination directory or file name where you want to copy the source file.\n",
    "\n",
    "shutil.copytree(src, dst):\n",
    "\n",
    "This function is used to recursively copy an entire directory tree (including all its files and subdirectories) \n",
    "from the source (src) to the destination (dst).\n",
    "The src argument represents the path to the source directory you want to copy.\n",
    "The dst argument represents the path to the destination directory where you want to copy the source directory.\n",
    "\n",
    "\"\"\""
   ]
  },
  {
   "cell_type": "code",
   "execution_count": null,
   "id": "0e36b5fa-3774-4924-81db-7c2dd0fca7ee",
   "metadata": {},
   "outputs": [],
   "source": [
    "# 2. What function is used to rename files??\n",
    "\n",
    "\"\"\"\n",
    "os.rename() function is used to rename files. \n",
    "It is part of the built-in os module, which provides a way to interact with the operating system.\n",
    "\n",
    "\"\"\""
   ]
  },
  {
   "cell_type": "code",
   "execution_count": null,
   "id": "119b372f-f201-4315-a6f8-09a17c817bea",
   "metadata": {},
   "outputs": [],
   "source": [
    "# 3. What is the difference between the delete functions in the send2trash and shutil modules?\n",
    "\n",
    "\"\"\"\n",
    "1. shutil : shutil() is a module in python which helps in various operation like copy, delete, move.\n",
    "once the files are deleted with this function it cannot be recovered, it will be deleted permanently.\n",
    "\n",
    "2. send2trash : send2trash is a module in python which helps in deleting the files, and move to bin folder.\n",
    "with the help of this function if a file is deleted mistekely it can we restored from the trash or bin folder.\n",
    "\n",
    "\"\"\"\n",
    "\n",
    "# Example for send2trash\n",
    "import send2trash\n",
    "send2trash.send2trash('File Path to be specified')\n",
    "\n",
    "\n",
    "# Example for shutil\n",
    "import shutil\n",
    "shutil.rmtree('File Path to be specified')"
   ]
  },
  {
   "cell_type": "code",
   "execution_count": null,
   "id": "3f474e2d-51cc-42d0-a0de-5ca75d789cfb",
   "metadata": {},
   "outputs": [],
   "source": [
    "\"\"\"\n",
    "4.ZipFile objects have a close() method just like File objects’ close() method. \n",
    "What ZipFile method is equivalent to File objects’ open() method?\n",
    "\"\"\"\n",
    "\n",
    "\"\"\"\n",
    "In the zipfile module, the equivalent method to the open() method of file objects \n",
    "is the zipfile.ZipFile()constructor.It is used to create a ZipFile object, \n",
    "which represents a ZIP archive file and provides various methods to manipulate its contents.\n",
    "\n",
    "\"\"\""
   ]
  },
  {
   "cell_type": "code",
   "execution_count": 1,
   "id": "cf860c5e-b89f-413d-9cf0-2031349aff72",
   "metadata": {},
   "outputs": [],
   "source": [
    "\"\"\"\n",
    "5. Create a programme that searches a folder tree for files with a certain file extension (such as .pdf or .jpg). \n",
    "Copy these files from whatever location they are in to a new folder.\n",
    "\"\"\"\n",
    "\n",
    "import os\n",
    "import shutil\n",
    "\n",
    "def search_and_copy_files(source_folder, target_folder, extension):\n",
    "    for root, dirs, files in os.walk(source_folder):\n",
    "        for file in files:\n",
    "            if file.endswith(extension):\n",
    "                source_path = os.path.join(root, file)\n",
    "                target_path = os.path.join(target_folder, file)\n",
    "                shutil.copy2(source_path, target_path)\n",
    "                print(f\"Copied {file} to {target_folder}\")\n",
    "\n",
    "# Example usage\n",
    "source_folder = 'path/to/source_folder'\n",
    "target_folder = 'path/to/target_folder'\n",
    "extension = '.pdf, .jpg'\n",
    "\n",
    "search_and_copy_files(source_folder, target_folder, extension)\n"
   ]
  }
 ],
 "metadata": {
  "kernelspec": {
   "display_name": "Python 3 (ipykernel)",
   "language": "python",
   "name": "python3"
  },
  "language_info": {
   "codemirror_mode": {
    "name": "ipython",
    "version": 3
   },
   "file_extension": ".py",
   "mimetype": "text/x-python",
   "name": "python",
   "nbconvert_exporter": "python",
   "pygments_lexer": "ipython3",
   "version": "3.10.6"
  }
 },
 "nbformat": 4,
 "nbformat_minor": 5
}
