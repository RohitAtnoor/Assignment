{
 "cells": [
  {
   "cell_type": "code",
   "execution_count": 4,
   "id": "35beee98-d9c7-4918-a6cf-9ab5ab4ef840",
   "metadata": {},
   "outputs": [
    {
     "name": "stdout",
     "output_type": "stream",
     "text": [
      "<class '__main__.Thing'>\n",
      "<__main__.Thing object at 0x7fa46a95bb80>\n"
     ]
    }
   ],
   "source": [
    "\"\"\"\n",
    "1. Make a class called Thing with no contents and print it. Then, create an object called example \n",
    "from this class and also print it. Are the printed values the same or different?\n",
    "\"\"\"\n",
    "\n",
    "class Thing :\n",
    "    pass\n",
    "print(Thing)\n",
    "\n",
    "example = Thing()\n",
    "print(example)"
   ]
  },
  {
   "cell_type": "code",
   "execution_count": 13,
   "id": "d4d3f768-577c-4aca-8729-781d9a0e08c5",
   "metadata": {},
   "outputs": [
    {
     "data": {
      "text/plain": [
       "'abc'"
      ]
     },
     "execution_count": 13,
     "metadata": {},
     "output_type": "execute_result"
    }
   ],
   "source": [
    "\"\"\"\n",
    "2. Create a new class called Thing2 and add the value 'abc' to the \n",
    "letters class attribute. Letters should be printed.\n",
    "\"\"\"\n",
    "\n",
    "class Thing2 :\n",
    "    \n",
    "    def letter(self):\n",
    "        letters = \"abc\"\n",
    "        return letters\n",
    "\n",
    "example2 = Thing2()\n",
    "example2.letter()"
   ]
  },
  {
   "cell_type": "code",
   "execution_count": 14,
   "id": "8396f281-169d-4e0e-9593-54f50135b494",
   "metadata": {},
   "outputs": [
    {
     "name": "stdout",
     "output_type": "stream",
     "text": [
      "xyz\n"
     ]
    }
   ],
   "source": [
    "\"\"\"\n",
    "3. Make yet another class called, of course, Thing3. This time, assign the value 'xyz' \n",
    "to an instance (object) attribute called letters. Print letters. \n",
    "Do you need to make an object from the class to do this?\n",
    "\"\"\"\n",
    "\n",
    "class Thing3:\n",
    "    def __init__(self):\n",
    "        self.letters = 'xyz'\n",
    "\n",
    "example3 = Thing3()\n",
    "print(example3.letters)\n"
   ]
  },
  {
   "cell_type": "code",
   "execution_count": 25,
   "id": "9e76dddc-e121-483e-aee0-f276e56bbb35",
   "metadata": {},
   "outputs": [
    {
     "name": "stdout",
     "output_type": "stream",
     "text": [
      "<__main__.Element object at 0x7fa4583ab5b0>\n"
     ]
    }
   ],
   "source": [
    "\"\"\"\n",
    "4. Create an Element class with the instance attributes name, symbol, and number.\n",
    "Create a class object with the values 'Hydrogen,' 'H,' and 1.\n",
    "\"\"\"\n",
    "\n",
    "class Element:   \n",
    "    def __init__(self, name, symbol, number):\n",
    "        self.name = name\n",
    "        self.symbol = symbol\n",
    "        self.number = number\n",
    "\n",
    "my_elements = Element('Hydrogen','H',1)\n",
    "print(my_elements)"
   ]
  },
  {
   "cell_type": "code",
   "execution_count": 29,
   "id": "924f4322-8791-4bd1-ac6f-b1ff463999bd",
   "metadata": {},
   "outputs": [
    {
     "name": "stdout",
     "output_type": "stream",
     "text": [
      "<__main__.Element object at 0x7fa4582cdd20>\n"
     ]
    }
   ],
   "source": [
    "\"\"\"\n",
    "5. Make a dictionary with these keys and values: 'name': 'Hydrogen', 'symbol': 'H', 'number': 1. \n",
    "Then, create an object called hydrogen from class Element using this dictionary.\n",
    "\"\"\"\n",
    "\n",
    "diction = {'name': 'Hydrogen', 'symbol': 'H', 'number': 1}\n",
    "hydrogen = Element(**diction)\n",
    "print(hydrogen)"
   ]
  },
  {
   "cell_type": "code",
   "execution_count": 39,
   "id": "47f73f6f-01b9-47e8-87d0-3f729749925f",
   "metadata": {},
   "outputs": [
    {
     "name": "stdout",
     "output_type": "stream",
     "text": [
      "Hydrogen H 1\n"
     ]
    }
   ],
   "source": [
    "\"\"\"\n",
    "6. For the Element class, define a method called dump() that prints the values of \n",
    "the object’s attributes (name, symbol, and number). Create the hydrogen object from \n",
    "this new definition and use dump() to print its attributes.\n",
    "\"\"\"\n",
    "\n",
    "class Element:   \n",
    "    def __init__(self, name, symbol, number):\n",
    "        self.name = name\n",
    "        self.symbol = symbol\n",
    "        self.number = number\n",
    "        \n",
    "    def dump(self):\n",
    "        print(self.name,self.symbol,self.number)\n",
    "\n",
    "my_elements = Element('Hydrogen','H',1)\n",
    "my_elements.dump()"
   ]
  },
  {
   "cell_type": "code",
   "execution_count": 40,
   "id": "5e57ea95-d9a5-430c-876d-abb217f20ac7",
   "metadata": {},
   "outputs": [
    {
     "name": "stdout",
     "output_type": "stream",
     "text": [
      "<__main__.Element object at 0x7fa4582cdd20>\n",
      "Hydrogen H 1\n"
     ]
    }
   ],
   "source": [
    "\"\"\"\n",
    "7. Call print(hydrogen). In the definition of Element, change the name of method dump to __str__, \n",
    "create a new hydrogen object, and call print(hydrogen) again.\n",
    "\"\"\"\n",
    "\n",
    "print(hydrogen)\n",
    "\n",
    "class Element:\n",
    "    def __init__(self, name, symbol, number):\n",
    "        self.name = name\n",
    "        self.symbol = symbol\n",
    "        self.number = number      \n",
    "    def __str__(self):\n",
    "        return f'{self.name} {self.symbol} {self.number}'\n",
    "        \n",
    "Hydrogen = Element('Hydrogen','H',1)\n",
    "print(Hydrogen)"
   ]
  },
  {
   "cell_type": "code",
   "execution_count": 41,
   "id": "e7e1ced9-f068-422f-bec5-a213b70b417e",
   "metadata": {},
   "outputs": [
    {
     "name": "stdout",
     "output_type": "stream",
     "text": [
      "Hydrogen\n",
      "H\n",
      "1\n"
     ]
    }
   ],
   "source": [
    "\"\"\"\n",
    "8. Modify Element to make the attributes name, symbol, and number private. \n",
    "Define a getter property for each to return its value.\n",
    "\"\"\"\n",
    "\n",
    "class Element:\n",
    "    def __init__(self,name,symbol,number):\n",
    "        self.__name = name\n",
    "        self.__symbol = symbol\n",
    "        self.__number = number\n",
    "    \n",
    "    @property\n",
    "    def get_name(self):\n",
    "        return self.__name\n",
    "    \n",
    "    @property\n",
    "    def get_symbol(self):\n",
    "        return self.__symbol\n",
    "    \n",
    "    @property\n",
    "    def get_number(self):\n",
    "        return self.__number\n",
    "    \n",
    "hydrogen = Element('Hydrogen','H',1)\n",
    "print(hydrogen.get_name)\n",
    "print(hydrogen.get_symbol)\n",
    "print(hydrogen.get_number)"
   ]
  },
  {
   "cell_type": "code",
   "execution_count": 47,
   "id": "20523010-1200-4629-8d6d-373be0a481d6",
   "metadata": {},
   "outputs": [
    {
     "name": "stdout",
     "output_type": "stream",
     "text": [
      "\n",
      "Bear Eats       : Berries\n",
      "Rabbit Eats     : Clover\n",
      "Octothorpe Eats : campers\n",
      "\n"
     ]
    }
   ],
   "source": [
    "\"\"\"\n",
    "9. Define three classes: Bear, Rabbit, and Octothorpe. For each, define only one method: eats(). \n",
    "This should return 'berries' (Bear), 'clover' (Rabbit), or 'campers' (Octothorpe). \n",
    "Create one object from each and print what it eats.\n",
    "\"\"\"\n",
    "\n",
    "class Bear :\n",
    "    \n",
    "    def eats(self) :\n",
    "        return \"Berries\"\n",
    "\n",
    "class Rabbit:\n",
    "    \n",
    "    def eats(self):\n",
    "        return \"Clover\"\n",
    "\n",
    "class Octothorpe :\n",
    "    \n",
    "    def eats(self) :\n",
    "        return \"campers\"\n",
    "    \n",
    "Bear_eat = Bear()\n",
    "Rabbit_eat = Rabbit()\n",
    "Octothorpe_eat = Octothorpe()\n",
    "\n",
    "print(f\"\"\"\n",
    "Bear Eats       : {Bear_eat.eats()}\n",
    "Rabbit Eats     : {Rabbit_eat.eats()}\n",
    "Octothorpe Eats : {Octothorpe_eat.eats()}\n",
    "\"\"\")"
   ]
  },
  {
   "cell_type": "code",
   "execution_count": 57,
   "id": "8e60091b-9e9b-45f9-8637-6ea88ce66dd9",
   "metadata": {},
   "outputs": [
    {
     "name": "stdout",
     "output_type": "stream",
     "text": [
      "('Disintegrate', 'Crush', 'Ring')\n"
     ]
    }
   ],
   "source": [
    "\"\"\"\n",
    "10. Define these classes: Laser, Claw, and SmartPhone. Each has only one method: does(). \n",
    "This returns 'disintegrate' (Laser), 'crush' (Claw), or 'ring' (SmartPhone). \n",
    "Then, define the class Robot that has one instance (object) of each of these. \n",
    "Define a does() method for the Robot that prints what its component objects do.\n",
    "\"\"\"\n",
    "\n",
    "class Laser :\n",
    "    \n",
    "    def does(self) :\n",
    "        return \"Disintegrate\"\n",
    "        \n",
    "    \n",
    "class Claw :\n",
    "    \n",
    "    def does(self) :\n",
    "        return \"Crush\"\n",
    "        \n",
    "\n",
    "class SmartPhone :\n",
    "    \n",
    "    def does(self) :\n",
    "        return \"Ring\" \n",
    "\n",
    "class Robot :\n",
    "    def __init__(self):\n",
    "        self.Laser = Laser()\n",
    "        self.Claw = Claw()\n",
    "        self.SmartPhone = SmartPhone()\n",
    "        \n",
    "    def does(self):\n",
    "        return self.Laser.does(), self.Claw.does(), self.SmartPhone.does()\n",
    "        \n",
    "person = Robot()\n",
    "print(person.does())"
   ]
  },
  {
   "cell_type": "code",
   "execution_count": null,
   "id": "aae5e611-ab9a-4181-b576-878ca8872d92",
   "metadata": {},
   "outputs": [],
   "source": []
  }
 ],
 "metadata": {
  "kernelspec": {
   "display_name": "Python 3 (ipykernel)",
   "language": "python",
   "name": "python3"
  },
  "language_info": {
   "codemirror_mode": {
    "name": "ipython",
    "version": 3
   },
   "file_extension": ".py",
   "mimetype": "text/x-python",
   "name": "python",
   "nbconvert_exporter": "python",
   "pygments_lexer": "ipython3",
   "version": "3.10.6"
  }
 },
 "nbformat": 4,
 "nbformat_minor": 5
}
