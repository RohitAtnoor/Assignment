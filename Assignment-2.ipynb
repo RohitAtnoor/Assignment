{
 "cells": [
  {
   "cell_type": "code",
   "execution_count": null,
   "id": "08d10a6a-1b56-422f-a22b-39697e57c27c",
   "metadata": {},
   "outputs": [],
   "source": [
    "# 1.What are the two values of the Boolean data type? How do you write them?\n",
    "\n",
    "# Answer \n",
    "\n",
    "\"\"\"\n",
    "Boolean is a type of data type which returns True or False as a Output.\n",
    "The two values of the boolean data type are \n",
    "1. True\n",
    "2. False\n",
    "It is written as bool() inside the bracket we need to give the value or condition it returns the true or false as output.\n",
    "\n",
    "Ex : bool(48 >30 ) return true as the condition is true.\n",
    "bool() return false as there is nothing specified.\n",
    "\n",
    "\"\"\""
   ]
  },
  {
   "cell_type": "code",
   "execution_count": null,
   "id": "13e2c25a-baae-42f3-83b2-29f14f2e2629",
   "metadata": {},
   "outputs": [],
   "source": [
    "# 2. What are the three different types of Boolean operators?\n",
    "\n",
    "# Answer\n",
    "\n",
    "\"\"\"\n",
    "The 3 types of boolean operator are \n",
    "1. and : both the condition must be true\n",
    "2. or : any one condition can be true\n",
    "3. not : it reverse the truth value.\n",
    "\n",
    "EX : x > 10 and x < 50\n",
    "y = 10 or y = 20\n",
    "y not True \n",
    "\n",
    "\"\"\""
   ]
  },
  {
   "cell_type": "code",
   "execution_count": null,
   "id": "7d6a56ed-00fa-4bf7-85a4-7860b74ef145",
   "metadata": {},
   "outputs": [],
   "source": [
    "# 3. Make a list of each Boolean operator's truth tables (i.e. every possible combination of Boolean values for the operator and what it evaluate ).\n",
    "\n",
    "# Answer \n",
    "\n",
    "\"\"\"\n",
    "The Boolean operators and its truth table are as followes.\n",
    "\n",
    "1. and operator\n",
    "--------------------------------\n",
    "  Input          Output \n",
    " A       B       \n",
    "True    True   =  True\n",
    "True    False  =  False\n",
    "False   True   =  False\n",
    "False   False  =  False\n",
    "---------------------------------\n",
    "\n",
    "2. or operator \n",
    "--------------------------------\n",
    "  Input          Output \n",
    " A       B       \n",
    "True    True   =  True\n",
    "True    False  =  True\n",
    "False   True   =  True\n",
    "False   False  =  False\n",
    "---------------------------------\n",
    "\n",
    "3. not operator\n",
    "---------------------------------\n",
    "True   =  False\n",
    "False  =  True\n",
    "---------------------------------\n",
    "\n",
    "\"\"\""
   ]
  },
  {
   "cell_type": "code",
   "execution_count": null,
   "id": "402cd4ce-9537-48cb-ab5c-27f2e8e977a9",
   "metadata": {},
   "outputs": [],
   "source": [
    "\"\"\"\n",
    "4. What are the values of the following expressions?\n",
    "(5 > 4) and (3 == 5)\n",
    "not (5 > 4)\n",
    "(5 > 4) or (3 == 5)\n",
    "not ((5 > 4) or (3 == 5))\n",
    "(True and True) and (True == False)\n",
    "(not False) or (not True)\n",
    "\"\"\"\n",
    "\n",
    "# Answer\n",
    "\n",
    "\"\"\"\n",
    "The Values for the above expression results a boolean value (True or False)\n",
    "1. (5 > 4) and (3 == 5)                 : The value is False.\n",
    "2. not (5 > 4)                          : The value is False.\n",
    "3. (5 > 4) or (3 == 5)                  : The value is True.\n",
    "4. not ((5 > 4) or (3 == 5))            : The value is False.\n",
    "5. (True and True) and (True == False)  : The value is False.\n",
    "6. (not False) or (not True)            : The value is True.\n",
    "\n",
    "\"\"\""
   ]
  },
  {
   "cell_type": "code",
   "execution_count": null,
   "id": "ef26a564-2796-44cd-a8d1-f7bf4f1a5339",
   "metadata": {},
   "outputs": [],
   "source": [
    "# 5. What are the six comparison operators? \n",
    "\n",
    "# Answer \n",
    " \n",
    "\"\"\"\n",
    "6 Comparasion operators are as mentioned below.\n",
    "\n",
    "1. Equal operator (==)\n",
    "Ex : x==y (This indicate that x and y both are equal)\n",
    "\n",
    "2. Not Equal Operator(!=)\n",
    "Ex : x != y (This indicate that both x and y are not equal)\n",
    "\n",
    "3. Greater Than (>)\n",
    "Ex : x > y (This indicates x is greater than y)\n",
    "\n",
    "4. Lesser Than (<)\n",
    "Ex : x < y (This indicates x is lesser than y)\n",
    "\n",
    "5. Greater Than or Equal to (>=)\n",
    "Ex : x >= y (This indicates that x is greater or equal to y)\n",
    "\n",
    "6. Lesser Than Equal to (<=)\n",
    "Ex : x <= y (This indicates that x is lesser or equal to y)\n",
    "\n",
    "\"\"\""
   ]
  },
  {
   "cell_type": "code",
   "execution_count": null,
   "id": "1541d698-1e1b-49d1-96ac-8bb5254d3415",
   "metadata": {},
   "outputs": [],
   "source": [
    "# 6. How do you tell the difference between the equal to and assignment operators?\n",
    "# Describe a condition and when you would use one.\n",
    "\n",
    "# Answer\n",
    "\n",
    "\"\"\"\n",
    "Equal to Operator is (==) it is used to mention two values or two variabes are equal.\n",
    "Ex : x, y are the 2 variables x==y indicates x and y both are equal.\n",
    "10==10 both the values are equal.\n",
    "\n",
    "Assignment operator is (=) it is used to assign the values or condition to a variable.\n",
    "Ex : X = 10  ; Y = 20  this indicates that x and y are 2 variables with different values.\n",
    "= symbol is used to assign the values to the variables x and y.\n",
    "\n",
    "There are other assignment operator like += , -= , *= , /= etc.\n",
    "\n",
    "\"\"\"\n"
   ]
  },
  {
   "cell_type": "code",
   "execution_count": null,
   "id": "8f2cdc6e-93d2-4945-9675-988eaab38bc6",
   "metadata": {},
   "outputs": [],
   "source": [
    "\"\"\"\n",
    "7. Identify the three blocks in this code:\n",
    "\n",
    "spam = 0\n",
    "if spam == 10:\n",
    "    print('eggs')\n",
    "if spam > 5:\n",
    "    print('bacon')\n",
    "else:\n",
    "    print('ham')\n",
    "    print('spam')\n",
    "    print('spam')\n",
    "    \n",
    "\"\"\"\n",
    "\n",
    "# Answer\n",
    "\n",
    "\"\"\"\n",
    "spam = 0 is a variable with value 0\n",
    "\n",
    "if spam == 10:\n",
    "    print('eggs')\n",
    "    \n",
    "The First block check the variable value is equal to 10 or not if its equal to 10 it returns eggs else move to 2nd block.\n",
    "\n",
    "if spam > 5:\n",
    "    print('bacon')\n",
    "    \n",
    "The Second block check the variable value is greater than 5 or not if its grater than 5 it returns bacon else move to block 3.\n",
    "\n",
    "else:\n",
    "    print('ham')\n",
    "    print('spam')\n",
    "    print('spam')\n",
    "\n",
    "As there is no condition in 3rd block and once it reaches the 3rd block it prints the value or output.\n",
    "In the above code as spam is 0 it does not matches 1st block and 2nd block so the output will be from 3rd block.\n",
    "\n",
    "The OP is :\n",
    "ham\n",
    "spam\n",
    "spam\n",
    "\n",
    "\"\"\""
   ]
  },
  {
   "cell_type": "code",
   "execution_count": null,
   "id": "4feabe72-4a4c-4a8a-8946-5614728aafd0",
   "metadata": {},
   "outputs": [
    {
     "name": "stdin",
     "output_type": "stream",
     "text": [
      "Enter a integer value :  1\n"
     ]
    },
    {
     "name": "stdout",
     "output_type": "stream",
     "text": [
      "Hello\n"
     ]
    }
   ],
   "source": [
    "# 8. Write code that prints Hello if 1 is stored in spam, prints Howdy if 2 is stored in spam, and \n",
    "# prints Greetings! if anything else is stored in spam.\n",
    "\n",
    "# Answer\n",
    "\n",
    "spam = input(\"Enter a integer value : \") \n",
    "if spam == \"1\" :\n",
    "    print(\"Hello\")\n",
    "elif spam == \"2\" :\n",
    "    print(\"Howdy\")\n",
    "else :\n",
    "    print(\"Greetings\")"
   ]
  },
  {
   "cell_type": "code",
   "execution_count": null,
   "id": "00701b2e-4996-4f9b-b1e1-2cdefc8d5a40",
   "metadata": {},
   "outputs": [],
   "source": [
    "# 9.If your programme is stuck in an endless loop, what keys you’ll press?\n",
    "\n",
    "# Answer\n",
    "\n",
    "# The shortcut key to end or stop a endless loop is Ctrl + C "
   ]
  },
  {
   "cell_type": "code",
   "execution_count": 6,
   "id": "be4c6a75-f79b-4959-ba45-d6a88ec20fb6",
   "metadata": {},
   "outputs": [
    {
     "name": "stdout",
     "output_type": "stream",
     "text": [
      "1\n",
      "2\n",
      "3\n",
      "5\n",
      "6\n",
      "7\n"
     ]
    }
   ],
   "source": [
    "# 10. How can you tell the difference between break and continue? \n",
    "\n",
    "# Answer\n",
    "\n",
    "\"\"\"\n",
    "Break is a command used to stop the loop when it meets the condition.\n",
    "Continue is a command used to skip the print value at that condition.\n",
    "\"\"\"\n",
    "\n",
    "\"\"\"\n",
    "Below is the example for break and continue.\n",
    "when a is equal to 4 it skip the print and start from first because of continue keyword.\n",
    "When a is equal to 8 it breaks there and next line is not executed because of break keyword.\n",
    "\"\"\"\n",
    "\n",
    "a = 0\n",
    "while a < 10:\n",
    "    a += 1\n",
    "    \n",
    "    if a == 4 :\n",
    "        continue\n",
    "    elif a ==8 :\n",
    "        break   \n",
    "    \n",
    "    print(a)\n",
    "\n"
   ]
  },
  {
   "cell_type": "code",
   "execution_count": 15,
   "id": "5c0792a1-df2a-48b2-bdfe-a6765e613b17",
   "metadata": {},
   "outputs": [
    {
     "name": "stdout",
     "output_type": "stream",
     "text": [
      "[0, 1, 2, 3, 4, 5, 6, 7, 8, 9]\n",
      "[0, 1, 2, 3, 4, 5, 6, 7, 8, 9]\n",
      "[0, 1, 2, 3, 4, 5, 6, 7, 8, 9]\n"
     ]
    }
   ],
   "source": [
    "# 11. In a for loop, what is the difference between range(10), range(0, 10), and range(0, 10, 1)?\n",
    "\n",
    "# Answer\n",
    "\n",
    "\"\"\"\n",
    "range(start,end,step) : range is a inbult function which gives the integer values between start and end-1 values\n",
    "\n",
    "1. range(10) : This indicates that start value is 0 and end value is 10-1, by default it starts from 0\n",
    "if only one value is given then it considers as end point.\n",
    "\n",
    "2. range(0,10) : This indicates that start value is 0 and end value is 10-1, here we are specifying the start and end point.\n",
    "\n",
    "3. range(0,10,1) : This indicates that start value is 0 and end value is 10-1, and 1 is the step value by defaut it will be 1.\n",
    "\n",
    "All the 3 returns the same output.\n",
    "\"\"\"\n",
    "\n",
    "a = range(10)\n",
    "print(list(a))\n",
    "\n",
    "b = range(0,10)\n",
    "print(list(b))\n",
    "\n",
    "c = range(0,10,1)\n",
    "print(list(c))\n"
   ]
  },
  {
   "cell_type": "code",
   "execution_count": 23,
   "id": "d3160de6-0bf5-4029-b465-8b24002bd501",
   "metadata": {},
   "outputs": [
    {
     "name": "stdout",
     "output_type": "stream",
     "text": [
      "1 2 3 4 5 6 7 8 9 10 \n",
      "1 2 3 4 5 6 7 8 9 10 "
     ]
    }
   ],
   "source": [
    "\"\"\"\n",
    "12. Write a short program that prints the numbers 1 to 10 using a for loop. \n",
    "Then write an equivalent program that prints the numbers 1 to 10 using a while loop.\n",
    "\"\"\"\n",
    "\n",
    "# with for loop.\n",
    "for i in range(1,11) :\n",
    "    print(i , end=\" \")\n",
    "print()\n",
    "\n",
    "# with while loop\n",
    "a = 0\n",
    "while a < 10 :\n",
    "    a+=1\n",
    "    print(a, end=\" \")"
   ]
  },
  {
   "cell_type": "code",
   "execution_count": null,
   "id": "44940a2f-b6e5-4fc3-b414-9b605cc4a138",
   "metadata": {},
   "outputs": [],
   "source": [
    "# 13. If you had a function named bacon() inside a module named spam, how would you call it after importing spam?\n",
    "\n",
    "# Answer \n",
    "\n",
    "\"\"\"\n",
    "The methos is module name.function name\n",
    "That is spam.bacon() \n",
    "\"\"\""
   ]
  },
  {
   "cell_type": "code",
   "execution_count": null,
   "id": "31e80224-4a1f-42d1-be26-31e85f8794b7",
   "metadata": {},
   "outputs": [],
   "source": []
  }
 ],
 "metadata": {
  "kernelspec": {
   "display_name": "Python 3 (ipykernel)",
   "language": "python",
   "name": "python3"
  },
  "language_info": {
   "codemirror_mode": {
    "name": "ipython",
    "version": 3
   },
   "file_extension": ".py",
   "mimetype": "text/x-python",
   "name": "python",
   "nbconvert_exporter": "python",
   "pygments_lexer": "ipython3",
   "version": "3.10.6"
  }
 },
 "nbformat": 4,
 "nbformat_minor": 5
}
