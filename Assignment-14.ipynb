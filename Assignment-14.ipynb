{
 "cells": [
  {
   "cell_type": "code",
   "execution_count": null,
   "id": "605b4155-89c4-4272-a518-77ea91fea8e8",
   "metadata": {},
   "outputs": [],
   "source": [
    "# 1. What does RGBA stand for?\n",
    "\n",
    "# RGBA stands for Red Green Blue Alpha. It is a color model used in computer graphics and image processing. "
   ]
  },
  {
   "cell_type": "code",
   "execution_count": null,
   "id": "397b77d9-4d64-4524-a1db-877a9561d57e",
   "metadata": {},
   "outputs": [],
   "source": [
    "# 2. From the Pillow module, how do you get the RGBA value of any images?\n",
    "\n",
    "# The method to get the RGBA value of image is as followes.\n",
    "\n",
    "# Firstly import Pillow module first\n",
    "from PIL import Image\n",
    "# Open the image to get the value\n",
    "image = Image.open(\"File name to be entered\")\n",
    "# we have to convert the image to RGBA form\n",
    "image = image.convert(\"RGBA\")\n",
    "x = 100  # x-coordinate of the pixel\n",
    "y = 200  # y-coordinate of the pixel\n",
    "rgba = image.getpixel((x, y))\n",
    "print(rgba)"
   ]
  },
  {
   "cell_type": "code",
   "execution_count": null,
   "id": "251c1ed5-3855-4070-8fea-5134bd0818db",
   "metadata": {},
   "outputs": [],
   "source": [
    "# 3. What is a box tuple, and how does it work?\n",
    "\n",
    "\"\"\"\n",
    "A box tuple refers to a tuple that defines a rectangular region or bounding box. \n",
    "It typically consists of four values: (left, upper, right, lower). \n",
    "Left  : The x-coordinate of the left edge of the box.\n",
    "Upper : The y-coordinate of the upper edge of the box.\n",
    "Right : The x-coordinate of the right edge of the box.\n",
    "Lower : The y-coordinate of the lower edge of the box.\n",
    "\n",
    "\"\"\""
   ]
  },
  {
   "cell_type": "code",
   "execution_count": null,
   "id": "844987b1-353b-438f-8e98-bc2f92098c08",
   "metadata": {},
   "outputs": [],
   "source": [
    "# 4. Use your image and load in notebook then, How can you find out the width and height of an Image object?\n",
    "\n",
    "# With the help of size function we can get the Width and height of the image.\n",
    "\n",
    "# Importing the pillow module\n",
    "from PIL import Image\n",
    "# Opeing the image file \n",
    "image = Image.open(\"Image file name or path\")\n",
    "width, height = image.size # size is the function used to get the details \n",
    "\n",
    "print(f\"Image width: {width}\") # Printing the width.\n",
    "print(f\"Image height: {height}\") # Printing the height.\n"
   ]
  },
  {
   "cell_type": "code",
   "execution_count": null,
   "id": "7fa60640-a7db-456b-9e39-3ef5eff659f0",
   "metadata": {},
   "outputs": [],
   "source": [
    "# 5. What method would you call to get Image object for a 100×100 image, excluding the lower-left quarter of it?\n",
    "\n",
    "# crop() method is used to get the image croped.\n",
    "from PIL import Image\n",
    "\n",
    "image = Image.open(\"Image file name or path\")\n",
    "cropped_image = image.crop((0, 50, 50, 100))\n"
   ]
  },
  {
   "cell_type": "code",
   "execution_count": null,
   "id": "1fd95241-f1bc-44e7-a191-04967086b13a",
   "metadata": {},
   "outputs": [],
   "source": [
    "# 6. After making changes to an Image object, how could you save it as an image file?\n",
    "\n",
    "# with the help of save function we can save the image file.\n",
    "\n",
    "image.save(\"File name and format\" , format=\"\") we can specify the file format also."
   ]
  },
  {
   "cell_type": "code",
   "execution_count": null,
   "id": "e29f8a2d-952c-4c08-93c1-5c54c9bdbdab",
   "metadata": {},
   "outputs": [],
   "source": [
    "# 7. What module contains Pillow’s shape-drawing code?\n",
    "\n",
    "# Pillow's shape-drawing code can be found in the ImageDraw module of the Pillow library.\n"
   ]
  },
  {
   "cell_type": "code",
   "execution_count": null,
   "id": "413cb171-6758-4ead-8285-4779a7f528b1",
   "metadata": {},
   "outputs": [],
   "source": [
    "# 8. Image objects do not have drawing methods. What kind of object does? How do you get this kind of object?\n",
    "\n",
    "# ImageDraw objects have shape-drawing methods such as point(), line(), or rectangle()"
   ]
  }
 ],
 "metadata": {
  "kernelspec": {
   "display_name": "Python 3 (ipykernel)",
   "language": "python",
   "name": "python3"
  },
  "language_info": {
   "codemirror_mode": {
    "name": "ipython",
    "version": 3
   },
   "file_extension": ".py",
   "mimetype": "text/x-python",
   "name": "python",
   "nbconvert_exporter": "python",
   "pygments_lexer": "ipython3",
   "version": "3.10.6"
  }
 },
 "nbformat": 4,
 "nbformat_minor": 5
}
