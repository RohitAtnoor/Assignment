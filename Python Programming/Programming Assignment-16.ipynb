{
 "cells": [
  {
   "cell_type": "code",
   "execution_count": 15,
   "id": "9c0047e4-928a-462e-823a-0fe4376e07f8",
   "metadata": {},
   "outputs": [
    {
     "name": "stdout",
     "output_type": "stream",
     "text": [
      "in... in... incredible?\n",
      "en... en... enthusiastic?\n",
      "ou... ou... outstanding?\n"
     ]
    }
   ],
   "source": [
    "\"\"\"\n",
    "Question1.\n",
    "Write a function that stutters a word as if someone is struggling to read it. The\n",
    "first two letters are repeated twice with an ellipsis ... and space after each, and then the\n",
    "word is pronounced with a question mark ?.\n",
    "Examples\n",
    "stutter(\"incredible\") ➞ \"in... in... incredible?\"\n",
    "stutter(\"enthusiastic\";) ➞ \"en... en... enthusiastic?\"\n",
    "stutter(\"outstanding\") ➞ \"ou... ou... outstanding?\"\n",
    "\n",
    "Hint :- Assume all input is in lower case and at least two characters long.\n",
    "\"\"\"\n",
    "\n",
    "def stutter(word) :\n",
    "    \n",
    "    lower_case = word.lower()\n",
    "    \n",
    "    return f\"{lower_case[0:2]}... {lower_case[0:2]}... {lower_case}?\"\n",
    "\n",
    "# Examples\n",
    "print(stutter(\"incredible\"))\n",
    "print(stutter(\"enthusiastic\")) \n",
    "print(stutter(\"outstanding\"))    "
   ]
  },
  {
   "cell_type": "code",
   "execution_count": 38,
   "id": "9cb4bdaa-16b4-4394-b247-c4e5956463c1",
   "metadata": {},
   "outputs": [
    {
     "name": "stdout",
     "output_type": "stream",
     "text": [
      "57.3\n",
      "1145.5\n",
      "2863.6\n"
     ]
    }
   ],
   "source": [
    "\"\"\"\n",
    "Question2.\n",
    "Create a function that takes an angle in radians and returns the corresponding\n",
    "angle in degrees rounded to one decimal place.\n",
    "Examples\n",
    "radians_to_degrees(1) ➞ 57.3\n",
    "radians_to_degrees(20) ➞ 1145.9\n",
    "radians_to_degrees(50) ➞ 2864.8\n",
    "\"\"\"\n",
    "\n",
    "def radians_to_degrees(radian) :\n",
    "    \n",
    "    pi = 22 / 7\n",
    "    result = radian * 180 / pi\n",
    "    \n",
    "    return round(result,1)\n",
    "\n",
    "# Example \n",
    "print(radians_to_degrees(1))\n",
    "print(radians_to_degrees(20)) \n",
    "print(radians_to_degrees(50))"
   ]
  },
  {
   "cell_type": "code",
   "execution_count": 47,
   "id": "2f272759-4a8d-489f-9775-2001926ad639",
   "metadata": {},
   "outputs": [
    {
     "name": "stdout",
     "output_type": "stream",
     "text": [
      "True\n",
      "False\n",
      "True\n"
     ]
    }
   ],
   "source": [
    "\"\"\"\n",
    "Question 3. In this challenge, establish if a given integer num is a Curzon number. If 1 plus\n",
    "2 elevated to num is exactly divisible by 1 plus 2 multiplied by num, then num is a Curzon\n",
    "number.\n",
    "Given a non-negative integer num, implement a function that returns True if num is a Curzon\n",
    "number, or False otherwise.\n",
    "Examples\n",
    "is_curzon(5) ➞ True\n",
    "# 2 ** 5 + 1 = 33\n",
    "# 2 * 5 + 1 = 11\n",
    "# 33 is a multiple of 11\n",
    "is_curzon(10) ➞ False\n",
    "# 2 ** 10 + 1 = 1025\n",
    "# 2 * 10 + 1 = 21\n",
    "# 1025 is not a multiple of 21\n",
    "is_curzon(14) ➞ True\n",
    "# 2 ** 14 + 1 = 16385\n",
    "# 2 * 14 + 1 = 29\n",
    "# 16385 is a multiple of 29\n",
    "\"\"\"\n",
    "\n",
    "def is_curzon(n) :\n",
    "    \n",
    "    a = 2 ** n + 1\n",
    "    b = 2 * n + 1\n",
    "    \n",
    "    if a % b == 0:\n",
    "        return True\n",
    "    else :\n",
    "        return False\n",
    "\n",
    "# Example \n",
    "print(is_curzon(5))\n",
    "print(is_curzon(10))\n",
    "print(is_curzon(14))"
   ]
  },
  {
   "cell_type": "code",
   "execution_count": 65,
   "id": "19430897-5639-41d0-b140-a8115fc19494",
   "metadata": {},
   "outputs": [
    {
     "name": "stdout",
     "output_type": "stream",
     "text": [
      "2.6\n",
      "10.4\n",
      "23.4\n"
     ]
    }
   ],
   "source": [
    "\"\"\"\n",
    "Question 4.Given the side length x find the area of a hexagon.\n",
    "\n",
    "Examples\n",
    "area_of_hexagon(1) ➞ 2.6\n",
    "area_of_hexagon(2) ➞ 10.4\n",
    "area_of_hexagon(3) ➞ 23.4\n",
    "\"\"\"\n",
    "\n",
    "def area_of_hexagon(side) :\n",
    "    \n",
    "    import math\n",
    "    \n",
    "    a = math.sqrt(3)\n",
    "    b = side ** 2\n",
    "    result = (3 * a * b ) / 2  # Formula is = 3*sqrt(3)*side**2 /2\n",
    "    \n",
    "    return round(result,1)\n",
    "\n",
    "# Examples\n",
    "print(area_of_hexagon(1)) \n",
    "print(area_of_hexagon(2)) \n",
    "print(area_of_hexagon(3))"
   ]
  },
  {
   "cell_type": "code",
   "execution_count": 66,
   "id": "45e69fc2-76b2-40f3-b946-86c5f45fe3ce",
   "metadata": {},
   "outputs": [
    {
     "name": "stdout",
     "output_type": "stream",
     "text": [
      "1\n",
      "101\n",
      "1010\n"
     ]
    }
   ],
   "source": [
    "\"\"\"\n",
    "Question 5. \n",
    "Create a function that returns a base-2 (binary) representation of a base-10\n",
    "(decimal) string number. To convert is simple: ((2) means base-2 and (10) means base-10)\n",
    "010101001(2) = 1 + 8 + 32 + 128.\n",
    "Going from right to left, the value of the most right bit is 1, now from that every bit to the left\n",
    "will be x2 the value, value of an 8 bit binary numbers are (256, 128, 64, 32, 16, 8, 4, 2, 1).\n",
    "Examples\n",
    "binary(1) ➞ \"1\"\n",
    "# 1*1 = 1\n",
    "binary(5) ➞ \"101\"\n",
    "# 1*1 + 1*4 = 5\n",
    "binary(10) ➞ \"1010\"\n",
    "# 1*2 + 1*8 = 10\n",
    "\"\"\"\n",
    "\n",
    "def binary(decimal):\n",
    "    if decimal == 0:\n",
    "        return \"0\"\n",
    "    \n",
    "    binary_rep = \"\"\n",
    "    \n",
    "    while decimal > 0:\n",
    "        binary_rep = str(decimal % 2) + binary_rep\n",
    "        decimal //= 2\n",
    "    \n",
    "    return binary_rep\n",
    "\n",
    "print(binary(1))  \n",
    "print(binary(5))  \n",
    "print(binary(10)) \n"
   ]
  },
  {
   "cell_type": "code",
   "execution_count": null,
   "id": "ed083929-2bcb-4358-aa78-60abb19ebc1d",
   "metadata": {},
   "outputs": [],
   "source": []
  }
 ],
 "metadata": {
  "kernelspec": {
   "display_name": "Python 3 (ipykernel)",
   "language": "python",
   "name": "python3"
  },
  "language_info": {
   "codemirror_mode": {
    "name": "ipython",
    "version": 3
   },
   "file_extension": ".py",
   "mimetype": "text/x-python",
   "name": "python",
   "nbconvert_exporter": "python",
   "pygments_lexer": "ipython3",
   "version": "3.10.6"
  }
 },
 "nbformat": 4,
 "nbformat_minor": 5
}
