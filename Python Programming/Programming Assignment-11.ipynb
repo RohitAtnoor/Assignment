{
 "cells": [
  {
   "cell_type": "code",
   "execution_count": 11,
   "id": "113c7036-7955-4401-8661-a69ae409b1a4",
   "metadata": {},
   "outputs": [
    {
     "name": "stdout",
     "output_type": "stream",
     "text": [
      "The words in the list are : Hello Ineuron this is python assignment\n"
     ]
    },
    {
     "data": {
      "text/plain": [
       "\"The words with length greater then 5 are : ['Ineuron', 'python', 'assignment']\""
      ]
     },
     "execution_count": 11,
     "metadata": {},
     "output_type": "execute_result"
    }
   ],
   "source": [
    "# 1. Write a Python program to find words which are greater than given length k?\n",
    "\n",
    "def greater_length(words,n) :\n",
    "    \n",
    "    a = words.split()\n",
    "    highest_word = []\n",
    "    print(f\"The words in the list are : {words}\")\n",
    "    \n",
    "    for i in a :\n",
    "        if len(i) > n :\n",
    "            highest_word.append(i)\n",
    "            \n",
    "    return f\"The words with length greater then {n} are : {highest_word}\"\n",
    "\n",
    "words = \"Hello Ineuron this is python assignment\"\n",
    "n = 5\n",
    "greater_length(words,n)"
   ]
  },
  {
   "cell_type": "code",
   "execution_count": 30,
   "id": "11a9c4de-ef6f-4546-818a-38bd35046993",
   "metadata": {},
   "outputs": [
    {
     "name": "stdout",
     "output_type": "stream",
     "text": [
      "Helo\n"
     ]
    }
   ],
   "source": [
    "# 2. Write a Python program for removing i-th character from a string?\n",
    "\n",
    "def remove_character(string, index):\n",
    "    if index < 0 or index >= len(string):\n",
    "        return string  # Return the original string if index is out of range\n",
    "    return string[:index] + string[index+1:]\n",
    "\n",
    "# Example usage\n",
    "string = \"Hello\"\n",
    "index = 2\n",
    "new_string = remove_character(string, index)\n",
    "print(new_string)\n",
    "\n"
   ]
  },
  {
   "cell_type": "code",
   "execution_count": 31,
   "id": "9fa55b95-4a07-41f7-88a6-00cb6fb2999d",
   "metadata": {},
   "outputs": [
    {
     "name": "stdout",
     "output_type": "stream",
     "text": [
      "Original string: Hello, this is a sample string.\n",
      "Joined string: Hello, this is a sample string.\n"
     ]
    }
   ],
   "source": [
    "# 3. Write a Python program to split and join a string?\n",
    "\n",
    "def split_and_join(string):\n",
    "    # Split the string into a list of substrings\n",
    "    string_list = string.split()\n",
    "\n",
    "    # Join the list of substrings into a single string using a space as the separator\n",
    "    new_string = ' '.join(string_list)\n",
    "\n",
    "    return new_string\n",
    "\n",
    "# Example usage\n",
    "string = \"Hello, this is a sample string.\"\n",
    "new_string = split_and_join(string)\n",
    "print(\"Original string:\", string)\n",
    "print(\"Joined string:\", new_string)\n"
   ]
  },
  {
   "cell_type": "code",
   "execution_count": 32,
   "id": "a9ed7d75-f8a2-48b5-87b6-8e38664e7849",
   "metadata": {},
   "outputs": [
    {
     "name": "stdout",
     "output_type": "stream",
     "text": [
      "101010 is binary: True\n",
      "102010 is binary: False\n"
     ]
    }
   ],
   "source": [
    "# 4. Write a Python to check if a given string is binary string or not?\n",
    "\n",
    "def is_binary_string(string):\n",
    "    for char in string:\n",
    "        if char != '0' and char != '1':\n",
    "            return False\n",
    "    return True\n",
    "\n",
    "# Example usage\n",
    "string1 = \"101010\"\n",
    "string2 = \"102010\"\n",
    "\n",
    "print(string1, \"is binary:\", is_binary_string(string1))\n",
    "print(string2, \"is binary:\", is_binary_string(string2))\n"
   ]
  },
  {
   "cell_type": "code",
   "execution_count": 33,
   "id": "960711da-41bc-40a0-89d4-d64da5384fc4",
   "metadata": {},
   "outputs": [
    {
     "name": "stdout",
     "output_type": "stream",
     "text": [
      "Uncommon words: {'world', 'orange', 'banana', 'apple'}\n"
     ]
    }
   ],
   "source": [
    "# 5. Write a Python program to find uncommon words from two Strings?\n",
    "\n",
    "def find_uncommon_words(string1, string2):\n",
    "    # Split the strings into words\n",
    "    words1 = string1.split()\n",
    "    words2 = string2.split()\n",
    "\n",
    "    # Find uncommon words\n",
    "    uncommon_words = set(words1).symmetric_difference(set(words2))\n",
    "\n",
    "    return uncommon_words\n",
    "\n",
    "# Example usage\n",
    "string1 = \"Hello world apple\"\n",
    "string2 = \"Hello orange banana\"\n",
    "\n",
    "uncommon = find_uncommon_words(string1, string2)\n",
    "print(\"Uncommon words:\", uncommon)\n"
   ]
  },
  {
   "cell_type": "code",
   "execution_count": 34,
   "id": "7aadad7d-47f5-4318-87da-f27f4b0a2f78",
   "metadata": {},
   "outputs": [
    {
     "name": "stdout",
     "output_type": "stream",
     "text": [
      "Duplicate characters: ['l', 'o']\n"
     ]
    }
   ],
   "source": [
    "# 6. Write a Python to find all duplicate characters in string?\n",
    "\n",
    "def find_duplicate_characters(string):\n",
    "    duplicates = []\n",
    "    seen = set()\n",
    "\n",
    "    for char in string:\n",
    "        if char in seen and char not in duplicates:\n",
    "            duplicates.append(char)\n",
    "        else:\n",
    "            seen.add(char)\n",
    "\n",
    "    return duplicates\n",
    "\n",
    "# Example usage\n",
    "string = \"Hello World\"\n",
    "\n",
    "duplicate_chars = find_duplicate_characters(string)\n",
    "print(\"Duplicate characters:\", duplicate_chars)\n"
   ]
  },
  {
   "cell_type": "code",
   "execution_count": 41,
   "id": "aef1a71f-de8c-49fb-9503-a8dea02c89d7",
   "metadata": {},
   "outputs": [
    {
     "name": "stdout",
     "output_type": "stream",
     "text": [
      "HelloWorld123 contains special characters: False\n",
      "Hello@World contains special characters: True\n"
     ]
    }
   ],
   "source": [
    "# 7. Write a Python Program to check if a string contains any special character?\n",
    "\n",
    "import re\n",
    "\n",
    "def contains_special_characters(string):\n",
    "    pattern = r'[^a-zA-Z0-9]'  # Regular expression pattern for non-alphanumeric characters\n",
    "\n",
    "    if re.search(pattern, string):\n",
    "        return True  # Special character found\n",
    "\n",
    "    return False  # No special characters found\n",
    "\n",
    "# Example usage\n",
    "string1 = \"HelloWorld123\"\n",
    "string2 = \"Hello@World\"\n",
    "\n",
    "contains_special1 = contains_special_characters(string1)\n",
    "contains_special2 = contains_special_characters(string2)\n",
    "\n",
    "print(string1, \"contains special characters:\", contains_special1)\n",
    "print(string2, \"contains special characters:\", contains_special2)\n"
   ]
  },
  {
   "cell_type": "code",
   "execution_count": null,
   "id": "14c7153d-5088-48f9-b79a-4cbb90fd179f",
   "metadata": {},
   "outputs": [],
   "source": []
  }
 ],
 "metadata": {
  "kernelspec": {
   "display_name": "Python 3 (ipykernel)",
   "language": "python",
   "name": "python3"
  },
  "language_info": {
   "codemirror_mode": {
    "name": "ipython",
    "version": 3
   },
   "file_extension": ".py",
   "mimetype": "text/x-python",
   "name": "python",
   "nbconvert_exporter": "python",
   "pygments_lexer": "ipython3",
   "version": "3.10.6"
  }
 },
 "nbformat": 4,
 "nbformat_minor": 5
}
