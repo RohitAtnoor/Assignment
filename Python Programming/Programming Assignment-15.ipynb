{
 "cells": [
  {
   "cell_type": "code",
   "execution_count": 3,
   "id": "6972f697-6771-461a-bac8-7f3ad52eca14",
   "metadata": {},
   "outputs": [
    {
     "name": "stdout",
     "output_type": "stream",
     "text": [
      "0 35 70 "
     ]
    }
   ],
   "source": [
    "\"\"\"\n",
    "Question 1:\n",
    "Please write a program using generator to print the numbers which can be divisible by 5 and\n",
    "7 between 0 and n in comma separated form while n is input by console.\n",
    "Example:\n",
    "If the following n is given as input to the program:\n",
    "100\n",
    "Then, the output of the program should be:\n",
    "0,35,70\n",
    "\"\"\"\n",
    "\n",
    "class div_by_seven :\n",
    "    \n",
    "    def __init__(self,n=10) :\n",
    "        self.n = n\n",
    "        \n",
    "    def number(self) :\n",
    "        \n",
    "       # numbers = []\n",
    "        for i in range(0,self.n + 1):\n",
    "            if i % 7 == 0 and i % 5 == 0:\n",
    "                yield i\n",
    "                #numbers.append(i)\n",
    "        \n",
    "        #return f\"The numbers divisible by 7 from range 0 to {self.n} are : {numbers}\"\n",
    "        \n",
    "        \n",
    "example = div_by_seven(100)\n",
    "for i in example.number():\n",
    "    print(i,end=\" \")"
   ]
  },
  {
   "cell_type": "code",
   "execution_count": 17,
   "id": "2e3cd74b-3535-4f6f-9976-fb81f7500d9c",
   "metadata": {},
   "outputs": [
    {
     "name": "stdout",
     "output_type": "stream",
     "text": [
      "[0, 2, 4, 6, 8, 10]\n"
     ]
    }
   ],
   "source": [
    "\"\"\"\n",
    "Question 2:\n",
    "Please write a program using generator to print the even numbers between 0 and n in comma\n",
    "separated form while n is input by console.\n",
    "Example:\n",
    "If the following n is given as input to the program:\n",
    "10\n",
    "Then, the output of the program should be:\n",
    "0,2,4,6,8,10\n",
    "\"\"\"\n",
    "\n",
    "def even(n=5) :\n",
    "    \n",
    "    even_number = []\n",
    "    for i in range(n+1) :\n",
    "        if i % 2 == 0:\n",
    "            even_number.append(i)\n",
    "    \n",
    "    a = sorted(even_number)\n",
    "    return a\n",
    "\n",
    "# Example\n",
    "n = 10\n",
    "print(even(n))"
   ]
  },
  {
   "cell_type": "code",
   "execution_count": 18,
   "id": "11262a07-4198-4b8e-b9e9-03c38f36ec2d",
   "metadata": {},
   "outputs": [
    {
     "name": "stdin",
     "output_type": "stream",
     "text": [
      "Enter the number of terms:  7\n"
     ]
    },
    {
     "name": "stdout",
     "output_type": "stream",
     "text": [
      "Fibonacci sequence:\n",
      "0\n",
      "1\n",
      "1\n",
      "2\n",
      "3\n",
      "5\n",
      "8\n"
     ]
    }
   ],
   "source": [
    "\"\"\"\n",
    "Question 3:\n",
    "The Fibonacci Sequence is computed based on the following formula:\n",
    "f(n)=0 if n=0\n",
    "f(n)=1 if n=1\n",
    "f(n)=f(n-1)+f(n-2) if n&gt;1\n",
    "Please write a program using list comprehension to print the Fibonacci Sequence in comma\n",
    "separated form with a given n input by console.\n",
    "Example:\n",
    "If the following n is given as input to the program:\n",
    "7\n",
    "Then, the output of the program should be:\n",
    "0,1,1,2,3,5,8,13\n",
    "\"\"\"\n",
    "\n",
    "def fibonacci(n):\n",
    "    if n <= 1:\n",
    "        return n\n",
    "    else:\n",
    "        return fibonacci(n - 1) + fibonacci(n - 2)\n",
    "\n",
    "def display_fibonacci_sequence(count):\n",
    "    if count <= 0:\n",
    "        print(\"Please enter a positive integer.\")\n",
    "    else:\n",
    "        print(\"Fibonacci sequence:\")\n",
    "        for i in range(count):\n",
    "            print(fibonacci(i))\n",
    "\n",
    "# Test the program\n",
    "n_terms = int(input(\"Enter the number of terms: \"))\n",
    "display_fibonacci_sequence(n_terms)"
   ]
  },
  {
   "cell_type": "code",
   "execution_count": 39,
   "id": "2b63a128-851f-4f2e-b978-112b1f92b217",
   "metadata": {},
   "outputs": [
    {
     "name": "stdout",
     "output_type": "stream",
     "text": [
      "The user name is : username\n",
      "The user name is : john\n"
     ]
    }
   ],
   "source": [
    "\"\"\"\n",
    "Question 4:\n",
    "Assuming that we have some email addresses in the \"username@companyname.com\" format,\n",
    "please write program to print the user name of a given email address. Both user names and\n",
    "company names are composed of letters only.\n",
    "Example:\n",
    "If the following email address is given as input to the program:\n",
    "john@google.com\n",
    "Then, the output of the program should be:\n",
    "john\n",
    "\"\"\"\n",
    "\n",
    "def username(email) :\n",
    "    \n",
    "    a = email.split(\"@\")\n",
    "    \n",
    "    return f\"The user name is : {a[0]}\"\n",
    "\n",
    "# Example\n",
    "email = \"username@companyname.com\"\n",
    "print(username(email))\n",
    "\n",
    "email1 = \"john@google.com\"\n",
    "print(username(email1))"
   ]
  },
  {
   "cell_type": "code",
   "execution_count": 44,
   "id": "25cd191c-0652-49c8-989e-9e0d44dc96af",
   "metadata": {},
   "outputs": [
    {
     "name": "stdout",
     "output_type": "stream",
     "text": [
      "2500\n"
     ]
    }
   ],
   "source": [
    "\"\"\"\n",
    "Question 5:\n",
    "Define a class named Shape and its subclass Square. The Square class has an init function\n",
    "which takes a length as argument. Both classes have a area function which can print the area\n",
    "of the shape where Shape's area is 0 by default.\n",
    "\"\"\"\n",
    "\n",
    "class Shape:\n",
    "    def area(self):\n",
    "        return 0\n",
    "\n",
    "class Square(Shape):\n",
    "    def __init__(self, length):\n",
    "        self.length = length\n",
    "    def area(self):\n",
    "        return self.length*self.length\n",
    "\n",
    "square = Square(50)\n",
    "print(square.area())"
   ]
  },
  {
   "cell_type": "code",
   "execution_count": null,
   "id": "57c2cba3-4c9a-4516-88ac-7a3cf8c0fb32",
   "metadata": {},
   "outputs": [],
   "source": []
  }
 ],
 "metadata": {
  "kernelspec": {
   "display_name": "Python 3 (ipykernel)",
   "language": "python",
   "name": "python3"
  },
  "language_info": {
   "codemirror_mode": {
    "name": "ipython",
    "version": 3
   },
   "file_extension": ".py",
   "mimetype": "text/x-python",
   "name": "python",
   "nbconvert_exporter": "python",
   "pygments_lexer": "ipython3",
   "version": "3.10.6"
  }
 },
 "nbformat": 4,
 "nbformat_minor": 5
}
