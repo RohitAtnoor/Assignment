{
 "cells": [
  {
   "cell_type": "code",
   "execution_count": 12,
   "id": "2de1bbcc-915f-45e8-b8f1-8f5250848364",
   "metadata": {},
   "outputs": [
    {
     "name": "stdout",
     "output_type": "stream",
     "text": [
      "[6, 7, 8, 9, 1]\n",
      "[6, 3, 23, 17, 10]\n",
      "[10, 20, 42, 6]\n",
      "No list has been selected\n"
     ]
    }
   ],
   "source": [
    "\"\"\"\n",
    "Question1\n",
    "Write a function that takes a list and a number as arguments. \n",
    "Add the number to the end of the list, then remove the first element of the list.\n",
    "The function should then return the updated list.\n",
    "Examples\n",
    "next_in_line([5, 6, 7, 8, 9], 1) ➞ [6, 7, 8, 9, 1]\n",
    "next_in_line([7, 6, 3, 23, 17], 10) ➞ [6, 3, 23, 17, 10]\n",
    "next_in_line([1, 10, 20, 42 ], 6) ➞ [10, 20, 42, 6]\n",
    "next_in_line([], 6) ➞ \"No list has been selected\"\n",
    "\"\"\"\n",
    "\n",
    "def next_in_line(List , n) :\n",
    "    \n",
    "    if len(List) > 0 :\n",
    "        add = List.append(n)\n",
    "        remove = List.remove(List[0]) \n",
    "        print(List)\n",
    "    \n",
    "    else :\n",
    "        if len(List) == 0 :\n",
    "            print(\"No list has been selected\")\n",
    "        \n",
    "\n",
    "# Example \n",
    "next_in_line([5, 6, 7, 8, 9], 1) \n",
    "next_in_line([7, 6, 3, 23, 17], 10) \n",
    "next_in_line([1, 10, 20, 42 ], 6) \n",
    "next_in_line([], 6)"
   ]
  },
  {
   "cell_type": "code",
   "execution_count": 30,
   "id": "53728912-7d21-4dee-9d8f-8ebe66a06e54",
   "metadata": {},
   "outputs": [
    {
     "name": "stdout",
     "output_type": "stream",
     "text": [
      "65700\n",
      "62600\n"
     ]
    }
   ],
   "source": [
    "\"\"\"\n",
    "Question2\n",
    "Create the function that takes a list of dictionaries and returns the sum of people's budgets.\n",
    "Examples\n",
    "get_budgets([\n",
    "  { \"name\": \"John\", \"age\": 21, \"budget\": 23000 },\n",
    "  { \"name\": \"Steve\",  \"age\": 32, \"budget\": 40000 },\n",
    "  { \"name\": \"Martin\",  \"age\": 16, \"budget\": 2700 }\n",
    "]) ➞ 65700\n",
    "\n",
    "get_budgets([\n",
    "  { \"name\": \"John\",  \"age\": 21, \"budget\": 29000 },\n",
    "  { \"name\": \"Steve\",  \"age\": 32, \"budget\": 32000 },\n",
    "  { \"name\": \"Martin\",  \"age\": 16, \"budget\": 1600 }\n",
    "]) ➞ 62600\n",
    "\"\"\"\n",
    "\n",
    "def get_budgets(List) :\n",
    "    \n",
    "    result = 0\n",
    "    \n",
    "    for i in List:\n",
    "        a = int(i[\"budget\"])\n",
    "        result = result + a\n",
    "    \n",
    "    print(result)\n",
    "    \n",
    "    \n",
    "# Example \n",
    "get_budgets([\n",
    "  { \"name\": \"John\", \"age\": 21, \"budget\": 23000 },\n",
    "  { \"name\": \"Steve\",  \"age\": 32, \"budget\": 40000 },\n",
    "  { \"name\": \"Martin\",  \"age\": 16, \"budget\": 2700 }\n",
    "]) \n",
    "\n",
    "get_budgets([\n",
    "  { \"name\": \"John\",  \"age\": 21, \"budget\": 29000 },\n",
    "  { \"name\": \"Steve\",  \"age\": 32, \"budget\": 32000 },\n",
    "  { \"name\": \"Martin\",  \"age\": 16, \"budget\": 1600 }\n",
    "])"
   ]
  },
  {
   "cell_type": "code",
   "execution_count": 45,
   "id": "bad300b8-fd0b-4110-ba29-60acde0575cd",
   "metadata": {},
   "outputs": [
    {
     "name": "stdout",
     "output_type": "stream",
     "text": [
      "ehllo\n",
      "abdeit\n",
      "acehkr\n",
      "eegk\n",
      "aacijprstv\n"
     ]
    }
   ],
   "source": [
    "\"\"\"\n",
    "Question3\n",
    "Create a function that takes a string and returns a string with its letters in alphabetical order.\n",
    "Examples\n",
    "alphabet_soup(\"hello\") ➞ \"ehllo\"\n",
    "alphabet_soup(\"edabit\") ➞ \"abdeit\"\n",
    "alphabet_soup(\"hacker\") ➞ \"acehkr\"\n",
    "alphabet_soup(\"geek\") ➞ \"eegk\"\n",
    "alphabet_soup(\"javascript\") ➞ \"aacijprstv\"\n",
    "\"\"\"\n",
    "\n",
    "def alphabet_soup(string) :\n",
    "    \n",
    "    sorting = sorted(string)\n",
    "    result = \"\".join(sorting)\n",
    "    \n",
    "    print(result)\n",
    "\n",
    "# Example\n",
    "alphabet_soup(\"hello\") \n",
    "alphabet_soup(\"edabit\")\n",
    "alphabet_soup(\"hacker\")\n",
    "alphabet_soup(\"geek\") \n",
    "alphabet_soup(\"javascript\")"
   ]
  },
  {
   "cell_type": "code",
   "execution_count": 49,
   "id": "f149fa99-8748-4e1f-83f8-22cb6ae14f54",
   "metadata": {},
   "outputs": [
    {
     "name": "stdout",
     "output_type": "stream",
     "text": [
      "105.0\n",
      "15399.26\n",
      "2007316.26\n"
     ]
    }
   ],
   "source": [
    "\"\"\"\n",
    "Question4\n",
    "Suppose that you invest $10,000 for 10 years at an interest rate of 6% compounded monthly. \n",
    "What will be the value of your investment at the end of the 10 year period?\n",
    "Create a function that accepts the principal p, the term in years t, \n",
    "the interest rate r,and the number of compounding periods per year n. \n",
    "The function returns the value at the end of term rounded to the nearest cent.\n",
    "For the example above:\n",
    "compound_interest(10000, 10, 0.06, 12) ➞ 18193.97\n",
    "Note that the interest rate is given as a decimal and n=12 because with monthly \n",
    "compounding there are 12 periods per year. Compounding can also be done annually,\n",
    "quarterly, weekly, or daily.\n",
    "\n",
    "Examples\n",
    "compound_interest(100, 1, 0.05, 1) ➞ 105.0\n",
    "compound_interest(3500, 15, 0.1, 4) ➞ 15399.26\n",
    "compound_interest(100000, 20, 0.15, 365) ➞ 2007316.26\n",
    "\"\"\"\n",
    "\n",
    "def compound_interest(principal,years,roi,cp):\n",
    "    \n",
    "    ci = principal*(1+(roi/cp))**(cp*years)\n",
    "    print(round(ci,2))\n",
    "\n",
    "compound_interest(100, 1, 0.05, 1)\n",
    "compound_interest(3500, 15, 0.1, 4)\n",
    "compound_interest(100000, 20, 0.15, 365)"
   ]
  },
  {
   "cell_type": "code",
   "execution_count": 55,
   "id": "e47f9807-9142-4ef7-8cbc-b85077dc3f52",
   "metadata": {},
   "outputs": [
    {
     "name": "stdout",
     "output_type": "stream",
     "text": [
      "[9, 2, 16]\n",
      "[81, 123]\n",
      "[10, 56, 20, 3]\n",
      "[1]\n"
     ]
    }
   ],
   "source": [
    "\"\"\"\n",
    "Question5\n",
    "Write a function that takes a list of elements and returns only the integers.\n",
    "Examples\n",
    "return_only_integer([9, 2, \"space\", \"car\", \"lion\", 16]) ➞ [9, 2, 16]\n",
    "return_only_integer([\"hello\", 81, \"basketball\", 123, \"fox\"]) ➞ [81, 123]\n",
    "return_only_integer([10, \"121\", 56, 20, \"car\", 3, \"lion\"]) ➞ [10, 56, 20, 3]\n",
    "return_only_integer([\"String\",  True,  3.3,  1]) ➞ [1]\n",
    "\"\"\"\n",
    "\n",
    "def return_only_integer(List):\n",
    "    \n",
    "    for i in List:\n",
    "        if type(i) == int and i < 0 :\n",
    "            print(\"Enter only Possitive Integers :\")\n",
    "    \n",
    "        result = []\n",
    "\n",
    "        for i in List:\n",
    "            if type(i) == int :\n",
    "                result.append(i)\n",
    "    \n",
    "    print( result )\n",
    "\n",
    "# Example\n",
    "return_only_integer([9, 2, \"space\", \"car\", \"lion\", 16]) \n",
    "return_only_integer([\"hello\", 81, \"basketball\", 123, \"fox\"]) \n",
    "return_only_integer([10, \"121\", 56, 20, \"car\", 3, \"lion\"]) \n",
    "return_only_integer([\"String\",  True,  3.3,  1]) "
   ]
  },
  {
   "cell_type": "code",
   "execution_count": null,
   "id": "515cbd86-a0c2-4b28-800e-a35b50efa782",
   "metadata": {},
   "outputs": [],
   "source": []
  }
 ],
 "metadata": {
  "kernelspec": {
   "display_name": "Python 3 (ipykernel)",
   "language": "python",
   "name": "python3"
  },
  "language_info": {
   "codemirror_mode": {
    "name": "ipython",
    "version": 3
   },
   "file_extension": ".py",
   "mimetype": "text/x-python",
   "name": "python",
   "nbconvert_exporter": "python",
   "pygments_lexer": "ipython3",
   "version": "3.10.6"
  }
 },
 "nbformat": 4,
 "nbformat_minor": 5
}
