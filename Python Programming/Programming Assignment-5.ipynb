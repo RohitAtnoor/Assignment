{
 "cells": [
  {
   "cell_type": "code",
   "execution_count": 1,
   "id": "7c2d245b-481d-4365-8216-458b49a74602",
   "metadata": {},
   "outputs": [
    {
     "name": "stdin",
     "output_type": "stream",
     "text": [
      "Enter the first number:  21\n",
      "Enter the second number:  23\n"
     ]
    },
    {
     "name": "stdout",
     "output_type": "stream",
     "text": [
      "The LCM of 21 and 23 is 483\n"
     ]
    }
   ],
   "source": [
    "# 1. Write a Python Program to Find LCM?\n",
    "\n",
    "def find_lcm(a, b):\n",
    "    # Find the greater number\n",
    "    if a > b:\n",
    "        greater = a\n",
    "    else:\n",
    "        greater = b\n",
    "\n",
    "    while True:\n",
    "        if greater % a == 0 and greater % b == 0:\n",
    "            lcm = greater\n",
    "            break\n",
    "        greater += 1\n",
    "\n",
    "    return lcm\n",
    "\n",
    "# Test the function\n",
    "num1 = int(input(\"Enter the first number: \"))\n",
    "num2 = int(input(\"Enter the second number: \"))\n",
    "\n",
    "lcm = find_lcm(num1, num2)\n",
    "print(\"The LCM of\", num1, \"and\", num2, \"is\", lcm)\n"
   ]
  },
  {
   "cell_type": "code",
   "execution_count": 2,
   "id": "aa017b76-7fe3-4418-b0d3-9a88857338f3",
   "metadata": {},
   "outputs": [
    {
     "name": "stdin",
     "output_type": "stream",
     "text": [
      "Enter the first number:  12\n",
      "Enter the second number:  23\n"
     ]
    },
    {
     "name": "stdout",
     "output_type": "stream",
     "text": [
      "The HCF of 12 and 23 is 1\n"
     ]
    }
   ],
   "source": [
    "# 2. Write a Python Program to Find HCF?\n",
    "\n",
    "def find_hcf(a, b):\n",
    "    while b != 0:\n",
    "        a, b = b, a % b\n",
    "    return a\n",
    "\n",
    "# Test the function\n",
    "num1 = int(input(\"Enter the first number: \"))\n",
    "num2 = int(input(\"Enter the second number: \"))\n",
    "\n",
    "hcf = find_hcf(num1, num2)\n",
    "print(\"The HCF of\", num1, \"and\", num2, \"is\", hcf)\n"
   ]
  },
  {
   "cell_type": "code",
   "execution_count": 4,
   "id": "696d3adc-9af5-469f-8005-9cc7c57c63f7",
   "metadata": {},
   "outputs": [
    {
     "name": "stdin",
     "output_type": "stream",
     "text": [
      "Enter a decimal number:  23\n"
     ]
    },
    {
     "name": "stdout",
     "output_type": "stream",
     "text": [
      "Binary:  10111\n",
      "Octal:  27\n",
      "Hexadecimal:  17\n"
     ]
    }
   ],
   "source": [
    "# 3. Write a Python Program to Convert Decimal to Binary, Octal and Hexadecimal?\n",
    "\n",
    "def convert_decimal(number):\n",
    "    decimal = int(number)\n",
    "\n",
    "    # Convert to binary\n",
    "    binary = bin(decimal)\n",
    "    # Remove the \"0b\" prefix from the binary representation\n",
    "    binary = binary[2:]\n",
    "\n",
    "    # Convert to octal\n",
    "    octal = oct(decimal)\n",
    "    # Remove the \"0o\" prefix from the octal representation\n",
    "    octal = octal[2:]\n",
    "\n",
    "    # Convert to hexadecimal\n",
    "    hexadecimal = hex(decimal)\n",
    "    # Remove the \"0x\" prefix from the hexadecimal representation\n",
    "    hexadecimal = hexadecimal[2:]\n",
    "\n",
    "    return binary, octal, hexadecimal\n",
    "\n",
    "# Test the function\n",
    "number = input(\"Enter a decimal number: \")\n",
    "\n",
    "binary, octal, hexadecimal = convert_decimal(number)\n",
    "\n",
    "print(\"Binary: \", binary)\n",
    "print(\"Octal: \", octal)\n",
    "print(\"Hexadecimal: \", hexadecimal)\n"
   ]
  },
  {
   "cell_type": "code",
   "execution_count": 5,
   "id": "2490042f-86ce-41a1-ba52-9243d40a9483",
   "metadata": {},
   "outputs": [
    {
     "name": "stdin",
     "output_type": "stream",
     "text": [
      "Enter a character:  a\n"
     ]
    },
    {
     "name": "stdout",
     "output_type": "stream",
     "text": [
      "The ASCII value of a is 97\n"
     ]
    }
   ],
   "source": [
    "# 4. Write a Python Program To Find ASCII value of a character?\n",
    "\n",
    "def find_ascii(character):\n",
    "    ascii_value = ord(character)\n",
    "    return ascii_value\n",
    "\n",
    "# Test the function\n",
    "character = input(\"Enter a character: \")\n",
    "\n",
    "ascii_value = find_ascii(character)\n",
    "\n",
    "print(\"The ASCII value of\", character, \"is\", ascii_value)\n",
    "\n"
   ]
  },
  {
   "cell_type": "code",
   "execution_count": 19,
   "id": "e4d9203d-45b1-4f0b-9219-d9f6cc311078",
   "metadata": {},
   "outputs": [
    {
     "name": "stdin",
     "output_type": "stream",
     "text": [
      "Enter the First number : 2\n",
      "Enter the Second number : 2\n"
     ]
    },
    {
     "name": "stdout",
     "output_type": "stream",
     "text": [
      "\n",
      "The Addition of two numbers         2.0 , 2.0 is : 4.0\n",
      "The substraction of two numbers     2.0 , 2.0 is : 0.0\n",
      "The Division of two numbers         2.0 , 2.0 is : 1.0\n",
      "The Multiplication of two numbers   2.0 , 2.0 is : 4.0\n",
      "\n"
     ]
    }
   ],
   "source": [
    "# 5. Write a Python Program to Make a Simple Calculator with 4 basic mathematical operations?\n",
    "\n",
    "class calculator :\n",
    "    \n",
    "    def __init__(self,a,d) :\n",
    "        self.a = a\n",
    "        self.b = b\n",
    "    \n",
    "    def add(self) :\n",
    "        return self.a + self.b\n",
    "    \n",
    "    def sub(self) :\n",
    "        return self.a - self.b\n",
    "    \n",
    "    def mul(self) :\n",
    "        return self.a * self.b\n",
    "    \n",
    "    def div(self) :\n",
    "        return self.a / self.b\n",
    "    \n",
    "\n",
    "a = float(input(\"Enter the First number :\"))\n",
    "b = float(input(\"Enter the Second number :\"))\n",
    "\n",
    "math = calculator(a,b)\n",
    "print(f\"\"\"\n",
    "The Addition of two numbers         {a} , {b} is : {math.add()}\n",
    "The substraction of two numbers     {a} , {b} is : {math.sub()}\n",
    "The Division of two numbers         {a} , {b} is : {math.div()}\n",
    "The Multiplication of two numbers   {a} , {b} is : {math.mul()}\n",
    "\"\"\")\n"
   ]
  },
  {
   "cell_type": "code",
   "execution_count": null,
   "id": "e972ae92-363e-47ab-8698-94be312f2cfe",
   "metadata": {},
   "outputs": [],
   "source": []
  }
 ],
 "metadata": {
  "kernelspec": {
   "display_name": "Python 3 (ipykernel)",
   "language": "python",
   "name": "python3"
  },
  "language_info": {
   "codemirror_mode": {
    "name": "ipython",
    "version": 3
   },
   "file_extension": ".py",
   "mimetype": "text/x-python",
   "name": "python",
   "nbconvert_exporter": "python",
   "pygments_lexer": "ipython3",
   "version": "3.10.6"
  }
 },
 "nbformat": 4,
 "nbformat_minor": 5
}
