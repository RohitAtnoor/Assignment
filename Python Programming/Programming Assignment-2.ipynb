{
 "cells": [
  {
   "cell_type": "code",
   "execution_count": 2,
   "id": "77191fb6-7ca0-4a6e-99c1-05e96d629470",
   "metadata": {},
   "outputs": [
    {
     "name": "stdin",
     "output_type": "stream",
     "text": [
      "Enter the kilometer :  123.45\n"
     ]
    },
    {
     "name": "stdout",
     "output_type": "stream",
     "text": [
      "The miles for 123.45 kilometer is : 76.70824995000001\n"
     ]
    }
   ],
   "source": [
    "# 1. Write a Python program to convert kilometers to miles?\n",
    "\n",
    "# 1 kilometer = 0.621371 miles\n",
    "kilometer = float(input(\"Enter the kilometer : \"))\n",
    "miles = 0.621371 * kilometer\n",
    "\n",
    "print(f\"The miles for {kilometer} kilometer is : {miles}\")"
   ]
  },
  {
   "cell_type": "code",
   "execution_count": 8,
   "id": "c049fc10-aed8-41ae-b6a7-53a0c07c219d",
   "metadata": {},
   "outputs": [
    {
     "name": "stdin",
     "output_type": "stream",
     "text": [
      "Enter the degree in Celsius :  42.45\n"
     ]
    },
    {
     "name": "stdout",
     "output_type": "stream",
     "text": [
      "The Fahrenheit for 42.45 Celsius Degree is : 108.41000000000001\n"
     ]
    }
   ],
   "source": [
    "# 2. Write a Python program to convert Celsius to Fahrenheit?\n",
    "\n",
    "# Formula to convert celsius to fahrenheit is °F = °C * 9/5 + 32\n",
    "Celsius = float(input(\"Enter the degree in Celsius : \"))\n",
    "Fahrenheit = ( Celsius * (9/5) ) + 32\n",
    "\n",
    "print(f\"The Fahrenheit for {Celsius} Celsius Degree is : {Fahrenheit}\")"
   ]
  },
  {
   "cell_type": "code",
   "execution_count": 19,
   "id": "60a66d79-7d46-40a2-a747-c51e0dbc846a",
   "metadata": {},
   "outputs": [
    {
     "name": "stdin",
     "output_type": "stream",
     "text": [
      "Enter the Year :  2023\n",
      "Enter the Month :  6\n"
     ]
    },
    {
     "name": "stdout",
     "output_type": "stream",
     "text": [
      "\n",
      "     June 2023\n",
      "Mo Tu We Th Fr Sa Su\n",
      "          1  2  3  4\n",
      " 5  6  7  8  9 10 11\n",
      "12 13 14 15 16 17 18\n",
      "19 20 21 22 23 24 25\n",
      "26 27 28 29 30\n",
      "\n"
     ]
    }
   ],
   "source": [
    "# 3. Write a Python program to display calendar?\n",
    "\n",
    "import calendar\n",
    "\n",
    "year = int(input(\"Enter the Year : \"))\n",
    "month = int(input(\"Enter the Month : \"))\n",
    "print(\"\")\n",
    "print(calendar.month(year,month))"
   ]
  },
  {
   "cell_type": "code",
   "execution_count": 20,
   "id": "ec03f2e5-121f-4bfe-8de2-d79d68b0456d",
   "metadata": {},
   "outputs": [
    {
     "name": "stdin",
     "output_type": "stream",
     "text": [
      "Enter the first number:  12\n",
      "Enter the second number:  23.4\n",
      "Enter the third number:  55.6\n"
     ]
    },
    {
     "name": "stdout",
     "output_type": "stream",
     "text": [
      "The solution are 0 and 1':((-0.975-1.9190383876653778j), (-0.975+1.9190383876653778j))\n"
     ]
    }
   ],
   "source": [
    "# 4. Write a Python program to solve quadratic equation?\n",
    "\n",
    "# Solve the quadratic equation ax**2 + bx + c = 0\n",
    "\n",
    "# import complex math module\n",
    "import cmath\n",
    "a = float(input(\"Enter the first number: \"))\n",
    "b = float(input(\"Enter the second number: \"))\n",
    "c = float(input(\"Enter the third number: \"))\n",
    "\n",
    "# calculate the discriminant\n",
    "d = (b**2) - (4*a*c)\n",
    "\n",
    "# find two solutions\n",
    "sol1 = (-b-cmath.sqrt(d))/(2*a)\n",
    "sol2 = (-b+cmath.sqrt(d))/(2*a)\n",
    "\n",
    "print(f\"The solution are {0} and {1}':{sol1,sol2}\")"
   ]
  },
  {
   "cell_type": "code",
   "execution_count": 21,
   "id": "b8a945d1-84b0-461b-a96e-c6cfba3f2830",
   "metadata": {},
   "outputs": [
    {
     "name": "stdout",
     "output_type": "stream",
     "text": [
      "Variable 1 befor swaping : 10 \n",
      "Variable 2 before swaping : 20\n",
      "Variable 1 After swaping : 20 \n",
      "Variable 2 After swaping : 10\n"
     ]
    }
   ],
   "source": [
    "# 5. Write a Python program to swap two variables without temp variable?\n",
    "\n",
    "var1 = 10\n",
    "var2 = 20\n",
    "print(f\"Variable 1 befor swaping : {var1} \\nVariable 2 before swaping : {var2}\")\n",
    "var1 , var2 = var2 , var1  # Swaping the variables.\n",
    "print(f\"Variable 1 After swaping : {var1} \\nVariable 2 After swaping : {var2}\")"
   ]
  },
  {
   "cell_type": "code",
   "execution_count": null,
   "id": "e0da18ef-dfef-46a3-9574-7b7819b80d74",
   "metadata": {},
   "outputs": [],
   "source": []
  }
 ],
 "metadata": {
  "kernelspec": {
   "display_name": "Python 3 (ipykernel)",
   "language": "python",
   "name": "python3"
  },
  "language_info": {
   "codemirror_mode": {
    "name": "ipython",
    "version": 3
   },
   "file_extension": ".py",
   "mimetype": "text/x-python",
   "name": "python",
   "nbconvert_exporter": "python",
   "pygments_lexer": "ipython3",
   "version": "3.10.6"
  }
 },
 "nbformat": 4,
 "nbformat_minor": 5
}
