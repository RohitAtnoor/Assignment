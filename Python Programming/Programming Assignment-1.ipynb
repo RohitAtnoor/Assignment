{
 "cells": [
  {
   "cell_type": "code",
   "execution_count": 1,
   "id": "51af8a34-4f80-4b96-b908-77f5a8559ec7",
   "metadata": {},
   "outputs": [
    {
     "name": "stdout",
     "output_type": "stream",
     "text": [
      "Hello Python\n"
     ]
    }
   ],
   "source": [
    "# 1. Write a Python program to print \"Hello Python\"\n",
    "\n",
    "print(\"Hello Python\")"
   ]
  },
  {
   "cell_type": "code",
   "execution_count": 6,
   "id": "1eb1cfe3-8955-48fc-8679-53cf7b36abd7",
   "metadata": {},
   "outputs": [
    {
     "name": "stdin",
     "output_type": "stream",
     "text": [
      "Enter a number 1 :  10\n",
      "Enter a number 2 :  5\n"
     ]
    },
    {
     "name": "stdout",
     "output_type": "stream",
     "text": [
      "\n",
      "The Addition of A and B is : 15.0 \n",
      "The Division of A and B is : 2.0\n",
      "The int division of A and B is : 2.0\n"
     ]
    }
   ],
   "source": [
    "# 2. Write a Python program to do arithmetical operations addition and division.?\n",
    "\n",
    "a = float(input(\"Enter a number 1 : \"))\n",
    "b = float(input(\"Enter a number 2 : \"))\n",
    "add = a + b # addition operation\n",
    "div = a / b # Division operation return floating type\n",
    "div1 = a//b # Division operation return int type.\n",
    "\n",
    "print(f\"\"\"\n",
    "The Addition of A and B is : {add} \n",
    "The Division of A and B is : {div}\n",
    "The int division of A and B is : {div1}\"\"\")"
   ]
  },
  {
   "cell_type": "code",
   "execution_count": 8,
   "id": "aed6c719-f48e-4c48-a436-e08819b3cffc",
   "metadata": {},
   "outputs": [
    {
     "name": "stdin",
     "output_type": "stream",
     "text": [
      "Enter a base :  10\n",
      "Enter a height :  5\n"
     ]
    },
    {
     "name": "stdout",
     "output_type": "stream",
     "text": [
      "The are of the triangle is :25.0\n"
     ]
    }
   ],
   "source": [
    "# 3. Write a Python program to find the area of a triangle?\n",
    "\n",
    "# area of triangle = 1/2 (base * height)\n",
    "base = float(input(\"Enter a base : \"))\n",
    "height = float(input(\"Enter a height : \"))\n",
    "\n",
    "area = (base * height) / 2\n",
    "\n",
    "print(f\"The are of the triangle is :{area}\")"
   ]
  },
  {
   "cell_type": "code",
   "execution_count": 14,
   "id": "8b93cfd0-453a-420e-b2e0-12772261bb17",
   "metadata": {},
   "outputs": [
    {
     "name": "stdout",
     "output_type": "stream",
     "text": [
      "Variable 1 befor swaping : 10 \n",
      "Variable 2 before swaping : 20\n",
      "Variable 1 After swaping : 20 \n",
      "Variable 2 After swaping : 10\n"
     ]
    }
   ],
   "source": [
    "# 4. Write a Python program to swap two variables?\n",
    "\n",
    "var1 = 10\n",
    "var2 = 20\n",
    "print(f\"Variable 1 befor swaping : {var1} \\nVariable 2 before swaping : {var2}\")\n",
    "var1 , var2 = var2 , var1  # Swaping the variables.\n",
    "print(f\"Variable 1 After swaping : {var1} \\nVariable 2 After swaping : {var2}\")"
   ]
  },
  {
   "cell_type": "code",
   "execution_count": 45,
   "id": "a4295799-3170-45ce-a1c3-f0ca2356e9be",
   "metadata": {},
   "outputs": [
    {
     "name": "stdout",
     "output_type": "stream",
     "text": [
      "The random number is : 4\n"
     ]
    }
   ],
   "source": [
    "# 5. Write a Python program to generate a random number?\n",
    "\n",
    "import random\n",
    "\n",
    "num = random.randint(0,10)  # Random number will be generated between 0 to 10\n",
    "print(f\"The random number is : {num}\")"
   ]
  }
 ],
 "metadata": {
  "kernelspec": {
   "display_name": "Python 3 (ipykernel)",
   "language": "python",
   "name": "python3"
  },
  "language_info": {
   "codemirror_mode": {
    "name": "ipython",
    "version": 3
   },
   "file_extension": ".py",
   "mimetype": "text/x-python",
   "name": "python",
   "nbconvert_exporter": "python",
   "pygments_lexer": "ipython3",
   "version": "3.10.6"
  }
 },
 "nbformat": 4,
 "nbformat_minor": 5
}
