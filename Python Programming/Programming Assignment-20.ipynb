{
 "cells": [
  {
   "cell_type": "code",
   "execution_count": 2,
   "id": "6ddbcd9b-2eb0-4c57-b549-2e8b735113ef",
   "metadata": {},
   "outputs": [
    {
     "name": "stdout",
     "output_type": "stream",
     "text": [
      "[1, 2, 3, 4]\n",
      "[0, 1729]\n",
      "[]\n"
     ]
    }
   ],
   "source": [
    "\"\"\"\n",
    "Question1\n",
    "Create a function that takes a list of strings and integers, and filters\n",
    "out the list so that it returns a list of integers only.\n",
    "Examples\n",
    "filter_list([1, 2, 3, \"a\", \"b\", 4]) ➞ [1, 2, 3, 4]\n",
    "filter_list([\"A\", 0, \"Edabit\", 1729, \"Python\", \"1729\"]) ➞ [0, 1729]\n",
    "filter_list([\"Nothing\", \"here\"]) ➞ []\n",
    "\"\"\"\n",
    "\n",
    "def filter_list(List):\n",
    "    \n",
    "    for i in List:\n",
    "        if type(i) == int and i < 0 :\n",
    "            print(\"Enter only Possitive Integers :\")\n",
    "    \n",
    "        result = []\n",
    "\n",
    "        for i in List:\n",
    "            if type(i) == int :\n",
    "                result.append(i)\n",
    "    \n",
    "    return result\n",
    "\n",
    "# Example \n",
    "print(filter_list([1, 2, 3, \"a\", \"b\", 4]))\n",
    "print(filter_list([\"A\", 0, \"Edabit\", 1729, \"Python\", \"1729\"]))\n",
    "print(filter_list([\"Nothing\", \"here\"]))"
   ]
  },
  {
   "cell_type": "code",
   "execution_count": 6,
   "id": "228379df-762c-473b-87d0-944f9446f0c3",
   "metadata": {},
   "outputs": [
    {
     "name": "stdout",
     "output_type": "stream",
     "text": [
      "[0, 1, 2, 3, 4]\n",
      "[1, 3, 5, 7, 9]\n",
      "[5, 5, 5, 5, 5]\n"
     ]
    }
   ],
   "source": [
    "\"\"\"\n",
    "Question2\n",
    "Given a list of numbers, create a function which returns the list but \n",
    "with each element's index in the list added to itself. This means you add\n",
    "0 to the number at index 0, add 1 to the number at index 1, etc...\n",
    "Examples\n",
    "add_indexes([0, 0, 0, 0, 0]) ➞ [0, 1, 2, 3, 4]\n",
    "add_indexes([1, 2, 3, 4, 5]) ➞ [1, 3, 5, 7, 9]\n",
    "add_indexes([5, 4, 3, 2, 1]) ➞ [5, 5, 5, 5, 5]\n",
    "\"\"\"\n",
    "\n",
    "def add_indexes(List):\n",
    "    \n",
    "    result = []\n",
    "    for i in range(len(List)):\n",
    "        result.append(i+List[i])\n",
    "    \n",
    "    return result\n",
    "\n",
    "# Example \n",
    "print(add_indexes([0, 0, 0, 0, 0]))\n",
    "print(add_indexes([1, 2, 3, 4, 5]))\n",
    "print(add_indexes([5, 4, 3, 2, 1]))"
   ]
  },
  {
   "cell_type": "code",
   "execution_count": 16,
   "id": "8b99d05b-a5d5-4ca4-b8f5-a908baba3d8f",
   "metadata": {},
   "outputs": [
    {
     "name": "stdout",
     "output_type": "stream",
     "text": [
      "12.57\n",
      "565.71\n",
      "0.0\n"
     ]
    }
   ],
   "source": [
    "\"\"\"\n",
    "Question3\n",
    "Create a function that takes the height and radius of a cone as arguments and \n",
    "returns the volume of the cone rounded to the nearest hundredth.\n",
    "See the resources tab for the formula.\n",
    "\n",
    "Examples\n",
    "cone_volume(3, 2) ➞ 12.57\n",
    "cone_volume(15, 6) ➞ 565.49\n",
    "cone_volume(18, 0) ➞ 0\n",
    "\"\"\"\n",
    "\n",
    "# formula for volumne of cone is V=π*(r**2)*h / 3\n",
    "\n",
    "def cone_volume(height,radius) :\n",
    "    \n",
    "    pi = 22 / 7\n",
    "    radius_square = radius ** 2\n",
    "    \n",
    "    volume = ( pi * radius_square * height ) / 3\n",
    "    \n",
    "    return round(volume,2)\n",
    "\n",
    "# Example\n",
    "print(cone_volume(3, 2))\n",
    "print(cone_volume(15, 6))\n",
    "print(cone_volume(18, 0))"
   ]
  },
  {
   "cell_type": "code",
   "execution_count": 19,
   "id": "58015daa-3dd2-45b6-bb4e-66444c8cfb30",
   "metadata": {},
   "outputs": [
    {
     "name": "stdout",
     "output_type": "stream",
     "text": [
      "1\n",
      "21\n",
      "23220\n"
     ]
    }
   ],
   "source": [
    "\"\"\"\n",
    "Question4\n",
    "This Triangular Number Sequence is generated from a pattern of dots that \n",
    "form a triangle. The first 5 numbers of the sequence, or dots, are: \n",
    "1, 3, 6, 10, 15\n",
    "This means that the first triangle has just one dot, the second one has three dots,\n",
    "the third one has 6 dots and so on.Write a function that gives the number of dots\n",
    "with its corresponding triangle number of the sequence.\n",
    "Examples\n",
    "triangle(1) ➞ 1\n",
    "triangle(6) ➞ 21\n",
    "triangle(215) ➞ 23220\n",
    "\"\"\"\n",
    "\n",
    "def triangle(in_num):\n",
    "    print(f'{int((in_num)*((in_num+1)/2))}')\n",
    "\n",
    "triangle(1)\n",
    "triangle(6)\n",
    "triangle(215)"
   ]
  },
  {
   "cell_type": "code",
   "execution_count": 28,
   "id": "a339b584-6a92-4604-bc62-1e8d8a20d155",
   "metadata": {},
   "outputs": [
    {
     "name": "stdout",
     "output_type": "stream",
     "text": [
      "[1, 2, 3, 4, 6, 7, 8, 9, 10] : 5\n",
      "[7, 2, 3, 6, 5, 9, 1, 4, 8] : 10\n",
      "[10, 5, 1, 2, 4, 6, 8, 3, 9] : 7\n"
     ]
    }
   ],
   "source": [
    "\"\"\"\n",
    "Question5\n",
    "Create a function that takes a list of numbers between 1 and 10 \n",
    "(excluding one number) and returns the missing number.\n",
    "Examples\n",
    "missing_num([1, 2, 3, 4, 6, 7, 8, 9, 10]) ➞ 5\n",
    "missing_num([7, 2, 3, 6, 5, 9, 1, 4, 8]) ➞ 10\n",
    "missing_num([10, 5, 1, 2, 4, 6, 8, 3, 9]) ➞ 7\n",
    "\"\"\"\n",
    "\n",
    "def missing_num(in_list):\n",
    "    for i in range(1,11):\n",
    "        if i not in in_list:\n",
    "            print(f'{in_list} : {i}')\n",
    "\n",
    "missing_num([1, 2, 3, 4, 6, 7, 8, 9, 10])\n",
    "missing_num([7, 2, 3, 6, 5, 9, 1, 4, 8])\n",
    "missing_num([10, 5, 1, 2, 4, 6, 8, 3, 9])"
   ]
  },
  {
   "cell_type": "code",
   "execution_count": null,
   "id": "83986e8c-3688-49ba-b55b-fc5eb1b3612c",
   "metadata": {},
   "outputs": [],
   "source": []
  }
 ],
 "metadata": {
  "kernelspec": {
   "display_name": "Python 3 (ipykernel)",
   "language": "python",
   "name": "python3"
  },
  "language_info": {
   "codemirror_mode": {
    "name": "ipython",
    "version": 3
   },
   "file_extension": ".py",
   "mimetype": "text/x-python",
   "name": "python",
   "nbconvert_exporter": "python",
   "pygments_lexer": "ipython3",
   "version": "3.10.6"
  }
 },
 "nbformat": 4,
 "nbformat_minor": 5
}
