{
 "cells": [
  {
   "cell_type": "code",
   "execution_count": 1,
   "id": "cac2f259-930f-47fd-9022-7f63d20bdba4",
   "metadata": {},
   "outputs": [
    {
     "name": "stdin",
     "output_type": "stream",
     "text": [
      "Enter the total numbers you want to enter : 4\n",
      "Enter the number :  1\n",
      "Enter the number :  2\n",
      "Enter the number :  3\n",
      "Enter the number :  4\n"
     ]
    },
    {
     "data": {
      "text/plain": [
       "10"
      ]
     },
     "execution_count": 1,
     "metadata": {},
     "output_type": "execute_result"
    }
   ],
   "source": [
    "# 1. Write a Python Program to find sum of array?\n",
    "\n",
    "def sum_of_array() :\n",
    "    \n",
    "    array = int(input(\"Enter the total numbers you want to enter :\"))\n",
    "    array_list = []\n",
    "    \n",
    "    for i in range(array):\n",
    "        a = int(input(\"Enter the number : \"))\n",
    "        array_list.append(a)\n",
    "        \n",
    "    return sum(array_list)\n",
    "\n",
    "sum_of_array()"
   ]
  },
  {
   "cell_type": "code",
   "execution_count": 12,
   "id": "ce56e49b-64d5-439d-9912-db13dc992153",
   "metadata": {},
   "outputs": [
    {
     "name": "stdout",
     "output_type": "stream",
     "text": [
      "6\n",
      "78\n"
     ]
    },
    {
     "data": {
      "text/plain": [
       "234"
      ]
     },
     "execution_count": 12,
     "metadata": {},
     "output_type": "execute_result"
    }
   ],
   "source": [
    "# 2. Write a Python Program to find largest element in an array?\n",
    "\n",
    "# Method 1\n",
    "array1 = [1,2,3,4,5,6]\n",
    "array2 = [2,56,3,78,12]\n",
    "print(max(array1))\n",
    "print(max(array2))\n",
    "\n",
    "# Methid 2\n",
    "def largest(array) :\n",
    "    array.sort()\n",
    "    \n",
    "    return array[-1]\n",
    "\n",
    "array = [2,56,3,78,12,1,234,45,67,0]\n",
    "largest(array)"
   ]
  },
  {
   "cell_type": "code",
   "execution_count": 13,
   "id": "39223e57-39dd-4b44-b312-58ba7e56fde7",
   "metadata": {},
   "outputs": [
    {
     "name": "stdout",
     "output_type": "stream",
     "text": [
      "[4, 5, 1, 2, 3]\n"
     ]
    }
   ],
   "source": [
    "# 3. Write a Python Program for array rotation?\n",
    "\n",
    "def rotate_array(arr, positions):\n",
    "    n = len(arr)\n",
    "    positions = positions % n  # Ensure positions are within array length\n",
    "\n",
    "    rotated = arr[-positions:] + arr[:-positions]\n",
    "    return rotated\n",
    "\n",
    "# Test the program\n",
    "arr = [1, 2, 3, 4, 5]\n",
    "positions = 2\n",
    "rotated_arr = rotate_array(arr, positions)\n",
    "print(rotated_arr)  # Output: [4, 5, 1, 2, 3]\n"
   ]
  },
  {
   "cell_type": "code",
   "execution_count": 15,
   "id": "15d3119e-b777-45be-b78b-91ca1df440e4",
   "metadata": {},
   "outputs": [
    {
     "name": "stdout",
     "output_type": "stream",
     "text": [
      "6\n"
     ]
    }
   ],
   "source": [
    "# 4. Write a Python Program to Split the array and add the first part to the end?\n",
    "\n",
    "def split_and_add(arr):\n",
    "    \n",
    "    first_part = arr[0]\n",
    "    second_part = arr[-1]\n",
    "    \n",
    "    new_arr = second_part + first_part\n",
    "    return new_arr\n",
    "\n",
    "# Test the program\n",
    "arr = [1, 2, 3, 4, 5]\n",
    "new_arr = split_and_add(arr)\n",
    "print(new_arr)\n"
   ]
  },
  {
   "cell_type": "code",
   "execution_count": 19,
   "id": "5b0e2141-9130-4b51-9825-44ec7201be2c",
   "metadata": {},
   "outputs": [
    {
     "name": "stdout",
     "output_type": "stream",
     "text": [
      "Is the array monotonic? True\n"
     ]
    }
   ],
   "source": [
    "# 5. Write a Python Program to check if given array is Monotonic?\n",
    "\n",
    "def is_monotonic(arr):\n",
    "    # Check if the array is monotonically increasing\n",
    "    is_increasing = all(arr[i] <= arr[i+1] for i in range(len(arr) - 1))\n",
    "    if is_increasing:\n",
    "        return True\n",
    "\n",
    "    # Check if the array is monotonically decreasing\n",
    "    is_decreasing = all(arr[i] >= arr[i+1] for i in range(len(arr) - 1))\n",
    "    if is_decreasing:\n",
    "        return True\n",
    "\n",
    "    # If neither increasing nor decreasing, the array is not monotonic\n",
    "    return False\n",
    "\n",
    "# Test the program\n",
    "arr = [1, 3, 5, 7, 9]\n",
    "is_mono = is_monotonic(arr)\n",
    "print(\"Is the array monotonic?\", is_mono)\n"
   ]
  },
  {
   "cell_type": "code",
   "execution_count": null,
   "id": "4f596ed9-07a1-4208-b05a-0e68466df6d7",
   "metadata": {},
   "outputs": [],
   "source": []
  }
 ],
 "metadata": {
  "kernelspec": {
   "display_name": "Python 3 (ipykernel)",
   "language": "python",
   "name": "python3"
  },
  "language_info": {
   "codemirror_mode": {
    "name": "ipython",
    "version": 3
   },
   "file_extension": ".py",
   "mimetype": "text/x-python",
   "name": "python",
   "nbconvert_exporter": "python",
   "pygments_lexer": "ipython3",
   "version": "3.10.6"
  }
 },
 "nbformat": 4,
 "nbformat_minor": 5
}
