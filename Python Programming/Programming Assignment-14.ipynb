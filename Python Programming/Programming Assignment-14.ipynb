{
 "cells": [
  {
   "cell_type": "code",
   "execution_count": 32,
   "id": "93c7ad06-46db-4a22-9825-f0a1e5693ac5",
   "metadata": {},
   "outputs": [
    {
     "name": "stdout",
     "output_type": "stream",
     "text": [
      "0 7 14 21 28 35 42 49 56 63 70 77 84 91 98 "
     ]
    }
   ],
   "source": [
    "\"\"\"\n",
    "Question 1:\n",
    "Define a class with a generator which can iterate the numbers, which are divisible by\n",
    "7, between a given range 0 and n.\n",
    "\"\"\"\n",
    "\n",
    "class div_by_seven :\n",
    "    \n",
    "    def __init__(self,n=10) :\n",
    "        self.n = n\n",
    "        \n",
    "    def number(self) :\n",
    "        \n",
    "       # numbers = []\n",
    "        for i in range(0,self.n + 1):\n",
    "            if i % 7 == 0:\n",
    "                yield i\n",
    "                #numbers.append(i)\n",
    "        \n",
    "        #return f\"The numbers divisible by 7 from range 0 to {self.n} are : {numbers}\"\n",
    "        \n",
    "        \n",
    "example = div_by_seven(100)\n",
    "for i in example.number():\n",
    "    print(i,end=\" \")"
   ]
  },
  {
   "cell_type": "code",
   "execution_count": 35,
   "id": "49012880-0482-4253-aa43-4a6a5dc9d949",
   "metadata": {},
   "outputs": [
    {
     "name": "stdin",
     "output_type": "stream",
     "text": [
      "Enter the Input String:  New to Python or choosing between Python 2 and Python 3? Read Python 2 or Python 3.\n"
     ]
    },
    {
     "name": "stdout",
     "output_type": "stream",
     "text": [
      "2:2  3.:1  3?:1  New:1  Python:5  Read:1  and:1  between:1  choosing:1  or:2  to:1  "
     ]
    }
   ],
   "source": [
    "\"\"\"\n",
    "Question 2:\n",
    "Write a program to compute the frequency of the words from the input. The output\n",
    "should output after sorting the key alphanumerically.\n",
    "Suppose the following input is supplied to the program:\n",
    "New to Python or choosing between Python 2 and Python 3? Read Python 2 or\n",
    "Python 3.\n",
    "Then, the output should be:\n",
    "2:2\n",
    "3.:1\n",
    "3?:1\n",
    "New:1\n",
    "Python:5\n",
    "Read:1\n",
    "and:1\n",
    "between:1\n",
    "choosing:1\n",
    "or:2\n",
    "to:1\n",
    "\"\"\"\n",
    "\n",
    "def checkFrequency():\n",
    "    string = input(\"Enter the Input String: \")\n",
    "    frequency = {}\n",
    "    for ele in string.split(\" \"):\n",
    "        if(frequency.get(ele) == None):\n",
    "            frequency[ele] = 1\n",
    "        else:\n",
    "            frequency[ele] += 1 \n",
    "    for ele in sorted(frequency):\n",
    "        print(f'{ele}:{frequency[ele]}',end=\"  \")\n",
    "checkFrequency()"
   ]
  },
  {
   "cell_type": "code",
   "execution_count": 36,
   "id": "d85eb9f8-8c3c-4684-bbe7-98ebae657056",
   "metadata": {},
   "outputs": [
    {
     "name": "stdout",
     "output_type": "stream",
     "text": [
      "Male\n",
      "Female\n"
     ]
    }
   ],
   "source": [
    "\"\"\"\n",
    "Question 3:\n",
    "Define a class Person and its two child classes: Male and Female. All classes have a\n",
    "method \"getGender\" which can print Male for Male class and & Female for Female\n",
    "class.\n",
    "\"\"\"\n",
    "\n",
    "class Person():\n",
    "    def getGender():\n",
    "        pass\n",
    "    \n",
    "class Male(Person):\n",
    "    def getGender():\n",
    "        print(\"Male\")\n",
    "        \n",
    "class Female(Person):\n",
    "    def getGender():\n",
    "        print(\"Female\")\n",
    "\n",
    "Male.getGender()\n",
    "Female.getGender()"
   ]
  },
  {
   "cell_type": "code",
   "execution_count": 37,
   "id": "4d5ba696-19c4-4842-8249-017d854a79a9",
   "metadata": {},
   "outputs": [
    {
     "name": "stdout",
     "output_type": "stream",
     "text": [
      "I Play Hockey\n",
      "I Play Football\n",
      "I Love Hockey\n",
      "I Love Football\n",
      "You Play Hockey\n",
      "You Play Football\n",
      "You Love Hockey\n",
      "You Love Football\n"
     ]
    }
   ],
   "source": [
    "\"\"\"\n",
    "4.Please write a program to generate all sentences where subject is in [\"I\", \"You\"] \n",
    "and verb is in [\"Play\", \"Love\"] and the object is in [\"Hockey\",\"Football\"] ?\n",
    "\"\"\"\n",
    "\n",
    "def generateSentences():\n",
    "    subject = ['I','You']\n",
    "    verb = ['Play','Love']\n",
    "    object = ['Hockey','Football']\n",
    "    for s in subject:\n",
    "        for v in verb:\n",
    "            for o in object:\n",
    "                print(f'{s} {v} {o}')\n",
    "                \n",
    "generateSentences()"
   ]
  },
  {
   "cell_type": "code",
   "execution_count": 42,
   "id": "8c50700a-daf0-4df7-a8aa-374b563e9686",
   "metadata": {},
   "outputs": [
    {
     "name": "stdout",
     "output_type": "stream",
     "text": [
      "The original string is : hello world!hello world!hello world!hello world!\n",
      "The compressed string is : b'\\x1f\\x8b\\x08\\x00\\xaf\\x87\\x81d\\x02\\xff\\xcbH\\xcd\\xc9\\xc9W(\\xcf/\\xcaIQ\\xcc \\x82\\r\\x00\\xd3\\xe6\\xcf\\xae0\\x00\\x00\\x00'\n",
      "The decompressed string is : hello world!hello world!hello world!hello world!\n"
     ]
    }
   ],
   "source": [
    "\"\"\"\n",
    "Question 5:\n",
    "Please write a program to compress and decompress the string \"hello world!hello\n",
    "world!hello world!hello world!\".\n",
    "\"\"\"\n",
    "\n",
    "import gzip\n",
    "\n",
    "def compress(string):\n",
    "    #Compresses a string using the gzip algorithm.\n",
    "    compressed_data = gzip.compress(string.encode(\"utf-8\"))\n",
    "    return compressed_data\n",
    "\n",
    "def decompress(compressed_data):\n",
    "    #Decompresses a string that has been compressed using the gzip algorithm.\n",
    "    decompressed_string = gzip.decompress(compressed_data).decode(\"utf-8\")\n",
    "    return decompressed_string\n",
    "\n",
    "string = \"hello world!hello world!hello world!hello world!\"\n",
    "print(f\"The original string is : {string}\")\n",
    "compressed_data = compress(string)\n",
    "print(f\"The compressed string is : {compressed_data}\")\n",
    "print(f\"The decompressed string is : {decompress(compressed_data)}\")"
   ]
  },
  {
   "cell_type": "code",
   "execution_count": 79,
   "id": "93d486a4-3246-42cb-bc38-e7237a10fcaa",
   "metadata": {},
   "outputs": [
    {
     "name": "stdout",
     "output_type": "stream",
     "text": [
      "[1, 12, 23, 34, 45, 45, 78]\n",
      "The element 23 is there in the list the index of the element is 2\n"
     ]
    }
   ],
   "source": [
    "\"\"\"\n",
    "Question 6:\n",
    "Please write a binary search function which searches an item in a sorted list. The\n",
    "function should return the index of element to be searched in the list.\n",
    "\"\"\"\n",
    "\n",
    "#main_list = [1,9,4,5,2,6,0,8,3,7]\n",
    "\n",
    "def Binary_search(main_list,element):\n",
    "    \n",
    "    sorted_list = sorted(main_list)\n",
    "    print(sorted_list)\n",
    "\n",
    "    for i in range(len(sorted_list)) :\n",
    "        if sorted_list[i] == element :\n",
    "            print(f\"The element {element} is there in the list the index of the element is {i}\")\n",
    "        \n",
    "main_list = [12,34,23,45,1,45,78]\n",
    "Binary_search(main_list,23)"
   ]
  }
 ],
 "metadata": {
  "kernelspec": {
   "display_name": "Python 3 (ipykernel)",
   "language": "python",
   "name": "python3"
  },
  "language_info": {
   "codemirror_mode": {
    "name": "ipython",
    "version": 3
   },
   "file_extension": ".py",
   "mimetype": "text/x-python",
   "name": "python",
   "nbconvert_exporter": "python",
   "pygments_lexer": "ipython3",
   "version": "3.10.6"
  }
 },
 "nbformat": 4,
 "nbformat_minor": 5
}
