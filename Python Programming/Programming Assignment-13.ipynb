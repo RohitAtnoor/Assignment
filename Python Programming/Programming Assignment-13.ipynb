{
 "cells": [
  {
   "cell_type": "code",
   "execution_count": 39,
   "id": "44104f79-7acd-433b-ae0e-77266cbb56c3",
   "metadata": {},
   "outputs": [
    {
     "name": "stdin",
     "output_type": "stream",
     "text": [
      "Enter the Input D values :  100,150,180\n"
     ]
    },
    {
     "name": "stdout",
     "output_type": "stream",
     "text": [
      "The entered D values are : [100, 150, 180]\n"
     ]
    },
    {
     "data": {
      "text/plain": [
       "'The Q value for given D is : [18, 22, 24]'"
      ]
     },
     "execution_count": 39,
     "metadata": {},
     "output_type": "execute_result"
    }
   ],
   "source": [
    "\"\"\"\n",
    "Question 1:\n",
    "Write a program that calculates and prints the value according to the given formula:\n",
    "Q = Square root of [(2 * C * D)/H]\n",
    "Following are the fixed values of C and H:\n",
    "C is 50. H is 30.\n",
    "D is the variable whose values should be input to your program in a comma-separated\n",
    "sequence.\n",
    "\n",
    "Example\n",
    "Let us assume the following comma separated input sequence is given to the program:\n",
    "100,150,180\n",
    "The output of the program should be:\n",
    "18,22,24\n",
    "\"\"\"\n",
    "\n",
    "def calculate():\n",
    "    \n",
    "    import math\n",
    "    \n",
    "    D = list(eval(input(\"Enter the Input D values : \")))\n",
    "    print(f\"The entered D values are : {D}\")\n",
    "    \n",
    "    C = 50\n",
    "    H = 30\n",
    "    result = []\n",
    "    for i in D:\n",
    "        Q = int(math.sqrt((2 * C * i)/H))\n",
    "        result.append(Q)\n",
    "        \n",
    "    return f\"The Q value for given D is : {result}\"\n",
    "    \n",
    "calculate()"
   ]
  },
  {
   "cell_type": "code",
   "execution_count": 61,
   "id": "0fb2805e-9447-49a2-bad9-5752b6db6f0e",
   "metadata": {},
   "outputs": [
    {
     "name": "stdout",
     "output_type": "stream",
     "text": [
      "[0, 0, 0, 0, 0]\n",
      "[0, 1, 2, 3, 4]\n",
      "[0, 2, 4, 6, 8]\n"
     ]
    }
   ],
   "source": [
    "\"\"\"\n",
    "Question 2:\n",
    "Write a program which takes 2 digits, X,Y as input and generates a 2-dimensional array. The\n",
    "element value in the i-th row and j-th column of the array should be i*j.\n",
    "Note: i=0,1.., X-1; j=0,1,¡Y-1.\n",
    "Example\n",
    "Suppose the following inputs are given to the program:\n",
    "3,5\n",
    "Then, the output of the program should be:\n",
    "[[0, 0, 0, 0, 0], [0, 1, 2, 3, 4], [0, 2, 4, 6, 8]]\n",
    "\"\"\"\n",
    "\n",
    "def dimensional_array(x,y) :\n",
    "    \n",
    "    array = []\n",
    "    \n",
    "    for i in range(x):\n",
    "        row = []\n",
    "        array.append(row)\n",
    "        \n",
    "        for j in range(y) :\n",
    "            row.append(i*j)\n",
    "            \n",
    "    return array\n",
    "        \n",
    "\n",
    "x = 3\n",
    "y = 5\n",
    "for i in dimensional_array(x,y):\n",
    "    print(i)"
   ]
  },
  {
   "cell_type": "code",
   "execution_count": 81,
   "id": "a62c413c-f7af-4d14-ba42-7f010039e894",
   "metadata": {},
   "outputs": [
    {
     "name": "stdin",
     "output_type": "stream",
     "text": [
      "Enter the words or sentence : without,hello,bag,world\n"
     ]
    },
    {
     "data": {
      "text/plain": [
       "['bag', 'hello', 'without', 'world']"
      ]
     },
     "execution_count": 81,
     "metadata": {},
     "output_type": "execute_result"
    }
   ],
   "source": [
    "\"\"\"\n",
    "Question 3:\n",
    "Write a program that accepts a comma separated sequence of words as input and prints the\n",
    "words in a comma-separated sequence after sorting them alphabetically.\n",
    "Suppose the following input is supplied to the program:\n",
    "without,hello,bag,world\n",
    "Then, the output should be:\n",
    "bag,hello,without,world\n",
    "\"\"\"\n",
    "\n",
    "def sort_word():\n",
    "    \n",
    "    word = input(\"Enter the words or sentence :\")\n",
    "    \n",
    "    saperate = word.split(\",\")\n",
    "    sort = sorted(saperate)\n",
    "    \n",
    "    return sort\n",
    "\n",
    "sort_word()"
   ]
  },
  {
   "cell_type": "code",
   "execution_count": 89,
   "id": "1bb2ffbd-0ce5-4965-9d4b-8af94be2a4a9",
   "metadata": {},
   "outputs": [
    {
     "name": "stdin",
     "output_type": "stream",
     "text": [
      "Enter the words or sentence ; hello world and practice makes perfect and hello world again\n"
     ]
    },
    {
     "data": {
      "text/plain": [
       "['again', 'and', 'hello', 'makes', 'perfect', 'practice', 'world']"
      ]
     },
     "execution_count": 89,
     "metadata": {},
     "output_type": "execute_result"
    }
   ],
   "source": [
    "\"\"\"\n",
    "Question 4:\n",
    "Write a program that accepts a sequence of whitespace separated words as input and prints\n",
    "the words after removing all duplicate words and sorting them alphanumerically.\n",
    "Suppose the following input is supplied to the program:\n",
    "hello world and practice makes perfect and hello world again\n",
    "Then, the output should be:\n",
    "again and hello makes perfect practice world\n",
    "\"\"\"\n",
    "\n",
    "def word():\n",
    "    \n",
    "    word = input(\"Enter the words or sentence ;\")\n",
    "    \n",
    "    saperate = set(word.split())\n",
    "    result = sorted(saperate)\n",
    "\n",
    "    return result\n",
    "\n",
    "word()"
   ]
  },
  {
   "cell_type": "code",
   "execution_count": 90,
   "id": "fafdf1a9-021e-4be4-b6a0-75e1586b3823",
   "metadata": {},
   "outputs": [
    {
     "name": "stdin",
     "output_type": "stream",
     "text": [
      "Enter the Input String:  hello world! 123\n"
     ]
    },
    {
     "name": "stdout",
     "output_type": "stream",
     "text": [
      "LETTERS 10 \n",
      "DIGITS 3\n"
     ]
    }
   ],
   "source": [
    "\"\"\"\n",
    "Question 5:\n",
    "Write a program that accepts a sentence and calculate the number of letters and digits.\n",
    "Suppose the following input is supplied to the program:\n",
    "hello world! 123\n",
    "Then, the output should be:\n",
    "LETTERS 10\n",
    "\n",
    "DIGITS 3\n",
    "\"\"\"\n",
    "\n",
    "def countLetterAndDigits():\n",
    "    string = input(\"Enter the Input String: \")\n",
    "    lettersList = 'ABCDEFGHIJKLMNOPQRSTUVWXYZabcdefghijklmnopqrstuvwxyz'\n",
    "    digitsList = '0123456789'\n",
    "    letters = 0\n",
    "    digits = 0\n",
    "    for ele in string:\n",
    "        if ele in lettersList:\n",
    "            letters += 1\n",
    "        if ele in digitsList:\n",
    "            digits += 1\n",
    "    print(f'LETTERS {letters} \\nDIGITS {digits}')\n",
    "        \n",
    "countLetterAndDigits()"
   ]
  },
  {
   "cell_type": "code",
   "execution_count": 96,
   "id": "6a6bbb67-2068-433f-8cde-8d1d0fbf72af",
   "metadata": {},
   "outputs": [
    {
     "name": "stdout",
     "output_type": "stream",
     "text": [
      "The Password and check result are ABd1234@1 : True\n",
      "The Password and check result are a F1# : False\n",
      "The Password and check result are 2w3E* : False\n",
      "The Password and check result are 2We3345 : False\n"
     ]
    }
   ],
   "source": [
    "\"\"\"\n",
    "Question 6:\n",
    "A website requires the users to input username and password to register. Write a program to\n",
    "check the validity of password input by users.\n",
    "Following are the criteria for checking the password:\n",
    "1. At least 1 letter between [a-z]\n",
    "2. At least 1 number between [0-9]\n",
    "1. At least 1 letter between [A-Z]\n",
    "3. At least 1 character from [$#@]\n",
    "4. Minimum length of transaction password: 6\n",
    "5. Maximum length of transaction password: 12\n",
    "Your program should accept a sequence of comma separated passwords and will check them\n",
    "according to the above criteria. Passwords that match the criteria are to be printed, each\n",
    "separated by a comma.\n",
    "                              \n",
    "Example\n",
    "If the following passwords are given as input to the program:\n",
    "ABd1234@1,a F1#,2w3E*,2We3345\n",
    "Then, the output of the program should be:\n",
    "ABd1234@1\n",
    "\"\"\"\n",
    "\n",
    "import re\n",
    "\n",
    "def check_password(password):\n",
    "    # Check if the password is at least 6 characters long.\n",
    "    if len(password) < 6:\n",
    "        return False\n",
    "    # Check if the password contains at least one letter from [a-z].\n",
    "    if not re.search(\"[a-z]\", password):\n",
    "        return False\n",
    "    # Check if the password contains at least one number from [0-9].\n",
    "    if not re.search(\"[0-9]\", password):\n",
    "        return False\n",
    "    # Check if the password contains at least one letter from [A-Z].\n",
    "    if not re.search(\"[A-Z]\", password): \n",
    "        return False\n",
    "    # Check if the password contains at least one character from [$#@].\n",
    "    if not re.search(\"[$#@]\", password):\n",
    "        return False\n",
    "    # The password meets all the criteria.\n",
    "    return True\n",
    "\n",
    "password = \"ABd1234@1,a F1#,2w3E*,2We3345\"\n",
    "passwords = password.split(\",\")\n",
    "for i in passwords:\n",
    "    print(f\"The Password and check result are {i} : {check_password(i)}\")"
   ]
  },
  {
   "cell_type": "code",
   "execution_count": null,
   "id": "fe760e1b-3ac4-464a-9206-69716ebdb6cb",
   "metadata": {},
   "outputs": [],
   "source": []
  }
 ],
 "metadata": {
  "kernelspec": {
   "display_name": "Python 3 (ipykernel)",
   "language": "python",
   "name": "python3"
  },
  "language_info": {
   "codemirror_mode": {
    "name": "ipython",
    "version": 3
   },
   "file_extension": ".py",
   "mimetype": "text/x-python",
   "name": "python",
   "nbconvert_exporter": "python",
   "pygments_lexer": "ipython3",
   "version": "3.10.6"
  }
 },
 "nbformat": 4,
 "nbformat_minor": 5
}
