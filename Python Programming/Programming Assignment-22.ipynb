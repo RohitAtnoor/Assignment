{
 "cells": [
  {
   "cell_type": "code",
   "execution_count": 6,
   "id": "97dd836a-5f07-45e7-aed1-98a4c2e63c3b",
   "metadata": {},
   "outputs": [
    {
     "name": "stdout",
     "output_type": "stream",
     "text": [
      "The numbers divisible by 3 are : [3, 6, 9]\n",
      "The numbers divisible by 2 are : [8]\n",
      "The numbers divisible by 7 are : []\n"
     ]
    }
   ],
   "source": [
    "\"\"\"\n",
    "Question1\n",
    "Create a function that takes three parameters where:\n",
    "x is the start of the range (inclusive).\n",
    "y is the end of the range (inclusive).\n",
    "n is the divisor to be checked against.\n",
    "Return an ordered list with numbers in the range that are divisible by the third parameter n.\n",
    "Return an empty list if there are no numbers that are divisible by n.\n",
    "\n",
    "Examples\n",
    "list_operation(1, 10, 3) ➞ [3, 6, 9]\n",
    "list_operation(7, 9, 2) ➞ [8]\n",
    "list_operation(15, 20, 7) ➞ []\n",
    "\"\"\"\n",
    "\n",
    "def list_operation(start=1,end=10,number=2) :\n",
    "    \n",
    "    result = []\n",
    "    \n",
    "    for i in range(start , end +1):\n",
    "        \n",
    "        if i % number == 0 :\n",
    "            result.append(i)\n",
    "    \n",
    "    print(f\"The numbers divisible by {number} are : {result}\")\n",
    "\n",
    "# Example \n",
    "list_operation(1, 10, 3) \n",
    "list_operation(7, 9, 2)\n",
    "list_operation(15, 20, 7)"
   ]
  },
  {
   "cell_type": "code",
   "execution_count": 21,
   "id": "4a6c43d0-5c04-4496-a2b5-0ac170a736be",
   "metadata": {},
   "outputs": [
    {
     "name": "stdout",
     "output_type": "stream",
     "text": [
      "True\n",
      "False\n",
      "True\n",
      "False\n"
     ]
    }
   ],
   "source": [
    "\"\"\"\n",
    "Question2\n",
    "Create a function that takes in two lists and returns True if the second list \n",
    "follows the first list by one element, and False otherwise. In other words, \n",
    "determine if the second list is the first list shifted to the right by 1.\n",
    "\n",
    "Examples\n",
    "simon_says([1, 2], [5, 1]) ➞ True\n",
    "simon_says([1, 2], [5, 5]) ➞ False\n",
    "simon_says([1, 2, 3, 4, 5], [0, 1, 2, 3, 4]) ➞ True\n",
    "simon_says([1, 2, 3, 4, 5], [5, 5, 1, 2, 3]) ➞ False\n",
    "\n",
    "Notes\n",
    "Both input lists will be of the same length, and will have a minimum length of 2.\n",
    "The values of the 0-indexed element in the second list and the n-1th indexed element in the first list do not matter.\n",
    "\"\"\"\n",
    "\n",
    "def simon_says(List1,List2):\n",
    "    \n",
    "    if len(List1) == len(List2) and len(List1) >=2 and len(List2) >=2:\n",
    "        \n",
    "        if(List1[:-1] == List2[1:]):\n",
    "            print(True)\n",
    "        \n",
    "        else:\n",
    "            print(False)\n",
    "\n",
    "# Example\n",
    "simon_says([1, 2], [5, 1])\n",
    "simon_says([1, 2], [5, 5])\n",
    "simon_says([1, 2, 3, 4, 5], [0, 1, 2, 3, 4])\n",
    "simon_says([1, 2, 3, 4, 5], [5, 5, 1, 2, 3])"
   ]
  },
  {
   "cell_type": "code",
   "execution_count": 28,
   "id": "0c4a6f19-ac69-4304-8619-399e5769a3ae",
   "metadata": {},
   "outputs": [
    {
     "name": "stdout",
     "output_type": "stream",
     "text": [
      "AMS\n",
      "CHLN\n",
      "CJMPRR\n"
     ]
    }
   ],
   "source": [
    "\"\"\"\n",
    "Question3\n",
    "A group of friends have decided to start a secret society. The name will be \n",
    "the first letter of each of their names, sorted in alphabetical order.\n",
    "Create a function that takes in a list of names and returns the name of the secret society.\n",
    "Examples\n",
    "society_name([\"Adam\", \"Sarah\", \"Malcolm\"]) ➞ \"AMS\"\n",
    "society_name([\"Harry\", \"Newt\", \"Luna\", \"Cho\"]) ➞ \"CHLN\"\n",
    "society_name([\"Phoebe\", \"Chandler\", \"Rachel\", \"Ross\", \"Monica\", \"Joey\"])\n",
    "\"\"\"\n",
    "\n",
    "def society_name(List) :\n",
    "    \n",
    "    result = []\n",
    "    \n",
    "    for i in List:\n",
    "        result.append(i[0])\n",
    "    \n",
    "    result.sort()\n",
    "    result = \"\".join(result)\n",
    "    \n",
    "    print(result)\n",
    "\n",
    "    \n",
    "# Example\n",
    "society_name([\"Adam\", \"Sarah\", \"Malcolm\"])\n",
    "society_name([\"Harry\", \"Newt\", \"Luna\", \"Cho\"])\n",
    "society_name([\"Phoebe\", \"Chandler\", \"Rachel\", \"Ross\", \"Monica\", \"Joey\"])"
   ]
  },
  {
   "cell_type": "code",
   "execution_count": 36,
   "id": "8f0b95b0-8303-4ed5-904f-d7e68a6539ea",
   "metadata": {},
   "outputs": [
    {
     "name": "stdout",
     "output_type": "stream",
     "text": [
      "True\n",
      "False\n",
      "False\n"
     ]
    }
   ],
   "source": [
    "\"\"\"\n",
    "Question4\n",
    "An isogram is a word that has no duplicate letters. Create a function that takes\n",
    "a string and returns either True or False depending on whether or not it's an \"isogram\".\n",
    "\n",
    "Examples\n",
    "is_isogram(\"Algorism\") ➞ True\n",
    "is_isogram(\"PasSword\") ➞ False\n",
    "# Not case sensitive.\n",
    "is_isogram(\"Consecutive\") ➞ False\n",
    "\n",
    "Notes\n",
    "Ignore letter case (should not be case sensitive).\n",
    "All test cases contain valid one word strings.\n",
    "\"\"\"\n",
    "\n",
    "def is_isogram(string):\n",
    "    \n",
    "    lower_string = string.lower()\n",
    "    \n",
    "    if len(lower_string) == len(set(lower_string)):\n",
    "        print(True)\n",
    "        \n",
    "    else:\n",
    "        print(False)\n",
    "\n",
    "# Example\n",
    "is_isogram(\"Algorism\")\n",
    "is_isogram(\"PasSword\")\n",
    "is_isogram(\"Consecutive\")"
   ]
  },
  {
   "cell_type": "code",
   "execution_count": 43,
   "id": "1a8e26d0-6153-4c36-9eac-861fa754873d",
   "metadata": {},
   "outputs": [
    {
     "name": "stdout",
     "output_type": "stream",
     "text": [
      "True\n",
      "False\n",
      "True\n",
      "True\n"
     ]
    }
   ],
   "source": [
    "\"\"\"\n",
    "Question5\n",
    "Create a function that takes a string and returns True or False, \n",
    "depending on whether the characters are in order or not.\n",
    "\n",
    "Examples\n",
    "is_in_order(\"abc\") ➞ True\n",
    "is_in_order(\"edabit\") ➞ False\n",
    "is_in_order(\"123\") ➞ True\n",
    "is_in_order(\"xyzz\") ➞ True\n",
    "\n",
    "Notes\n",
    "You don't have to handle empty strings.\n",
    "\"\"\"\n",
    "\n",
    "def is_in_order(string) :\n",
    "    \n",
    "    sorting = sorted(string)\n",
    "    rejoin = \"\".join(sorting)\n",
    "    \n",
    "    if string == rejoin :\n",
    "        print(\"True\")\n",
    "    \n",
    "    else :\n",
    "        print(\"False\")\n",
    "\n",
    "# Example\n",
    "is_in_order(\"abc\") \n",
    "is_in_order(\"edabit\") \n",
    "is_in_order(\"123\") \n",
    "is_in_order(\"xyzz\")"
   ]
  }
 ],
 "metadata": {
  "kernelspec": {
   "display_name": "Python 3 (ipykernel)",
   "language": "python",
   "name": "python3"
  },
  "language_info": {
   "codemirror_mode": {
    "name": "ipython",
    "version": 3
   },
   "file_extension": ".py",
   "mimetype": "text/x-python",
   "name": "python",
   "nbconvert_exporter": "python",
   "pygments_lexer": "ipython3",
   "version": "3.10.6"
  }
 },
 "nbformat": 4,
 "nbformat_minor": 5
}
