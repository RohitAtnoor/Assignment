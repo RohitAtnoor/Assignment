{
 "cells": [
  {
   "cell_type": "code",
   "execution_count": 3,
   "id": "9a434f8c-c49d-4ec2-8f73-461afb3fe74f",
   "metadata": {},
   "outputs": [
    {
     "name": "stdin",
     "output_type": "stream",
     "text": [
      "Enter the number of terms:  10\n"
     ]
    },
    {
     "name": "stdout",
     "output_type": "stream",
     "text": [
      "Fibonacci sequence:\n",
      "0\n",
      "1\n",
      "1\n",
      "2\n",
      "3\n",
      "5\n",
      "8\n",
      "13\n",
      "21\n",
      "34\n"
     ]
    }
   ],
   "source": [
    "# 1. Write a Python Program to Display Fibonacci Sequence Using Recursion?\n",
    "\n",
    "def fibonacci(n):\n",
    "    if n <= 1:\n",
    "        return n\n",
    "    else:\n",
    "        return fibonacci(n - 1) + fibonacci(n - 2)\n",
    "\n",
    "def display_fibonacci_sequence(count):\n",
    "    if count <= 0:\n",
    "        print(\"Please enter a positive integer.\")\n",
    "    else:\n",
    "        print(\"Fibonacci sequence:\")\n",
    "        for i in range(count):\n",
    "            print(fibonacci(i))\n",
    "\n",
    "# Test the program\n",
    "n_terms = int(input(\"Enter the number of terms: \"))\n",
    "display_fibonacci_sequence(n_terms)\n"
   ]
  },
  {
   "cell_type": "code",
   "execution_count": 4,
   "id": "1effab48-a7ec-4e24-946a-da008682af05",
   "metadata": {},
   "outputs": [
    {
     "name": "stdin",
     "output_type": "stream",
     "text": [
      "Enter a number:  12\n"
     ]
    },
    {
     "name": "stdout",
     "output_type": "stream",
     "text": [
      "Factorial of 12 is 479001600\n"
     ]
    }
   ],
   "source": [
    "# 2. Write a Python Program to Find Factorial of Number Using Recursion?\n",
    "\n",
    "def factorial(n):\n",
    "    if n == 0:\n",
    "        return 1\n",
    "    else:\n",
    "        return n * factorial(n - 1)\n",
    "\n",
    "# Test the program\n",
    "num = int(input(\"Enter a number: \"))\n",
    "if num < 0:\n",
    "    print(\"Factorial cannot be calculated for negative numbers.\")\n",
    "else:\n",
    "    result = factorial(num)\n",
    "    print(\"Factorial of\", num, \"is\", result)\n"
   ]
  },
  {
   "cell_type": "code",
   "execution_count": 10,
   "id": "e40b54b1-3ca1-49d0-8ea1-4162dbc8f09d",
   "metadata": {},
   "outputs": [
    {
     "name": "stdin",
     "output_type": "stream",
     "text": [
      "Enter the Body Weight in KG : 60\n",
      "Enter the Body Height in m : 1.52\n"
     ]
    },
    {
     "data": {
      "text/plain": [
       "('The BMI of your body is ', 25.969529085872576)"
      ]
     },
     "execution_count": 10,
     "metadata": {},
     "output_type": "execute_result"
    }
   ],
   "source": [
    "# 3. Write a Python Program to calculate your Body Mass Index?\n",
    "\n",
    "def BMI(weight, height) :\n",
    "    \n",
    "    bmi = weight / (height ** 2)\n",
    "    \n",
    "    return \"The BMI of your body is \", bmi\n",
    "\n",
    "weight = float(input(\"Enter the Body Weight in KG :\"))\n",
    "height = float(input(\"Enter the Body Height in m :\"))\n",
    "BMI(weight , height)"
   ]
  },
  {
   "cell_type": "code",
   "execution_count": 14,
   "id": "f6a0cbcb-53ee-4cf6-b2f3-f73a13a5c3a0",
   "metadata": {},
   "outputs": [
    {
     "name": "stdin",
     "output_type": "stream",
     "text": [
      "Enter a number:  12\n"
     ]
    },
    {
     "name": "stdout",
     "output_type": "stream",
     "text": [
      "Natural logarithm of 12.0 is 2.4849066497880004\n"
     ]
    }
   ],
   "source": [
    "# 4. Write a Python Program to calculate the natural logarithm of any number?\n",
    "\n",
    "import math\n",
    "\n",
    "# Test the program\n",
    "num = float(input(\"Enter a number: \"))\n",
    "if num <= 0:\n",
    "    print(\"Enter a Possitive Number greater then 0.\")\n",
    "else:\n",
    "    result = math.log(num)\n",
    "    print(\"Natural logarithm of\", num, \"is\", result)\n"
   ]
  },
  {
   "cell_type": "code",
   "execution_count": 27,
   "id": "9636e6dc-1cdd-41dd-bb60-1b142133fbb6",
   "metadata": {},
   "outputs": [
    {
     "name": "stdin",
     "output_type": "stream",
     "text": [
      "Enter the last or nth natural number :  4\n"
     ]
    },
    {
     "name": "stdout",
     "output_type": "stream",
     "text": [
      "1\n",
      "2\n",
      "3\n",
      "4\n",
      "100\n"
     ]
    }
   ],
   "source": [
    "# 5. Write a Python Program for cube sum of first n natural numbers?\n",
    "\n",
    "def cube_sum(num) :\n",
    "    \n",
    "    summ = 0\n",
    "    \n",
    "    for i in range(1,num+1):\n",
    "        print(i)\n",
    "        cube = i ** 3 \n",
    "        summ = summ + cube\n",
    "    print(summ)\n",
    "\n",
    "num = int(input(\"Enter the last or nth natural number : \"))\n",
    "cube_sum(num)"
   ]
  },
  {
   "cell_type": "code",
   "execution_count": null,
   "id": "5a7ee6e9-aa70-4839-877c-3afe524da3cb",
   "metadata": {},
   "outputs": [],
   "source": []
  }
 ],
 "metadata": {
  "kernelspec": {
   "display_name": "Python 3 (ipykernel)",
   "language": "python",
   "name": "python3"
  },
  "language_info": {
   "codemirror_mode": {
    "name": "ipython",
    "version": 3
   },
   "file_extension": ".py",
   "mimetype": "text/x-python",
   "name": "python",
   "nbconvert_exporter": "python",
   "pygments_lexer": "ipython3",
   "version": "3.10.6"
  }
 },
 "nbformat": 4,
 "nbformat_minor": 5
}
