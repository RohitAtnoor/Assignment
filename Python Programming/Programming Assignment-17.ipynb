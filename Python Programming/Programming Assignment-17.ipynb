{
 "cells": [
  {
   "cell_type": "code",
   "execution_count": 2,
   "id": "d7a78030-b146-4b55-a700-1870b544e99b",
   "metadata": {},
   "outputs": [
    {
     "name": "stdout",
     "output_type": "stream",
     "text": [
      "The numbers are [] and the sum is : 0\n",
      "The numbers are [2, 4, 6, 8, 10] and the sum is : 30\n",
      "The numbers are [3, 6, 9] and the sum is : 18\n"
     ]
    }
   ],
   "source": [
    "\"\"\"\n",
    "Question1. Create a function that takes three arguments a, b, c and returns the sum of the\n",
    "numbers that are evenly divided by c from the range a, b inclusive.\n",
    "Examples\n",
    "evenly_divisible(1, 10, 20) ➞ 0\n",
    "# No number between 1 and 10 can be evenly divided by 20.\n",
    "evenly_divisible(1, 10, 2) ➞ 30\n",
    "# 2 + 4 + 6 + 8 + 10 = 30\n",
    "evenly_divisible(1, 10, 3) ➞ 18\n",
    "# 3 + 6 + 9 = 18\n",
    "\"\"\"\n",
    "\n",
    "def evenly_divisible(a=1,b=10,c=2) :\n",
    "    \n",
    "    List = []\n",
    "    # Finding the numbers which are evenly divisible\n",
    "    for i in range(a,b+1):\n",
    "        if i % c == 0:\n",
    "            List.append(i)\n",
    "            \n",
    "    return f\"The numbers are {List} and the sum is : {sum(List)}\"\n",
    "\n",
    "# Example\n",
    "print(evenly_divisible(1, 10, 20))\n",
    "print(evenly_divisible(1, 10, 2))\n",
    "print(evenly_divisible(1, 10, 3))"
   ]
  },
  {
   "cell_type": "code",
   "execution_count": 1,
   "id": "555efcf1-043a-4a99-b311-a034143ccb6e",
   "metadata": {},
   "outputs": [
    {
     "name": "stdout",
     "output_type": "stream",
     "text": [
      "True\n",
      "False\n",
      "True\n"
     ]
    }
   ],
   "source": [
    "\"\"\"\n",
    "Question2. Create a function that returns True if a given inequality expression is correct and False otherwise.\n",
    "Examples\n",
    "correct_signs(\"3 < 7 < 11\") ➞ True\n",
    "correct_signs(\"13 > 44 > 33 > 1\") ➞ False\n",
    "correct_signs(\"1 < 2 < 6 < 9 > 3\") ➞ True\n",
    "\"\"\"\n",
    "\n",
    "def correct_signs(expression) :\n",
    "    \n",
    "    result = eval(expression)\n",
    "    \n",
    "    return result\n",
    "\n",
    "# Example\n",
    "print(correct_signs(\"3 < 7 < 11\"))\n",
    "print(correct_signs(\"13 > 44 > 33 > 1\"))\n",
    "print(correct_signs(\"1 < 2 < 6 < 9 > 3\"))"
   ]
  },
  {
   "cell_type": "code",
   "execution_count": 6,
   "id": "4461453c-7fdc-4e7f-adc6-75119aae13fb",
   "metadata": {},
   "outputs": [
    {
     "name": "stdout",
     "output_type": "stream",
     "text": [
      "th# ##rdv#rk\n",
      "m?nn?? m??s?\n",
      "sh*k*sp**r*\n"
     ]
    }
   ],
   "source": [
    "\"\"\"\n",
    "Question3. Create a function that replaces all the vowels in a string with a specified character.\n",
    "Examples\n",
    "replace_vowels(\"the aardvark\", \"#\") ➞ \"th# ##rdv#rk\"\n",
    "replace_vowels(\"minnie mouse\", \"?\") ➞ \"m?nn?? m??s?\"\n",
    "replace_vowels(\"shakespeare\", \"*\") ➞ \"sh*k*sp**r*\"\n",
    "\"\"\"\n",
    "\n",
    "def replace_vowels(string, replacement):\n",
    "    vowels = 'aeiouAEIOU'\n",
    "    modified_string = \"\"\n",
    "    \n",
    "    for char in string:\n",
    "        if char in vowels:\n",
    "            modified_string += replacement\n",
    "        else:\n",
    "            modified_string += char\n",
    "    \n",
    "    return modified_string\n",
    "\n",
    "print(replace_vowels(\"the aardvark\", \"#\"))  \n",
    "print(replace_vowels(\"minnie mouse\", \"?\"))  \n",
    "print(replace_vowels(\"shakespeare\", \"*\"))  \n"
   ]
  },
  {
   "cell_type": "code",
   "execution_count": 7,
   "id": "aa4442b1-74f9-42fa-9f51-748ab74f3040",
   "metadata": {},
   "outputs": [
    {
     "name": "stdout",
     "output_type": "stream",
     "text": [
      "120\n",
      "6\n",
      "1\n",
      "1\n"
     ]
    }
   ],
   "source": [
    "\"\"\"\n",
    "Question4. Write a function that calculates the factorial of a number recursively.\n",
    "Examples\n",
    "factorial(5) ➞ 120\n",
    "factorial(3) ➞ 6\n",
    "factorial(1) ➞ 1\n",
    "factorial(0) ➞ 1\n",
    "\"\"\"\n",
    "\n",
    "def factorial(n):\n",
    "    if n==0:\n",
    "        return 1\n",
    "    return n * factorial(n-1)\n",
    "\n",
    "# Example\n",
    "print(factorial(5))\n",
    "print(factorial(3))\n",
    "print(factorial(1))\n",
    "print(factorial(0))"
   ]
  },
  {
   "cell_type": "code",
   "execution_count": 8,
   "id": "473f593e-3996-4706-8607-e7650965af42",
   "metadata": {},
   "outputs": [
    {
     "name": "stdout",
     "output_type": "stream",
     "text": [
      "5\n",
      "0\n",
      "1\n"
     ]
    }
   ],
   "source": [
    "\"\"\"\n",
    "Question 5\n",
    "Hamming distance is the number of characters that differ between two strings.\n",
    "To illustrate:\n",
    "String1: \"abcbba\"\n",
    "String2: \"abcbda\"\n",
    "\n",
    "Hamming Distance: 1 - \"b\" vs. \"d\" is the only difference.\n",
    "Create a function that computes the hamming distance between two strings.\n",
    "Examples\n",
    "hamming_distance(\"abcde\", \"bcdef\") ➞ 5\n",
    "\n",
    "hamming_distance(\"abcde\", \"abcde\") ➞ 0\n",
    "\n",
    "hamming_distance(\"strong\", \"strung\") ➞ 1\n",
    "\"\"\"\n",
    "\n",
    "def hamming_distance(string1, string2):\n",
    "    if len(string1) != len(string2):\n",
    "        return -1\n",
    "    \n",
    "    distance = 0\n",
    "    \n",
    "    for char1, char2 in zip(string1, string2):\n",
    "        if char1 != char2:\n",
    "            distance += 1\n",
    "    \n",
    "    return distance\n",
    "\n",
    "print(hamming_distance(\"abcde\", \"bcdef\"))   \n",
    "print(hamming_distance(\"abcde\", \"abcde\"))   \n",
    "print(hamming_distance(\"strong\", \"strung\")) \n"
   ]
  },
  {
   "cell_type": "code",
   "execution_count": null,
   "id": "23b085bf-0c47-4c69-8f95-9e89d36f7a14",
   "metadata": {},
   "outputs": [],
   "source": []
  }
 ],
 "metadata": {
  "kernelspec": {
   "display_name": "Python 3 (ipykernel)",
   "language": "python",
   "name": "python3"
  },
  "language_info": {
   "codemirror_mode": {
    "name": "ipython",
    "version": 3
   },
   "file_extension": ".py",
   "mimetype": "text/x-python",
   "name": "python",
   "nbconvert_exporter": "python",
   "pygments_lexer": "ipython3",
   "version": "3.10.6"
  }
 },
 "nbformat": 4,
 "nbformat_minor": 5
}
