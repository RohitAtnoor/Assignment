{
 "cells": [
  {
   "cell_type": "code",
   "execution_count": 4,
   "id": "adf1570e-5024-4dd4-a82e-0f3678bf86d6",
   "metadata": {},
   "outputs": [
    {
     "name": "stdout",
     "output_type": "stream",
     "text": [
      "dict_values(['Hello', 'Ineuron', 'Python', 'Python', 'Assignment', 'Basic', 'Hello'])\n",
      "Unique Values: ['Python', 'Ineuron', 'Assignment', 'Hello', 'Basic']\n"
     ]
    }
   ],
   "source": [
    "# 1. Write a Python program to Extract Unique values dictionary values?\n",
    "\n",
    "dic = {1:'Hello',2:'Ineuron',3:'Python',4:'Python',5:'Assignment',6:'Basic',7:'Hello'}\n",
    "print(dic.values())\n",
    "print(f'Unique Values: {list(set(dic.values()))}')"
   ]
  },
  {
   "cell_type": "code",
   "execution_count": 6,
   "id": "dfc19dcc-a92c-4ff0-a40b-20c80da6b51f",
   "metadata": {},
   "outputs": [
    {
     "name": "stdout",
     "output_type": "stream",
     "text": [
      "Sum of All items:  60\n"
     ]
    }
   ],
   "source": [
    "# 2. Write a Python program to find the sum of all items in a dictionary?\n",
    "\n",
    "dic = {'Apple':10,'Mango':20,'Banana':30,}\n",
    "print('Sum of All items: ',sum(dic.values()))"
   ]
  },
  {
   "cell_type": "code",
   "execution_count": 8,
   "id": "1cdeef09-6e3b-4bff-80d5-5f01e8f83e14",
   "metadata": {},
   "outputs": [
    {
     "name": "stdout",
     "output_type": "stream",
     "text": [
      "{'Apple': 'Friut', 'Rose': 'Flower'}\n"
     ]
    }
   ],
   "source": [
    "# 3. Write a Python program to Merging two Dictionaries?\n",
    "\n",
    "dict1 = {\n",
    "    'Apple':'Friut'\n",
    "}\n",
    "dict2 = {\n",
    "    'Rose':'Flower'\n",
    "}\n",
    "\n",
    "dict1.update(dict2)\n",
    "print(dict1)"
   ]
  },
  {
   "cell_type": "code",
   "execution_count": 11,
   "id": "f0ab7b7a-569a-490f-a60f-8279d0d816d9",
   "metadata": {},
   "outputs": [
    {
     "name": "stdout",
     "output_type": "stream",
     "text": [
      "<class 'list'>\n",
      "{'A': 10, 'B': 20, 'C': 30, 'D': 40}\n",
      "<class 'dict'>\n"
     ]
    }
   ],
   "source": [
    "# 4. Write a Python program to convert key-values list to flat dictionary?\n",
    "\n",
    "lis = [('A',10),('B',20),('C',30),('D',40)]\n",
    "\n",
    "print(type(lis))\n",
    "# Method #1\n",
    "dict(lis)\n",
    "\n",
    "# Method #2\n",
    "dic = {}\n",
    "for ele in lis:\n",
    "    dic[ele[0]] = ele[1]\n",
    "print(dic)\n",
    "print(type(dic))"
   ]
  },
  {
   "cell_type": "code",
   "execution_count": 12,
   "id": "94956cfe-cbc3-463f-86b7-b97e9b5b63a3",
   "metadata": {},
   "outputs": [
    {
     "name": "stdout",
     "output_type": "stream",
     "text": [
      "dict_one OrderedDict([('Apple', 'Iphone'), ('Microsoft', 'Windows'), ('Google', 'chrome')])\n",
      "dict_one OrderedDict([('Apple', 'Iphone'), ('Microsoft', 'Windows'), ('Google', 'chrome'), ('Tesla', 'SpaceX')])\n",
      "dict_one OrderedDict([('Tesla', 'SpaceX'), ('Apple', 'Iphone'), ('Microsoft', 'Windows'), ('Google', 'chrome')])\n"
     ]
    }
   ],
   "source": [
    "# 5. Write a Python program to insertion at the beginning in OrderedDict?\n",
    "\n",
    "from collections import OrderedDict\n",
    "dict_one = OrderedDict({'Apple':'Iphone','Microsoft':'Windows','Google':'chrome'})\n",
    "print('dict_one',dict_one)\n",
    "dict_two = {'Tesla':'SpaceX'}\n",
    "dict_one.update(dict_two)\n",
    "print('dict_one',dict_one)\n",
    "dict_one.move_to_end('Tesla',last=False)\n",
    "print('dict_one',dict_one)"
   ]
  },
  {
   "cell_type": "code",
   "execution_count": 13,
   "id": "f6357e7b-b986-422e-bc05-5a6604d50e9a",
   "metadata": {},
   "outputs": [
    {
     "name": "stdout",
     "output_type": "stream",
     "text": [
      "{'a': 1000, 'f': 200, 'd': 300, 'c': 400, 'b': 500, 'e': 600}\n",
      "OrderedDict([('a', 1000), ('b', 500), ('c', 400), ('d', 300), ('e', 600), ('f', 200)])\n"
     ]
    }
   ],
   "source": [
    "# 6. Write a Python program to check order of character in string using OrderedDict()?\n",
    "\n",
    "from collections import OrderedDict\n",
    "\n",
    "initial_list = {'a': 1000, 'f': 200, 'd': 300, 'c': 400, 'b': 500, 'e': 600}\n",
    "print(initial_list)\n",
    "\n",
    "final_list = OrderedDict(dict(sorted(initial_list.items())))\n",
    "print(final_list)"
   ]
  },
  {
   "cell_type": "code",
   "execution_count": 14,
   "id": "d75772e7-3e13-4709-ae3d-b5c42f2c94e4",
   "metadata": {},
   "outputs": [
    {
     "name": "stdout",
     "output_type": "stream",
     "text": [
      "{'a': 1000, 'b': 500, 'c': 400, 'd': 300, 'e': 600, 'f': 200}\n",
      "{'f': 200, 'd': 300, 'c': 400, 'b': 500, 'e': 600, 'a': 1000}\n"
     ]
    }
   ],
   "source": [
    "# 7. Write a Python program to sort Python Dictionaries by Key or Value?\n",
    "\n",
    "d_items = {'a': 1000, 'f': 200, 'd': 300, 'c': 400, 'b': 500, 'e': 600}\n",
    "\n",
    "def sort_dict(in_dict,sort_type):\n",
    "    if sort_type == 'key':\n",
    "        print(dict(sorted(in_dict.items(), key=lambda x:x[0], reverse=False)))\n",
    "    else:\n",
    "        print(dict(sorted(in_dict.items(), key=lambda x:x[1], reverse=False)))\n",
    "        \n",
    "sort_dict(d_items,'key')        \n",
    "sort_dict(d_items,'value')"
   ]
  },
  {
   "cell_type": "code",
   "execution_count": null,
   "id": "0734f324-f4ca-4701-8251-c83be53adfea",
   "metadata": {},
   "outputs": [],
   "source": []
  }
 ],
 "metadata": {
  "kernelspec": {
   "display_name": "Python 3 (ipykernel)",
   "language": "python",
   "name": "python3"
  },
  "language_info": {
   "codemirror_mode": {
    "name": "ipython",
    "version": 3
   },
   "file_extension": ".py",
   "mimetype": "text/x-python",
   "name": "python",
   "nbconvert_exporter": "python",
   "pygments_lexer": "ipython3",
   "version": "3.10.6"
  }
 },
 "nbformat": 4,
 "nbformat_minor": 5
}
