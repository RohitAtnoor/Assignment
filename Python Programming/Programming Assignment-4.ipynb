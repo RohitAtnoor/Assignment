{
 "cells": [
  {
   "cell_type": "code",
   "execution_count": 1,
   "id": "7fc1579c-244a-4bbf-b770-01b48971eae2",
   "metadata": {},
   "outputs": [
    {
     "name": "stdin",
     "output_type": "stream",
     "text": [
      "Enter the number:  5\n"
     ]
    },
    {
     "name": "stdout",
     "output_type": "stream",
     "text": [
      "The factorial of 5, is 120 factorial\n"
     ]
    }
   ],
   "source": [
    "# 1. Write a Python Program to Find the Factorial of a Number?\n",
    "\n",
    "num=int(input(\"Enter the number: \"))\n",
    "fact=1\n",
    "if num < 0:\n",
    "    print(\"Sorry, factorial does not exist for negative numbers\")\n",
    "elif num == 0:\n",
    "    print(\"The factorial of 0 is 1\")\n",
    "else:\n",
    "    for i in range(1,num + 1):\n",
    "        fact = fact*i\n",
    "    print(f\"The factorial of {num}, is {fact} factorial\")"
   ]
  },
  {
   "cell_type": "code",
   "execution_count": 11,
   "id": "d79925fc-0138-4c70-87fc-386a672e622f",
   "metadata": {},
   "outputs": [
    {
     "name": "stdin",
     "output_type": "stream",
     "text": [
      "Enter the Number to get the table :  5\n"
     ]
    },
    {
     "name": "stdout",
     "output_type": "stream",
     "text": [
      "5 X 1 = 5\n",
      "5 X 2 = 10\n",
      "5 X 3 = 15\n",
      "5 X 4 = 20\n",
      "5 X 5 = 25\n",
      "5 X 6 = 30\n",
      "5 X 7 = 35\n",
      "5 X 8 = 40\n",
      "5 X 9 = 45\n",
      "5 X 10 = 50\n"
     ]
    }
   ],
   "source": [
    "# 2. Write a Python Program to Display the multiplication Table?\n",
    "\n",
    "number = int(input(\"Enter the Number to get the table : \"))\n",
    "\n",
    "for i in range(1,11) :\n",
    "    print(f\"{number} X {i} = {number * i}\")"
   ]
  },
  {
   "cell_type": "code",
   "execution_count": 12,
   "id": "a861bb8e-517c-41ff-b698-ca423a0fbafd",
   "metadata": {},
   "outputs": [
    {
     "name": "stdout",
     "output_type": "stream",
     "text": [
      "The Fibonacci sequence of length 10 is: [0, 1, 1, 2, 3, 5, 8, 13, 21, 34]\n"
     ]
    }
   ],
   "source": [
    "# 3. Write a Python Program to Print the Fibonacci sequence?\n",
    "\n",
    "def fibonacci(n):\n",
    "    sequence = [0, 1]  # Initialize the sequence with the first two numbers\n",
    "\n",
    "    while len(sequence) < n:\n",
    "        next_number = sequence[-1] + sequence[-2]  # Calculate the next number\n",
    "        sequence.append(next_number)  # Add the next number to the sequence\n",
    "\n",
    "    return sequence\n",
    "\n",
    "length = 10  # Specify the length of the Fibonacci sequence\n",
    "result = fibonacci(length)\n",
    "print(\"The Fibonacci sequence of length\", length, \"is:\", result)\n"
   ]
  },
  {
   "cell_type": "code",
   "execution_count": 50,
   "id": "faec8df0-f744-4962-8a56-33b73a39492e",
   "metadata": {},
   "outputs": [
    {
     "name": "stdin",
     "output_type": "stream",
     "text": [
      "Enter the whole number :  153\n"
     ]
    },
    {
     "name": "stdout",
     "output_type": "stream",
     "text": [
      "The number 153 is Armstrong Number 153\n"
     ]
    }
   ],
   "source": [
    "# 4. Write a Python Program to Check Armstrong Number?\n",
    "\n",
    "# Taking the input of the number.\n",
    "num1 = int(input(\"Enter the whole number : \"))\n",
    "\n",
    "con_to_str = str(num1) # converting the number to string form.\n",
    "b= [] # stroing the cube value of each element of the number.\n",
    "\n",
    "for i in con_to_str :\n",
    "    a = int(i) **3 \n",
    "    b.append(a)\n",
    "# print(b)\n",
    "\n",
    "summ = sum(b) # making the sum of each cubed element.\n",
    "\n",
    "if num1 == summ :\n",
    "    print(f\"The number {num1} is Armstrong Number {summ}\")\n",
    "else :\n",
    "    print(f\"The number {num1} is not Armstrong Number {summ}\")"
   ]
  },
  {
   "cell_type": "code",
   "execution_count": 51,
   "id": "984c3b35-a033-4c16-bd06-9a404c8cf8fc",
   "metadata": {},
   "outputs": [
    {
     "name": "stdin",
     "output_type": "stream",
     "text": [
      "Enter the lower limit of the interval:  1\n",
      "Enter the upper limit of the interval:  100\n"
     ]
    },
    {
     "name": "stdout",
     "output_type": "stream",
     "text": [
      "Armstrong numbers between 1 and 100 are:\n",
      "1\n",
      "2\n",
      "3\n",
      "4\n",
      "5\n",
      "6\n",
      "7\n",
      "8\n",
      "9\n"
     ]
    }
   ],
   "source": [
    "# 5. Write a Python Program to Find Armstrong Number in an Interval?\n",
    "\n",
    "def is_armstrong_number(number):\n",
    "    str_number = str(number)\n",
    "    num_digits = len(str_number)\n",
    "    sum_of_cubes = sum(int(digit) ** num_digits for digit in str_number)\n",
    "    if sum_of_cubes == number:\n",
    "        return True\n",
    "    else:\n",
    "        return False\n",
    "\n",
    "# Prompt the user to enter the interval\n",
    "lower = int(input(\"Enter the lower limit of the interval: \"))\n",
    "upper = int(input(\"Enter the upper limit of the interval: \"))\n",
    "\n",
    "print(\"Armstrong numbers between\", lower, \"and\", upper, \"are:\")\n",
    "\n",
    "for number in range(lower, upper + 1):\n",
    "    if is_armstrong_number(number):\n",
    "        print(number)\n"
   ]
  },
  {
   "cell_type": "code",
   "execution_count": 62,
   "id": "2a9fd7ce-ed6b-4781-9bed-a9b34aa39ad2",
   "metadata": {},
   "outputs": [
    {
     "name": "stdin",
     "output_type": "stream",
     "text": [
      "How many numbers you want to enter : 5\n",
      "Enter the Number : 1\n",
      "Enter the Number : 2\n",
      "Enter the Number : 3\n",
      "Enter the Number : 4\n",
      "Enter the Number : 5\n"
     ]
    },
    {
     "name": "stdout",
     "output_type": "stream",
     "text": [
      "The sum of numbers [1, 2, 3, 4, 5] is 15\n"
     ]
    }
   ],
   "source": [
    "# 6. Write a Python Program to Find the Sum of Natural Numbers?\n",
    "\n",
    "num = int(input(\"How many numbers you want to enter :\"))\n",
    "\n",
    "natural_numbers = [] # stroing the numbers as user input.\n",
    "for i in range(num):\n",
    "    a = int(input(\"Enter the Number :\"))\n",
    "    natural_numbers.append(a)\n",
    "sum_natural_number = sum(natural_numbers)\n",
    "print(f\"The sum of numbers {natural_numbers} is {sum_natural_number}\")"
   ]
  },
  {
   "cell_type": "code",
   "execution_count": null,
   "id": "6bf1f720-34d8-469b-b634-4479c9fba133",
   "metadata": {},
   "outputs": [],
   "source": []
  }
 ],
 "metadata": {
  "kernelspec": {
   "display_name": "Python 3 (ipykernel)",
   "language": "python",
   "name": "python3"
  },
  "language_info": {
   "codemirror_mode": {
    "name": "ipython",
    "version": 3
   },
   "file_extension": ".py",
   "mimetype": "text/x-python",
   "name": "python",
   "nbconvert_exporter": "python",
   "pygments_lexer": "ipython3",
   "version": "3.10.6"
  }
 },
 "nbformat": 4,
 "nbformat_minor": 5
}
