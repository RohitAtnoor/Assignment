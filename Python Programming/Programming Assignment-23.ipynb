{
 "cells": [
  {
   "cell_type": "code",
   "execution_count": 10,
   "id": "6e6aecc6-68ff-43ca-b14f-ab9d4fa26c9d",
   "metadata": {},
   "outputs": [
    {
     "name": "stdout",
     "output_type": "stream",
     "text": [
      "True\n",
      "False\n",
      "True\n",
      "False\n",
      "True\n"
     ]
    }
   ],
   "source": [
    "\"\"\"\n",
    "Question 1\n",
    "Create a function that takes a number as an argument and returns True or False \n",
    "depending on whether the number is symmetrical or not.\n",
    "A number is symmetrical when it is the same as its reverse.\n",
    "\n",
    "Examples\n",
    "is_symmetrical(7227) ➞ True\n",
    "is_symmetrical(12567) ➞ False\n",
    "is_symmetrical(44444444) ➞ True\n",
    "is_symmetrical(9939) ➞ False\n",
    "is_symmetrical(1112111) ➞ True\n",
    "\"\"\"\n",
    "\n",
    "def is_symmetrical(number) :\n",
    "    \n",
    "    string = str(number)\n",
    "    \n",
    "    reverse = string[::-1]\n",
    "    \n",
    "    if reverse == string :\n",
    "        print(\"True\")\n",
    "        \n",
    "    else :\n",
    "        print(\"False\")\n",
    "\n",
    "        \n",
    "# Example\n",
    "is_symmetrical(7227) \n",
    "is_symmetrical(12567)\n",
    "is_symmetrical(44444444) \n",
    "is_symmetrical(9939)\n",
    "is_symmetrical(1112111)"
   ]
  },
  {
   "cell_type": "code",
   "execution_count": 22,
   "id": "6178c2d6-9a2c-4645-bbce-53ba1b4dfc4f",
   "metadata": {},
   "outputs": [
    {
     "name": "stdout",
     "output_type": "stream",
     "text": [
      "6\n",
      "24\n",
      "0\n",
      "-20\n"
     ]
    }
   ],
   "source": [
    "\"\"\"\n",
    "Question 2\n",
    "Given a string of numbers separated by a comma and space, return the product of the numbers.\n",
    "\n",
    "Examples\n",
    "multiply_nums(\"2, 3\") ➞ 6\n",
    "multiply_nums(\"1, 2, 3, 4\") ➞ 24\n",
    "multiply_nums(\"54, 75, 453, 0\") ➞ 0\n",
    "multiply_nums(\"10, -2\") ➞ -20\n",
    "\"\"\"\n",
    "\n",
    "def multiply_nums(string):\n",
    "    \n",
    "    out_string = string.replace(' ','').split(',')\n",
    "    result = 1\n",
    "    \n",
    "    for i in out_string:\n",
    "        result *= int(i)\n",
    "    \n",
    "    print(result)\n",
    "\n",
    "\n",
    "# Example\n",
    "multiply_nums(\"2, 3\")\n",
    "multiply_nums(\"1, 2, 3, 4\") \n",
    "multiply_nums(\"54, 75, 453, 0\") \n",
    "multiply_nums(\"10, -2\") "
   ]
  },
  {
   "cell_type": "code",
   "execution_count": 40,
   "id": "951333f4-8a2d-42dc-b70f-09b3a8d79a73",
   "metadata": {},
   "outputs": [
    {
     "name": "stdout",
     "output_type": "stream",
     "text": [
      "811181\n",
      "416649\n",
      "9414\n"
     ]
    }
   ],
   "source": [
    "\"\"\"\n",
    "Question 3\n",
    "Create a function that squares every digit of a number.\n",
    "Examples\n",
    "square_digits(9119) ➞ 811181\n",
    "square_digits(2483) ➞ 416649\n",
    "square_digits(3212) ➞ 9414\n",
    "Notes\n",
    "The function receives an integer and must return an integer.\n",
    "\"\"\"\n",
    "\n",
    "def square_digits(number) :\n",
    "    \n",
    "    if type(number) != int :\n",
    "        print(\"Enter the numbers only\")\n",
    "    \n",
    "    else :\n",
    "        \n",
    "        string_of_number = str(number)\n",
    "        List = []\n",
    "        \n",
    "        for i in string_of_number :\n",
    "            num = int(i) ** 2\n",
    "            List.append(str(num))\n",
    "            \n",
    "        result = int(\"\".join(List))\n",
    "        \n",
    "        print(result)\n",
    "        \n",
    "\n",
    "# Example \n",
    "square_digits(9119) \n",
    "square_digits(2483) \n",
    "square_digits(3212)"
   ]
  },
  {
   "cell_type": "code",
   "execution_count": 5,
   "id": "691f1e09-1470-4c25-adb3-dbc3216bb3f9",
   "metadata": {},
   "outputs": [
    {
     "name": "stdout",
     "output_type": "stream",
     "text": [
      "[1, 3, 5]\n",
      "[4]\n",
      "[5, 7, 8, 9, 10, 15]\n",
      "[1, 2, 3]\n"
     ]
    }
   ],
   "source": [
    "\"\"\"\n",
    "Question 4\n",
    "Create a function that sorts a list and removes all duplicate items from it.\n",
    "\n",
    "Examples\n",
    "setify([1, 3, 3, 5, 5]) ➞ [1, 3, 5]\n",
    "setify([4, 4, 4, 4]) ➞ [4]\n",
    "setify([5, 7, 8, 9, 10, 15]) ➞ [5, 7, 8, 9, 10, 15]\n",
    "setify([3, 3, 3, 2, 1]) ➞ [1, 2, 3]\n",
    "\"\"\"\n",
    "\n",
    "def setify(List) :\n",
    "    \n",
    "    duplicate = set(List)\n",
    "    \n",
    "    \n",
    "    result = list(sorted(duplicate))\n",
    "    \n",
    "    print(result)\n",
    "\n",
    "\n",
    "# Example\n",
    "setify([1, 3, 3, 5, 5])\n",
    "setify([4, 4, 4, 4]) \n",
    "setify([5, 7, 8, 9, 10, 15]) \n",
    "setify([3, 3, 3, 2, 1])"
   ]
  },
  {
   "cell_type": "code",
   "execution_count": 16,
   "id": "0321595d-16f1-4334-bb01-22a8337ae33a",
   "metadata": {},
   "outputs": [
    {
     "name": "stdout",
     "output_type": "stream",
     "text": [
      "3\n",
      "3\n",
      "6\n"
     ]
    }
   ],
   "source": [
    "\"\"\"\n",
    "Question 5\n",
    "Create a function that returns the mean of all digits.\n",
    "\n",
    "Examples\n",
    "mean(42) ➞ 3\n",
    "mean(12345) ➞ 3\n",
    "mean(666) ➞ 6\n",
    "\n",
    "Notes\n",
    "The mean of all digits is the sum of digits / how many digits there are\n",
    "(e.g. mean of digits in 512 is (5+1+2)/3(number of digits) = 8/3=2).\n",
    "The mean will always be an integer.\n",
    "\"\"\"\n",
    "\n",
    "def mean(number) :\n",
    "    \n",
    "    if type(number) != int :\n",
    "        print(\"Enter the integers only\")\n",
    "        \n",
    "    else :\n",
    "        \n",
    "        string = str(number)\n",
    "        summ = 0\n",
    "        \n",
    "        for i in string :\n",
    "            summ = summ + int(i)\n",
    "            \n",
    "        result = summ // len(string)\n",
    "        \n",
    "        print(result)\n",
    "        \n",
    "\n",
    "# Example\n",
    "mean(42) \n",
    "mean(12345) \n",
    "mean(666)\n"
   ]
  },
  {
   "cell_type": "code",
   "execution_count": null,
   "id": "7d733b98-41e8-4156-b1f8-9d98bc28e0a0",
   "metadata": {},
   "outputs": [],
   "source": []
  }
 ],
 "metadata": {
  "kernelspec": {
   "display_name": "Python 3 (ipykernel)",
   "language": "python",
   "name": "python3"
  },
  "language_info": {
   "codemirror_mode": {
    "name": "ipython",
    "version": 3
   },
   "file_extension": ".py",
   "mimetype": "text/x-python",
   "name": "python",
   "nbconvert_exporter": "python",
   "pygments_lexer": "ipython3",
   "version": "3.10.6"
  }
 },
 "nbformat": 4,
 "nbformat_minor": 5
}
