{
 "cells": [
  {
   "cell_type": "code",
   "execution_count": 14,
   "id": "30ced3bf-48be-4b35-94e5-ed683b4272fd",
   "metadata": {},
   "outputs": [
    {
     "name": "stdout",
     "output_type": "stream",
     "text": [
      "15\n",
      "\n",
      "15\n"
     ]
    }
   ],
   "source": [
    "# 1. Write a Python program to find sum of elements in list?\n",
    "\n",
    "# Method 1\n",
    "def sum_list(array) :\n",
    "    \n",
    "    list_sum = 0\n",
    "    \n",
    "    for element in array :\n",
    "        list_sum = list_sum + element\n",
    "        \n",
    "    return (list_sum)\n",
    "\n",
    "array = [0,1,2,3,4,5]\n",
    "print(sum_list(array))\n",
    "print()\n",
    "\n",
    "# Method 2\n",
    "array = [0,1,2,3,4,5]\n",
    "print(sum(array)) # inbuilt function"
   ]
  },
  {
   "cell_type": "code",
   "execution_count": 15,
   "id": "4979aadb-cd26-4eab-ba75-0db3ab456820",
   "metadata": {},
   "outputs": [
    {
     "data": {
      "text/plain": [
       "120"
      ]
     },
     "execution_count": 15,
     "metadata": {},
     "output_type": "execute_result"
    }
   ],
   "source": [
    "# 2. Write a Python program to Multiply all numbers in the list?\n",
    "\n",
    "def multiply(array) :\n",
    "    \n",
    "    result = 1\n",
    "    \n",
    "    for element in array :\n",
    "        if element != 0:\n",
    "            result = result * element\n",
    "        elif element == 0:\n",
    "            continue\n",
    "    \n",
    "    return result\n",
    "\n",
    "array = [0,1,2,3,4,5]\n",
    "multiply(array)"
   ]
  },
  {
   "cell_type": "code",
   "execution_count": 16,
   "id": "6516d951-3cf5-4c86-95a1-c12c72913e95",
   "metadata": {},
   "outputs": [
    {
     "name": "stdout",
     "output_type": "stream",
     "text": [
      "1\n",
      "\n",
      "1\n"
     ]
    }
   ],
   "source": [
    "# 3. Write a Python program to find smallest number in a list?\n",
    "\n",
    "# Method 1\n",
    "\n",
    "def smallest(array) :\n",
    "    \n",
    "    array.sort()\n",
    "    \n",
    "    return array[0]\n",
    "\n",
    "array = [9,8,1,4,2,78,18]\n",
    "print(smallest(array))\n",
    "print()\n",
    "\n",
    "# Method 2\n",
    "array = [9,8,1,4,2,78,18]\n",
    "print(min(array)) # inbuilt min function."
   ]
  },
  {
   "cell_type": "code",
   "execution_count": 17,
   "id": "799c675a-7b5b-446a-86bc-e57a98151280",
   "metadata": {},
   "outputs": [
    {
     "name": "stdout",
     "output_type": "stream",
     "text": [
      "78\n",
      "\n",
      "78\n"
     ]
    }
   ],
   "source": [
    "# 4. Write a Python program to find largest number in a list?\n",
    "\n",
    "# Method 1\n",
    "def largest(array) :\n",
    "    \n",
    "    array.sort()\n",
    "    \n",
    "    return array[-1]\n",
    "\n",
    "array = [9,8,1,4,2,78,18]\n",
    "print(largest(array))\n",
    "print()\n",
    "\n",
    "# Method 2\n",
    "array = [9,8,1,4,2,78,18]\n",
    "print(max(array)) # inbuilt min function."
   ]
  },
  {
   "cell_type": "code",
   "execution_count": 18,
   "id": "44424c1d-81f6-4882-a3a4-ed8965988f65",
   "metadata": {},
   "outputs": [
    {
     "name": "stdout",
     "output_type": "stream",
     "text": [
      "18\n",
      "\n"
     ]
    }
   ],
   "source": [
    "# 5. Write a Python program to find second largest number in a list?\n",
    "\n",
    "def second_largest(array) :\n",
    "    \n",
    "    array.sort()\n",
    "    \n",
    "    return array[-2]\n",
    "\n",
    "array = [9,8,1,4,2,78,18]\n",
    "print(second_largest(array))\n",
    "print()"
   ]
  },
  {
   "cell_type": "code",
   "execution_count": 35,
   "id": "022a20dc-8e19-41f9-a941-a7daf4cd3bc7",
   "metadata": {},
   "outputs": [
    {
     "name": "stdout",
     "output_type": "stream",
     "text": [
      "[78, 18, 9]\n",
      "\n"
     ]
    }
   ],
   "source": [
    "# 6. Write a Python program to find N largest elements from a list?\n",
    "\n",
    "def N_largest(array,N=1) :\n",
    "    \n",
    "    array.sort(reverse=True)\n",
    "    return array[0:N]\n",
    "\n",
    "array = [9,8,1,4,2,78,18]\n",
    "N = 3 \n",
    "print(N_largest(array,N))\n",
    "print()"
   ]
  },
  {
   "cell_type": "code",
   "execution_count": 42,
   "id": "0f85b62b-2167-48dd-8e7f-875752ee2cf5",
   "metadata": {},
   "outputs": [
    {
     "name": "stdout",
     "output_type": "stream",
     "text": [
      "[0, 2, 4, 6, 8, 10]\n"
     ]
    }
   ],
   "source": [
    "# 7. Write a Python program to print even numbers in a list?\n",
    "\n",
    "def even(array) :\n",
    "    \n",
    "    even_number = []\n",
    "    odd_number = []\n",
    "    for i in array :\n",
    "        if i % 2 == 0:\n",
    "            even_number.append(i)\n",
    "        elif i % 2 != 0:\n",
    "            odd_number.append(i)\n",
    "    a = sorted(even_number)\n",
    "    return a\n",
    "\n",
    "array = [0,1,2,3,4,5,6,7,8,9,10]\n",
    "print(even(array))\n"
   ]
  },
  {
   "cell_type": "code",
   "execution_count": 46,
   "id": "0b8e65c1-596b-4759-8bc1-9582c2e71a87",
   "metadata": {},
   "outputs": [
    {
     "name": "stdout",
     "output_type": "stream",
     "text": [
      "[1, 3, 5, 7, 9]\n"
     ]
    }
   ],
   "source": [
    "# 8. Write a Python program to print odd numbers in a List?\n",
    "\n",
    "def odd(array) :\n",
    "    \n",
    "    even_number = []\n",
    "    odd_number = []\n",
    "    for i in array :\n",
    "        if i % 2 == 0:\n",
    "            even_number.append(i)\n",
    "        elif i % 2 != 0:\n",
    "            odd_number.append(i)\n",
    "    a = sorted(odd_number)\n",
    "    return a\n",
    "\n",
    "array = [0,1,2,3,4,5,6,7,8,9,10]\n",
    "print(odd(array))"
   ]
  },
  {
   "cell_type": "code",
   "execution_count": 29,
   "id": "f2aa14ed-47d6-4439-a9cc-0fc853f9a8fd",
   "metadata": {},
   "outputs": [
    {
     "name": "stdout",
     "output_type": "stream",
     "text": [
      "The Main list is : [1, [], 2, 3, [4, 5, 6], 6, [], 7]\n",
      "The List after removing empty list : [1, 2, 3, [4, 5, 6], 6, 7]\n",
      "The Main list is : [1, 2, 3, [4, 5, 6], 6, 7]\n",
      "The List after removing empty list : [1, 2, 3, [4, 5, 6], 6, 7]\n"
     ]
    }
   ],
   "source": [
    "# 9.Write a Python program to Remove empty List from List?\n",
    "\n",
    "def checkEmptyList(List=[1]):\n",
    "    \n",
    "    # Printing the main list.\n",
    "    print(f\"The Main list is : {List}\")\n",
    "    # removing the empty list.\n",
    "    for i in List:\n",
    "        if i == [] :\n",
    "            List.remove([])\n",
    "    \n",
    "    return f\"The List after removing empty list : {List}\"\n",
    "\n",
    "   \n",
    "# Example 1\n",
    "a = [1,[],2,3,[4,5,6],6,[],7]   \n",
    "print(checkEmptyList(a))\n",
    "\n",
    "# Example 2\n",
    "a = [1,2,3,[4,5,6],6,7] \n",
    "print(checkEmptyList(a))"
   ]
  },
  {
   "cell_type": "code",
   "execution_count": 36,
   "id": "724ea1ea-8105-43db-a934-e7c590cf6092",
   "metadata": {},
   "outputs": [
    {
     "name": "stdout",
     "output_type": "stream",
     "text": [
      "[1, 2, 3, [4, 5, 6], 6, 7]\n",
      "[0, 1, 2, 3, 4, 5, 6, 7, 8, 9, 10]\n"
     ]
    }
   ],
   "source": [
    "# 10. Write a Python program to Cloning or Copying a list?\n",
    "\n",
    "def copy_list(List) :\n",
    "    \n",
    "    copied_list = []\n",
    "    \n",
    "    for i in List:\n",
    "        copied_list.append(i)\n",
    "        \n",
    "    return copied_list\n",
    "\n",
    "# Example 1\n",
    "a = [1,2,3,[4,5,6],6,7] \n",
    "print(copy_list(a))\n",
    "\n",
    "# Example 2 with inbuilt function.\n",
    "array = [0,1,2,3,4,5,6,7,8,9,10]\n",
    "b = array.copy()\n",
    "print(b)"
   ]
  },
  {
   "cell_type": "code",
   "execution_count": 38,
   "id": "fbe5efb5-6b71-40b0-8ded-795eddb760d5",
   "metadata": {},
   "outputs": [
    {
     "name": "stdin",
     "output_type": "stream",
     "text": [
      "Enter the elements of the list:  1,2,3,3,2,1\n",
      "Enter the element to find:  1\n"
     ]
    },
    {
     "name": "stdout",
     "output_type": "stream",
     "text": [
      "There are 2 occurences of 1 in (1, 2, 3, 3, 2, 1)\n"
     ]
    }
   ],
   "source": [
    "# 11. Write a Python program to Count occurrences of an element in a list?\n",
    "\n",
    "def checkOccurence():\n",
    "    in_list = eval(input('Enter the elements of the list: '))\n",
    "    in_num = eval(input('Enter the element to find: '))\n",
    "    count = 0\n",
    "    if in_num in in_list:\n",
    "        for ele in in_list:\n",
    "            if ele == in_num:\n",
    "                count = count+1\n",
    "    print(f'There are {count} occurences of {in_num} in {in_list}')\n",
    "    \n",
    "checkOccurence()"
   ]
  },
  {
   "cell_type": "code",
   "execution_count": null,
   "id": "87088530-0f12-4551-85b7-355c54ee33e3",
   "metadata": {},
   "outputs": [],
   "source": []
  }
 ],
 "metadata": {
  "kernelspec": {
   "display_name": "Python 3 (ipykernel)",
   "language": "python",
   "name": "python3"
  },
  "language_info": {
   "codemirror_mode": {
    "name": "ipython",
    "version": 3
   },
   "file_extension": ".py",
   "mimetype": "text/x-python",
   "name": "python",
   "nbconvert_exporter": "python",
   "pygments_lexer": "ipython3",
   "version": "3.10.6"
  }
 },
 "nbformat": 4,
 "nbformat_minor": 5
}
