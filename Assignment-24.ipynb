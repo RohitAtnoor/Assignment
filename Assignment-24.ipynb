{
 "cells": [
  {
   "cell_type": "code",
   "execution_count": null,
   "id": "b09b8cb9-d816-485e-b33e-2d261d2a7640",
   "metadata": {},
   "outputs": [],
   "source": [
    "# 1. What is the relationship between def statements and lambda expressions ?\n",
    "\n",
    "\"\"\"\n",
    "1. Both def and lambda expressions are used to define a function.\n",
    "2. def statements have the following syntax: def function_name(parameters): \n",
    "Lambda expressions have a more compact syntax: lambda parameters: expression.\n",
    "3. def statements require a function name, which is used to call the function later in the code.\n",
    "Lambda expressions are anonymous functions and do not have a specific name. \n",
    "They are typically used when you need a small function without assigning it to a variable.\n",
    "\n",
    "\"\"\"\n"
   ]
  },
  {
   "cell_type": "code",
   "execution_count": null,
   "id": "d9de3d20-5136-475e-89a2-26b343850266",
   "metadata": {},
   "outputs": [],
   "source": [
    "# 2. What is the benefit of lambda?\n",
    "\n",
    "\"\"\"\n",
    "1. Lambda expressions allow you to define functions in a compact and readable manner. \n",
    "2. Lambda expressions are anonymous functions, meaning they don't require a specific name\n",
    "3. By using lambda expressions, you can reduce the number of lines in your code, \n",
    "especially when defining simple functions.\n",
    "4. Higher-Order Functions: Lambda expressions are often used with higher-order functions \n",
    "like map(), filter(), and reduce(). \n",
    "\n",
    "\"\"\"\n"
   ]
  },
  {
   "cell_type": "code",
   "execution_count": 1,
   "id": "aada9e95-e03b-4086-802e-b4d0ee51f03c",
   "metadata": {},
   "outputs": [
    {
     "name": "stdout",
     "output_type": "stream",
     "text": [
      "[1, 4, 9, 16, 25]\n",
      "[2, 4, 6, 8, 10]\n",
      "120\n"
     ]
    }
   ],
   "source": [
    "# 3. Compare and contrast map, filter, and reduce.\n",
    "\n",
    "\"\"\"\n",
    "map(): It applies a given function to each item in an iterable and returns an iterator of the results.\n",
    "filter(): It creates an iterator of elements from an iterable for which a given function returns True.\n",
    "reduce(): It applies a function to an iterable's elements, cumulatively, to reduce the sequence to a single value.\n",
    "\"\"\"\n",
    "\n",
    "# Example for map():\n",
    "\n",
    "# Squaring each element in a list using map()\n",
    "numbers = [1, 2, 3, 4, 5]\n",
    "squared_numbers = list(map(lambda x: x**2, numbers))\n",
    "print(squared_numbers)\n",
    "\n",
    "# Example for filter() :\n",
    "\n",
    "# Filtering even numbers from a list using filter()\n",
    "numbers = [1, 2, 3, 4, 5, 6, 7, 8, 9, 10]\n",
    "even_numbers = list(filter(lambda x: x % 2 == 0, numbers))\n",
    "print(even_numbers)\n",
    "\n",
    "# Example for reduce() :\n",
    "\n",
    "# Calculating the product of all elements in a list using reduce()\n",
    "from functools import reduce\n",
    "numbers = [2, 3, 4, 5]\n",
    "product = reduce(lambda x, y: x * y, numbers)\n",
    "print(product)\n"
   ]
  },
  {
   "cell_type": "code",
   "execution_count": 2,
   "id": "d914e3e1-b29c-4048-9010-1ed42b1587b8",
   "metadata": {},
   "outputs": [
    {
     "name": "stdout",
     "output_type": "stream",
     "text": [
      "{'name': <class 'str'>, 'age': <class 'int'>, 'return': <class 'str'>}\n"
     ]
    }
   ],
   "source": [
    "# 4. What are function annotations, and how are they used?\n",
    "\n",
    "\"\"\"\n",
    "Function annotations in Python are a way to attach metadata or type hints to the \n",
    "parameters and return values of functions. They provide a mechanism for documenting \n",
    "the expected types or behavior of function arguments and return values.\n",
    "\"\"\"\n",
    "\n",
    "# Example :\n",
    "def greet(name: str, age: int) -> str:\n",
    "    return f\"Hello, {name}! You are {age} years old.\"\n",
    "\n",
    "# Accessing annotations\n",
    "print(greet.__annotations__)\n"
   ]
  },
  {
   "cell_type": "code",
   "execution_count": 3,
   "id": "a88ea265-a704-4861-9489-803d41fea922",
   "metadata": {},
   "outputs": [
    {
     "name": "stdout",
     "output_type": "stream",
     "text": [
      "120\n"
     ]
    }
   ],
   "source": [
    "# 5. What are recursive functions, and how are they used?\n",
    "\n",
    "\"\"\"\n",
    "Recursive functions are functions that call themselves, either directly or indirectly,\n",
    "to solve a problem by breaking it down into smaller, similar subproblems.\n",
    "\"\"\"\n",
    "# Example :\n",
    "def factorial(n):\n",
    "    if n == 0 or n == 1:\n",
    "        return 1\n",
    "    else:\n",
    "        return n * factorial(n - 1)\n",
    "\n",
    "result = factorial(5)\n",
    "print(result)  # Output: 120\n"
   ]
  },
  {
   "cell_type": "code",
   "execution_count": null,
   "id": "b8ca3b61-e474-4889-910c-814e9a99bf10",
   "metadata": {},
   "outputs": [],
   "source": [
    "# 6. What are some general design guidelines for coding functions?\n",
    "\n",
    "\"\"\"\n",
    "1. Use descriptive and meaningful names for functions.\n",
    "2. Keep functions small and focused on a single task.\n",
    "3. Provide clear documentation using docstrings.\n",
    "4. Choose meaningful parameter names.\n",
    "5. Minimize the number of parameters.\n",
    "6. Clearly define and document return values.\n",
    "7. Avoid side effects whenever possible.\n",
    "\n",
    "\"\"\""
   ]
  },
  {
   "cell_type": "code",
   "execution_count": null,
   "id": "106694d9-acfc-48a8-89cc-f978c5eb6da5",
   "metadata": {},
   "outputs": [],
   "source": [
    "# 7. Name three or more ways that functions can communicate results to a caller.\n",
    "\n",
    "\"\"\"\n",
    "Functions can communicate results to a caller through :\n",
    "1. print\n",
    "2. return\n",
    "3. yield\n",
    "4. side effects\n",
    "5. output parameters.\n",
    "\"\"\""
   ]
  }
 ],
 "metadata": {
  "kernelspec": {
   "display_name": "Python 3 (ipykernel)",
   "language": "python",
   "name": "python3"
  },
  "language_info": {
   "codemirror_mode": {
    "name": "ipython",
    "version": 3
   },
   "file_extension": ".py",
   "mimetype": "text/x-python",
   "name": "python",
   "nbconvert_exporter": "python",
   "pygments_lexer": "ipython3",
   "version": "3.10.6"
  }
 },
 "nbformat": 4,
 "nbformat_minor": 5
}
