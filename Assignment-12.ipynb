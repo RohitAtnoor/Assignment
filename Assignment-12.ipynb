{
 "cells": [
  {
   "cell_type": "code",
   "execution_count": null,
   "id": "2e3075fd-eeaa-4aa9-a148-798961117c32",
   "metadata": {},
   "outputs": [],
   "source": [
    "# 1. In what modes should the PdfFileReader() and PdfFileWriter() File objects will be opened?\n",
    "\n",
    "\"\"\"\n",
    "PdfFileReader() : It is a function from pyPDF2 module which helps in reading a PDF File.\n",
    "It opens in rb mode where \"r\" stands for reading and \"b\" stands for binary.\n",
    "\n",
    "PdfFileWriter() : It is a function from pyPDF2 module which helps in writing a PDF File.\n",
    "It opens in wb mode where \"w\" stands for writing and \"b\" stands for binary.\n",
    "\n",
    "\"\"\"\n",
    "\n",
    "# Example for PdfFileReader() :\n",
    "import PyPDF2\n",
    "\n",
    "file1 = open('example.pdf', 'rb')  \n",
    "pdf_reader = PyPDF2.PdfReader(file1)\n",
    "\n",
    "# Example for PdfFileWriter() :\n",
    "file2 = open('output.pdf', 'wb') \n",
    "pdf_writer = PyPDF2.PdfWriter(file2)\n"
   ]
  },
  {
   "cell_type": "code",
   "execution_count": null,
   "id": "6f710ac2-6bc4-4a2f-be30-97d1733e5d55",
   "metadata": {},
   "outputs": [],
   "source": [
    "# 2. From a PdfFileReader object, how do you get a Page object for page 5?\n",
    "\n",
    "# To get the page object of page 5 we can use a function called getPage()\n",
    "#Example \n",
    "\n",
    "import PyPDF2\n",
    "pdf_file = open('example.pdf', 'rb')  # Open the PDF file in binary mode\n",
    "pdf_reader = PyPDF2.PdfFileReader(pdf_file)\n",
    "\n",
    "page_number = 4  # Page number 5 (index 4)\n",
    "page = pdf_reader.getPage(page_number)\n"
   ]
  },
  {
   "cell_type": "code",
   "execution_count": null,
   "id": "4e9eb3af-dc65-4cf8-8777-656cd31ebdb9",
   "metadata": {},
   "outputs": [],
   "source": [
    "# 3. What PdfFileReader variable stores the number of pages in the PDF document?\n",
    "\n",
    "# getNumPages() method of PdfFileReader class stores the no pages in a PDF document"
   ]
  },
  {
   "cell_type": "code",
   "execution_count": null,
   "id": "bc70a116-975f-4769-977b-ffc6d39c5ec9",
   "metadata": {},
   "outputs": [],
   "source": [
    "\"\"\"\n",
    "4. If a PdfFileReader object’s PDF is encrypted with the password swordfish, \n",
    "what must you do before you can obtain Page objects from it?\n",
    "\"\"\"\n",
    "\n",
    "\"\"\"\n",
    "Firstly with the help of isEncrypted function we can check whether the file is encrypted or not.\n",
    "If a file is encrypted with a password it returns True or else False.\n",
    "If the file is encrypted we can use another function decrypt() to access the file by mentioning the password.\n",
    "\n",
    "\"\"\"\n",
    "\n",
    "# Example\n",
    "\n",
    "import PyPDF2\n",
    "file = open('example.pdf', 'rb')  # Open the PDF file in binary mode\n",
    "read = PyPDF2.PdfReader(file)\n",
    "\n",
    "if read.isEncrypted :\n",
    "    read.decrypt(\"swordfish\") # password to be mentioned here."
   ]
  },
  {
   "cell_type": "code",
   "execution_count": null,
   "id": "6f4e0626-c1a6-4845-8ff3-6baf47f336d3",
   "metadata": {},
   "outputs": [],
   "source": [
    "# 5. What methods do you use to rotate a page?\n",
    "\n",
    "\"\"\"\n",
    "In PyPDF2 we have 2 function to rotate the page.\n",
    "1. rotateClockwise() : This method is used to rotate the page clockwise by the specified angle.\n",
    "inside the bracket we need to specify the angle\n",
    "\n",
    "2. rotateCounterClockwise() : This method is used to rotate the page Counter Clockwise by specifying the angle.\n",
    "inside the bracket we need to specify the angle\n",
    "\n",
    "\"\"\""
   ]
  },
  {
   "cell_type": "code",
   "execution_count": null,
   "id": "cabd1f7b-3856-4acc-8782-c1b9b00319e5",
   "metadata": {},
   "outputs": [],
   "source": [
    "# 6. What is the difference between a Run object and a Paragraph object?\n",
    "\n",
    "\"\"\"\n",
    "1. Run object : A Run object typically represents a contiguous sequence of characters within a paragraph\n",
    "or a section of text with consistent formatting attributes. \n",
    "It is often used to manipulate or format smaller portions of text within a larger block of content.\n",
    "A Run object deals with a specific portion of text within a paragraph, allowing fine-grained formatting control\n",
    "\n",
    "2. Paragraph object : A Paragraph object represents a block of text or a group of related content \n",
    "that is typically separated from adjacent blocks by a line break or a paragraph break. \n",
    "Paragraph object represents a larger block of text or content with its own formatting properties.\n",
    "\n",
    "\"\"\"\n"
   ]
  },
  {
   "cell_type": "code",
   "execution_count": null,
   "id": "f716fc43-3649-4b0f-b3cf-158ffd100ba9",
   "metadata": {},
   "outputs": [],
   "source": [
    "# 7. How do you obtain a list of Paragraph objects for a Document object that’s stored in a variable named doc?\n",
    "\n",
    "# Firstly we have to importthe docx module\n",
    "import docx\n",
    "# Then we have to create a variable doc which stores the document.\n",
    "doc = docx.Document(\"File name\") # inside we need to specify the file name.\n",
    "\n",
    "# need to get the paragraph\n",
    "paragraph = doc.paragraphs\n",
    "\n",
    "for paragraph in doc.paragraphs:\n",
    "    print(paragraph.text)\n"
   ]
  },
  {
   "cell_type": "code",
   "execution_count": null,
   "id": "efba4523-86f7-442b-97f1-859efeb2c247",
   "metadata": {},
   "outputs": [],
   "source": [
    "# 8. What type of object has bold, underline, italic, strike, and outline variables?\n",
    "\n",
    "# run object has bold, underline, italic, strike, and outline variables"
   ]
  },
  {
   "cell_type": "code",
   "execution_count": null,
   "id": "f10da217-4678-4dac-8ace-60b0927be36c",
   "metadata": {},
   "outputs": [],
   "source": [
    "# 9. What is the difference between False, True, and None for the bold variable?\n",
    "\n",
    "\"\"\"\n",
    "1. False : When the bold variable is set to False, it usually means that the text should not be displayed in bold.\n",
    "2. True : When the bold variable is set to true it indicates that the text should be displayed in bold.\n",
    "3. none : When the bold variable is set to none it takes the default value and displaces it.\n",
    "\n",
    "\"\"\"\n"
   ]
  },
  {
   "cell_type": "code",
   "execution_count": null,
   "id": "7a7b30c5-5050-4f02-8799-b94eacf6f6c5",
   "metadata": {},
   "outputs": [],
   "source": [
    "# 10. How do you create a Document object for a new Word document?\n",
    "\n",
    "# Need to import the docx module\n",
    "import docx\n",
    "# create a document variable\n",
    "example_doc = Document()\n",
    "# use add_paragraph function to add a text to document\n",
    "example_doc.add_paragraph(\"Enter the text or paragraph to me added in document\")\n",
    "# save the document \n",
    "example_doc.save(\"Document name\")"
   ]
  },
  {
   "cell_type": "code",
   "execution_count": null,
   "id": "5e52af87-74ab-46c7-ac79-0da60c361859",
   "metadata": {},
   "outputs": [],
   "source": [
    "# 11. How do you add a paragraph with the text 'Hello, there!' to a Document object stored in a variable named doc?\n",
    "\n",
    "# import the docx module\n",
    "import docx\n",
    "# creaate the document\n",
    "doc = docx.Document(\"Mention the file name or path\")\n",
    "# use add_paragraph to add content to the document\n",
    "doc.add_paragraph(\"Enter the required text here\")\n",
    "# save the document\n",
    "doc.save()"
   ]
  },
  {
   "cell_type": "code",
   "execution_count": null,
   "id": "1b58c303-b922-4ade-b8d2-cbb274e8aea0",
   "metadata": {},
   "outputs": [],
   "source": [
    "# 12. What integers represent the levels of headings available in Word documents?\n",
    "\n",
    "\"\"\"\n",
    "Differnt level of heading are represented by integer values.\n",
    "The heading level ranges between Heading1 - Heading9\n",
    "The integer values are also represented from 1-9\n",
    "\n",
    "\"\"\""
   ]
  }
 ],
 "metadata": {
  "kernelspec": {
   "display_name": "Python 3 (ipykernel)",
   "language": "python",
   "name": "python3"
  },
  "language_info": {
   "codemirror_mode": {
    "name": "ipython",
    "version": 3
   },
   "file_extension": ".py",
   "mimetype": "text/x-python",
   "name": "python",
   "nbconvert_exporter": "python",
   "pygments_lexer": "ipython3",
   "version": "3.10.6"
  }
 },
 "nbformat": 4,
 "nbformat_minor": 5
}
