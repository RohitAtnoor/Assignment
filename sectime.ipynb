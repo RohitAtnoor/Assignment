{
 "cells": [
  {
   "cell_type": "code",
   "execution_count": 165,
   "id": "308ce9d4-0249-4c75-bf75-3231aeada8cb",
   "metadata": {},
   "outputs": [],
   "source": [
    "from flask import Flask, render_template, request,jsonify\n",
    "from flask_cors import CORS,cross_origin\n",
    "import requests\n",
    "from bs4 import BeautifulSoup as bs\n",
    "from urllib.request import urlopen as urlreq"
   ]
  },
  {
   "cell_type": "code",
   "execution_count": 166,
   "id": "13c06925-32bf-4fa7-b898-790f1e69be43",
   "metadata": {},
   "outputs": [],
   "source": [
    "# variable for search input of the product.\n",
    "searchstring = \"iphone11\"\n",
    "# URL or the link to the product.\n",
    "flipkartlink = \"https://www.flipkart.com/search?q=\" + searchstring\n",
    "# method to hit the URL Automatically.\n",
    "Flipkart_url = urlreq(flipkartlink)"
   ]
  },
  {
   "cell_type": "code",
   "execution_count": 167,
   "id": "a6c46d45-adaf-4d61-8bf4-d4c39c012c33",
   "metadata": {},
   "outputs": [],
   "source": [
    "# Flipkart_htmlurl will read the source code and return the result.\n",
    "Flipkart_htmlurl = Flipkart_url.read()\n",
    "# Flipkart_htmp read the source code in beautiful form.\n",
    "Flipkart_html = bs(Flipkart_htmlurl,\"html.parser\")"
   ]
  },
  {
   "cell_type": "code",
   "execution_count": 168,
   "id": "c520c1d1-1fed-4786-b0f7-54f72a830d9f",
   "metadata": {},
   "outputs": [],
   "source": [
    "# need to find the class and div where the phone is located.\n",
    "phonebox = Flipkart_html.find_all(\"div\", {\"class\": \"_1AtVbE col-12-12\"})"
   ]
  },
  {
   "cell_type": "code",
   "execution_count": 169,
   "id": "e21309da-9197-4d6a-94a8-7ba17696e334",
   "metadata": {},
   "outputs": [],
   "source": [
    "# exact location of the phone link.\n",
    "phonelink = phonebox[2].div.div.a[\"href\"]"
   ]
  },
  {
   "cell_type": "code",
   "execution_count": 170,
   "id": "ec020046-c32b-42af-b425-8435f406121e",
   "metadata": {},
   "outputs": [],
   "source": [
    "# The url to hit the mobile.\n",
    "phoneurl = \"https://www.flipkart.com\" + phonelink"
   ]
  },
  {
   "cell_type": "code",
   "execution_count": 171,
   "id": "73f2a1b5-c7ce-40c8-b247-93505dc9e31f",
   "metadata": {},
   "outputs": [],
   "source": [
    "# reading the phone urlautomatically.\n",
    "phone_html = urlreq(phoneurl)"
   ]
  },
  {
   "cell_type": "code",
   "execution_count": 172,
   "id": "921a8fef-6840-4a60-bc2c-09e1c1b70495",
   "metadata": {},
   "outputs": [],
   "source": [
    "# reading the html page.\n",
    "phonehtml = phone_html.read() \n",
    "# reading the phone page html source code.\n",
    "phone_htmlpage = bs(phonehtml, \"html.parser\")"
   ]
  },
  {
   "cell_type": "code",
   "execution_count": 173,
   "id": "0dcd93d0-bb15-4882-a30a-3b0abe22daac",
   "metadata": {},
   "outputs": [],
   "source": [
    "reviewclass = phone_htmlpage.find_all(\"div\",{\"class\":\"_16PBlm\"})"
   ]
  },
  {
   "cell_type": "code",
   "execution_count": 198,
   "id": "2907369e-359b-449b-b4e8-c6e836d8e4ff",
   "metadata": {},
   "outputs": [],
   "source": [
    "review = reviewclass[0].div.div.find_all(\"div\", {\"class\":\"\"})[0].text"
   ]
  },
  {
   "cell_type": "code",
   "execution_count": 202,
   "id": "37f23819-b524-4467-9d09-f1c049ad75f2",
   "metadata": {},
   "outputs": [
    {
     "data": {
      "text/plain": [
       "'Really satisfied with the Product I received... It’s totally genuine and the packaging was also really good so if ur planning to buy just go for it.READ MORE'"
      ]
     },
     "execution_count": 202,
     "metadata": {},
     "output_type": "execute_result"
    }
   ],
   "source": [
    "review"
   ]
  },
  {
   "cell_type": "code",
   "execution_count": 175,
   "id": "aafaca28-dd82-4338-9a06-55ced3d76bdc",
   "metadata": {},
   "outputs": [
    {
     "data": {
      "text/plain": [
       "11"
      ]
     },
     "execution_count": 175,
     "metadata": {},
     "output_type": "execute_result"
    }
   ],
   "source": [
    "len(reviewclass)"
   ]
  },
  {
   "cell_type": "code",
   "execution_count": 183,
   "id": "162b6f22-9b16-4b71-b7a8-6f6e01cddf56",
   "metadata": {},
   "outputs": [],
   "source": [
    "# finding the rating of the product.\n",
    "rat = reviewclass[0].div.div.div.div.text"
   ]
  },
  {
   "cell_type": "code",
   "execution_count": 185,
   "id": "7fdab95d-6894-4a7d-b92d-3c29de22c889",
   "metadata": {},
   "outputs": [
    {
     "name": "stdout",
     "output_type": "stream",
     "text": [
      "5\n",
      "5\n",
      "5\n",
      "4\n",
      "5\n",
      "5\n",
      "4\n",
      "5\n",
      "5\n",
      "5\n"
     ]
    },
    {
     "ename": "AttributeError",
     "evalue": "'NoneType' object has no attribute 'div'",
     "output_type": "error",
     "traceback": [
      "\u001b[0;31m---------------------------------------------------------------------------\u001b[0m",
      "\u001b[0;31mAttributeError\u001b[0m                            Traceback (most recent call last)",
      "Cell \u001b[0;32mIn [185], line 2\u001b[0m\n\u001b[1;32m      1\u001b[0m \u001b[38;5;28;01mfor\u001b[39;00m i \u001b[38;5;129;01min\u001b[39;00m reviewclass :\n\u001b[0;32m----> 2\u001b[0m     \u001b[38;5;28mprint\u001b[39m(\u001b[43mi\u001b[49m\u001b[38;5;241;43m.\u001b[39;49m\u001b[43mdiv\u001b[49m\u001b[38;5;241;43m.\u001b[39;49m\u001b[43mdiv\u001b[49m\u001b[38;5;241m.\u001b[39mdiv\u001b[38;5;241m.\u001b[39mdiv\u001b[38;5;241m.\u001b[39mtext)\n",
      "\u001b[0;31mAttributeError\u001b[0m: 'NoneType' object has no attribute 'div'"
     ]
    }
   ],
   "source": [
    "for i in reviewclass :\n",
    "    print(i.div.div.div.div.text)"
   ]
  },
  {
   "cell_type": "code",
   "execution_count": 205,
   "id": "03b06a67-c283-46dc-92fb-8d471961484f",
   "metadata": {},
   "outputs": [
    {
     "name": "stdout",
     "output_type": "stream",
     "text": [
      "Really satisfied with the Product I received... It’s totally genuine and the packaging was also really good so if ur planning to buy just go for it.READ MORE\n",
      "\n",
      "\n",
      "Amazing phone with great cameras and better battery which gives you the best performance. I just love the camera .READ MORE\n",
      "\n",
      "\n",
      "Great iPhone very snappy experience as apple kind. Upgraded from iPhone 7. Pros-Camera top class - Battery top performed -Chipset no need to say as apple kind -Security as you expect from apple - Display super bright industry leading colour   accuracy and super responsive -Build quality as expect from apple sturdy  premium durable beautiful stylish. -Os most stable os in smartphone industry Cons -No 5G-Display is not based on OLED technology -Charger headphones and 1 apple stic...READ MORE\n",
      "\n",
      "\n",
      "I'm Really happy with the productDelivery was fast as well..it was a gift for my sister and she loved it so much.READ MORE\n",
      "\n",
      "\n",
      "It's my first time to use iOS phone and I am loving my upgradation 😍😍 I love the color, I love the assebility of the phone....I need to learn more about its functionality, but as far as I have seen, it's quite easy and it has a lot of functions to work on, specially if you are a content writer or a blogger you get a lot of content creation platforms and they are really amazing. This phone not only for good quality photography but a lot of other task too.😍💯READ MORE\n",
      "\n",
      "\n",
      "Previously I was using one plus 3t it was a great phone And then I decided to upgrade I am stuck between Samsung s10 plus or iPhone 11 I have seen the specs and everything were good except the display it’s somewhere between 720-1080 and it’s not even an amoled it’s an LCD display But I decided to go with iPhone because I have never used an IOS device I have Been an android user from the past 9 years I ordered IPhone 11 (128gb) product redMy experience after using 3 weeks 1. The delivery ...READ MORE\n",
      "\n",
      "\n",
      "I was using Iphone 6s and also Oneplus 6t. Both mobiles were perfectly alright in Photos, gaming, and smooth interface . My 6s mobile getting battery issue. thought upgrade to 11. Really like this mobile of its Internal storage (compare to 6s) , camera and its touch feeling. Its a worth buying mobile for me.READ MORE\n",
      "\n",
      "\n",
      "Value for money5 star rating Excellent cameraBattery backup full day in single charge.Tougher and water resistant design, glossy back.The screen has excellent brightness and contrast.Apple A13 Bionic is the fastest smartphone chip on the planet.Excellent battery life, fast charging support.Stereo speakers with great quality.READ MORE\n",
      "\n",
      "\n",
      "What a camera .....just awesome ..you can feel this iPhone just awesome . Good for gaming also ...try pubg in hd it’s just wowREAD MORE\n",
      "\n",
      "\n",
      "Amazing Powerful and Durable Gadget.I’m am very happy with the camera picture quality, Amazing face id unlocked in dark room, Strong battery with perfect screen size as you can carry easily in pocket. This is my third iPhone. I shifted from android Samsung Note series to iPhone because of the strong build quality and peace of mind for next 3-4 years.Don’t think to much just go for it and I suggest you to go for minimum 128gb variant or more 256gb. I’ve attached my puppy pics and no fi...READ MORE\n",
      "\n",
      "\n"
     ]
    },
    {
     "ename": "AttributeError",
     "evalue": "'NoneType' object has no attribute 'div'",
     "output_type": "error",
     "traceback": [
      "\u001b[0;31m---------------------------------------------------------------------------\u001b[0m",
      "\u001b[0;31mAttributeError\u001b[0m                            Traceback (most recent call last)",
      "Cell \u001b[0;32mIn [205], line 2\u001b[0m\n\u001b[1;32m      1\u001b[0m \u001b[38;5;28;01mfor\u001b[39;00m i \u001b[38;5;129;01min\u001b[39;00m reviewclass:\n\u001b[0;32m----> 2\u001b[0m     \u001b[38;5;28mprint\u001b[39m(\u001b[43mi\u001b[49m\u001b[38;5;241;43m.\u001b[39;49m\u001b[43mdiv\u001b[49m\u001b[38;5;241;43m.\u001b[39;49m\u001b[43mdiv\u001b[49m\u001b[38;5;241m.\u001b[39mfind_all(\u001b[38;5;124m\"\u001b[39m\u001b[38;5;124mdiv\u001b[39m\u001b[38;5;124m\"\u001b[39m, {\u001b[38;5;124m\"\u001b[39m\u001b[38;5;124mclass\u001b[39m\u001b[38;5;124m\"\u001b[39m:\u001b[38;5;124m\"\u001b[39m\u001b[38;5;124m\"\u001b[39m})[\u001b[38;5;241m0\u001b[39m]\u001b[38;5;241m.\u001b[39mtext)\n\u001b[1;32m      3\u001b[0m     \u001b[38;5;28mprint\u001b[39m(\u001b[38;5;124m\"\u001b[39m\u001b[38;5;130;01m\\n\u001b[39;00m\u001b[38;5;124m\"\u001b[39m)\n",
      "\u001b[0;31mAttributeError\u001b[0m: 'NoneType' object has no attribute 'div'"
     ]
    }
   ],
   "source": [
    "for i in reviewclass:\n",
    "    print(i.div.div.find_all(\"div\", {\"class\":\"\"})[0].text)\n",
    "    print(\"\\n\")"
   ]
  },
  {
   "cell_type": "code",
   "execution_count": 207,
   "id": "75611fdc-2dcd-4df1-ae27-cfb654fb8826",
   "metadata": {},
   "outputs": [
    {
     "data": {
      "text/plain": [
       "'Flipkart Customer'"
      ]
     },
     "execution_count": 207,
     "metadata": {},
     "output_type": "execute_result"
    }
   ],
   "source": [
    "# to find the name of the reviewer.\n",
    "reviewclass[0].div.div.find_all(\"p\" , {\"class\": \"_2sc7ZR _2V5EHH\"})[0].text"
   ]
  },
  {
   "cell_type": "code",
   "execution_count": 209,
   "id": "02b665c8-add6-455b-ae68-f644120c8a8f",
   "metadata": {},
   "outputs": [
    {
     "name": "stdout",
     "output_type": "stream",
     "text": [
      "Flipkart Customer\n",
      "\n",
      "\n",
      "Flipkart Customer\n",
      "\n",
      "\n",
      "Manish Raghuvanshi\n",
      "\n",
      "\n",
      "George Haokip\n",
      "\n",
      "\n",
      "Jimly  Gogoi\n",
      "\n",
      "\n",
      "Vamshi  Chakrala \n",
      "\n",
      "\n",
      "vijay hegde\n",
      "\n",
      "\n",
      "Chirag Rajput\n",
      "\n",
      "\n",
      "Vishal Dubey\n",
      "\n",
      "\n",
      "Rahul Verma\n",
      "\n",
      "\n"
     ]
    },
    {
     "ename": "AttributeError",
     "evalue": "'NoneType' object has no attribute 'div'",
     "output_type": "error",
     "traceback": [
      "\u001b[0;31m---------------------------------------------------------------------------\u001b[0m",
      "\u001b[0;31mAttributeError\u001b[0m                            Traceback (most recent call last)",
      "Cell \u001b[0;32mIn [209], line 2\u001b[0m\n\u001b[1;32m      1\u001b[0m \u001b[38;5;28;01mfor\u001b[39;00m i \u001b[38;5;129;01min\u001b[39;00m reviewclass :\n\u001b[0;32m----> 2\u001b[0m     \u001b[38;5;28mprint\u001b[39m(\u001b[43mi\u001b[49m\u001b[38;5;241;43m.\u001b[39;49m\u001b[43mdiv\u001b[49m\u001b[38;5;241;43m.\u001b[39;49m\u001b[43mdiv\u001b[49m\u001b[38;5;241m.\u001b[39mfind_all(\u001b[38;5;124m\"\u001b[39m\u001b[38;5;124mp\u001b[39m\u001b[38;5;124m\"\u001b[39m , {\u001b[38;5;124m\"\u001b[39m\u001b[38;5;124mclass\u001b[39m\u001b[38;5;124m\"\u001b[39m: \u001b[38;5;124m\"\u001b[39m\u001b[38;5;124m_2sc7ZR _2V5EHH\u001b[39m\u001b[38;5;124m\"\u001b[39m})[\u001b[38;5;241m0\u001b[39m]\u001b[38;5;241m.\u001b[39mtext)\n\u001b[1;32m      3\u001b[0m     \u001b[38;5;28mprint\u001b[39m(\u001b[38;5;124m\"\u001b[39m\u001b[38;5;130;01m\\n\u001b[39;00m\u001b[38;5;124m\"\u001b[39m)\n",
      "\u001b[0;31mAttributeError\u001b[0m: 'NoneType' object has no attribute 'div'"
     ]
    }
   ],
   "source": [
    "for i in reviewclass :\n",
    "    print(i.div.div.find_all(\"p\" , {\"class\": \"_2sc7ZR _2V5EHH\"})[0].text)\n",
    "    print(\"\\n\")"
   ]
  },
  {
   "cell_type": "code",
   "execution_count": null,
   "id": "a7a91550-3595-4a55-9415-8f9a324e5462",
   "metadata": {},
   "outputs": [],
   "source": []
  }
 ],
 "metadata": {
  "kernelspec": {
   "display_name": "Python 3 (ipykernel)",
   "language": "python",
   "name": "python3"
  },
  "language_info": {
   "codemirror_mode": {
    "name": "ipython",
    "version": 3
   },
   "file_extension": ".py",
   "mimetype": "text/x-python",
   "name": "python",
   "nbconvert_exporter": "python",
   "pygments_lexer": "ipython3",
   "version": "3.10.6"
  }
 },
 "nbformat": 4,
 "nbformat_minor": 5
}
