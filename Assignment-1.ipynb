{
 "cells": [
  {
   "cell_type": "code",
   "execution_count": null,
   "id": "2f2a98bf-8455-442a-81c4-a0c12247a84a",
   "metadata": {},
   "outputs": [],
   "source": [
    "\"\"\"\n",
    "\n",
    "1. In the below elements which of them are values or an expression? \n",
    "eg:- values can be integer or string and expressions will be mathematical operators.\n",
    "* \n",
    "'hello'\n",
    "-87.8\n",
    "- \n",
    "/ \n",
    "+\t\n",
    "6 \n",
    "\n",
    "\"\"\"\n",
    "\n",
    "# Answer\n",
    "\n",
    "\"\"\"\n",
    "The expressions are * , - , / , +\n",
    "The Values are 'hello' , -87.8 , 6\n",
    "\n",
    "\"\"\" "
   ]
  },
  {
   "cell_type": "code",
   "execution_count": null,
   "id": "f267373b-cdbf-4d5a-b6de-ab62b9c1cd78",
   "metadata": {},
   "outputs": [],
   "source": [
    "# 2. What is the difference between string and variable?\n",
    "\n",
    "# Answer\n",
    "\n",
    "\"\"\"\n",
    "String is type of data that can we stored in a variable. String are written inside single or double quotes ( \"\",'') \n",
    "anything written inside this will consider it as a string.\n",
    "\n",
    "Variables are the reserved memory location which stores the values or data. \n",
    "example it can store integers, floating point, list, string etc.\n",
    "\n",
    "String is a values which can we be stored in the variable.\n",
    "\n",
    "EX : string is \"Hello World\" and A is variable\n",
    "A = \"Hello World\"\n",
    "\n",
    "\"\"\"\n"
   ]
  },
  {
   "cell_type": "code",
   "execution_count": null,
   "id": "ebba1108-d2d1-4778-8c97-d177ae9f690d",
   "metadata": {},
   "outputs": [],
   "source": [
    "# 3. Describe three different data types.\n",
    "\n",
    "# Answer\n",
    "\n",
    "\"\"\"\n",
    "1. Integer : integer is a type of data type which contains positive or negative whole numbers.\n",
    "it can be of any length. short form is int\n",
    "EX : x = 10 \n",
    "\n",
    "2. String : String is a data type which stores an alphabets or words or documents.\n",
    "the short form is srt, strings are stored or written between single or double quotes.\n",
    "EX : y = \"Hello World\" , x = 'Hello World'\n",
    "\n",
    "3. Float : Float is data type which represent or store the numeric values with decimal point.\n",
    "it is written as float. \n",
    "Ex : b = 123.45\n",
    "\n",
    "4. List : List is a data type which is used to store multiple values in a single variable.\n",
    "it is stored in [] and saperated by a comma ','\n",
    "we can store integer, list, string, floating values anything in the list.\n",
    "EX : lis1 = [2,3,5,\"hi\", \"hello\"]\n",
    "\n",
    "\"\"\""
   ]
  },
  {
   "cell_type": "code",
   "execution_count": null,
   "id": "09138bcb-dc5c-48f4-86a7-9f3852498a60",
   "metadata": {},
   "outputs": [],
   "source": [
    "# 4. What is an expression made up of? What do all expressions do?\n",
    "\n",
    "# Answer\n",
    "\n",
    "\"\"\"\n",
    "An expression is a collection of single or multiple same or different operators to get the output or to get the desired value.\n",
    "the expression evaluate the operations or operators and get the out put.\n",
    "\n",
    "Ex : E = 12*34-1\n",
    "A = \"Hello\" + \"World\"\n",
    "\n",
    "\"\"\""
   ]
  },
  {
   "cell_type": "code",
   "execution_count": null,
   "id": "12b880ca-0fae-4244-bf61-bdf85f857f2d",
   "metadata": {},
   "outputs": [],
   "source": [
    "# 5. This assignment statements, like spam = 10. What is the difference between an expression and a statement?\n",
    "\n",
    "# Answer\n",
    "\n",
    "\"\"\"\n",
    "spam = 10 is a variable which store integer data type\n",
    "expression is a collection of single or multiple operator, while expressions helps in building the statement.\n",
    "statement is which can be execuited by python.\n",
    "EX : a = 12+23-12*34\n",
    "\"\"\""
   ]
  },
  {
   "cell_type": "code",
   "execution_count": null,
   "id": "5aecd632-164d-4b91-97d3-25e94e80686e",
   "metadata": {},
   "outputs": [],
   "source": [
    "\"\"\"\n",
    "6. After running the following code, what does the variable bacon contain?\n",
    "bacon = 22\n",
    "bacon + 1\n",
    "\"\"\"\n",
    "\n",
    "# Answer\n",
    "\n",
    "# The values become 23 as this is a one method of incrementing the value by 1.\n"
   ]
  },
  {
   "cell_type": "code",
   "execution_count": null,
   "id": "9470a787-176e-4efd-ae29-453376862401",
   "metadata": {},
   "outputs": [],
   "source": [
    "\"\"\"\n",
    "7. What should the values of the following two terms be?\n",
    "'spam' + 'spamspam'\n",
    "'spam' * 3\n",
    "\"\"\"\n",
    "\n",
    "# Answer\n",
    "\n",
    "\"\"\"\n",
    "The Output of first line {'spam' + 'spamspam'} is {spamspamspam}\n",
    "The Output of the second line {'spam' * 3} is {spamspamspam}\n",
    "\"\"\""
   ]
  },
  {
   "cell_type": "code",
   "execution_count": null,
   "id": "7b0e42dc-597b-4517-a124-bec6267d1201",
   "metadata": {},
   "outputs": [],
   "source": [
    "# 8. Why is eggs a valid variable name while 100 is invalid?\n",
    "\n",
    "# Answer\n",
    "\n",
    "\"\"\"\n",
    "eggs is a valid variable name and 100 is not valid variable name because as per the rules to create variable name it cannot \n",
    "start with a numeric value where as it can start with alphabet.\n",
    "\"\"\""
   ]
  },
  {
   "cell_type": "code",
   "execution_count": null,
   "id": "5bea63f6-4046-4366-b28d-87efe7782659",
   "metadata": {},
   "outputs": [],
   "source": [
    "# 9. What three functions can be used to get the integer, floating-point number, or string version of a value?\n",
    "\n",
    "# Answer\n",
    "\n",
    "\"\"\"\n",
    "int() is a function used to get the integer value passed through it\n",
    "Ex : int(10.34) it returns integer value 10.\n",
    "\n",
    "float() is a function used to get the floating point number through the values passed.\n",
    "Ex : float(10) returns 10.0 as a floating number.\n",
    "\n",
    "str() is a function used to get the string values as a output.\n",
    "Ex : str(10) returns '10' as a string value.\n",
    "\n",
    "\"\"\"\n"
   ]
  },
  {
   "cell_type": "code",
   "execution_count": null,
   "id": "b6b2a23d-3871-485e-a42f-501969275d31",
   "metadata": {},
   "outputs": [],
   "source": [
    "\"\"\"\n",
    "10. Why does this expression cause an error? How can you fix it?\n",
    "'I have eaten ' + 99 + ' burritos.'\n",
    "\"\"\"\n",
    "\n",
    "# Answer\n",
    "\n",
    "\"\"\"\n",
    "A = 'I have eaten ' + 99 + ' burritos.'\n",
    "print(A) will return concatenate error because string value cannot be added with numeric or integer value.\n",
    "AA = 'I have eaten ' + '99' + ' burritos.'\n",
    "print(AA) will return the output with out error we have to conver the integer value to string type will concatenating it.\n",
    "\n",
    "\"\"\"\n"
   ]
  }
 ],
 "metadata": {
  "kernelspec": {
   "display_name": "Python 3 (ipykernel)",
   "language": "python",
   "name": "python3"
  },
  "language_info": {
   "codemirror_mode": {
    "name": "ipython",
    "version": 3
   },
   "file_extension": ".py",
   "mimetype": "text/x-python",
   "name": "python",
   "nbconvert_exporter": "python",
   "pygments_lexer": "ipython3",
   "version": "3.10.6"
  }
 },
 "nbformat": 4,
 "nbformat_minor": 5
}
