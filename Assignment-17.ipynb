{
 "cells": [
  {
   "cell_type": "code",
   "execution_count": 6,
   "id": "e6d07661-a72b-4252-9a3b-8f4a6f6a3016",
   "metadata": {},
   "outputs": [
    {
     "name": "stdout",
     "output_type": "stream",
     "text": [
      "Just Right\n"
     ]
    }
   ],
   "source": [
    "\"\"\"\n",
    "1. Assign the value 7 to the variable guess_me. Then, write the conditional tests (if, else, and elif) \n",
    "to print the string 'too low' if guess_me is less than 7, \n",
    "'too high' if greater than 7, and 'just right' if equal to 7.\n",
    "\"\"\"\n",
    "\n",
    "guess_me = 7\n",
    "if guess_me < 7 :\n",
    "    print(\"Too Low\")\n",
    "elif guess_me > 7:\n",
    "    print(\"Too High\")\n",
    "elif guess_me == 7 :\n",
    "    print(\"Just Right\")\n",
    "else :\n",
    "    print(\"Check the Number\")"
   ]
  },
  {
   "cell_type": "code",
   "execution_count": 17,
   "id": "9dea10d5-00f3-489f-9c1d-879e57a3dd1e",
   "metadata": {},
   "outputs": [
    {
     "name": "stdout",
     "output_type": "stream",
     "text": [
      "Too Low\n",
      "Too Low\n",
      "Too Low\n",
      "Too Low\n",
      "Too Low\n",
      "Too Low\n",
      "Found It!\n"
     ]
    }
   ],
   "source": [
    "\"\"\"\n",
    "2. Assign the value 7 to the variable guess_me and the value 1 to the variable start. \n",
    "Write a while loop that compares start with guess_me. Print too low if start is less than guess me.\n",
    "If start equals guess_me, print 'found it!' and exit the loop. \n",
    "If start is greater than guess_me, print 'oops' and exit the loop. Increment start at the end of the loop.\n",
    "\"\"\"\n",
    "\n",
    "guess_me = 7\n",
    "start = 1\n",
    "\n",
    "while True :\n",
    "    if start < guess_me :\n",
    "        print(\"Too Low\")\n",
    "    elif start == guess_me :\n",
    "        print(\"Found It!\")\n",
    "        break\n",
    "    elif start > guess_me :\n",
    "        print(\"OOPS\")\n",
    "        break\n",
    "    start += 1\n"
   ]
  },
  {
   "cell_type": "code",
   "execution_count": 18,
   "id": "7b757872-aebb-442d-b3cc-5cddeef2bc50",
   "metadata": {},
   "outputs": [
    {
     "name": "stdout",
     "output_type": "stream",
     "text": [
      "3\n",
      "2\n",
      "1\n",
      "0\n"
     ]
    }
   ],
   "source": [
    "# 3. Print the following values of the list [3, 2, 1, 0] using a for loop.\n",
    "\n",
    "lis = [3, 2, 1, 0]\n",
    "for i in lis :\n",
    "    print(i)"
   ]
  },
  {
   "cell_type": "code",
   "execution_count": 29,
   "id": "575939a8-dc40-4b1a-9408-2180c81f587e",
   "metadata": {},
   "outputs": [
    {
     "name": "stdout",
     "output_type": "stream",
     "text": [
      "The list of Even numbers between 0-10 is : [0, 2, 4, 6, 8, 10]\n"
     ]
    }
   ],
   "source": [
    "# 4. Use a list comprehension to make a list of the even numbers in range(10)\n",
    "\n",
    "even_list = []\n",
    "for i in range(11) :\n",
    "    if i%2 == 0 :\n",
    "       even_list.append(i)\n",
    "\n",
    "print(f\"The list of Even numbers between 0-10 is : {even_list}\")"
   ]
  },
  {
   "cell_type": "code",
   "execution_count": 30,
   "id": "daf395e3-48e3-46e7-abba-7799fc4a8f55",
   "metadata": {},
   "outputs": [
    {
     "name": "stdout",
     "output_type": "stream",
     "text": [
      "{0: 0, 1: 1, 2: 4, 3: 9, 4: 16, 5: 25, 6: 36, 7: 49, 8: 64, 9: 81}\n"
     ]
    }
   ],
   "source": [
    "\"\"\"\n",
    "5. Use a dictionary comprehension to create the dictionary squares. \n",
    "Use range(10) to return the keys, and use the square of each key as its value.\n",
    "\"\"\"\n",
    "\n",
    "print(dict([(x,pow(x,2)) for x in range(10)]))"
   ]
  },
  {
   "cell_type": "code",
   "execution_count": 52,
   "id": "de59122b-053a-492d-b3c6-6578b016fb31",
   "metadata": {},
   "outputs": [
    {
     "name": "stdout",
     "output_type": "stream",
     "text": [
      "{1, 3, 5, 7, 9}\n"
     ]
    }
   ],
   "source": [
    "# 6. Construct the set odd from the odd numbers in the range using a set comprehension (10).\n",
    "\n",
    "print({x for x in range(10) if x%2 !=0})"
   ]
  },
  {
   "cell_type": "code",
   "execution_count": 61,
   "id": "212a198b-43a0-4ec1-83e7-ea3507d0f6b3",
   "metadata": {},
   "outputs": [
    {
     "name": "stdout",
     "output_type": "stream",
     "text": [
      "GOT 0\n",
      "GOT 1\n",
      "GOT 2\n",
      "GOT 3\n",
      "GOT 4\n",
      "GOT 5\n",
      "GOT 6\n",
      "GOT 7\n",
      "GOT 8\n",
      "GOT 9\n"
     ]
    }
   ],
   "source": [
    "\"\"\"\n",
    "7. Use a generator comprehension to return the string 'Got ' and a number for the\n",
    "numbers in range(10). \n",
    "Iterate through this by using a for loop.\n",
    "\"\"\"\n",
    "\n",
    "for i in range(10):\n",
    "    print(\"GOT \" +str(i))"
   ]
  },
  {
   "cell_type": "code",
   "execution_count": 63,
   "id": "8d9e906c-66b9-4cff-b85b-df65575120f3",
   "metadata": {},
   "outputs": [
    {
     "name": "stdout",
     "output_type": "stream",
     "text": [
      "['Harry', 'Ron', 'Hermione']\n"
     ]
    }
   ],
   "source": [
    "# 8. Define a function called good that returns the list ['Harry', 'Ron', 'Hermione'].\n",
    "\n",
    "def good() :\n",
    "    \n",
    "    lis = ['Harry', 'Ron', 'Hermione']\n",
    "    \n",
    "    return lis\n",
    "\n",
    "a = good()\n",
    "print(a)"
   ]
  },
  {
   "cell_type": "code",
   "execution_count": 73,
   "id": "6eeff621-f05e-4121-b302-6bd8bab649ec",
   "metadata": {},
   "outputs": [
    {
     "data": {
      "text/plain": [
       "5"
      ]
     },
     "execution_count": 73,
     "metadata": {},
     "output_type": "execute_result"
    }
   ],
   "source": [
    "\"\"\"\n",
    "9. Define a generator function called get_odds that returns the odd numbers from range(10). \n",
    "Use a for loop to find and print the third value returned.\n",
    "\"\"\"\n",
    "\n",
    "def get_odds() :\n",
    "    \n",
    "    odd_num = []\n",
    "    for i in range(10):\n",
    "        if i%2 != 0:\n",
    "            odd_num.append(i)\n",
    "    \n",
    "    yield odd_num\n",
    "\n",
    "next(get_odds())[2]"
   ]
  },
  {
   "cell_type": "code",
   "execution_count": 1,
   "id": "0df49137-5748-4413-b8a4-9ab35159cfca",
   "metadata": {},
   "outputs": [
    {
     "name": "stdout",
     "output_type": "stream",
     "text": [
      "Caught an oops\n"
     ]
    }
   ],
   "source": [
    "\"\"\"\n",
    "10. Define an exception called OopsException. Raise this exception to see what happens.\n",
    "Then write the code to catch this exception and print 'Caught an oops'.\n",
    "\"\"\"\n",
    "\n",
    "class OopsException(Exception):\n",
    "    pass\n",
    "\n",
    "try:\n",
    "    raise OopsException\n",
    "except OopsException:\n",
    "    print('Caught an oops')\n"
   ]
  },
  {
   "cell_type": "code",
   "execution_count": 9,
   "id": "c07ddd4d-0189-43f9-b94c-f3b6dceec63c",
   "metadata": {},
   "outputs": [
    {
     "name": "stdout",
     "output_type": "stream",
     "text": [
      "{'Creature of Habit': 'A nun turns into a monster', 'Crewel Fate': 'A haunted yarn shop'}\n"
     ]
    }
   ],
   "source": [
    "\"\"\"\n",
    "11. Use zip() to make a dictionary called movies that pairs these lists: \n",
    "titles = ['Creature of Habit', 'Crewel Fate'] and plots = ['A nun turns into a monster', 'A haunted yarn shop'].\n",
    "\"\"\"\n",
    "\n",
    "titles = ['Creature of Habit', 'Crewel Fate']\n",
    "plots = ['A nun turns into a monster', 'A haunted yarn shop']\n",
    "list1 = dict(zip(titles,plots))\n",
    "print(list1)"
   ]
  }
 ],
 "metadata": {
  "kernelspec": {
   "display_name": "Python 3 (ipykernel)",
   "language": "python",
   "name": "python3"
  },
  "language_info": {
   "codemirror_mode": {
    "name": "ipython",
    "version": 3
   },
   "file_extension": ".py",
   "mimetype": "text/x-python",
   "name": "python",
   "nbconvert_exporter": "python",
   "pygments_lexer": "ipython3",
   "version": "3.10.6"
  }
 },
 "nbformat": 4,
 "nbformat_minor": 5
}
