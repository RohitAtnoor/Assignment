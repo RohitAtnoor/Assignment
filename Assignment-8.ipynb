{
 "cells": [
  {
   "cell_type": "code",
   "execution_count": null,
   "id": "826559b2-329b-4457-8915-9c25662ac41c",
   "metadata": {},
   "outputs": [],
   "source": [
    "# 1. Is the Python Standard Library included with PyInputPlus?\n",
    "\n",
    "\"\"\"\n",
    "No, the Python Standard Library is not included with PyInputPlus. \n",
    "PyInputPlus is a third-party library that provides additional functionalities for taking user input in Python, \n",
    "such as input validation and timeout options\n",
    "Command to install it is : pip install pyinputplus\n",
    "\n",
    "\"\"\""
   ]
  },
  {
   "cell_type": "code",
   "execution_count": null,
   "id": "e42ed43d-5fee-42d2-ba9a-542305725874",
   "metadata": {},
   "outputs": [],
   "source": [
    "# 2. Why is PyInputPlus commonly imported with import pyinputplus as pypi?\n",
    "\n",
    "\"\"\"\n",
    "By importing the PyInputPlus with import pyinputplus as pypi this will hels us in creating a short name.\n",
    "we can call the module with pypi\n",
    "pypi is an alias for PyInputPlus which helps in easy referance of code.\n",
    "\n",
    "\"\"\""
   ]
  },
  {
   "cell_type": "code",
   "execution_count": 11,
   "id": "4351281b-a2fa-45e4-bcd5-73a8932b9fcc",
   "metadata": {},
   "outputs": [
    {
     "name": "stdout",
     "output_type": "stream",
     "text": [
      "Enter an integer: "
     ]
    },
    {
     "name": "stdin",
     "output_type": "stream",
     "text": [
      " 12\n"
     ]
    },
    {
     "name": "stdout",
     "output_type": "stream",
     "text": [
      "Entered integer: 12\n",
      "Enter an Decimal Number : "
     ]
    },
    {
     "name": "stdin",
     "output_type": "stream",
     "text": [
      " 12.55\n"
     ]
    },
    {
     "name": "stdout",
     "output_type": "stream",
     "text": [
      "Entered integer: 12.55\n"
     ]
    }
   ],
   "source": [
    "# 3. How do you distinguish between inputInt() and inputFloat()?\n",
    "\n",
    "\"\"\"\n",
    "1. inputInt() : This function helps in taking user input as integer.\n",
    "2. inputFloat() : This function helps in taking floating point number from user\n",
    "\"\"\"\n",
    "\n",
    "# Example for inputInt\n",
    "import pyinputplus as pypi\n",
    "\n",
    "num = pypi.inputInt(prompt=\"Enter an integer: \")\n",
    "print(\"Entered integer:\", num)\n",
    "\n",
    "# Eample for inputFloat()\n",
    "\n",
    "num = pypi.inputFloat(prompt=\"Enter an Decimal Number : \")\n",
    "print(\"Entered integer:\", num)"
   ]
  },
  {
   "cell_type": "code",
   "execution_count": 14,
   "id": "85bc06ce-55c4-466a-9427-174a66235639",
   "metadata": {},
   "outputs": [
    {
     "name": "stdout",
     "output_type": "stream",
     "text": [
      "Enter a number between 0 and 99: "
     ]
    },
    {
     "name": "stdin",
     "output_type": "stream",
     "text": [
      " 25\n"
     ]
    },
    {
     "name": "stdout",
     "output_type": "stream",
     "text": [
      "Entered number: 25\n"
     ]
    }
   ],
   "source": [
    "# 4. Using PyInputPlus, how do you ensure that the user enters a whole number between 0 and 99?\n",
    "\n",
    "\"\"\"\n",
    "In PyInputPlus we have a inbuilt function to get the integer value from the user.\n",
    "The Function is inputInt(), to get a number between 0 to 99 we can we min and max parameter in the function.\n",
    "inputInt(min = 0, max = 99)\n",
    "\n",
    "\"\"\"\n",
    "\n",
    "# Example\n",
    "\n",
    "num = pypi.inputInt(prompt=\"Enter a number between 0 and 99: \", min=0, max=99)\n",
    "print(\"Entered number:\", num)"
   ]
  },
  {
   "cell_type": "code",
   "execution_count": null,
   "id": "6bb919dd-fbe8-46d9-91e8-c39558946127",
   "metadata": {},
   "outputs": [],
   "source": [
    "# 5. What is transferred to the keyword arguments allowRegexes and blockRegexes?\n",
    "\n",
    "\"\"\"\n",
    "allowRegexes: This keyword argument accepts a list of regular expression patterns. If provided, \n",
    "PyInputPlus will only allow input values that match any of the specified patterns.\n",
    "\n",
    "blockRegexes: This keyword argument accepts a list of regular expression patterns. If provided, \n",
    "PyInputPlus will block input values that match any of the specified patterns. \n",
    "\n",
    "\"\"\""
   ]
  },
  {
   "cell_type": "code",
   "execution_count": null,
   "id": "6ec7b28e-c28c-4553-8750-b4514fbf9d27",
   "metadata": {},
   "outputs": [],
   "source": [
    "# 6. If a blank input is entered three times, what does inputStr(limit=3) do?\n",
    "\n",
    "\"\"\" \n",
    "inputStr(limit=3) raises a ValidationException after the third consecutive blank input.\n",
    "PyInputPlus would raise an exception indicating that the input validation limit has been reached.\n",
    "\n",
    "\"\"\""
   ]
  },
  {
   "cell_type": "code",
   "execution_count": null,
   "id": "8acd5159-2909-4bf4-b3ab-6f0e3664e493",
   "metadata": {},
   "outputs": [],
   "source": [
    "# 7. If blank input is entered three times, what does inputStr(limit=3, default='hello') do?\n",
    "\n",
    "\"\"\"\n",
    "After entering a blank input for 3 consecutive time it will return \"hello\" because we have set the default value to hello.\n",
    "\"\"\"\n"
   ]
  }
 ],
 "metadata": {
  "kernelspec": {
   "display_name": "Python 3 (ipykernel)",
   "language": "python",
   "name": "python3"
  },
  "language_info": {
   "codemirror_mode": {
    "name": "ipython",
    "version": 3
   },
   "file_extension": ".py",
   "mimetype": "text/x-python",
   "name": "python",
   "nbconvert_exporter": "python",
   "pygments_lexer": "ipython3",
   "version": "3.10.6"
  }
 },
 "nbformat": 4,
 "nbformat_minor": 5
}
