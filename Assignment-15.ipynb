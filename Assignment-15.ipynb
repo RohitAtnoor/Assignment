{
 "cells": [
  {
   "cell_type": "code",
   "execution_count": 1,
   "id": "8197d0c4-43b9-4b77-a7de-da663af0725f",
   "metadata": {},
   "outputs": [
    {
     "name": "stdout",
     "output_type": "stream",
     "text": [
      "The total Seconds in 1 hour is : 3600\n"
     ]
    }
   ],
   "source": [
    "\"\"\"\n",
    "1.How many seconds are in an hour? Use the interactive interpreter as a calculator \n",
    "and multiply the number of seconds in a minute (60) by the number of minutes in an hour (also 60).\n",
    "sol. 60 \n",
    "\"\"\"\n",
    "\n",
    "#Seconds in 1 minuite\n",
    "sec_min = 60\n",
    "# minutes in 1 hour\n",
    "min_hr = 60\n",
    "\n",
    "# Total seconds in hour\n",
    "sec_hr = sec_min * min_hr\n",
    "print(f\"The total Seconds in 1 hour is : {sec_hr}\")"
   ]
  },
  {
   "cell_type": "code",
   "execution_count": 2,
   "id": "7355b62d-a0f7-49d0-b11a-ed9ba316def3",
   "metadata": {},
   "outputs": [
    {
     "name": "stdout",
     "output_type": "stream",
     "text": [
      "3600\n"
     ]
    }
   ],
   "source": [
    "# 2. Assign the result from the previous task (seconds in an hour) to a variable called seconds_per_hour.\n",
    "\n",
    "seconds_per_hour = sec_hr\n",
    "print(seconds_per_hour)"
   ]
  },
  {
   "cell_type": "code",
   "execution_count": 5,
   "id": "8ec8ad3d-0b07-46c3-98d8-e42b242dca9f",
   "metadata": {},
   "outputs": [
    {
     "name": "stdout",
     "output_type": "stream",
     "text": [
      "Total Seconds per day : 86400\n"
     ]
    }
   ],
   "source": [
    "#  3. How many seconds do you think there are in a day? Make use of the variables seconds per hour and minutes per hour.\n",
    "\n",
    "# minutes per hour\n",
    "min_hr = 60\n",
    "#Seconds in 1 minuite\n",
    "sec_min = 60\n",
    "\n",
    "sec_for_day = seconds_per_hour * 24 \n",
    "print(f\"Total Seconds per day : {sec_for_day}\")"
   ]
  },
  {
   "cell_type": "code",
   "execution_count": 6,
   "id": "97d4a2ac-e018-4e01-945e-083d06f1ada3",
   "metadata": {},
   "outputs": [
    {
     "name": "stdout",
     "output_type": "stream",
     "text": [
      "Total Seconds per day : 86400\n"
     ]
    }
   ],
   "source": [
    "# 4. Calculate seconds per day again, but this time save the result in a variable called seconds_per_day\n",
    "\n",
    "# minutes per hour\n",
    "min_hr = 60\n",
    "#Seconds in 1 minuite\n",
    "sec_min = 60\n",
    "\n",
    "seconds_per_day = seconds_per_hour * 24 \n",
    "print(f\"Total Seconds per day : {seconds_per_day}\")"
   ]
  },
  {
   "cell_type": "code",
   "execution_count": 7,
   "id": "f31e2058-18e0-490d-8e96-8873b549fdd2",
   "metadata": {},
   "outputs": [
    {
     "data": {
      "text/plain": [
       "24.0"
      ]
     },
     "execution_count": 7,
     "metadata": {},
     "output_type": "execute_result"
    }
   ],
   "source": [
    "# 5. Divide seconds_per_day by seconds_per_hour. Use floating-point (/) division.\n",
    "\n",
    "seconds_per_day / seconds_per_hour"
   ]
  },
  {
   "cell_type": "code",
   "execution_count": 8,
   "id": "36a94c45-aa77-4eab-9dc8-949773546bb3",
   "metadata": {},
   "outputs": [
    {
     "data": {
      "text/plain": [
       "24"
      ]
     },
     "execution_count": 8,
     "metadata": {},
     "output_type": "execute_result"
    }
   ],
   "source": [
    "\"\"\"\n",
    "6. Divide seconds_per_day by seconds_per_hour, using integer (//) division. \n",
    "Did this number agree with the floating-point value from the previous question, aside from the final .0?\n",
    "\"\"\"\n",
    "\n",
    "seconds_per_day // seconds_per_hour\n",
    "# Yes this value agree with the previous value."
   ]
  },
  {
   "cell_type": "code",
   "execution_count": 16,
   "id": "f1f155e2-8841-48d3-863e-e852a6ae9199",
   "metadata": {},
   "outputs": [
    {
     "name": "stdout",
     "output_type": "stream",
     "text": [
      "2\n",
      "3\n",
      "5\n",
      "7\n",
      "11\n",
      "13\n",
      "17\n",
      "19\n",
      "23\n",
      "29\n"
     ]
    }
   ],
   "source": [
    "\"\"\"\n",
    "7. Write a generator, genPrimes, that returns the sequence of prime numbers \n",
    "on successive calls to its next() method: 2, 3, 5, 7, 11, ...\n",
    "\"\"\"\n",
    "\n",
    "# Function name is genPrimes\n",
    "def genPrimes():\n",
    "    primes = []  # List to store prime numbers\n",
    "    num = 2  # Start with the first prime number\n",
    "    \n",
    "    while True:\n",
    "        is_prime = True\n",
    "        \n",
    "        for prime in primes:\n",
    "            if num % prime == 0:  # If divisible by any previous prime, not a prime number\n",
    "                is_prime = False\n",
    "                break\n",
    "        \n",
    "        if is_prime:\n",
    "            primes.append(num)  # Add the new prime number to the list\n",
    "            yield num\n",
    "        \n",
    "        num += 1  # Check the next number\n",
    "\n",
    "# Usage example:\n",
    "prime_generator = genPrimes()\n",
    "for i in range(10) :\n",
    "    print(next(prime_generator))"
   ]
  },
  {
   "cell_type": "code",
   "execution_count": null,
   "id": "a10d1b7b-cb61-4e27-8cc3-c58addd5d0f5",
   "metadata": {},
   "outputs": [],
   "source": []
  }
 ],
 "metadata": {
  "kernelspec": {
   "display_name": "Python 3 (ipykernel)",
   "language": "python",
   "name": "python3"
  },
  "language_info": {
   "codemirror_mode": {
    "name": "ipython",
    "version": 3
   },
   "file_extension": ".py",
   "mimetype": "text/x-python",
   "name": "python",
   "nbconvert_exporter": "python",
   "pygments_lexer": "ipython3",
   "version": "3.10.6"
  }
 },
 "nbformat": 4,
 "nbformat_minor": 5
}
