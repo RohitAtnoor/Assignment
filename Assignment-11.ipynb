{
 "cells": [
  {
   "cell_type": "code",
   "execution_count": 4,
   "id": "62d2eff3-e33a-4b9b-ad4f-5db46a7c08fd",
   "metadata": {},
   "outputs": [
    {
     "ename": "AssertionError",
     "evalue": "",
     "output_type": "error",
     "traceback": [
      "\u001b[0;31m---------------------------------------------------------------------------\u001b[0m",
      "\u001b[0;31mAssertionError\u001b[0m                            Traceback (most recent call last)",
      "Cell \u001b[0;32mIn [4], line 10\u001b[0m\n\u001b[1;32m      7\u001b[0m \u001b[38;5;28;01massert\u001b[39;00m spam \u001b[38;5;241m>\u001b[39m\u001b[38;5;241m=\u001b[39m \u001b[38;5;241m0\u001b[39m \u001b[38;5;66;03m# now it will not show any error because the assertion condition is true.\u001b[39;00m\n\u001b[1;32m      9\u001b[0m spam \u001b[38;5;241m=\u001b[39m \u001b[38;5;241m-\u001b[39m\u001b[38;5;241m5\u001b[39m\n\u001b[0;32m---> 10\u001b[0m \u001b[38;5;28;01massert\u001b[39;00m spam \u001b[38;5;241m>\u001b[39m\u001b[38;5;241m=\u001b[39m \u001b[38;5;241m0\u001b[39m\n",
      "\u001b[0;31mAssertionError\u001b[0m: "
     ]
    }
   ],
   "source": [
    "# 1. Create an assert statement that throws an AssertionError if the variable spam is a negative integer.\n",
    "\n",
    "# Assertion error is a built in exception in python that is raised when an assert statement fails.\n",
    "# Example\n",
    "\n",
    "spam = 1\n",
    "assert spam >= 0 # now it will not show any error because the assertion condition is true.\n",
    "\n",
    "spam = -5\n",
    "assert spam >= 0 # It will show Assertion error because assertion condition is false."
   ]
  },
  {
   "cell_type": "code",
   "execution_count": 17,
   "id": "9d8735a7-5a96-4d0a-ba55-476b28646076",
   "metadata": {},
   "outputs": [
    {
     "ename": "AssertionError",
     "evalue": "",
     "output_type": "error",
     "traceback": [
      "\u001b[0;31m---------------------------------------------------------------------------\u001b[0m",
      "\u001b[0;31mAssertionError\u001b[0m                            Traceback (most recent call last)",
      "Cell \u001b[0;32mIn [17], line 18\u001b[0m\n\u001b[1;32m     15\u001b[0m eggs \u001b[38;5;241m=\u001b[39m \u001b[38;5;124m\"\u001b[39m\u001b[38;5;124mgoodbye\u001b[39m\u001b[38;5;124m\"\u001b[39m\n\u001b[1;32m     16\u001b[0m bacon \u001b[38;5;241m=\u001b[39m \u001b[38;5;124m\"\u001b[39m\u001b[38;5;124mGOODbye\u001b[39m\u001b[38;5;124m\"\u001b[39m\n\u001b[0;32m---> 18\u001b[0m \u001b[38;5;28;01massert\u001b[39;00m eggs\u001b[38;5;241m.\u001b[39mlower() \u001b[38;5;241m!=\u001b[39m bacon\u001b[38;5;241m.\u001b[39mlower()\n\u001b[1;32m     19\u001b[0m \u001b[38;5;28;01massert\u001b[39;00m eggs\u001b[38;5;241m.\u001b[39mupper() \u001b[38;5;241m!=\u001b[39m bacon\u001b[38;5;241m.\u001b[39mupper()\n",
      "\u001b[0;31mAssertionError\u001b[0m: "
     ]
    }
   ],
   "source": [
    "\"\"\"\n",
    "2. Write an assert statement that triggers an AssertionError if the variables eggs and bacon contain \n",
    "strings that are the same as each other,even if their cases are different \n",
    "(that is, 'hello' and 'hello' are considered the same, and 'goodbye' and 'GOODbye' are also considered the same).\n",
    "\"\"\"\n",
    "\n",
    "# Example 1 no error\n",
    "eggs = \"goodbye\"\n",
    "bacon = \"Hello\"\n",
    "\n",
    "assert eggs.lower() != bacon.lower()\n",
    "assert eggs.upper() != bacon.upper() # we can convert it to lower case or upper case.\n",
    "\n",
    "# Example 1 with assertion error.\n",
    "eggs = \"goodbye\"\n",
    "bacon = \"GOODbye\"\n",
    "\n",
    "assert eggs.lower() != bacon.lower()\n",
    "assert eggs.upper() != bacon.upper() "
   ]
  },
  {
   "cell_type": "code",
   "execution_count": 31,
   "id": "3debf16c-37c9-475d-973f-93446edf2e7d",
   "metadata": {},
   "outputs": [
    {
     "ename": "AssertionError",
     "evalue": "",
     "output_type": "error",
     "traceback": [
      "\u001b[0;31m---------------------------------------------------------------------------\u001b[0m",
      "\u001b[0;31mAssertionError\u001b[0m                            Traceback (most recent call last)",
      "Cell \u001b[0;32mIn [31], line 4\u001b[0m\n\u001b[1;32m      1\u001b[0m \u001b[38;5;66;03m# 3. Create an assert statement that throws an AssertionError every time.\u001b[39;00m\n\u001b[1;32m      3\u001b[0m a \u001b[38;5;241m=\u001b[39m \u001b[38;5;241m12\u001b[39m\n\u001b[0;32m----> 4\u001b[0m \u001b[38;5;28;01massert\u001b[39;00m \u001b[38;5;28;01mFalse\u001b[39;00m\n",
      "\u001b[0;31mAssertionError\u001b[0m: "
     ]
    }
   ],
   "source": [
    "# 3. Create an assert statement that throws an AssertionError every time.\n",
    "\n",
    "a = 12\n",
    "assert False # this will always throw an assertion error."
   ]
  },
  {
   "cell_type": "code",
   "execution_count": 38,
   "id": "b2e9b374-a73a-49fe-8f3d-959208470db9",
   "metadata": {},
   "outputs": [],
   "source": [
    "# 4. What are the two lines that must be present in your software in order to call logging.debug()?\n",
    "\n",
    "\"\"\"\n",
    "The 2 lines are 1st we need to import the logging module, \n",
    "and in the 2nd line we need to configure the logging level and system\n",
    "we can call the functions available in logging only after importing the logging module.\n",
    "\n",
    "\"\"\"\n",
    "\n",
    "import logging\n",
    "logging.basicConfig(level=logging.DEBUG)"
   ]
  },
  {
   "cell_type": "code",
   "execution_count": 39,
   "id": "9d99e70f-594c-45c5-b8be-ea91b7f63543",
   "metadata": {},
   "outputs": [],
   "source": [
    "\"\"\"\n",
    "5. What are the two lines that your program must have in order to have logging.debug()\n",
    "send a logging message to a file named programLog.txt?\n",
    "\"\"\"\n",
    "\n",
    "\"\"\"\n",
    "The 2 lines are 1st we need to import the logging module, \n",
    "and in the 2nd line we need to configure the logging level and file name to be specified.\n",
    "\n",
    "\"\"\"\n",
    "\n",
    "import logging\n",
    "logging.basicConfig(filename='programLog.txt', level=logging.DEBUG)\n"
   ]
  },
  {
   "cell_type": "code",
   "execution_count": null,
   "id": "b5e71bf0-6da9-4e3c-b1ab-931e1b99fb29",
   "metadata": {},
   "outputs": [],
   "source": [
    "# 6. What are the five levels of logging?\n",
    "\n",
    "\"\"\"\n",
    "The Five levels of logging are as followes.\n",
    "1. DEBUG\n",
    "2. INFO\n",
    "3. WARNING\n",
    "4. ERROR\n",
    "5. CRITICAL\n",
    "\n",
    "\"\"\""
   ]
  },
  {
   "cell_type": "code",
   "execution_count": 40,
   "id": "1d3902ce-1bf3-49f4-b4ad-b565f6cb34e8",
   "metadata": {},
   "outputs": [],
   "source": [
    "# 7. What line of code would you add to your software to disable all logging messages?\n",
    "\n",
    "logging.disable() # This is the line of code used to disable the logging messages."
   ]
  },
  {
   "cell_type": "code",
   "execution_count": null,
   "id": "27b29c37-ba67-483b-a530-2190d11ac514",
   "metadata": {},
   "outputs": [],
   "source": [
    "# 8.Why is using logging messages better than using print() to display the same message?\n",
    "\n",
    "\"\"\"\n",
    "In the production environment logging allows us to log messages without impacting the production performance.\n",
    "The logging module provides extensive configuration options.\n",
    "We can control the log level, format, output destination, and more. \n",
    "This allows us to customize the logging behavior without modifying the code\n",
    "\n",
    "print is used when you want to display any particular message.\n",
    "whereas logging is used to record all events like error, info, debug messages, timestamps.\n",
    "\n",
    "\"\"\""
   ]
  },
  {
   "cell_type": "code",
   "execution_count": null,
   "id": "4fd13b39-0963-4c9c-8939-ca571fe43803",
   "metadata": {},
   "outputs": [],
   "source": [
    "# 9. What are the differences between the Step Over, Step In, and Step Out buttons in the debugger?\n",
    "\n",
    "\"\"\"\n",
    "1. Step Over: Executes the current line of code and moves to the next line.\n",
    "Skips the details of function internals.\n",
    "\n",
    "2. Step In: Steps into a function call and moves to the first line of the called function. \n",
    "Allows debugging within the function.\n",
    "\n",
    "3. Step Out: Quickly exits the current function and continues until the function returns.\n",
    "Skips remaining lines within the current function and returns to the calling function.\n",
    "\n",
    "\"\"\""
   ]
  },
  {
   "cell_type": "code",
   "execution_count": null,
   "id": "f608d835-08a9-43c4-b9d4-901d9fe279a2",
   "metadata": {},
   "outputs": [],
   "source": [
    "# 10.After you click Continue, when will the debugger stop ?\n",
    "\n",
    "\"\"\"\n",
    "This will Continue execution until the current function returns. \n",
    "and Continue execution, only stop when a breakpoint is encountered, or when the breakpoint is reached.\n",
    "\n",
    "\"\"\"\n"
   ]
  },
  {
   "cell_type": "code",
   "execution_count": null,
   "id": "b5bf940d-38a9-4e2d-bead-d8faa055244d",
   "metadata": {},
   "outputs": [],
   "source": [
    "# 11. What is the concept of a breakpoint?\n",
    "\n",
    "\"\"\"\n",
    "Breakpoint allows us to stop the execution of a program at a specific line of code, \n",
    "giving us the opportunity to examine the program's state, variables, and behavior at that particular point.\n",
    "\n",
    "\"\"\""
   ]
  }
 ],
 "metadata": {
  "kernelspec": {
   "display_name": "Python 3 (ipykernel)",
   "language": "python",
   "name": "python3"
  },
  "language_info": {
   "codemirror_mode": {
    "name": "ipython",
    "version": 3
   },
   "file_extension": ".py",
   "mimetype": "text/x-python",
   "name": "python",
   "nbconvert_exporter": "python",
   "pygments_lexer": "ipython3",
   "version": "3.10.6"
  }
 },
 "nbformat": 4,
 "nbformat_minor": 5
}
