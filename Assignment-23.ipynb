{
 "cells": [
  {
   "cell_type": "code",
   "execution_count": 25,
   "id": "2a986434-487c-468f-9efb-67e94b1f99bd",
   "metadata": {},
   "outputs": [
    {
     "name": "stdout",
     "output_type": "stream",
     "text": [
      "1 2 8\n"
     ]
    }
   ],
   "source": [
    "# 1. What is the result of the code, and why?\n",
    "\n",
    "\"\"\"\n",
    "The output of the code is 1,2,8 because we have created a function which takes 3 arguments,\n",
    "by defaule we have set the values of b=6 c=8 and we have to pass atleast 1 argument a.\n",
    "so in this we are callig the function with a, and b argument as 1,2 so by default c = 8.\n",
    "\"\"\"\n",
    "\n",
    "\"\"\"\n",
    "defining the function with 3 arguments and we have set 2 default values,\n",
    "while calling a function if arguments are not passed it will take default values for b,c and we have to pass for a\n",
    "\"\"\"\n",
    "def func(a, b=6, c=8):\n",
    "    print(a, b, c)\n",
    "\n",
    "func(1,2) # calling a function with 2 argument a,b\n"
   ]
  },
  {
   "cell_type": "code",
   "execution_count": 26,
   "id": "9e3646b0-dd41-4d97-8d23-cf1fc73bdeee",
   "metadata": {},
   "outputs": [
    {
     "name": "stdout",
     "output_type": "stream",
     "text": [
      "1 2 3\n"
     ]
    }
   ],
   "source": [
    "# 2. What is the result of this code, and why?\n",
    "\n",
    "\"\"\"\n",
    "The output of the code is 1,2,3 because we have created a function which takes 3 arguments,\n",
    "so in this we are callig the function with a, b,c  argument as 1,2 ,3 .\n",
    "\"\"\"\n",
    "\n",
    "\"\"\"\n",
    "Defining the function with 3 arguments and we have set 1 default values,\n",
    "while calling a function if arguments is not passed it will take default values for c and we have to pass for a,b\n",
    "\"\"\"\n",
    "def func(a, b, c=5):\n",
    "    print(a, b, c)\n",
    "\n",
    "func(1, c=3, b=2) # calling the function with the 3 arguments.\n"
   ]
  },
  {
   "cell_type": "code",
   "execution_count": 27,
   "id": "02cc0281-7fb2-4b0b-b896-9e732e3dbd6b",
   "metadata": {},
   "outputs": [
    {
     "name": "stdout",
     "output_type": "stream",
     "text": [
      "1 (2, 3)\n"
     ]
    }
   ],
   "source": [
    "# 3. How about this code: what is its result, and why?\n",
    "\n",
    "\"\"\"\n",
    "The output of the code is 1 (2, 3)  because we have created a function which takes 1 arguments compulsary,\n",
    "and apart from a we can pass as many as arguments required.\n",
    "\"\"\"\n",
    "\n",
    "# Creating a function with 1 minium argument and *pargs stands for we can give anynumber of arguments.\n",
    "def func(a, *pargs):\n",
    "    print(a, pargs)\n",
    "\n",
    "func(1, 2, 3)\n"
   ]
  },
  {
   "cell_type": "code",
   "execution_count": 24,
   "id": "0577114e-3008-48cf-a21d-5e111bf70347",
   "metadata": {},
   "outputs": [
    {
     "name": "stdout",
     "output_type": "stream",
     "text": [
      "1 {'c': 3, 'b': 2}\n"
     ]
    }
   ],
   "source": [
    "# 4. What does this code print, and why?\n",
    "\n",
    "\"\"\"\n",
    "The output is 1 {'c': 3, 'b': 2} because we are passing a=1 as a single argument and \n",
    "c=3, b=2 as key value arguments, so it will be resulted as dict.\n",
    "\"\"\"\n",
    "\n",
    "# Creating a function with 1 minium argument and **kargs stands for we can give anynumber of Key value arguments.\n",
    "def func(a, **kargs):\n",
    "    print(a, kargs)\n",
    "\n",
    "func(a=1, c=3, b=2)\n"
   ]
  },
  {
   "cell_type": "code",
   "execution_count": 17,
   "id": "39580292-85fa-4f64-be0b-529b332cfcd9",
   "metadata": {},
   "outputs": [
    {
     "name": "stdout",
     "output_type": "stream",
     "text": [
      "1 5 6 5\n"
     ]
    }
   ],
   "source": [
    "# 5. What gets printed by this, and explain?\n",
    "\n",
    "\"\"\"\n",
    "defining the function with 4 arguments and we have set 2 default values,\n",
    "while calling a function if arguments are not passed it will take default values for c,d .\n",
    "\"\"\"\n",
    "def func(a, b, c=8, d=5): \n",
    "    print(a, b, c, d)\n",
    "\n",
    "# Calling a function with 3 argument a,b,c d it will take default value. so the output is 1 5 6 5.\n",
    "# we are passing a,b,c and d is taken as default value.\n",
    "func(1, *(5, 6))\n"
   ]
  },
  {
   "cell_type": "code",
   "execution_count": 23,
   "id": "e5f0968d-c784-44e3-935c-a3a8b6fe66f8",
   "metadata": {},
   "outputs": [
    {
     "data": {
      "text/plain": [
       "(1, ['x'], {'a': 'y'})"
      ]
     },
     "execution_count": 23,
     "metadata": {},
     "output_type": "execute_result"
    }
   ],
   "source": [
    "# 6. what is the result of this, and explain?\n",
    "\n",
    "\"\"\"\n",
    "Eventhough Python gives importance to indentation. its provides a facility to declare an \n",
    "entire function in one single line. where statements in a function body are sepereated by ;\n",
    "When l,m,n are provided as inputs to the function. its modifies the values of l,m,n and\n",
    "sets the value of l=2 ,m=['x'] and n={'a':'y'}\n",
    "\"\"\"\n",
    "\n",
    "# Defining the function with 3 arguments /parameters.\n",
    "def func(a, b, c): a = 2; b[0] = 'x'; c['a'] = 'y'\n",
    "l=1; m=[1]; n={'a':0}\n",
    "func(l, m, n)\n",
    "l,m,n\n"
   ]
  },
  {
   "cell_type": "code",
   "execution_count": null,
   "id": "80be559e-6aaa-40a0-9903-77e8028c4296",
   "metadata": {},
   "outputs": [],
   "source": []
  }
 ],
 "metadata": {
  "kernelspec": {
   "display_name": "Python 3 (ipykernel)",
   "language": "python",
   "name": "python3"
  },
  "language_info": {
   "codemirror_mode": {
    "name": "ipython",
    "version": 3
   },
   "file_extension": ".py",
   "mimetype": "text/x-python",
   "name": "python",
   "nbconvert_exporter": "python",
   "pygments_lexer": "ipython3",
   "version": "3.10.6"
  }
 },
 "nbformat": 4,
 "nbformat_minor": 5
}
