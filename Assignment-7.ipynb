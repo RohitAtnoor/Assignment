{
 "cells": [
  {
   "cell_type": "code",
   "execution_count": 1,
   "id": "2ddab866-5277-4d30-8203-8c7d7075c2e4",
   "metadata": {},
   "outputs": [
    {
     "name": "stdout",
     "output_type": "stream",
     "text": [
      "<re.Match object; span=(0, 17), match='The rain in Spain'>\n"
     ]
    }
   ],
   "source": [
    "# 1. What is the name of the feature responsible for generating Regex objects?\n",
    "\n",
    "\"\"\"\n",
    "\n",
    "In Python, the feature responsible for generating regular expression objects is the re module. \n",
    "The re module provides functions and methods to work with regular expressions,\n",
    "including creating regular expression objects.\n",
    "\n",
    "\"\"\"\n",
    "# Example\n",
    "\n",
    "import re\n",
    "\n",
    "txt = \"The rain in Spain\"\n",
    "x = re.search(\"^The.*Spain$\", txt)\n",
    "print(x)"
   ]
  },
  {
   "cell_type": "code",
   "execution_count": 2,
   "id": "fb0a021d-d030-4f73-bd05-9520e2777039",
   "metadata": {},
   "outputs": [
    {
     "name": "stdout",
     "output_type": "stream",
     "text": [
      "['10', '5']\n"
     ]
    }
   ],
   "source": [
    "# 2. Why do raw strings often appear in Regex objects?\n",
    "\n",
    "\"\"\"\n",
    "Raw strings (r'...') are often used in regular expressions (Regex) objects to avoid unintentional interpretation of backslashes.\n",
    "By using raw strings, any backslashes within the regular expression pattern are treated literally, without any special interpretation.\n",
    "\n",
    "\"\"\"\n",
    "\n",
    "import re\n",
    "\n",
    "pattern = r'\\d+'  # Raw string for matching one or more digits\n",
    "text = 'I have 10 apples and 5 oranges'\n",
    "matches = re.findall(pattern, text)\n",
    "\n",
    "print(matches) \n"
   ]
  },
  {
   "cell_type": "code",
   "execution_count": 3,
   "id": "b75f3ec3-df36-4eac-8e2d-bd7431261099",
   "metadata": {},
   "outputs": [],
   "source": [
    "# 3. What is the return value of the search() method?\n",
    "\n",
    "# The search() method from the re module in Python returns a match object if a match is found, or None if no match is found."
   ]
  },
  {
   "cell_type": "code",
   "execution_count": null,
   "id": "0ae3036a-7e53-4831-bd31-56068dc5097c",
   "metadata": {},
   "outputs": [],
   "source": [
    "# 4. From a Match item, how do you get the actual strings that match the pattern?\n",
    "\n",
    "\"\"\"\n",
    "To retrieve the actual strings that match the pattern from a match object, you can use the group() method. \n",
    "The group() method returns the substring that was matched by the regular expression pattern.\n",
    "\n",
    "\"\"\""
   ]
  },
  {
   "cell_type": "code",
   "execution_count": 7,
   "id": "75dfb0cb-aaa4-425b-aef0-847963775b30",
   "metadata": {},
   "outputs": [
    {
     "name": "stdout",
     "output_type": "stream",
     "text": [
      "Group 0: 123-456-7890\n",
      "Group 1: 123\n",
      "Group 2: 456-7890\n"
     ]
    }
   ],
   "source": [
    "# 5. In the regex which created from the r'(\\d\\d\\d)-(\\d\\d\\d-\\d\\d\\d\\d)', what does group zero cover? Group 2? Group 1?\n",
    "\n",
    "\"\"\"\n",
    "In the regular expression r'(\\d\\d\\d)-(\\d\\d\\d-\\d\\d\\d\\d)', the groups are defined by the parentheses. \n",
    "Here's what each group covers:\n",
    "Group 0: The entire matched substring.\n",
    "Group 1: The first group defined by (\\d\\d\\d), which matches three consecutive digits.\n",
    "Group 2: The second group defined by (\\d\\d\\d-\\d\\d\\d\\d)which matches three digits followed by a hyphen and then four digits.\n",
    "\n",
    "\"\"\"\n",
    "\n",
    "# examle \n",
    "\n",
    "import re\n",
    "\n",
    "pattern = r'(\\d\\d\\d)-(\\d\\d\\d-\\d\\d\\d\\d)'\n",
    "text = 'Phone number: 123-456-7890'\n",
    "match = re.search(pattern, text)\n",
    "\n",
    "if match:\n",
    "    group_0 = match.group(0)\n",
    "    group_1 = match.group(1)\n",
    "    group_2 = match.group(2)\n",
    "\n",
    "    print('Group 0:', group_0)  # Output: Group 0: 123-456-7890\n",
    "    print('Group 1:', group_1)  # Output: Group 1: 123\n",
    "    print('Group 2:', group_2)  # Output: Group 2: 456-7890\n",
    "else:\n",
    "    print('No match found.')\n"
   ]
  },
  {
   "cell_type": "code",
   "execution_count": 12,
   "id": "fff1cfd0-cca2-4100-8e9e-286010753278",
   "metadata": {},
   "outputs": [
    {
     "name": "stdout",
     "output_type": "stream",
     "text": [
      "123-456-7890\n"
     ]
    }
   ],
   "source": [
    "\"\"\"\n",
    "6. In standard expression syntax, parentheses and intervals have distinct meanings. \n",
    "How can you tell a regex that you want it to fit real parentheses and periods?\n",
    "\"\"\"\n",
    "\n",
    "\"\"\"\n",
    "#To match literal parentheses and periods in a regular expression (regex) pattern, \n",
    "you can use the backslash \\ to escape these special characters. \n",
    "\"\"\"\n",
    "# Example \n",
    "import re\n",
    "\n",
    "phoneNumRegex = re.compile(r'(\\d{3})-(\\d{3}-\\d{4})')\n",
    "mo = phoneNumRegex.search('My phone number is 123-456-7890.')\n",
    "print(mo.group())\n"
   ]
  },
  {
   "cell_type": "code",
   "execution_count": 14,
   "id": "f094ce51-b784-4a2c-8af6-9b4d95856f05",
   "metadata": {},
   "outputs": [
    {
     "name": "stdout",
     "output_type": "stream",
     "text": [
      "Matches with groups: [('10', 'apples'), ('5', 'oranges')]\n",
      "Matches without groups: ['10 apples', '5 oranges']\n"
     ]
    }
   ],
   "source": [
    "# 7. The findall() method returns a string list or a list of string tuples. What causes it to return one of the two options?\n",
    "\n",
    "\"\"\"\n",
    "The findall() method from the re module in Python returns a list of strings or \n",
    "a list of string tuples depending on the presence of capturing groups in the regular expression pattern.\n",
    "\"\"\"\n",
    "# Example \n",
    "import re\n",
    "\n",
    "text = 'I have 10 apples and 5 oranges'\n",
    "pattern_with_groups = r'(\\d+) (\\w+)'\n",
    "pattern_without_groups = r'\\d+ \\w+'\n",
    "\n",
    "matches_with_groups = re.findall(pattern_with_groups, text)\n",
    "matches_without_groups = re.findall(pattern_without_groups, text)\n",
    "\n",
    "print('Matches with groups:', matches_with_groups)  # Output: Matches with groups: [('10', 'apples'), ('5', 'oranges')]\n",
    "print('Matches without groups:', matches_without_groups)  # Output: Matches without groups: ['10 apples', '5 oranges']\n"
   ]
  },
  {
   "cell_type": "code",
   "execution_count": null,
   "id": "9e4edd7b-d46a-4fb9-9288-30d260e2f995",
   "metadata": {},
   "outputs": [],
   "source": [
    "# 8. In standard expressions, what does the | character mean?\n",
    "\n",
    "\"\"\"\n",
    "In regular expressions, the | character, called a pipe or vertical bar, represents the logical OR operation. \n",
    "It allows you to specify multiple alternative patterns to match against.\n",
    "\"\"\""
   ]
  },
  {
   "cell_type": "code",
   "execution_count": 15,
   "id": "f6bd2d76-3fc0-4dbd-853a-aeedba493ebf",
   "metadata": {},
   "outputs": [],
   "source": [
    "# 9. In regular expressions, what does the character stand for?"
   ]
  },
  {
   "cell_type": "code",
   "execution_count": 18,
   "id": "7fb6adde-15b4-40a7-9b31-3a390a87fd52",
   "metadata": {},
   "outputs": [
    {
     "data": {
      "text/plain": [
       "'\\nIn regular expressions, the + and * characters are known as quantifiers \\nand are used to specify the repetition of the preceding element.\\n\\n+ (Plus): The + quantifier specifies that the preceding element must occur one or more times.\\n* (Asterisk): The * quantifier specifies that the preceding element can occur zero or more times.\\n\\n'"
      ]
     },
     "execution_count": 18,
     "metadata": {},
     "output_type": "execute_result"
    }
   ],
   "source": [
    "# 10.In regular expressions, what is the difference between the + and * characters?\n",
    "\n",
    "\"\"\"\n",
    "In regular expressions, the + and * characters are known as quantifiers \n",
    "and are used to specify the repetition of the preceding element.\n",
    "\n",
    "+ (Plus): The + quantifier specifies that the preceding element must occur one or more times.\n",
    "* (Asterisk): The * quantifier specifies that the preceding element can occur zero or more times.\n",
    "\n",
    "\"\"\"\n"
   ]
  },
  {
   "cell_type": "code",
   "execution_count": null,
   "id": "0c9fea57-c713-49b9-af5c-7b99832d7fc7",
   "metadata": {},
   "outputs": [],
   "source": [
    "# 11. What is the difference between {4} and {4,5} in regular expression?\n",
    "\n",
    "\"\"\"\n",
    "In regular expressions, the notation {4} and {4,5} are used as quantifiers \n",
    "to specify the exact number of repetitions for the preceding element.\n",
    "\n",
    "{4}: The {4} quantifier specifies that the preceding element must occur exactly 4 times. \n",
    "{4,5}: The {4,5} quantifier specifies that the preceding element must occur at least 4 times and at most 5 times.\n",
    "\n",
    "\"\"\"\n"
   ]
  },
  {
   "cell_type": "code",
   "execution_count": null,
   "id": "04c87629-a06e-4c3d-bb8a-66230fb61dad",
   "metadata": {},
   "outputs": [],
   "source": [
    "# 12. What do you mean by the \\d, \\w, and \\s shorthand character classes signify in regular expressions?\n",
    "\n",
    "\"\"\"\n",
    "\\d: The \\d shorthand character class represents any digit character. It is equivalent to the character range [0-9]\n",
    "\\w: The \\w shorthand character class represents any alphanumeric character (letter or digit) or an underscore. \n",
    "It is equivalent to the character range [a-zA-Z0-9_]\n",
    "\\s: The \\s shorthand character class represents any whitespace character, including spaces, tabs, and newlines.\n",
    "It matches a single whitespace character.\n",
    "\n",
    "\"\"\""
   ]
  },
  {
   "cell_type": "code",
   "execution_count": null,
   "id": "5a376d1e-e6bd-43b0-8d51-392783b8aec6",
   "metadata": {},
   "outputs": [],
   "source": [
    "# 13. What do means by \\D, \\W, and \\S shorthand character classes signify in regular expressions?\n",
    "\n",
    "\"\"\"\n",
    "\\D: The \\D shorthand character class represents any non-digit character. It matches any character that is not a digit. \n",
    "\\W: The \\W shorthand character class represents any non-alphanumeric character (neither letter nor digit) or underscore.\n",
    "\\S: The \\S shorthand character class represents any non-whitespace character. \n",
    "It matches any character that is not a whitespace character\n",
    "\n",
    "\"\"\""
   ]
  },
  {
   "cell_type": "code",
   "execution_count": null,
   "id": "cf027fce-311e-489b-aba7-892fc17b3955",
   "metadata": {},
   "outputs": [],
   "source": [
    "# 14. What is the difference between .*? and .*?\n",
    "\n",
    "\"\"\"\n",
    ".*? matches as few characters as possible and expands the match incrementally, \n",
    "stopping as soon as the subsequent part of the pattern can be matched. \n",
    "\n",
    ".* matches as many characters as possible, even beyond what is strictly required to fulfill the rest of the pattern.\n",
    "\n",
    "\n",
    "\"\"\""
   ]
  },
  {
   "cell_type": "code",
   "execution_count": null,
   "id": "d3ccf30f-993f-4454-8b9d-2ad4d846586d",
   "metadata": {},
   "outputs": [],
   "source": [
    "# 15. What is the syntax for matching both numbers and lowercase letters with a character class?\n",
    "\n",
    "# The Synatax is Either [a-z0-9] or [0-9a-z]"
   ]
  },
  {
   "cell_type": "code",
   "execution_count": null,
   "id": "10f52790-cc16-4a2f-baa0-26a77c8a23af",
   "metadata": {},
   "outputs": [],
   "source": [
    "# 16. What is the procedure for making a normal expression in regax case insensitive?\n",
    "\n",
    "# We can pass re.IGNORECASE as a flag to make a noraml expression case insensitive"
   ]
  },
  {
   "cell_type": "code",
   "execution_count": null,
   "id": "2c0e359d-4661-4422-9113-09c2737567ca",
   "metadata": {},
   "outputs": [],
   "source": [
    "# 17. What does the . character normally match? What does it match if re.DOTALL is passed as 2nd argument in re.compile()?\n",
    "\n",
    "\"\"\"\n",
    ". (dot) character normally matches any character except for a newline character (\\n).\n",
    "re.DOTALL flag (or re.S shorthand) is passed as the second argument to the re.compile() function, \n",
    "the behavior of the dot character changes. \n",
    "\"\"\""
   ]
  },
  {
   "cell_type": "code",
   "execution_count": 19,
   "id": "45bbbcdb-99f3-4e9a-bc57-c61c00c37a42",
   "metadata": {},
   "outputs": [
    {
     "data": {
      "text/plain": [
       "'X drummers, X pipers, five rings, X hen'"
      ]
     },
     "execution_count": 19,
     "metadata": {},
     "output_type": "execute_result"
    }
   ],
   "source": [
    "# 18. If numReg = re.compile(r'\\d+'), what will numRegex.sub('X', '11 drummers, 10 pipers, five rings, 4 hen') return?\n",
    "\n",
    "#T he resulting string will be:\n",
    "'X drummers, X pipers, five rings, X hen'\n",
    "\n",
    "import re\n",
    "example = re.compile(r'\\d+')\n",
    "example.sub('X', '11 drummers, 10 pipers, five rings, 4 hen')\n"
   ]
  },
  {
   "cell_type": "code",
   "execution_count": 20,
   "id": "ba3f3145-1890-4697-aad2-11589f216e72",
   "metadata": {},
   "outputs": [
    {
     "name": "stdout",
     "output_type": "stream",
     "text": [
      "['123-4567', '987-6543']\n"
     ]
    }
   ],
   "source": [
    "# 19. What does passing re.VERBOSE as the 2nd argument to re.compile() allow to do?\n",
    "\n",
    "\"\"\"\n",
    "Passing re.VERBOSE as the second argument to re.compile() allows you to write more readable \n",
    "and organized regular expressions by ignoring whitespace and adding comments.\n",
    "\n",
    "\"\"\"\n",
    "# Example\n",
    "import re\n",
    "\n",
    "pattern = re.compile(r'''\n",
    "    \\d{3}  # Match three digits\n",
    "    -      # Match a hyphen\n",
    "    \\d{4}  # Match four digits\n",
    "    ''', re.VERBOSE)\n",
    "\n",
    "text = 'Phone numbers: 123-4567, 987-6543'\n",
    "\n",
    "matches = pattern.findall(text)\n",
    "print(matches)  # Output: ['123-4567', '987-6543']\n"
   ]
  },
  {
   "cell_type": "code",
   "execution_count": 21,
   "id": "400a6f1b-1dbf-46e3-a8d6-628e48b35d09",
   "metadata": {},
   "outputs": [
    {
     "name": "stdout",
     "output_type": "stream",
     "text": [
      "42: Match\n",
      "1,234: Match\n",
      "6,368,745: Match\n",
      "12,34,567: No match\n",
      "1234: No match\n"
     ]
    }
   ],
   "source": [
    "\"\"\"\n",
    "20. How would you write a regex that match a number with comma for every three digits? It must match the given following:\n",
    "'42'\n",
    "'1,234'\n",
    "'6,368,745'\n",
    "but not the following:\n",
    "'12,34,567' (which has only two digits between the commas)\n",
    "'1234' (which lacks commas)\n",
    "\"\"\"\n",
    "\n",
    "import re\n",
    "\n",
    "pattern = re.compile(r'^\\d{1,3}(,\\d{3})*$')\n",
    "\n",
    "numbers = ['42', '1,234', '6,368,745', '12,34,567', '1234']\n",
    "\n",
    "for number in numbers:\n",
    "    if pattern.match(number):\n",
    "        print(f\"{number}: Match\")\n",
    "    else:\n",
    "        print(f\"{number}: No match\")\n"
   ]
  },
  {
   "cell_type": "code",
   "execution_count": 22,
   "id": "00f46b6f-0da1-482e-852c-806129d3fdfc",
   "metadata": {},
   "outputs": [
    {
     "name": "stdout",
     "output_type": "stream",
     "text": [
      "Output:  Haruto Watanabe -> <re.Match object; span=(0, 15), match='Haruto Watanabe'>\n",
      "Output:  Alice Watanabe -> <re.Match object; span=(0, 14), match='Alice Watanabe'>\n",
      "Output:  RoboCop Watanabe -> <re.Match object; span=(4, 16), match='Cop Watanabe'>\n",
      "Output:  haruto Watanabe -> None\n",
      "Output:  Mr. Watanabe -> None\n",
      "Output:  Watanabe -> None\n",
      "Output:  Haruto watanabe -> None\n"
     ]
    }
   ],
   "source": [
    "\"\"\"\n",
    "21. How would you write a regex that matches the full name of someone whose last name is Watanabe? You can assume that the first name that comes before it will always be one word that begins with a capital letter. The regex must match the following:\n",
    "'Haruto Watanabe'\n",
    "'Alice Watanabe'\n",
    "'RoboCop Watanabe'\n",
    "but not the following:\n",
    "'haruto Watanabe' (where the first name is not capitalized)\n",
    "'Mr. Watanabe' (where the preceding word has a nonletter character)\n",
    "'Watanabe' (which has no first name)\n",
    "'Haruto watanabe' (where Watanabe is not capitalized)\n",
    "\"\"\"\n",
    "import re\n",
    "pattern = r'[A-Z]{1}[a-z]*\\sWatanabe'\n",
    "namex = re.compile(pattern)\n",
    "for name in ['Haruto Watanabe','Alice Watanabe','RoboCop Watanabe','haruto Watanabe','Mr. Watanabe','Watanabe','Haruto watanabe']:\n",
    "    print('Output: ',name,'->',namex.search(name))"
   ]
  },
  {
   "cell_type": "code",
   "execution_count": 23,
   "id": "3bf85ccb-4ad2-4ae1-a52f-75e388fed5cc",
   "metadata": {},
   "outputs": [
    {
     "name": "stdout",
     "output_type": "stream",
     "text": [
      "Alice eats apples.: Match\n",
      "Bob pets cats.: Match\n",
      "Carol throws baseballs.: Match\n",
      "Alice throws Apples.: Match\n",
      "BOB EATS CATS.: Match\n",
      "RoboCop eats apples.: No match\n",
      "ALICE THROWS FOOTBALLS.: No match\n",
      "Carol eats 7 cats.: No match\n"
     ]
    }
   ],
   "source": [
    "\"\"\"\n",
    "22. How would you write a regex that matches a sentence where the first word is either Alice, Bob, or Carol; the second word is either eats, pets, or throws; the third word is apples, cats, or baseballs; and the sentence ends with a period? This regex should be case-insensitive. It must match the following:\n",
    "'Alice eats apples.'\n",
    "'Bob pets cats.'\n",
    "'Carol throws baseballs.'\n",
    "'Alice throws Apples.'\n",
    "'BOB EATS CATS.'\n",
    "but not the following:\n",
    "'RoboCop eats apples.'\n",
    "'ALICE THROWS FOOTBALLS.'\n",
    "'Carol eats 7 cats.'\n",
    "\"\"\"\n",
    "\n",
    "import re\n",
    "\n",
    "pattern = re.compile(r'^(Alice|Bob|Carol) (eats|pets|throws) (apples|cats|baseballs)\\.$', re.IGNORECASE)\n",
    "\n",
    "sentences = [\n",
    "    'Alice eats apples.',\n",
    "    'Bob pets cats.',\n",
    "    'Carol throws baseballs.',\n",
    "    'Alice throws Apples.',\n",
    "    'BOB EATS CATS.',\n",
    "    'RoboCop eats apples.',\n",
    "    'ALICE THROWS FOOTBALLS.',\n",
    "    'Carol eats 7 cats.'\n",
    "]\n",
    "\n",
    "for sentence in sentences:\n",
    "    if pattern.match(sentence):\n",
    "        print(f\"{sentence}: Match\")\n",
    "    else:\n",
    "        print(f\"{sentence}: No match\")\n"
   ]
  },
  {
   "cell_type": "code",
   "execution_count": null,
   "id": "d728459b-8406-41ba-8351-80325ca4b067",
   "metadata": {},
   "outputs": [],
   "source": []
  }
 ],
 "metadata": {
  "kernelspec": {
   "display_name": "Python 3 (ipykernel)",
   "language": "python",
   "name": "python3"
  },
  "language_info": {
   "codemirror_mode": {
    "name": "ipython",
    "version": 3
   },
   "file_extension": ".py",
   "mimetype": "text/x-python",
   "name": "python",
   "nbconvert_exporter": "python",
   "pygments_lexer": "ipython3",
   "version": "3.10.6"
  }
 },
 "nbformat": 4,
 "nbformat_minor": 5
}
