{
 "cells": [
  {
   "cell_type": "code",
   "execution_count": 5,
   "id": "c2a8fdc0-d78e-4de9-998b-54e5814a4d6b",
   "metadata": {},
   "outputs": [
    {
     "name": "stdout",
     "output_type": "stream",
     "text": [
      "Ineuron\n"
     ]
    }
   ],
   "source": [
    "# 1. What is the result of the code, and explain?\n",
    "\n",
    "# Creating a variable X and assigning the string to it.\n",
    "X = \"Ineuron\"\n",
    "# Creating a function with name func and printing the x inside the function.\n",
    "def func() :\n",
    "    print(X)\n",
    "\n",
    "func()  # Calling the function.\n"
   ]
  },
  {
   "cell_type": "code",
   "execution_count": 13,
   "id": "cf1eca2e-518d-4d4b-be40-9c35c5bd2b06",
   "metadata": {},
   "outputs": [
    {
     "name": "stdout",
     "output_type": "stream",
     "text": [
      "Ineuron\n"
     ]
    }
   ],
   "source": [
    "# 2. What is the result of the code, and explain?\n",
    "\n",
    "# Creating a variable X and assigning the string to it.\n",
    "X = \"Ineuron\"\n",
    "# Creating a function with name func and printing the x inside the function.\n",
    "def func() :\n",
    "    X = \"NI!\"\n",
    "\n",
    "func() # Calling the function.\n",
    "\"\"\"\n",
    "printing the variable x, the out put will be x because we have defined x=\"NI!\" inside the function.\n",
    "so the out put is Ineuron.\n",
    "\"\"\"\n",
    "print(X) \n"
   ]
  },
  {
   "cell_type": "code",
   "execution_count": 16,
   "id": "3a077567-c7e6-420a-bafe-beb35c1db300",
   "metadata": {},
   "outputs": [
    {
     "name": "stdout",
     "output_type": "stream",
     "text": [
      "NI!\n",
      "INeuron\n"
     ]
    }
   ],
   "source": [
    "# 3. What does this code print, and why? \n",
    "\n",
    "# if we do it in the below way we will get NI! and ineuron as the output.\n",
    "X = \"INeuron\"\n",
    "def func():\n",
    "    X = 'NI!' # variable can be accessed inside the function only.\n",
    "    print(X)\n",
    "func() # here \n",
    "print(X)"
   ]
  },
  {
   "cell_type": "code",
   "execution_count": 17,
   "id": "d5ddf3c6-d3fd-4887-8a28-c85bd2b0c3c5",
   "metadata": {},
   "outputs": [
    {
     "name": "stdout",
     "output_type": "stream",
     "text": [
      "NI!\n"
     ]
    }
   ],
   "source": [
    "# 4. What output does this code produce? Why?\n",
    "\n",
    "# Creating a variable X and assigning the string to it\n",
    "X = \"Ineuron\"\n",
    "# Creating a function with name func and printing the x inside the function.\n",
    "def func() :\n",
    "    global X # making or creating the variable which can be accessed outside the function also.\n",
    "    X = \"NI!\"\n",
    "    \n",
    "func() # Calling the function.\n",
    "\"\"\"\n",
    "The Output will be NI! initialy we have defined the variable as X = \"Ineuron\",\n",
    "but while defining the function func() we have over written the variable value with \"NI!\"\n",
    "\"\"\"\n",
    "print(X) "
   ]
  },
  {
   "cell_type": "code",
   "execution_count": 20,
   "id": "77c8614c-2334-4ca8-902d-6c33916b2a46",
   "metadata": {},
   "outputs": [
    {
     "name": "stdout",
     "output_type": "stream",
     "text": [
      "NI\n"
     ]
    },
    {
     "data": {
      "text/plain": [
       "'Ineuron'"
      ]
     },
     "execution_count": 20,
     "metadata": {},
     "output_type": "execute_result"
    }
   ],
   "source": [
    "# 5. What about this code—what’s the output, and why?\n",
    "\n",
    "# Creating a variable X and assigning the string to it\n",
    "X = \"Ineuron\"\n",
    "# Creating a function with name func .\n",
    "def func():\n",
    "    X = 'NI' # creating the function inside the function.\n",
    "    def nested(): # creating the function inside the function (nested function)\n",
    "        print(X)\n",
    "    nested()\n",
    "    \n",
    "func()\n",
    "# The output of this function is NI because it calles nested function and prints NI at the end.\n",
    "X # printing the variable which was created outside ."
   ]
  },
  {
   "cell_type": "code",
   "execution_count": 24,
   "id": "77f917e5-cafc-4570-9701-53bbe92004c2",
   "metadata": {},
   "outputs": [
    {
     "name": "stdout",
     "output_type": "stream",
     "text": [
      "Spam\n"
     ]
    }
   ],
   "source": [
    "# 6. How about this code: what is its output in Python 3, and explain?\n",
    "\n",
    "# creating a function func.\n",
    "def func():\n",
    "    X = 'NI'  # creating a variable inside the func function.\n",
    "    def nested(): # Creating the nested function.\n",
    "        nonlocal X  # making variable x as non local an equal.\n",
    "        X = 'Spam'  # overwritting the variable x with spam\n",
    "    nested()\n",
    "    print(X)\n",
    "\n",
    "# The output will be Spam as we have over written it inside the nested function.\n",
    "func()"
   ]
  },
  {
   "cell_type": "code",
   "execution_count": null,
   "id": "e1527530-ac41-446f-abab-e1a352d67da7",
   "metadata": {},
   "outputs": [],
   "source": []
  }
 ],
 "metadata": {
  "kernelspec": {
   "display_name": "Python 3 (ipykernel)",
   "language": "python",
   "name": "python3"
  },
  "language_info": {
   "codemirror_mode": {
    "name": "ipython",
    "version": 3
   },
   "file_extension": ".py",
   "mimetype": "text/x-python",
   "name": "python",
   "nbconvert_exporter": "python",
   "pygments_lexer": "ipython3",
   "version": "3.10.6"
  }
 },
 "nbformat": 4,
 "nbformat_minor": 5
}
