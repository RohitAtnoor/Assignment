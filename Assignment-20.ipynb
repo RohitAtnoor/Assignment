{
 "cells": [
  {
   "cell_type": "code",
   "execution_count": 7,
   "id": "f296ab75-5ee6-4618-aef8-c2053c9c5a6d",
   "metadata": {},
   "outputs": [],
   "source": [
    "\"\"\"\n",
    "1. Set the variable test1 to the string 'This is a test of the emergency text system,' and \n",
    "save test1 to a file named test.txt.\n",
    "\"\"\"\n",
    "\n",
    "Test1 = \"This is a test of the emergency text system,\" \n",
    "file = open(\"test.txt\", \"w\")\n",
    "file.write(Test1)\n",
    "file.close()"
   ]
  },
  {
   "cell_type": "code",
   "execution_count": 13,
   "id": "c24b801e-4fbc-4cf1-8fbd-a01f6e0df14d",
   "metadata": {},
   "outputs": [
    {
     "name": "stdout",
     "output_type": "stream",
     "text": [
      "Both the content are same \n",
      "Content 1 : This is a test of the emergency text system, \n",
      "Content 2 : This is a test of the emergency text system,\n"
     ]
    }
   ],
   "source": [
    "\"\"\"\n",
    "2. Read the contents of the file test.txt into the variable test2. \n",
    "Is there a difference between test 1 and test 2?\n",
    "\"\"\"\n",
    "\n",
    "file = open(\"test.txt\", \"r\")\n",
    "Test2 = file.read()\n",
    "if Test1 == Test2 :\n",
    "    print(f\"Both the content are same \\nContent 1 : {Test1} \\nContent 2 : {Test2}\")"
   ]
  },
  {
   "cell_type": "code",
   "execution_count": 20,
   "id": "aba58ab0-5305-45c1-9bcc-0d3153457598",
   "metadata": {},
   "outputs": [],
   "source": [
    "\"\"\"\n",
    "3. Create a CSV file called books.csv by using these lines:\n",
    "title,author,year\n",
    "The Weirdstone of Brisingamen,Alan Garner,1960\n",
    "Perdido Street Station,China Miéville,2000\n",
    "Thud!,Terry Pratchett,2005\n",
    "The Spellman Files,Lisa Lutz,2007\n",
    "Small Gods,Terry Pratchett,1992\n",
    "\"\"\"\n",
    "\n",
    "import csv\n",
    "\n",
    "file_path = \"books.csv\"  # Specify the desired file path\n",
    "\n",
    "# Open the file in write mode (\"w\", newline='')\n",
    "with open(file_path, \"w\", newline='') as csvfile:\n",
    "    writer = csv.writer(csvfile)  # Create a CSV writer object\n",
    "\n",
    "    # Write header row\n",
    "    writer.writerow([\"Title\", \"Author\", \"Year\"])\n",
    "\n",
    "    # Write data rows\n",
    "    writer.writerow([\"The Weirdstone of Brisingamen\", \"Alan Garner\", \"1960\"])\n",
    "    writer.writerow([\"Perdido Street Station\", \"China Miéville\", \"2000\"])\n",
    "    writer.writerow([\"Thud!\", \"Terry Pratchett\", \"2005\"])\n",
    "    writer.writerow([\"The Spellman Files\", \"Lisa Lutz\", \"2007\"])\n",
    "    writer.writerow([\"Small Gods\", \"Terry Pratchett\", \"1992\"])\n"
   ]
  },
  {
   "cell_type": "code",
   "execution_count": null,
   "id": "965e2114-6a4d-41bb-8f16-bba53958ed5b",
   "metadata": {},
   "outputs": [],
   "source": [
    "\"\"\"\n",
    "4. Use the sqlite3 module to create a SQLite database called books.db, and a table called books \n",
    "with these fields: title (text), author (text), and year (integer).\n",
    "\"\"\"\n",
    "import sqlite3\n",
    "db = sqlite3.connect('books.db')\n",
    "cursor = db.cursor()\n",
    "cursor.execute(\"CREATE TABLE books (title text, author text, year int)\")\n",
    "db.commit()\n",
    "db.close()"
   ]
  },
  {
   "cell_type": "code",
   "execution_count": null,
   "id": "a9f8ddb9-3642-42bf-8cbe-92314ee77dcb",
   "metadata": {},
   "outputs": [],
   "source": [
    "# 5. Read books.csv and insert its data into the book table.\n",
    "\n",
    "import sqlite3\n",
    "import csv\n",
    "conn = sqlite3.connect(\"books.db\")\n",
    "cursor = conn.cursor()\n",
    "with open(\"books.csv\",\"r\") as file:\n",
    "    books = csv.DictReader(file)\n",
    "    for book in books:\n",
    "        cursor.execute(\"INSERT INTO books VALUES (?,?,?)\",(book['title'],book['author'],book['year']))\n",
    "conn.commit()\n",
    "conn.close()"
   ]
  },
  {
   "cell_type": "code",
   "execution_count": null,
   "id": "a2195ed7-5cc9-4551-a483-4c99ee38e9e8",
   "metadata": {},
   "outputs": [],
   "source": [
    "# 6. Select and print the title column from the book table in alphabetical order.\n",
    "\n",
    "import sqlite3\n",
    "conn = sqlite3.connect('books.db')\n",
    "cursor = conn.cursor()\n",
    "output = cursor.execute(\"SELECT title FROM books ORDER BY title ASC\")\n",
    "for ele in output:\n",
    "    print(ele[0])\n",
    "conn.commit()\n",
    "conn.close()"
   ]
  },
  {
   "cell_type": "code",
   "execution_count": null,
   "id": "cd4411bd-aa00-4e1f-85ba-b025bf210c7e",
   "metadata": {},
   "outputs": [],
   "source": [
    "# 7. From the book table, select and print all columns in the order of publication.\n",
    "\n",
    "import sqlite3\n",
    "conn = sqlite3.connect('books.db')\n",
    "cursor = conn.cursor()\n",
    "ouput = cursor.execute(\"SELECT * FROM books ORDER BY year\")\n",
    "for record in ouput:\n",
    "    print(record)"
   ]
  },
  {
   "cell_type": "code",
   "execution_count": 26,
   "id": "371031b2-5c3e-4c6d-b388-2019692bbed2",
   "metadata": {},
   "outputs": [
    {
     "data": {
      "text/plain": [
       "Engine(sqlite:///books.db)"
      ]
     },
     "execution_count": 26,
     "metadata": {},
     "output_type": "execute_result"
    }
   ],
   "source": [
    "# 8. Use the sqlalchemy module to connect to the sqlite3 database books.db that you just made in exercise 6.\n",
    "\n",
    "import sqlalchemy\n",
    "conn = sqlalchemy.create_engine('sqlite:///books.db')\n",
    "conn"
   ]
  },
  {
   "cell_type": "code",
   "execution_count": 27,
   "id": "cb4b0d0f-cb58-4371-8da0-055f0cd2eeba",
   "metadata": {},
   "outputs": [
    {
     "name": "stdout",
     "output_type": "stream",
     "text": [
      "Collecting redis\n",
      "  Downloading redis-4.5.5-py3-none-any.whl (240 kB)\n",
      "\u001b[2K     \u001b[90m━━━━━━━━━━━━━━━━━━━━━━━━━━━━━━━━━━━━━━\u001b[0m \u001b[32m240.3/240.3 kB\u001b[0m \u001b[31m20.0 MB/s\u001b[0m eta \u001b[36m0:00:00\u001b[0m\n",
      "\u001b[?25hCollecting async-timeout>=4.0.2\n",
      "  Downloading async_timeout-4.0.2-py3-none-any.whl (5.8 kB)\n",
      "Installing collected packages: async-timeout, redis\n",
      "Successfully installed async-timeout-4.0.2 redis-4.5.5\n"
     ]
    }
   ],
   "source": [
    "\"\"\"\n",
    "9. Install the Redis server and the Python redis library (pip install redis) on your computer. \n",
    "Create a Redis hash called test with the fields count (1) and name ('Fester Bestertester'). \n",
    "Print all the fields for test.\n",
    "\"\"\"\n",
    "\n",
    "! python -m pip install redis"
   ]
  },
  {
   "cell_type": "code",
   "execution_count": null,
   "id": "cf4039ae-f598-4589-a68a-e6b3e0537b11",
   "metadata": {},
   "outputs": [],
   "source": [
    "# 10. Increment the count field of test and print it.\n",
    "\n",
    "conn.hincrby('test', 'count', 1)\n",
    "conn.hget('test', 'count')"
   ]
  }
 ],
 "metadata": {
  "kernelspec": {
   "display_name": "Python 3 (ipykernel)",
   "language": "python",
   "name": "python3"
  },
  "language_info": {
   "codemirror_mode": {
    "name": "ipython",
    "version": 3
   },
   "file_extension": ".py",
   "mimetype": "text/x-python",
   "name": "python",
   "nbconvert_exporter": "python",
   "pygments_lexer": "ipython3",
   "version": "3.10.6"
  }
 },
 "nbformat": 4,
 "nbformat_minor": 5
}
