{
 "cells": [
  {
   "cell_type": "code",
   "execution_count": 19,
   "id": "cb3cf4bc-b8ff-43d7-ad00-dfd67c011782",
   "metadata": {},
   "outputs": [
    {
     "name": "stdout",
     "output_type": "stream",
     "text": [
      "Hello \\ World\n",
      "\n",
      "Hello \n",
      "World\n",
      "\n",
      "Hello\tWorld\n"
     ]
    }
   ],
   "source": [
    "# 1. What are escape characters, and how do you use them?\n",
    "\n",
    "\"\"\"\n",
    "Escape characters are the special characters in python which do not represent itself in the output\n",
    "but it converts into another character.\n",
    "Every escape character starts with a backslach (\\) and followed by the  character.\n",
    "Example : \\n , \\\\ , \\r , \\t .\n",
    "\n",
    "\"\"\"\n",
    "\n",
    "# \\\\ is used to print a single \\ in the string.\n",
    "a = \"Hello \\\\ World\"\n",
    "print(a)\n",
    "print()\n",
    "\n",
    "# \\n is used to print in new line,anything after \\n it will be printed in new line.\n",
    "b = \"Hello \\nWorld\"\n",
    "print(b)\n",
    "print()\n",
    "\n",
    "#\\t is used to create a tab space.\n",
    "c = \"Hello\\tWorld\"\n",
    "print(c)"
   ]
  },
  {
   "cell_type": "code",
   "execution_count": 20,
   "id": "1a5f6ead-aba2-438c-a796-9a4cc0200e2f",
   "metadata": {},
   "outputs": [
    {
     "name": "stdout",
     "output_type": "stream",
     "text": [
      "Hello Everyone \n",
      "How are you \n",
      "This is python assignment\n",
      "\n",
      "Hello Everyone \t This is example for escape character \t example 2\n"
     ]
    }
   ],
   "source": [
    "# 2. What do the escape characters n and t stand for?\n",
    "\n",
    "\"\"\"\n",
    "\\n : This stands for new line, anything written after \\n in a string will be printed in new line.\n",
    "\\t : This stands for tab, at the place where \\t is written it will create a tab space in the string.\n",
    "\n",
    "\"\"\"\n",
    "\n",
    "# Example for \\n\n",
    "b = \"Hello Everyone \\nHow are you \\nThis is python assignment\"\n",
    "print(b)\n",
    "print()\n",
    "\n",
    "# example for \\t\n",
    "c = \"Hello Everyone \\t This is example for escape character \\t example 2\"\n",
    "print(c)"
   ]
  },
  {
   "cell_type": "code",
   "execution_count": 21,
   "id": "9a044cf6-0268-4649-9e2c-fcc310456acc",
   "metadata": {},
   "outputs": [
    {
     "name": "stdout",
     "output_type": "stream",
     "text": [
      "Hello \\ World\n"
     ]
    }
   ],
   "source": [
    "# 3. What is the way to include backslash characters in a string?\n",
    "\n",
    "# \\\\ is used to print a single \\ in the string.\n",
    "a = \"Hello \\\\ World\"\n",
    "print(a)"
   ]
  },
  {
   "cell_type": "code",
   "execution_count": 29,
   "id": "a3987441-70ae-427c-bdb0-fbc3591abf3a",
   "metadata": {},
   "outputs": [
    {
     "name": "stdout",
     "output_type": "stream",
     "text": [
      "Howl's Moving Castle\n",
      "\n",
      "Howl's Moving Castle\n"
     ]
    }
   ],
   "source": [
    "\"\"\"\n",
    "4. The string \"Howl's Moving Castle\" is a correct value. \n",
    "Why isn't the single quote character in the word Howl's not escaped a problem?\n",
    "\"\"\"\n",
    "\n",
    "# The string \"Howl's Moving Castle\" is a correct value because it is written inside a double quotes.\n",
    "d = \"Howl's Moving Castle\"\n",
    "print(d)\n",
    "print()\n",
    "\n",
    "# If the complete string was written inside a single quote then we will get SyntaxError. \n",
    "# To overcome this we use single \\ before the single quote to be printed inside the string.\n",
    "d = 'Howl\\'s Moving Castle'\n",
    "print(d)"
   ]
  },
  {
   "cell_type": "code",
   "execution_count": 30,
   "id": "c7f415b5-0444-4ed2-a0e3-435d274c1602",
   "metadata": {},
   "outputs": [
    {
     "name": "stdout",
     "output_type": "stream",
     "text": [
      "\n",
      "Hello Everyone \n",
      "How are you\n",
      "This is python assignment\n",
      "\n"
     ]
    }
   ],
   "source": [
    "# 5. How do you write a string of newlines if you don't want to use the n character?\n",
    "\n",
    "# Instad of \\n we can we can use mutliline comment form or method to print a string in new line.\n",
    "# string staring with 3 double quote \"\"\" and ending with 3 double quote \"\"\"\n",
    "\n",
    "b = \"\"\"\n",
    "Hello Everyone \n",
    "How are you\n",
    "This is python assignment\n",
    "\"\"\"\n",
    "print(b)"
   ]
  },
  {
   "cell_type": "code",
   "execution_count": 44,
   "id": "9491663c-0eef-4d67-90f9-41bc92e677e8",
   "metadata": {},
   "outputs": [
    {
     "name": "stdout",
     "output_type": "stream",
     "text": [
      "e \n",
      "Hello \n",
      "Hello \n",
      "lo, world!\n"
     ]
    }
   ],
   "source": [
    "\"\"\"\n",
    "6. What are the values of the given expressions?\n",
    "'Hello, world!'[1]\n",
    "'Hello, world!'[0:5]\n",
    "'Hello, world!'[:5]\n",
    "'Hello, world!'[3:]\n",
    "\"\"\"\n",
    "\n",
    "\"\"\"\n",
    "The values of the expressions are\n",
    "1. 'Hello, world!'[1]    is  : e      \n",
    "[1] is the index value at index 1 the value is e.\n",
    "2. 'Hello, world!'[0:5]  is  : Hello \n",
    "[0:5] 0 is the starting index number and 5-1 is the ending index number.\n",
    "3. 'Hello, world!'[:5]   is  : Hello  \n",
    "[:5] dy default starting index will be 0 if not specified and 5-1 is the ending index number.\n",
    "4. 'Hello, world!'[3:]   is  : lo, world!  \n",
    "[3:] here 3 is the starting index and by default last index value will be seleted if not specified\n",
    "\n",
    "\"\"\"\n",
    "\n",
    "A = 'Hello, world!'[1]\n",
    "B = 'Hello, world!'[0:5]\n",
    "C = 'Hello, world!'[:5]\n",
    "D = 'Hello, world!'[3:]\n",
    "\n",
    "print(f\"{A} \\n{B} \\n{C} \\n{D}\")"
   ]
  },
  {
   "cell_type": "code",
   "execution_count": 46,
   "id": "a5a5af4d-0b2c-487b-a4d1-2cefaac67cc3",
   "metadata": {},
   "outputs": [
    {
     "name": "stdout",
     "output_type": "stream",
     "text": [
      "HELLO \n",
      "True \n",
      "hello\n"
     ]
    }
   ],
   "source": [
    "\"\"\"\n",
    "7. What are the values of the following expressions?\n",
    "'Hello'.upper()\n",
    "'Hello'.upper().isupper()\n",
    "'Hello'.upper().lower()\n",
    "\"\"\"\n",
    "\n",
    "\"\"\"\n",
    "1. 'Hello'.upper() the value is HELLO \n",
    "upper() is a inbuilt module which helps in returning all the string values into upper or capital letter.\n",
    "\n",
    "2. 'Hello'.upper().isupper() the value is True\n",
    "upper() convert the string to capital letter, isupper() is a inbuilt module which check that all the letters are capital,\n",
    "and return a boolean value True or False.\n",
    "\n",
    "3. 'Hello'.upper().lower() the value is hello \n",
    "first it convert all the string to capital letters, next with the help of lower() inbuilt module it convert all the \n",
    "string to lower letter.\n",
    "\n",
    "\"\"\"\n",
    "\n",
    "a = 'Hello'.upper()\n",
    "b = 'Hello'.upper().isupper()\n",
    "c = 'Hello'.upper().lower()\n",
    "\n",
    "print(f\"{a} \\n{b} \\n{c}\")"
   ]
  },
  {
   "cell_type": "code",
   "execution_count": 53,
   "id": "aa1516bf-0541-49e3-a8c9-aa7fded61463",
   "metadata": {},
   "outputs": [
    {
     "name": "stdout",
     "output_type": "stream",
     "text": [
      "['Remember,', 'remember,', 'the', 'fifth', 'of', 'July.']\n",
      "There-can-only-one.\n"
     ]
    }
   ],
   "source": [
    "\"\"\"\n",
    "8. What are the values of the following expressions?\n",
    "'Remember, remember, the fifth of July.'.split()\n",
    "'-'.join('There can only one.'.split())\n",
    "\"\"\"\n",
    "\n",
    "\"\"\"\n",
    "1. 'Remember, remember, the fifth of July.'.split() result is : ['Remember,', 'remember,', 'the', 'fifth', 'of', 'July.']\n",
    "split() is a inbuilt function which helps in spliting a string and convert to list. by default it splits at space.\n",
    "\n",
    "2. '-'.join('There can only one.'.split()) result is : 'There-can-only-one.'\n",
    "join is a module used to join the strings together.\n",
    "\n",
    "\"\"\"\n",
    "\n",
    "p = 'Remember, remember, the fifth of July.'.split()\n",
    "q = '-'.join('There can only one.'.split())\n",
    "\n",
    "print(p)\n",
    "print(q)"
   ]
  },
  {
   "cell_type": "code",
   "execution_count": 81,
   "id": "54b8fa96-2cc9-497c-a0d3-e4dc4fa3eb83",
   "metadata": {},
   "outputs": [
    {
     "name": "stdout",
     "output_type": "stream",
     "text": [
      "                   Python is a high-level, general-purpose programming language.\n",
      "Python is a high-level, general-purpose programming language.\n",
      "         Python is a high-level, general-purpose programming language.          \n"
     ]
    }
   ],
   "source": [
    "# 9. What are the methods for right-justifying, left-justifying, and centering a string?\n",
    "\n",
    "\n",
    "# 1.right-justifying, rjust() : It is a inbuilt module which helps in starting the string from right side.\n",
    "rstr = \"Python is a high-level, general-purpose programming language.\"\n",
    "print(rstr.rjust(80)) # 80 is The width of string to expand it.\n",
    "\n",
    "# 2. left justifying , ljust() : It is a inbuilt module which helps in starting the string from left side.\n",
    "lstr = \"Python is a high-level, general-purpose programming language.\"\n",
    "print(lstr.ljust(40)) # 40 is The width of string to expand it.\n",
    "\n",
    "# 3. center() : It is a inbuilt module which helps in starting the string from center.\n",
    "cstr = \"Python is a high-level, general-purpose programming language.\" \n",
    "print(cstr.center(80))"
   ]
  },
  {
   "cell_type": "code",
   "execution_count": 84,
   "id": "41be3a87-89d1-47d0-80b0-ae7db22c46c6",
   "metadata": {},
   "outputs": [
    {
     "data": {
      "text/plain": [
       "'Python is a programming language.'"
      ]
     },
     "execution_count": 84,
     "metadata": {},
     "output_type": "execute_result"
    }
   ],
   "source": [
    "# 10. What is the best way to remove whitespace characters from the start or end?\n",
    "\n",
    "\n",
    "# strip is a inbuilt module which helps in removing the whitespace.\n",
    "strip = \"     Python is a programming language.     \"\n",
    "strip.strip()"
   ]
  },
  {
   "cell_type": "code",
   "execution_count": null,
   "id": "ac65c766-0e14-4dfe-adfb-bb489ae42d36",
   "metadata": {},
   "outputs": [],
   "source": []
  }
 ],
 "metadata": {
  "kernelspec": {
   "display_name": "Python 3 (ipykernel)",
   "language": "python",
   "name": "python3"
  },
  "language_info": {
   "codemirror_mode": {
    "name": "ipython",
    "version": 3
   },
   "file_extension": ".py",
   "mimetype": "text/x-python",
   "name": "python",
   "nbconvert_exporter": "python",
   "pygments_lexer": "ipython3",
   "version": "3.10.6"
  }
 },
 "nbformat": 4,
 "nbformat_minor": 5
}
