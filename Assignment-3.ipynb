{
 "cells": [
  {
   "cell_type": "code",
   "execution_count": 2,
   "id": "b73dffa6-37b4-4568-86e9-88dfa8ef765b",
   "metadata": {},
   "outputs": [
    {
     "name": "stdout",
     "output_type": "stream",
     "text": [
      "Example for function\n"
     ]
    }
   ],
   "source": [
    "# 1. Why are functions advantageous to have in your programs?\n",
    "\n",
    "# Answer \n",
    "\n",
    "\"\"\"\n",
    "The advantages of functions are as mentioned below.\n",
    "1. With the help of functions we can reduce the duplication of code\n",
    "2. The length of the code can be reduced and made shorter with the help of functions.\n",
    "3. We can reuse the code and update the code easily.\n",
    "4. Functions help in understanding the code easily and helps in hiding some information also.\n",
    "\n",
    "\"\"\"\n",
    "\n",
    "def exp1() :\n",
    "    print(\"Example for function\")\n",
    "\n",
    "# process of calling a function.\n",
    "exp1()"
   ]
  },
  {
   "cell_type": "code",
   "execution_count": 3,
   "id": "eec93085-6442-406e-8eb5-6ebb9d662c3c",
   "metadata": {},
   "outputs": [
    {
     "name": "stdout",
     "output_type": "stream",
     "text": [
      "Example for function\n"
     ]
    }
   ],
   "source": [
    "# 2. When does the code in a function run: when it's specified or when it's called?\n",
    "\n",
    "# Answer\n",
    "\n",
    "# The code in a function runs when the function is called.\n",
    "\n",
    "def exp1() :\n",
    "    print(\"Example for function\")\n",
    "\n",
    "# process of calling a function.\n",
    "exp1()"
   ]
  },
  {
   "cell_type": "code",
   "execution_count": 4,
   "id": "24b38370-3229-4059-b8bc-1e01b26549f9",
   "metadata": {},
   "outputs": [
    {
     "name": "stdout",
     "output_type": "stream",
     "text": [
      "Example for function\n"
     ]
    }
   ],
   "source": [
    "# 3. What statement creates a function?\n",
    "\n",
    "# Answer\n",
    "\n",
    "# def is the keyword which helps in creating a function.\n",
    "\n",
    "def exp1() :\n",
    "    print(\"Example for function\")\n",
    "\n",
    "# process of calling a function.\n",
    "exp1()"
   ]
  },
  {
   "cell_type": "code",
   "execution_count": null,
   "id": "78b0766d-b588-459c-ab7e-e5c37148bc5e",
   "metadata": {},
   "outputs": [],
   "source": [
    "# 4. What is the difference between a function and a function call?\n",
    "\n",
    "# Answer\n",
    "\n",
    "\"\"\"\n",
    "Function is a block of code which we can store with the help of function name.\n",
    "Function call is the process or method with helps in executing the code inside the function.\n",
    "\n",
    "def exp1() :\n",
    "    print(\"Example for function\")\n",
    "\n",
    "exp1 is the function with stores the code in it.\n",
    "exp1()  this is the method or function call which will help in executing the code and return the output.\n",
    "\n",
    "\"\"\""
   ]
  },
  {
   "cell_type": "code",
   "execution_count": null,
   "id": "070ee8b9-5acf-4f16-85ba-60b9f04925f8",
   "metadata": {},
   "outputs": [],
   "source": [
    "# 5. How many global scopes are there in a Python program? How many local scopes?\n",
    "\n",
    "# Answer\n",
    "\n",
    "# we have 1 global and 4 local scopes in python."
   ]
  },
  {
   "cell_type": "code",
   "execution_count": 8,
   "id": "79200d00-fe0d-4d68-bf73-bd41192e59ad",
   "metadata": {},
   "outputs": [
    {
     "name": "stdout",
     "output_type": "stream",
     "text": [
      "10\n"
     ]
    },
    {
     "ename": "NameError",
     "evalue": "name 'a' is not defined",
     "output_type": "error",
     "traceback": [
      "\u001b[0;31m---------------------------------------------------------------------------\u001b[0m",
      "\u001b[0;31mNameError\u001b[0m                                 Traceback (most recent call last)",
      "Cell \u001b[0;32mIn [8], line 19\u001b[0m\n\u001b[1;32m     16\u001b[0m exp2()\n\u001b[1;32m     18\u001b[0m \u001b[38;5;66;03m# accessing a local variable outside the function is not possible it gives NameError.\u001b[39;00m\n\u001b[0;32m---> 19\u001b[0m \u001b[38;5;28mprint\u001b[39m(\u001b[43ma\u001b[49m)\n",
      "\u001b[0;31mNameError\u001b[0m: name 'a' is not defined"
     ]
    }
   ],
   "source": [
    "# 6. What happens to variables in a local scope when the function call returns?\n",
    "\n",
    "# Answer\n",
    "\n",
    "\"\"\"\n",
    "After calling the function and executing the program inside the function the local scope variable is terminated.\n",
    "The local scope variable has scope only inside that function and out side the function we cannot use it.\n",
    "\n",
    "\"\"\"\n",
    "\n",
    "def exp2() :\n",
    "    a = 10\n",
    "    # accessing a local variable inside a function.\n",
    "    print(a) \n",
    "    \n",
    "exp2()\n",
    "\n",
    "# accessing a local variable outside the function is not possible it gives NameError.\n",
    "print(a)"
   ]
  },
  {
   "cell_type": "code",
   "execution_count": null,
   "id": "ee345167-6d9f-4505-b7f3-e8fc26eff17d",
   "metadata": {},
   "outputs": [],
   "source": [
    "# 7. What is the concept of a return value? Is it possible to have a return value in an expression?\n",
    "\n",
    "# Answer\n",
    "\n",
    "\"\"\"\n",
    "return is a keyword in python which helps in returning the result of the code or expression or values.\n",
    "we can have the return value in an expression.\n",
    "\n",
    "\"\"\""
   ]
  },
  {
   "cell_type": "code",
   "execution_count": 17,
   "id": "0ac6a603-3356-4db8-8aeb-96fd7c218fbc",
   "metadata": {},
   "outputs": [
    {
     "name": "stdout",
     "output_type": "stream",
     "text": [
      "Example of non return type\n",
      "None\n",
      "<class 'NoneType'>\n",
      "Example for return type\n",
      "<class 'str'>\n"
     ]
    }
   ],
   "source": [
    "# 8. If a function does not have a return statement, what is the return value of a call to that function?\n",
    "\n",
    "# Answer\n",
    "\n",
    "# If a function does not have a return type then it will return none type.\n",
    "\n",
    "def  exp3() :\n",
    "    print(\"Example of non return type\")\n",
    "    \n",
    "\n",
    "def exp4() :\n",
    "    return \"Example for return type\"\n",
    "\n",
    "a = exp3()\n",
    "print(a)\n",
    "print(type(a)) \n",
    "\n",
    "c = exp4()\n",
    "print(c)\n",
    "print(type(c))"
   ]
  },
  {
   "cell_type": "code",
   "execution_count": 20,
   "id": "47235f93-8343-4168-80f2-712bc1781a77",
   "metadata": {},
   "outputs": [
    {
     "name": "stdout",
     "output_type": "stream",
     "text": [
      "10 12\n",
      "12\n"
     ]
    },
    {
     "ename": "NameError",
     "evalue": "name 'x' is not defined",
     "output_type": "error",
     "traceback": [
      "\u001b[0;31m---------------------------------------------------------------------------\u001b[0m",
      "\u001b[0;31mNameError\u001b[0m                                 Traceback (most recent call last)",
      "Cell \u001b[0;32mIn [20], line 24\u001b[0m\n\u001b[1;32m     22\u001b[0m \u001b[38;5;28mprint\u001b[39m(y)\n\u001b[1;32m     23\u001b[0m \u001b[38;5;66;03m# calling a local variable outside the function gives NameError\u001b[39;00m\n\u001b[0;32m---> 24\u001b[0m \u001b[38;5;28mprint\u001b[39m(\u001b[43mx\u001b[49m)\n",
      "\u001b[0;31mNameError\u001b[0m: name 'x' is not defined"
     ]
    }
   ],
   "source": [
    "# 9. How do you make a function variable refer to the global variable? \n",
    "\n",
    "# Answer\n",
    "\n",
    "\"\"\"\n",
    "When we define a variable inside a function it will be local variable by default.\n",
    "If we want to convert a local variable into global then we need to use global keyword and define the variable.\n",
    "\n",
    "\"\"\"\n",
    "\n",
    "def exp5() :\n",
    "# Defining a local variable inside the function.\n",
    "    x = 10\n",
    "# Defining a global variable inside the function.\n",
    "    global y\n",
    "    y = 12\n",
    "    print(x , y)\n",
    "\n",
    "# calling a function.\n",
    "exp5()\n",
    "# calling a global varible\n",
    "print(y)\n",
    "# calling a local variable outside the function gives NameError\n",
    "print(x)"
   ]
  },
  {
   "cell_type": "code",
   "execution_count": null,
   "id": "cfa9fe61-86a9-4288-8a76-a77bd839cf7e",
   "metadata": {},
   "outputs": [],
   "source": [
    "# 10. What is the data type of None?\n",
    "\n",
    "# Answer\n",
    "\n",
    "# None is a data type of the class None Type"
   ]
  },
  {
   "cell_type": "code",
   "execution_count": null,
   "id": "cd5df70c-c8c2-4613-891e-d6a41fb5fb4f",
   "metadata": {},
   "outputs": [],
   "source": [
    "# 11. What does the sentence import areallyourpetsnamederic do?\n",
    "\n",
    "# Answer\n",
    "\n",
    "\"\"\"\n",
    "import is a keyword used to import or download the module.\n",
    "import areallyourpetsnamederic will import the areallyourpetsnamederic module in python.\n",
    "\n",
    "\"\"\""
   ]
  },
  {
   "cell_type": "code",
   "execution_count": null,
   "id": "f129d076-fa91-41e5-95fc-c18134bf495a",
   "metadata": {},
   "outputs": [],
   "source": [
    "# 12. If you had a bacon() feature in a spam module, what would you call it after importing spam?\n",
    "\n",
    "# Answer\n",
    "\n",
    "# The process to call bacon is spam.bacon() "
   ]
  },
  {
   "cell_type": "code",
   "execution_count": 21,
   "id": "26566fab-018f-4cfc-8b85-1a8215a256cf",
   "metadata": {},
   "outputs": [
    {
     "name": "stdout",
     "output_type": "stream",
     "text": [
      "Main code to be executed\n"
     ]
    }
   ],
   "source": [
    "# 13. What can you do to save a programme from crashing if it encounters an error?\n",
    "\n",
    "# Answer\n",
    "\n",
    "\"\"\"\n",
    "we can use try and except method to handle the error which is known as exception handling.\n",
    "\n",
    "\"\"\"\n",
    "try : \n",
    "    print(\"Main code to be executed\")\n",
    "except :\n",
    "    print(\"code to execute if there is any error to save crassing of code\")"
   ]
  },
  {
   "cell_type": "code",
   "execution_count": 23,
   "id": "585ce8f0-ea90-4c2f-90f0-015204a642bc",
   "metadata": {},
   "outputs": [
    {
     "name": "stdout",
     "output_type": "stream",
     "text": [
      "Main code to be executed\n"
     ]
    }
   ],
   "source": [
    "# 14. What is the purpose of the try clause? What is the purpose of the except clause?\n",
    "\n",
    "# Answer \n",
    "\n",
    "\"\"\"\n",
    "try clause is used to execute the main code and except block is used to handle the error.\n",
    "first try block code will be executed if there is any error it moved to except block of code.\n",
    "\n",
    "\"\"\"\n",
    "try : \n",
    "    print(\"Main code to be executed\")\n",
    "except :\n",
    "    print(\"code to execute if there is any error to save crassing of code\")"
   ]
  },
  {
   "cell_type": "code",
   "execution_count": null,
   "id": "d05385fc-7a60-4ebf-a639-d9dbb54da888",
   "metadata": {},
   "outputs": [],
   "source": []
  }
 ],
 "metadata": {
  "kernelspec": {
   "display_name": "Python 3 (ipykernel)",
   "language": "python",
   "name": "python3"
  },
  "language_info": {
   "codemirror_mode": {
    "name": "ipython",
    "version": 3
   },
   "file_extension": ".py",
   "mimetype": "text/x-python",
   "name": "python",
   "nbconvert_exporter": "python",
   "pygments_lexer": "ipython3",
   "version": "3.10.6"
  }
 },
 "nbformat": 4,
 "nbformat_minor": 5
}
