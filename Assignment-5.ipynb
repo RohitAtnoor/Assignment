{
 "cells": [
  {
   "cell_type": "code",
   "execution_count": 1,
   "id": "ae2eca33-e2d5-4c66-8494-f3ab1e8b3fd3",
   "metadata": {},
   "outputs": [
    {
     "name": "stdout",
     "output_type": "stream",
     "text": [
      "<class 'dict'>\n"
     ]
    }
   ],
   "source": [
    "# 1. What does an empty dictionary's code look like?\n",
    "\n",
    "\"\"\"\n",
    "A dictionary is denoted by flower brackers {} .\n",
    "Data type of dictionary is dict.\n",
    "an empty dictionary is denoted by {} .\n",
    "\n",
    "\"\"\"\n",
    "\n",
    "dic = { } \n",
    "print(type(dic))"
   ]
  },
  {
   "cell_type": "code",
   "execution_count": 8,
   "id": "2f5517eb-f6e7-4531-8b4e-a88a2dceb1fd",
   "metadata": {},
   "outputs": [
    {
     "data": {
      "text/plain": [
       "42"
      ]
     },
     "execution_count": 8,
     "metadata": {},
     "output_type": "execute_result"
    }
   ],
   "source": [
    "# 2. What is the value of a dictionary value with the key 'foo' and the value 42?\n",
    "\n",
    "\"\"\"\n",
    "A dictionary is represented in the form of key values pair {key : value}\n",
    "the value of key 'foo' is 42.\n",
    "\"\"\"\n",
    "\n",
    "A = {\"foo\" : 42}\n",
    "A[\"foo\"] # The value of key \"foo\" is 42."
   ]
  },
  {
   "cell_type": "code",
   "execution_count": null,
   "id": "ff5095e4-6370-42f8-acf1-d7461ed52955",
   "metadata": {},
   "outputs": [],
   "source": [
    "# 3. What is the most significant distinction between a dictionary and a list?\n",
    "\n",
    "\"\"\"\n",
    "1. list is represented in square bracket [] , and dictionary is represented by flower bracket {}.\n",
    "2. indexing is there in list and in dictionary no indexing.\n",
    "3 Duplicate elements are accepted in list, in dictionary keys are unique and values can be duplicate.\n",
    "4. list is a collection of index value pair and dictionary is collection of key and value pair.\n",
    "\n",
    "\"\"\""
   ]
  },
  {
   "cell_type": "code",
   "execution_count": 10,
   "id": "182145a4-cbfb-4640-a9e5-b4ea16f16152",
   "metadata": {},
   "outputs": [
    {
     "ename": "KeyError",
     "evalue": "'foo'",
     "output_type": "error",
     "traceback": [
      "\u001b[0;31m---------------------------------------------------------------------------\u001b[0m",
      "\u001b[0;31mKeyError\u001b[0m                                  Traceback (most recent call last)",
      "Cell \u001b[0;32mIn [10], line 9\u001b[0m\n\u001b[1;32m      3\u001b[0m \u001b[38;5;124;03m\"\"\"\u001b[39;00m\n\u001b[1;32m      4\u001b[0m \u001b[38;5;124;03mThis will return the keyerror exception or error because here we are trying to access \"foo\" key in spam.\u001b[39;00m\n\u001b[1;32m      5\u001b[0m \u001b[38;5;124;03mand foo key-value is not available in the defined dictionary.\u001b[39;00m\n\u001b[1;32m      6\u001b[0m \u001b[38;5;124;03m\"\"\"\u001b[39;00m\n\u001b[1;32m      8\u001b[0m spam \u001b[38;5;241m=\u001b[39m {\u001b[38;5;124m'\u001b[39m\u001b[38;5;124mbar\u001b[39m\u001b[38;5;124m'\u001b[39m: \u001b[38;5;241m100\u001b[39m}\n\u001b[0;32m----> 9\u001b[0m \u001b[43mspam\u001b[49m\u001b[43m[\u001b[49m\u001b[38;5;124;43m'\u001b[39;49m\u001b[38;5;124;43mfoo\u001b[39;49m\u001b[38;5;124;43m'\u001b[39;49m\u001b[43m]\u001b[49m\n",
      "\u001b[0;31mKeyError\u001b[0m: 'foo'"
     ]
    }
   ],
   "source": [
    "# 4. What happens if you try to access spam['foo'] if spam is {'bar': 100}?\n",
    "\n",
    "\"\"\"\n",
    "This will return the keyerror exception or error because here we are trying to access \"foo\" key in spam.\n",
    "and foo key-value is not available in the defined dictionary.\n",
    "\"\"\"\n",
    "\n",
    "spam = {'bar': 100}\n",
    "spam['foo'] "
   ]
  },
  {
   "cell_type": "code",
   "execution_count": 19,
   "id": "cb612497-e2ae-4fd7-af91-93b4775e4b6f",
   "metadata": {},
   "outputs": [
    {
     "name": "stdout",
     "output_type": "stream",
     "text": [
      "2\n",
      "dict_keys(['cat'])\n"
     ]
    }
   ],
   "source": [
    "# 5. If a dictionary is stored in spam, what is the difference between the expressions 'cat' in spam and 'cat' in spam.keys()?\n",
    "\n",
    "spam = {\"cat\" : 2}\n",
    "print(spam[\"cat\"]) # this will return the value of the key \"cat\".\n",
    "print(spam.keys()) # this will return the keys which are available in the dictionary."
   ]
  },
  {
   "cell_type": "code",
   "execution_count": 20,
   "id": "4332e89e-6bff-46e5-ae6c-ac442968249b",
   "metadata": {},
   "outputs": [
    {
     "name": "stdout",
     "output_type": "stream",
     "text": [
      "2\n",
      "dict_values([2])\n"
     ]
    }
   ],
   "source": [
    "# 6. If a dictionary is stored in spam, what is the difference between the expressions 'cat' in spam and 'cat' in spam.values()?\n",
    "\n",
    "spam = {\"cat\" : 2}\n",
    "print(spam[\"cat\"]) # this will return the value of the key \"cat\".\n",
    "print(spam.values()) # this will return the values which are available in the dictionary."
   ]
  },
  {
   "cell_type": "code",
   "execution_count": 24,
   "id": "04f838ad-3ec0-458e-a327-418bccfad92e",
   "metadata": {},
   "outputs": [
    {
     "name": "stdout",
     "output_type": "stream",
     "text": [
      "{'color1': 'orange', 'color2': 'red', 'color': 'black'}\n"
     ]
    }
   ],
   "source": [
    "\"\"\"\n",
    "7. What is a shortcut for the following code?\n",
    "if 'color' not in spam:\n",
    "spam['color'] = 'black'\n",
    "\n",
    "\"\"\"\n",
    "\n",
    "# setdefault() is the method or function available in dictionary where we can give a default vaule is the specified key is not available.\n",
    "# spam.setdefault(\"key\",\"value\")\n",
    "\n",
    "spam1 = {\"color1\": \"orange\", \"color2\":\"red\"}\n",
    "spam1.setdefault(\"color\",\"black\")\n",
    "print(spam1)\n"
   ]
  },
  {
   "cell_type": "code",
   "execution_count": null,
   "id": "3e75b9bc-61f0-4597-9aa6-cdb472e53f7c",
   "metadata": {},
   "outputs": [],
   "source": [
    "# 8. How do you \"pretty print\" dictionary values using which module and function?\n",
    "\n",
    "# The inbuilt method is pprint for prity print. and function name is also pprint."
   ]
  },
  {
   "cell_type": "code",
   "execution_count": 29,
   "id": "e66068c6-9227-4836-807e-904dde7abbc3",
   "metadata": {},
   "outputs": [
    {
     "name": "stdout",
     "output_type": "stream",
     "text": [
      "{'color': 'black', 'color1': 'orange', 'color2': 'red'}\n",
      "{'color1': 'orange', 'color2': 'red', 'color': 'black'}\n"
     ]
    }
   ],
   "source": [
    "import pprint\n",
    "aa = {'color1': 'orange', 'color2': 'red', 'color': 'black'}\n",
    "pprint.pprint(aa)\n",
    "print(aa)"
   ]
  },
  {
   "cell_type": "code",
   "execution_count": null,
   "id": "419e7032-082e-45ac-b8e0-7002da644a1d",
   "metadata": {},
   "outputs": [],
   "source": []
  }
 ],
 "metadata": {
  "kernelspec": {
   "display_name": "Python 3 (ipykernel)",
   "language": "python",
   "name": "python3"
  },
  "language_info": {
   "codemirror_mode": {
    "name": "ipython",
    "version": 3
   },
   "file_extension": ".py",
   "mimetype": "text/x-python",
   "name": "python",
   "nbconvert_exporter": "python",
   "pygments_lexer": "ipython3",
   "version": "3.10.6"
  }
 },
 "nbformat": 4,
 "nbformat_minor": 5
}
