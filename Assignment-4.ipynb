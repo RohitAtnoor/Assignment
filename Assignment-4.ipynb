{
 "cells": [
  {
   "cell_type": "code",
   "execution_count": null,
   "id": "a986ea55-0152-4af5-b9bf-f8c9397817cd",
   "metadata": {},
   "outputs": [],
   "source": [
    "# 1. What exactly is []?\n",
    "\n",
    "\"\"\"\n",
    "A list is a type of in built data types in python, and the list is written inside the square brackets.\n",
    "[] this indicates an empty list.\n",
    "we can store any data inside the list.\n",
    "\n",
    "\"\"\""
   ]
  },
  {
   "cell_type": "code",
   "execution_count": 33,
   "id": "f1c636a2-d6fd-40c0-a27d-d915ea48e10a",
   "metadata": {},
   "outputs": [
    {
     "name": "stdout",
     "output_type": "stream",
     "text": [
      "[2, 4, 'Hello', 8, 10]\n"
     ]
    }
   ],
   "source": [
    "\"\"\"\n",
    "2. In a list of values stored in a variable called spam, \n",
    "how would you assign the value 'hello' as the third value? (Assume [2, 4, 6, 8, 10] are in spam.)\n",
    "\"\"\"\n",
    "\n",
    "# Spam is a variale as a list data type.\n",
    "spam = [2, 4, 6, 8, 10]\n",
    "# spam[2] [2] is the index number \"third value\"\n",
    "spam[2] = \"Hello\"\n",
    "print(spam) # Hello is updated in the third value."
   ]
  },
  {
   "cell_type": "code",
   "execution_count": null,
   "id": "653c975b-f19e-4048-94a1-995ea9d1720a",
   "metadata": {},
   "outputs": [],
   "source": [
    "# Let's pretend the spam includes the list ['a', 'b', 'c', 'd'] for the next three queries."
   ]
  },
  {
   "cell_type": "code",
   "execution_count": 34,
   "id": "4eeb5448-dff0-4536-becc-d42320b20df8",
   "metadata": {},
   "outputs": [
    {
     "data": {
      "text/plain": [
       "'d'"
      ]
     },
     "execution_count": 34,
     "metadata": {},
     "output_type": "execute_result"
    }
   ],
   "source": [
    "# 3. What is the value of spam[int(int('3' * 2) / 11)]?\n",
    "\n",
    "\n",
    "\"\"\"\n",
    "The values will be 'd' because int(int('3' * 2) / 11) this returns a integer value 3.\n",
    "spam[3] = 'd' 3 will be the index number, so the result will be 'd'\n",
    "\"\"\"\n",
    "\n",
    "spam = ['a', 'b', 'c', 'd']\n",
    "spam[int(int('3' * 2) / 11)]\n"
   ]
  },
  {
   "cell_type": "code",
   "execution_count": 19,
   "id": "375bf074-a2e2-4f8a-a0b3-3a5a178668e0",
   "metadata": {},
   "outputs": [
    {
     "data": {
      "text/plain": [
       "'d'"
      ]
     },
     "execution_count": 19,
     "metadata": {},
     "output_type": "execute_result"
    }
   ],
   "source": [
    "# 4. What is the value of spam[-1]?\n",
    "\n",
    "\"\"\"\n",
    "The spam[-1] is 'd' , from begining the indexing starts from [ 0, 1, 2, 3 ]\n",
    "and in reverse it starts from [-4,-3,-2,-1]. so spam[-1] is 'd'\n",
    "\"\"\"\n",
    "spam = ['a', 'b', 'c', 'd']\n",
    "spam[-1]"
   ]
  },
  {
   "cell_type": "code",
   "execution_count": 20,
   "id": "004a6e23-fc31-44cf-977e-8beab6569abe",
   "metadata": {},
   "outputs": [
    {
     "data": {
      "text/plain": [
       "['a', 'b']"
      ]
     },
     "execution_count": 20,
     "metadata": {},
     "output_type": "execute_result"
    }
   ],
   "source": [
    "# 5. What is the value of spam[:2]?\n",
    "\n",
    "\"\"\"\n",
    "spam[:2] here the starting index numder is 0 and ending index number is 2-1 = 1\n",
    "if staring index number is not specified then by default it will consider as 0.\n",
    "the result of spam[:2] is ['a', 'b']\n",
    "\"\"\"\n",
    "\n",
    "spam = ['a', 'b', 'c', 'd']\n",
    "spam[:2]"
   ]
  },
  {
   "cell_type": "code",
   "execution_count": 22,
   "id": "7d012a7e-984e-4112-a85d-cab194c0ad1c",
   "metadata": {},
   "outputs": [],
   "source": [
    "# Let's pretend bacon has the list [3.14, 'cat,' 11, 'cat,' True] for the next three questions."
   ]
  },
  {
   "cell_type": "code",
   "execution_count": 29,
   "id": "4e639227-0478-461c-96da-71f55e2b03f8",
   "metadata": {},
   "outputs": [
    {
     "data": {
      "text/plain": [
       "1"
      ]
     },
     "execution_count": 29,
     "metadata": {},
     "output_type": "execute_result"
    }
   ],
   "source": [
    "# 6. What is the value of bacon.index('cat')?\n",
    "\n",
    "\"\"\"\n",
    "bacon.index() here index is the inbuilt function in python which helps in finding the index value.\n",
    "we have to specify the value or data iside the bracket to get the index number.\n",
    "As there are 2 'cat' in the list itwill return first index number.\n",
    "so bacon.index('cat') is 1 the index value of 'cat'\n",
    "\n",
    "\"\"\"\n",
    "\n",
    "bacon = [3.14, 'cat', 11, 'cat', True]\n",
    "bacon.index('cat')\n"
   ]
  },
  {
   "cell_type": "code",
   "execution_count": 32,
   "id": "6d1e0c62-086e-4bd3-9821-d2616ea5dce2",
   "metadata": {},
   "outputs": [
    {
     "name": "stdout",
     "output_type": "stream",
     "text": [
      "[3.14, 'cat', 11, 'cat', True, 99]\n"
     ]
    }
   ],
   "source": [
    "# 7. How does bacon.append(99) change the look of the list value in bacon?\n",
    "\n",
    "\"\"\"\n",
    "append is a inbuilt function or method which helps in adding the value at the end in the list.\n",
    "bacon.append(99) this will add an integer value 99 at the end of the list. [3.14, 'cat', 11, 'cat', True, 99] \n",
    "with the help of append method we can add only 1 element at the end at a time.\n",
    "\"\"\"\n",
    "\n",
    "bacon = [3.14, 'cat', 11, 'cat', True]\n",
    "bacon.append(99)\n",
    "print(bacon)"
   ]
  },
  {
   "cell_type": "code",
   "execution_count": 41,
   "id": "23607a0a-4594-4ac7-b844-f5fbb67d6e95",
   "metadata": {},
   "outputs": [
    {
     "name": "stdout",
     "output_type": "stream",
     "text": [
      "[3.14, 11, 'cat', True]\n"
     ]
    }
   ],
   "source": [
    "# 8. How does bacon.remove('cat') change the look of the list in bacon?\n",
    "\n",
    "\"\"\"\n",
    "remove is a inbuilt method which help in removing the specified element or value from the list.\n",
    "if there are two elements with same values then it will remove the first value.\n",
    "so the result of bacon.remove('cat') is [3.14, 11, 'cat', True], it will remove firt cat from the list.\n",
    "\n",
    "\"\"\"\n",
    "\n",
    "bacon = [3.14, 'cat', 11, 'cat', True]\n",
    "bacon.remove('cat')\n",
    "print(bacon)"
   ]
  },
  {
   "cell_type": "code",
   "execution_count": 58,
   "id": "d6b73631-a252-4c8f-ba6f-d2bfe693c9d5",
   "metadata": {},
   "outputs": [
    {
     "name": "stdout",
     "output_type": "stream",
     "text": [
      "result of concantentaion operation [1, 2, 3, 4, 11, 22, 33, 44]\n",
      "result of replication operation [1, 2, 3, 4, 1, 2, 3, 4, 1, 2, 3, 4]\n"
     ]
    }
   ],
   "source": [
    "# 9. What are the list concatenation and list replication operators?\n",
    "\n",
    "\"\"\"\n",
    "A list concstentation operator is '+' and the replication operator is '*'\n",
    "replication or multiplication of the list on 2 different list is not available, we have to do it on same list.\n",
    "subraction and division is not done.\n",
    "\n",
    "\"\"\"\n",
    "\n",
    "list1 = [1, 2, 3, 4]\n",
    "list2 = [11, 22, 33, 44]\n",
    "\n",
    "# concatentation operation on list1 and list2\n",
    "print(f\"result of concantentaion operation {list1 +list2}\")\n",
    "\n",
    "# replication operator on list1 this operator can be used on 1 list only.\n",
    "print(f\"result of replication operation {list1*3}\") # list1 will get printed 2 time."
   ]
  },
  {
   "cell_type": "code",
   "execution_count": 73,
   "id": "fa397be2-b6aa-46ab-a7db-2918e37a685c",
   "metadata": {},
   "outputs": [
    {
     "name": "stdout",
     "output_type": "stream",
     "text": [
      "[1, 2, 'hi', 4, 'world', 45]\n",
      "[1, 2, 'Hello', 'hi', 4, 'world', 45]\n"
     ]
    }
   ],
   "source": [
    "# 10. What is difference between the list methods append() and insert()?\n",
    "\n",
    "\"\"\" \n",
    "append() is a in built method will helps in adding an element or value at the end of the list.\n",
    "we can append only 1 element or value at a time with ppend function.\n",
    "\n",
    "insert is a in built method which helps in adding or inserting any elemnet or value at any place by specifying the index number.\n",
    "\n",
    "\"\"\"\n",
    "\n",
    "list3 = [1, 2, \"hi\", 4, \"world\"]\n",
    "\n",
    "# append method.\n",
    "list3.append(45)\n",
    "print(list3) # 45 will be added at the end of the list.\n",
    "\n",
    "# insert function. here we need to specify the index value first and the value to be inserted.\n",
    "list3.insert(2,\"Hello\") # at second index value \"Hello\" will be added.\n",
    "print(list3)"
   ]
  },
  {
   "cell_type": "code",
   "execution_count": 82,
   "id": "7591359c-fad5-43a3-ac28-96e0b81cd9e7",
   "metadata": {},
   "outputs": [
    {
     "name": "stdout",
     "output_type": "stream",
     "text": [
      "[1, 2, 5, 34, 'data', 23, 'ineuron']\n",
      "[1, 2, 5, 34, 'data', 23, 'ineuron']\n"
     ]
    }
   ],
   "source": [
    "# 11. What are the two methods for removing items from a list?\n",
    "\n",
    "\"\"\"\n",
    "The 2 methods of removing a iteam from a list are\n",
    "1. pop() : with the hepl of pop we can remove the specified iteam by giving the index number.\n",
    "in bracket we need to specify the index number.\n",
    "\n",
    "2. remove() : with this method we can remove the first ocurance of the specified element.\n",
    "in bracket we need to specify the value to be removed.\n",
    "\n",
    "\"\"\"\n",
    "\n",
    "a = [1, 2, \"ineuron\", 5, 34, \"data\", 23, \"ineuron\"]\n",
    "b = [1, 2, \"ineuron\", 5, 34, \"data\", 23, \"ineuron\"]\n",
    "# pop function.\n",
    "a.pop(2) # 2 is the index number\n",
    "print(a) # the value at 2nd index will be removed.\n",
    "\n",
    "# remove method.\n",
    "b.remove(\"ineuron\") # the first occuring ineuron element will be removed from the list.\n",
    "print(b)"
   ]
  },
  {
   "cell_type": "code",
   "execution_count": null,
   "id": "94a5f4a1-ca7d-45df-9fc2-258f584573eb",
   "metadata": {},
   "outputs": [],
   "source": [
    "# 12. Describe how list values and string values are identical.\n",
    "\n",
    "\"\"\"\n",
    "1. In string and list we have the concatentation and replication operation.\n",
    "2. in string and list we cannot use subract or divide. \n",
    "ex: string - string or list - list is not possible.\n",
    "3. we can use len() funcetion on string and list.\n",
    "4. we can use string and list in for loop.\n",
    "5. index and sclicing operation can be done on string and list.\n",
    "\n",
    "\"\"\"\n"
   ]
  },
  {
   "cell_type": "code",
   "execution_count": null,
   "id": "2b625b49-682f-412a-8118-255a1da01d87",
   "metadata": {},
   "outputs": [],
   "source": [
    "# 13. What's the difference between tuples and lists?\n",
    "\n",
    "\"\"\"\n",
    "1. lists are mutable and whereas tuples are imutable.\n",
    "2. iteration is time consuming in list and in tuples it is faster.\n",
    "3. list have more built in function then tuples because lists are mutable.\n",
    "4. list is represented by square bracket [] , and tuples are represented by parenthesis ().\n",
    "5. the values in the list can be updated and in tuple we cannot update the values.\n",
    "\n",
    "\"\"\""
   ]
  },
  {
   "cell_type": "code",
   "execution_count": 85,
   "id": "cd0f001a-be54-421a-b04d-87f2a415be6d",
   "metadata": {},
   "outputs": [
    {
     "data": {
      "text/plain": [
       "tuple"
      ]
     },
     "execution_count": 85,
     "metadata": {},
     "output_type": "execute_result"
    }
   ],
   "source": [
    "# 14. How do you type a tuple value that only contains the integer 42?\n",
    "\n",
    "\"\"\"\n",
    "tuples are represented by parenthesis and the values are written inside the paranthesis.\n",
    "so the answer is (42,)\n",
    "we have to specify the comma after 42 because is comma is not given then it will consider it as int\n",
    "\"\"\"\n",
    "t = (42,)\n",
    "type(t)"
   ]
  },
  {
   "cell_type": "code",
   "execution_count": 97,
   "id": "863b203b-6718-403b-9153-5aa4b8d5d74b",
   "metadata": {},
   "outputs": [
    {
     "name": "stdout",
     "output_type": "stream",
     "text": [
      "befor converting(1, 2, 3, 4), <class 'tuple'>\n",
      "befor converting [11, 22, 33, 44], <class 'list'>\n",
      "After converting [1, 2, 3, 4], <class 'list'>\n",
      "After converting (11, 22, 33, 44), <class 'tuple'>\n"
     ]
    }
   ],
   "source": [
    "# 15. How do you get a list value's tuple form? How do you get a tuple value's list form?\n",
    "\n",
    "\"\"\"\n",
    "with the help of tuple() and list() function we can convert list to tuple and tuple to list.\n",
    "\n",
    "\"\"\"\n",
    "A = (1,2,3,4)      # tuple\n",
    "B = [11,22,33,44]  # list\n",
    "\n",
    "print(f\"befor converting{A}, {type(A)}\")\n",
    "print(f\"befor converting {B}, {type(B)}\")\n",
    "\n",
    "# converting tuple A to list.\n",
    "AA = list(A)\n",
    "print(f\"After converting {AA}, {type(AA)}\")\n",
    "\n",
    "# converting list B to tuple.\n",
    "BB = tuple(B)\n",
    "print(f\"After converting {BB}, {type(BB)}\")"
   ]
  },
  {
   "cell_type": "code",
   "execution_count": null,
   "id": "ceb5b359-5640-4ef0-9f63-03ff3d58ed89",
   "metadata": {},
   "outputs": [],
   "source": [
    "# 16. Variables that \"contain\" list values are not necessarily lists themselves. Instead, what do they contain?\n",
    "\n",
    "# the variables \"contain\" will contain referance to list values."
   ]
  },
  {
   "cell_type": "code",
   "execution_count": 101,
   "id": "af05ea39-f1b2-4884-8cc2-8f8737a64bf8",
   "metadata": {},
   "outputs": [],
   "source": [
    "# 17. How do you distinguish between copy.copy() and copy.deepcopy()?\n",
    "\n",
    "\"\"\"\n",
    "copy.copy(x)\n",
    "Return a shallow copy of x\n",
    "\n",
    "copy.deepcopy(x[, memo])¶\n",
    "Return a deep copy of x\n",
    "\n",
    "\"\"\""
   ]
  }
 ],
 "metadata": {
  "kernelspec": {
   "display_name": "Python 3 (ipykernel)",
   "language": "python",
   "name": "python3"
  },
  "language_info": {
   "codemirror_mode": {
    "name": "ipython",
    "version": 3
   },
   "file_extension": ".py",
   "mimetype": "text/x-python",
   "name": "python",
   "nbconvert_exporter": "python",
   "pygments_lexer": "ipython3",
   "version": "3.10.6"
  }
 },
 "nbformat": 4,
 "nbformat_minor": 5
}
