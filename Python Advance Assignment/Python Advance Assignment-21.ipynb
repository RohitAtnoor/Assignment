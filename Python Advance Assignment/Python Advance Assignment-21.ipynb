{
 "cells": [
  {
   "cell_type": "code",
   "execution_count": null,
   "id": "1d1f73e6-54ef-4c76-a0ca-da3d8dede0e9",
   "metadata": {},
   "outputs": [],
   "source": [
    "\"\"\"\n",
    "Q1. What is a probability distribution, exactly? If the values are meant to be random, \n",
    "how can you predict them at all?\n",
    "\"\"\"\n",
    "\n",
    "\n",
    "\"\"\"\n",
    "Probability distribution is a mathematical function that describes the likelihood \n",
    "of different possible outcomes. It is used to model random phenomena and to make predictions.\n",
    "The values are not meant to be random. They are simply the result of a random process.\n",
    "A random process is a process that produces outcomes that are unpredictable in advance.\n",
    "\n",
    "\"\"\"\n"
   ]
  },
  {
   "cell_type": "code",
   "execution_count": null,
   "id": "b973d903-ec9f-44de-983f-4640603ffba2",
   "metadata": {},
   "outputs": [],
   "source": [
    "\"\"\"\n",
    "Q2. Is there a distinction between true random numbers and pseudo-random numbers, \n",
    "if there is one? Why are the latter considered “good enough”?\n",
    "\"\"\"\n",
    "\n",
    "\"\"\"\n",
    "True Random Numbers are true physical values while pseudo-random numbers are generated\n",
    "internally by a program . Latter is considered good enough as they have sort of uniform distribution.\n",
    "\n",
    "\"\"\"\n"
   ]
  },
  {
   "cell_type": "code",
   "execution_count": null,
   "id": "6ac4344d-afd3-4d58-a574-17f0d9389b71",
   "metadata": {},
   "outputs": [],
   "source": [
    "# Q3. What are the two main factors that influence the behaviour of a \"normal\" probability distribution?\n",
    "\n",
    "\n",
    "\"\"\"\n",
    "A normal distribution is determined by two parameters the mean and the variance.A normal \n",
    "distribution with a mean of 0 and a standard deviation of 1 is called a standard normal distribution.\n",
    "\n",
    "\"\"\"\n"
   ]
  },
  {
   "cell_type": "code",
   "execution_count": null,
   "id": "1cac4eed-8a48-49a6-afc6-a56d3f67591d",
   "metadata": {},
   "outputs": [],
   "source": [
    "# Q4. Provide a real-life example of a normal distribution.\n",
    "\n",
    "# A fair rolling of dice is also a good example of normal distribution.\n"
   ]
  },
  {
   "cell_type": "code",
   "execution_count": null,
   "id": "cd4f6795-3318-4554-8572-b9dc7e4b7484",
   "metadata": {},
   "outputs": [],
   "source": [
    "\"\"\"\n",
    "Q5. In the short term, how can you expect a probability distribution to behave? \n",
    "What do you think will happen as the number of trials grows?\n",
    "\"\"\"\n",
    "\n",
    "# When trials are less, the variance will large.As the number of trials increase,the variable will reduce.\n"
   ]
  },
  {
   "cell_type": "code",
   "execution_count": null,
   "id": "7d972c42-5c39-45ef-ab0e-dca3ebfb3365",
   "metadata": {},
   "outputs": [],
   "source": [
    "# Q6. What kind of object can be shuffled by using random.shuffle?\n",
    "\n",
    "# random.shuffle can used to shuffle list object\n",
    "\n"
   ]
  },
  {
   "cell_type": "code",
   "execution_count": null,
   "id": "5cb36876-2e17-43f8-85ce-cdf680922692",
   "metadata": {},
   "outputs": [],
   "source": [
    "# Q7. Describe the math package's general categories of functions.\n",
    "\n",
    "\n",
    "\"\"\"\n",
    "The Math package's general categories of functions are:\n",
    "\n",
    "1. Trigonometric functions\n",
    "2. Quadratic functions\n",
    "3. Exponential functions\n",
    "4. Hyperbolic functions\n",
    "5. Periodic functions\n",
    "6. Arithmetic functions\n",
    "7. Logarithimic functions\n",
    "8. Conversions to Integer\n",
    "\n",
    "\"\"\"\n"
   ]
  },
  {
   "cell_type": "code",
   "execution_count": null,
   "id": "3719f5ae-26ed-49d2-8f3a-e59e314273cc",
   "metadata": {},
   "outputs": [],
   "source": [
    "# Q8. What is the relationship between exponentiation and logarithms?\n",
    "\n",
    "\n",
    "\"\"\"\n",
    "The exponential function is given by f(x)=ex, whereas the logarithmic function is given \n",
    "by g(x) = ln x,and former is the inverse of the latter.\n",
    "\n",
    "\"\"\"\n"
   ]
  },
  {
   "cell_type": "code",
   "execution_count": null,
   "id": "482ed902-0457-453d-a31f-fa65d4b3370a",
   "metadata": {},
   "outputs": [],
   "source": [
    "# Q9. What are the three logarithmic functions that Python supports?\n",
    "\n",
    "\n",
    "\"\"\"\n",
    "1. log2(x) -logarithmic value of x to base 2\n",
    "2. log(x,base) -logarithmic valueof x to base. if only first parameter is given, \n",
    "it computes its value tp base e,natural logarithm\n",
    "3. log10(x)-logarithmic value of x to base 10\n",
    "4. log1p(x) - natural logarithum (base e) value of 1+x\n",
    "\n",
    "\"\"\"\n"
   ]
  }
 ],
 "metadata": {
  "kernelspec": {
   "display_name": "Python 3 (ipykernel)",
   "language": "python",
   "name": "python3"
  },
  "language_info": {
   "codemirror_mode": {
    "name": "ipython",
    "version": 3
   },
   "file_extension": ".py",
   "mimetype": "text/x-python",
   "name": "python",
   "nbconvert_exporter": "python",
   "pygments_lexer": "ipython3",
   "version": "3.10.6"
  }
 },
 "nbformat": 4,
 "nbformat_minor": 5
}
