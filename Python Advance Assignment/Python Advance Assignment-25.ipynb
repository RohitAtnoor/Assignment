{
 "cells": [
  {
   "cell_type": "code",
   "execution_count": null,
   "id": "6cb8bfd6-4484-4f8e-b488-2adad97a2e6f",
   "metadata": {},
   "outputs": [],
   "source": [
    "\"\"\"\n",
    "Q1. What is the distinction between a numpy array and a pandas data frame? \n",
    "Is there a way to convert between the two if there is?\n",
    "\"\"\"\n",
    "\n",
    "\n",
    "\"\"\"\n",
    "Pandas Dataframe is an in-memory 2-dimensional tabular representation of data,\n",
    "it can be used as rows and columns\n",
    "\n",
    "Numpy Ndarray provides a lot of convenient and optimized methods for performing several\n",
    "mathematical operations on vectors.\n",
    "\n",
    "\"\"\"\n"
   ]
  },
  {
   "cell_type": "code",
   "execution_count": null,
   "id": "27e09f5c-d848-4faa-9626-56b25d0842e6",
   "metadata": {},
   "outputs": [],
   "source": [
    "# Q2. What can go wrong when an user enters in a stock-ticker symbol, and how do you handle it?\n",
    "\n",
    "\n",
    "\"\"\"\n",
    "\n",
    "There are a few things that can go wrong when an user enters in a stock-ticker symbol:\n",
    "\n",
    "The symbol may not be a valid ticker symbol.\n",
    "The symbol may be for a stock that is not traded anymore.\n",
    "The symbol may be for a stock that is not listed on the exchange that the user is interested in.\n",
    "\n",
    "\"\"\"\n"
   ]
  },
  {
   "cell_type": "code",
   "execution_count": null,
   "id": "ff8e9f41-21fe-41bc-a51b-571f643000fd",
   "metadata": {},
   "outputs": [],
   "source": [
    "# Q3. Identify some of the plotting techniques that are used to produce a stock-market chart.\n",
    "\n",
    "# Bar chart, Line Chart are used for plotting.\n"
   ]
  },
  {
   "cell_type": "code",
   "execution_count": null,
   "id": "e9d71ea6-56cc-4250-a0dd-8d90a3d88370",
   "metadata": {},
   "outputs": [],
   "source": [
    "# Q4. Why is it essential to print a legend on a stock market chart?\n",
    "\n",
    "\n",
    "# Legend will help comparison between different stocks, so will be essential on a stock market chart\n"
   ]
  },
  {
   "cell_type": "code",
   "execution_count": null,
   "id": "706d840b-e8b6-464b-90fd-633756790850",
   "metadata": {},
   "outputs": [],
   "source": [
    "# Q5. What is the best way to limit the length of a pandas data frame to less than a year?\n",
    "\n",
    "\n",
    "\"\"\"\n",
    "1. The best ways are as followes :\n",
    "2. Import the pandas library.\n",
    "3. Create a Pandas DataFrame.\n",
    "4. Get the current date.\n",
    "5. Create a Boolean mask that filters the DataFrame to rows where the Date column is less than\n",
    "or equal to the current date minus 365 days.\n",
    "6. Use the Boolean mask to select the rows from the DataFrame.\n",
    "7. Print the DataFrame.\n",
    "\n",
    "\"\"\"\n"
   ]
  },
  {
   "cell_type": "code",
   "execution_count": null,
   "id": "b2ac8463-4537-498a-a03c-18aee6671cba",
   "metadata": {},
   "outputs": [],
   "source": [
    "Q6. What is the definition of a 180-day moving average?\n",
    "\n",
    "\n",
    "\"\"\"\n",
    "The 180-day moving average is represented as a line on charts and represents the average price\n",
    "over the past 180 days.The moving average can give traders a sence regarding wheather the trend\n",
    "is up or down, while also identifing potential support or resistance areas.\n",
    "\n",
    "\"\"\""
   ]
  },
  {
   "cell_type": "code",
   "execution_count": null,
   "id": "c292c03e-5b8f-4484-ab94-7834e41e32da",
   "metadata": {},
   "outputs": [],
   "source": [
    "# Q7. Did the chapter's final example use \"indirect\" importing? If so, how exactly do you do it?\n",
    "\n",
    "\n",
    "\"\"\"\n",
    "Yes, the chapter's final example used indirect importing. Indirect importing is when you \n",
    "import a module or package by referring to another module or package that it is nested inside of.\n",
    "\n",
    "\"\"\"\n"
   ]
  }
 ],
 "metadata": {
  "kernelspec": {
   "display_name": "Python 3 (ipykernel)",
   "language": "python",
   "name": "python3"
  },
  "language_info": {
   "codemirror_mode": {
    "name": "ipython",
    "version": 3
   },
   "file_extension": ".py",
   "mimetype": "text/x-python",
   "name": "python",
   "nbconvert_exporter": "python",
   "pygments_lexer": "ipython3",
   "version": "3.10.6"
  }
 },
 "nbformat": 4,
 "nbformat_minor": 5
}
