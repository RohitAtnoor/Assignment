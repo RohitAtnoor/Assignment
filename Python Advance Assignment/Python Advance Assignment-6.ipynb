{
 "cells": [
  {
   "cell_type": "code",
   "execution_count": null,
   "id": "4d4e249b-d0a8-4bde-898c-5ac1c1e71f9c",
   "metadata": {},
   "outputs": [],
   "source": [
    "# Q1. Describe three applications for exception processing.\n",
    "\n",
    "\"\"\"\n",
    "Exception Processing is important to find exceptions that causes the runtime error. \n",
    "As runtime errors Halt the program execution when exception occurs.\n",
    "\n",
    "Exception Processing is used in Various Applications of which few examples are:\n",
    "Checking Appropriate use of input in an application\n",
    "Checking for Arithmetic exceptions in mathematical executions\n",
    "Checking File I/O exceptions during File handling\n",
    "\n",
    "\"\"\""
   ]
  },
  {
   "cell_type": "code",
   "execution_count": null,
   "id": "42eb2aa9-e205-47d6-a930-f10429e87610",
   "metadata": {},
   "outputs": [],
   "source": [
    "# Q2. What happens if you don't do something extra to treat an exception?\n",
    "\n",
    "\"\"\"\n",
    "If the exceptions are not handeled correctly then it may terminate the programe at that point,\n",
    "and the flow of the program gets intrupted.\n",
    "\n",
    "\"\"\""
   ]
  },
  {
   "cell_type": "code",
   "execution_count": 5,
   "id": "d094eb46-9962-4587-9ee6-b7adba69b327",
   "metadata": {},
   "outputs": [
    {
     "name": "stdout",
     "output_type": "stream",
     "text": [
      "division by zero\n"
     ]
    },
    {
     "data": {
      "text/plain": [
       "\"can't divide by zero\""
      ]
     },
     "execution_count": 5,
     "metadata": {},
     "output_type": "execute_result"
    }
   ],
   "source": [
    "# Q3. What are your options for recovering from an exception in your script?\n",
    "\n",
    "\n",
    "# we can use try and except in the program from recovering an exception or error.\n",
    "# Example\n",
    "def div(a,b):\n",
    "    try:\n",
    "        c=a/b\n",
    "        print(\"a/b= \",c)\n",
    "    except Exception as e:\n",
    "        print(e)\n",
    "        return \"can't divide by zero\"\n",
    "\n",
    "a = 2\n",
    "b = 0\n",
    "div(a,b)\n"
   ]
  },
  {
   "cell_type": "code",
   "execution_count": 9,
   "id": "05f685bc-22f3-4f5a-b4dd-736fb259f6e0",
   "metadata": {},
   "outputs": [
    {
     "ename": "ValueError",
     "evalue": "This is a ValueError exception",
     "output_type": "error",
     "traceback": [
      "\u001b[0;31m---------------------------------------------------------------------------\u001b[0m",
      "\u001b[0;31mValueError\u001b[0m                                Traceback (most recent call last)",
      "Cell \u001b[0;32mIn [9], line 5\u001b[0m\n\u001b[1;32m      1\u001b[0m \u001b[38;5;66;03m# Q4. Describe two methods for triggering exceptions in your script.\u001b[39;00m\n\u001b[1;32m      2\u001b[0m \n\u001b[1;32m      3\u001b[0m \u001b[38;5;66;03m# The two methods are with the help of 1. raise keyword and 2. assert keyword\u001b[39;00m\n\u001b[1;32m      4\u001b[0m \u001b[38;5;66;03m# Example 1\u001b[39;00m\n\u001b[0;32m----> 5\u001b[0m \u001b[38;5;28;01mraise\u001b[39;00m \u001b[38;5;167;01mValueError\u001b[39;00m(\u001b[38;5;124m\"\u001b[39m\u001b[38;5;124mThis is a ValueError exception\u001b[39m\u001b[38;5;124m\"\u001b[39m)\n\u001b[1;32m      7\u001b[0m \u001b[38;5;66;03m# Example 2\u001b[39;00m\n\u001b[1;32m      8\u001b[0m x \u001b[38;5;241m=\u001b[39m \u001b[38;5;241m20\u001b[39m\n",
      "\u001b[0;31mValueError\u001b[0m: This is a ValueError exception"
     ]
    }
   ],
   "source": [
    "# Q4. Describe two methods for triggering exceptions in your script.\n",
    "\n",
    "# The two methods are with the help of 1. raise keyword and 2. assert keyword\n",
    "# Example 1\n",
    "raise ValueError(\"This is a ValueError exception\")\n",
    "\n",
    "# Example 2\n",
    "x = 20\n",
    "assert x == 10, \"The value of x is not equal to 10\""
   ]
  },
  {
   "cell_type": "code",
   "execution_count": null,
   "id": "f82b0afb-718f-4f41-bb16-6bc7a0367335",
   "metadata": {},
   "outputs": [],
   "source": [
    "\"\"\"\n",
    "Q5. Identify two methods for specifying actions to be executed at termination time, regardless of\n",
    "whether or not an exception exists.\n",
    "\"\"\"\n",
    "\n",
    "\n",
    "\"\"\"\n",
    "Python Provides else and finally blocks for specifying actions to be executed at termination time,\n",
    "regardless of whether an exceptions exists or not.\n",
    "\n",
    "In else block, code is written to handle if no exception is raised by code in try block.\n",
    "In finally block, code executes regardless of whether or not an exception exists.\n",
    "\n",
    "\"\"\""
   ]
  }
 ],
 "metadata": {
  "kernelspec": {
   "display_name": "Python 3 (ipykernel)",
   "language": "python",
   "name": "python3"
  },
  "language_info": {
   "codemirror_mode": {
    "name": "ipython",
    "version": 3
   },
   "file_extension": ".py",
   "mimetype": "text/x-python",
   "name": "python",
   "nbconvert_exporter": "python",
   "pygments_lexer": "ipython3",
   "version": "3.10.6"
  }
 },
 "nbformat": 4,
 "nbformat_minor": 5
}
