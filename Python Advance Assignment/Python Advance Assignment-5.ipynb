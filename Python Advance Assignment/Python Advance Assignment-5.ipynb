{
 "cells": [
  {
   "cell_type": "code",
   "execution_count": 4,
   "id": "09c768c3-8e14-43a6-872f-2f16a7c4fd14",
   "metadata": {},
   "outputs": [],
   "source": [
    "# Q1. What is the meaning of multiple inheritance?\n",
    "\n",
    "\"\"\"\n",
    "Multiple inheritance is object-oriented  programming languages in which an object or class\n",
    "can inherit features from more than one parent object or parent class\n",
    "\"\"\"\n",
    "# Example\n",
    "\n",
    "class Parent_one: \n",
    "       pass\n",
    "\n",
    "class Parent_two:\n",
    "     pass\n",
    "\n",
    "class Child(Base1, Base2): # multiple inheritance from parent 1 and 2\n",
    "     pass\n",
    "        "
   ]
  },
  {
   "cell_type": "code",
   "execution_count": 5,
   "id": "b7b17be5-e7c7-47f9-bab5-83099f6e4fce",
   "metadata": {},
   "outputs": [
    {
     "name": "stdout",
     "output_type": "stream",
     "text": [
      "Starting the engine...\n",
      "Accelerating the engine...\n",
      "Stopping the engine...\n"
     ]
    }
   ],
   "source": [
    "# Q2. What is the concept of delegation?\n",
    "\n",
    "\"\"\"\n",
    "Delegation in Python is a design pattern in which an object, called the delegate, is responsible for \n",
    "performing certain tasks on behalf of another object, called the delegator. \n",
    "The use od delegation are \n",
    "1. Increased flexibility\n",
    "2. Reduced code duplication\n",
    "3. Improved performance\n",
    "\n",
    "\"\"\"\n",
    "# Example\n",
    "class Car:\n",
    "\n",
    "    def __init__(self, engine):\n",
    "        self.engine = engine\n",
    "\n",
    "    def start(self):\n",
    "        self.engine.start()\n",
    "\n",
    "    def stop(self):\n",
    "        self.engine.stop()\n",
    "\n",
    "    def accelerate(self):\n",
    "        self.engine.accelerate()\n",
    "\n",
    "\n",
    "class Engine:\n",
    "\n",
    "    def start(self):\n",
    "        print(\"Starting the engine...\")\n",
    "\n",
    "    def stop(self):\n",
    "        print(\"Stopping the engine...\")\n",
    "\n",
    "    def accelerate(self):\n",
    "        print(\"Accelerating the engine...\")\n",
    "\n",
    "\n",
    "car = Car(Engine())\n",
    "\n",
    "car.start()\n",
    "car.accelerate()\n",
    "car.stop()"
   ]
  },
  {
   "cell_type": "code",
   "execution_count": 10,
   "id": "205de2a1-a5c6-41cc-aa06-1f6ccd015fd0",
   "metadata": {},
   "outputs": [
    {
     "name": "stdout",
     "output_type": "stream",
     "text": [
      "Starting the engine...\n",
      "Accelerating the engine...\n",
      "Stopping the engine...\n"
     ]
    }
   ],
   "source": [
    "# Q3. What is the concept of composition?\n",
    "\n",
    "\"\"\"\n",
    "In object-oriented programming, composition is a design pattern that lets you create a class that contains \n",
    "one or more objects of other classes. This allows you to create complex objects by combining simpler objects.\n",
    "\n",
    "\"\"\"\n",
    "# Example\n",
    "class Car:\n",
    "\n",
    "    def __init__(self, engine, transmission, body):\n",
    "        self.engine = engine\n",
    "        self.transmission = transmission\n",
    "        self.body = body\n",
    "\n",
    "    def start(self):\n",
    "        self.engine.start()\n",
    "\n",
    "    def stop(self):\n",
    "        self.engine.stop()\n",
    "\n",
    "    def accelerate(self):\n",
    "        self.engine.accelerate()\n",
    "\n",
    "\n",
    "class Engine:\n",
    "\n",
    "    def start(self):\n",
    "        print(\"Starting the engine...\")\n",
    "\n",
    "    def stop(self):\n",
    "        print(\"Stopping the engine...\")\n",
    "\n",
    "    def accelerate(self):\n",
    "        print(\"Accelerating the engine...\")\n",
    "\n",
    "\n",
    "class Transmission:\n",
    "\n",
    "    def shift_gear(self, gear):\n",
    "        print(\"Shifting to gear {}...\" .format(gear))\n",
    "\n",
    "\n",
    "class Body:\n",
    "\n",
    "    def move(self):\n",
    "        print(\"Moving the car...\")\n",
    "\n",
    "\n",
    "car = Car(Engine(), Transmission(), Body())\n",
    "\n",
    "car.start()\n",
    "car.accelerate()\n",
    "car.stop()\n"
   ]
  },
  {
   "cell_type": "code",
   "execution_count": 12,
   "id": "e596792c-9194-4b30-b91c-9f3000a0f4fe",
   "metadata": {},
   "outputs": [
    {
     "name": "stdout",
     "output_type": "stream",
     "text": [
      "Shifting to gear 2...\n"
     ]
    }
   ],
   "source": [
    "# Q4. What are bound methods and how do we use them?\n",
    "\n",
    "\"\"\"\n",
    "A bound method is the one which is dependent on the instance of the class as the first arguments.It passes the instance \n",
    "as the first argument which is used to access the variables and functions.All functions in the class are by default \n",
    "bound methods.\n",
    "\"\"\"\n",
    "# Example\n",
    "class Transmission:\n",
    "\n",
    "    def shift_gear(self, gear):\n",
    "        print(\"Shifting to gear {}...\" .format(gear))\n",
    "        \n",
    "example = Transmission()\n",
    "example.shift_gear(2) "
   ]
  },
  {
   "cell_type": "code",
   "execution_count": null,
   "id": "0fc369ba-b41e-4b80-aecf-7cce17655d5e",
   "metadata": {},
   "outputs": [],
   "source": [
    "# Q5. What is the purpose of pseudoprivate attributes?\n",
    "\n",
    "\"\"\"\n",
    "Pseudoprivate attributes are attributes that are prefixed with two underscores (__).In Python, these attributes \n",
    "are not technically private, but they are discouraged from being accessed from outside the class.\n",
    "There are a few reasons why you might want to use pseudoprivate attributes:\n",
    "1. Encapsulation\n",
    "2. Preventing name clashes\n",
    "3. Debugging\n",
    "\"\"\""
   ]
  }
 ],
 "metadata": {
  "kernelspec": {
   "display_name": "Python 3 (ipykernel)",
   "language": "python",
   "name": "python3"
  },
  "language_info": {
   "codemirror_mode": {
    "name": "ipython",
    "version": 3
   },
   "file_extension": ".py",
   "mimetype": "text/x-python",
   "name": "python",
   "nbconvert_exporter": "python",
   "pygments_lexer": "ipython3",
   "version": "3.10.6"
  }
 },
 "nbformat": 4,
 "nbformat_minor": 5
}
