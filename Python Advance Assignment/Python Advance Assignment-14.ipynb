{
 "cells": [
  {
   "cell_type": "code",
   "execution_count": null,
   "id": "a302ce9b-389a-4b50-a151-c4aedeeae9e9",
   "metadata": {},
   "outputs": [],
   "source": [
    "\"\"\"\n",
    "Q1. Is an assignment operator like += only for show? Is it possible that it would lead \n",
    "to faster results at the runtime?\n",
    "\"\"\"\n",
    "\n",
    "\"\"\"\n",
    "a=a+1 evaluates to finding a, adding 1 to it. Then storing the value again in variable a. \n",
    "This expression makes Python to look for memory holder of a twice. But a+=1 simply means\n",
    "value of a is to incremented by 1. As memory address has to be identified once, += leads \n",
    "to faster operation.\n",
    "\n",
    "\"\"\""
   ]
  },
  {
   "cell_type": "code",
   "execution_count": 3,
   "id": "5ce96142-b356-423f-9174-ef6ecbcc23c4",
   "metadata": {},
   "outputs": [
    {
     "name": "stdout",
     "output_type": "stream",
     "text": [
      "30 10\n"
     ]
    }
   ],
   "source": [
    "\"\"\"\n",
    "Q2. What is the smallest number of statements you'd have to write in most programming languages \n",
    "to replace the Python expression a, b = a + b, a?\n",
    "\"\"\"\n",
    "\n",
    "\"\"\"\n",
    "Minimum 2 statemens are required for this 1 is for assigning the values to the variable,\n",
    "and 1 is to replace with new ones.\n",
    "\"\"\"\n",
    "# Example\n",
    "a,b = 10,20\n",
    "a,b = a + b, a\n",
    "print(a,b)"
   ]
  },
  {
   "cell_type": "code",
   "execution_count": 4,
   "id": "a789ff5c-c658-4a38-992b-ae8a05ddedb8",
   "metadata": {},
   "outputs": [
    {
     "name": "stdout",
     "output_type": "stream",
     "text": [
      "[0, 0, 0, 0, 0, 0, 0, 0, 0, 0, 0, 0, 0, 0, 0, 0, 0, 0, 0, 0, 0, 0, 0, 0, 0, 0, 0, 0, 0, 0, 0, 0, 0, 0, 0, 0, 0, 0, 0, 0, 0, 0, 0, 0, 0, 0, 0, 0, 0, 0, 0, 0, 0, 0, 0, 0, 0, 0, 0, 0, 0, 0, 0, 0, 0, 0, 0, 0, 0, 0, 0, 0, 0, 0, 0, 0, 0, 0, 0, 0, 0, 0, 0, 0, 0, 0, 0, 0, 0, 0, 0, 0, 0, 0, 0, 0, 0, 0, 0, 0]\n",
      "\n",
      "[0, 0, 0, 0, 0, 0, 0, 0, 0, 0, 0, 0, 0, 0, 0, 0, 0, 0, 0, 0, 0, 0, 0, 0, 0, 0, 0, 0, 0, 0, 0, 0, 0, 0, 0, 0, 0, 0, 0, 0, 0, 0, 0, 0, 0, 0, 0, 0, 0, 0, 0, 0, 0, 0, 0, 0, 0, 0, 0, 0, 0, 0, 0, 0, 0, 0, 0, 0, 0, 0, 0, 0, 0, 0, 0, 0, 0, 0, 0, 0, 0, 0, 0, 0, 0, 0, 0, 0, 0, 0, 0, 0, 0, 0, 0, 0, 0, 0, 0, 0]\n"
     ]
    }
   ],
   "source": [
    "# Q3. In Python, what is the most effective way to set a list of 100 integers to 0?\n",
    "\n",
    "# Method 1\n",
    "list_zero=[0]*100\n",
    "print(list_zero)\n",
    "print()\n",
    "# Method 2\n",
    "zero_list = [0 for x in range(100)]\n",
    "print(zero_list)"
   ]
  },
  {
   "cell_type": "code",
   "execution_count": 5,
   "id": "dbf7a486-b50f-4a43-83c7-8c73f4ad3305",
   "metadata": {},
   "outputs": [
    {
     "name": "stdout",
     "output_type": "stream",
     "text": [
      "[1, 2, 3, 1, 2, 3, 1, 2, 3, 1, 2, 3, 1, 2, 3, 1, 2, 3, 1, 2, 3, 1, 2, 3, 1, 2, 3, 1, 2, 3, 1, 2, 3, 1, 2, 3, 1, 2, 3, 1, 2, 3, 1, 2, 3, 1, 2, 3, 1, 2, 3, 1, 2, 3, 1, 2, 3, 1, 2, 3, 1, 2, 3, 1, 2, 3, 1, 2, 3, 1, 2, 3, 1, 2, 3, 1, 2, 3, 1, 2, 3, 1, 2, 3, 1, 2, 3, 1, 2, 3, 1, 2, 3, 1, 2, 3, 1, 2, 3]\n"
     ]
    }
   ],
   "source": [
    "\"\"\"\n",
    "Q4. What is the most effective way to initialise a list of 99 integers that repeats the sequence 1, 2, 3? S\n",
    "If necessary, show step-by-step instructions on how to accomplish this.\n",
    "\"\"\"\n",
    "\n",
    "my_list = [1,2,3]*33\n",
    "print(my_list)"
   ]
  },
  {
   "cell_type": "code",
   "execution_count": 6,
   "id": "98703681-146e-4448-82c3-e114fd598a0c",
   "metadata": {},
   "outputs": [
    {
     "name": "stdout",
     "output_type": "stream",
     "text": [
      "[[1, 2, 3], [4, 5, 6], [7, 8, 9]]\n"
     ]
    }
   ],
   "source": [
    "\"\"\"\n",
    "Q5. If you're using IDLE to run a Python application, explain how to print a \n",
    "multidimensional list as efficiently?\n",
    "\"\"\"\n",
    "\n",
    "\"\"\"\n",
    "Use the pprint library. The pprint library provides a more readable way to print nested data structures,\n",
    "such as multidimensional lists. \n",
    "\"\"\"\n",
    "# Example \n",
    "import pprint\n",
    "\n",
    "list_of_lists = [[1, 2, 3], [4, 5, 6], [7, 8, 9]]\n",
    "pprint.pprint(list_of_lists)\n"
   ]
  },
  {
   "cell_type": "code",
   "execution_count": 7,
   "id": "699a6f85-1aa5-48c2-a70e-b1c105aba7ee",
   "metadata": {},
   "outputs": [
    {
     "name": "stdout",
     "output_type": "stream",
     "text": [
      "['R', 'o', 'h', 'i', 't']\n"
     ]
    }
   ],
   "source": [
    "# Q6. Is it possible to use list comprehension with a string? If so, how can you go about doing it?\n",
    "\n",
    "# List comprehension for the string is possible as shown below\n",
    "my_list = [ele for ele in 'Rohit']\n",
    "print(my_list)"
   ]
  },
  {
   "cell_type": "code",
   "execution_count": null,
   "id": "3183f8f5-265a-482c-8b41-a2922c28843c",
   "metadata": {},
   "outputs": [],
   "source": [
    "\"\"\"\n",
    "Q7. From the command line, how do you get support with a user-written Python programme? \n",
    "Is this possible from inside IDLE?\n",
    "\"\"\"\n",
    "\n",
    "\"\"\"\n",
    "Steps for command line:\n",
    "\n",
    "1. Open command prompt.\n",
    "2. Go to directory containing python program file(.py)\n",
    "3. Type \"python file_name.py\", press enter to run the file.\n",
    "Steps for python IDLE:\n",
    "\n",
    "1.Open python IDLE.\n",
    "2.Click on file>open>file_name.py\n",
    "3.Press F5 key to run the program\n",
    "\n",
    "\"\"\""
   ]
  },
  {
   "cell_type": "code",
   "execution_count": null,
   "id": "b0931bf7-f4ac-4033-abd2-847b55cce356",
   "metadata": {},
   "outputs": [],
   "source": [
    "\"\"\"\n",
    "Q8. Functions are said to be “first-class objects” in Python but not in most other languages, \n",
    "such as C++ or Java. What can you do in Python with a function (callable object) \n",
    "that you can't do in C or C++?\n",
    "\"\"\"\n",
    "\n",
    "\n",
    "\"\"\"\n",
    "In python,functions are like any other object,such as an int or a list. That means that you \n",
    "can use functions as arguments to other functions, store functions as dictionary values, \n",
    "or return a function from another function.This leads to many powerful ways to use functions.\n",
    "\n",
    "The task performed by function are :\n",
    "1. A function is an instance of the Object type.\n",
    "2. we can store the function in a variable.\n",
    "3. we can pass the function as a parameter to another function.\n",
    "4. we can return the function from a function.\n",
    "5. we can store them in data structures such as hash tables, lists,\n",
    "\n",
    "\"\"\""
   ]
  },
  {
   "cell_type": "code",
   "execution_count": null,
   "id": "fb291a38-f37f-4ff6-afc1-5e0a41bfb6b6",
   "metadata": {},
   "outputs": [],
   "source": [
    "# Q9. How do you distinguish between a wrapper, a wrapped feature, and a decorator?\n",
    "\n",
    "\"\"\"\n",
    "A wrapper, a wrapped feature, and a decorator are all same. \n",
    "Wrappers Around the functions are known as Decrators.\n",
    "\n",
    "\"\"\"\n"
   ]
  },
  {
   "cell_type": "code",
   "execution_count": null,
   "id": "ff3b4e6d-7b26-4507-b496-4dfeee192c53",
   "metadata": {},
   "outputs": [],
   "source": [
    "# Q10. If a function is a generator function, what does it return?\n",
    "\n",
    "\"\"\"\n",
    "If a function is a generator function,it does not return any values, instead it return an \n",
    "iterator object,which we can iterate through to get values\n",
    "\n",
    "\"\"\"\n"
   ]
  },
  {
   "cell_type": "code",
   "execution_count": 13,
   "id": "506d9223-5023-4a50-8364-f61515d10e7c",
   "metadata": {},
   "outputs": [
    {
     "name": "stdout",
     "output_type": "stream",
     "text": [
      "0 2 4 6 8 10 "
     ]
    }
   ],
   "source": [
    "\"\"\"\n",
    "Q11. What is the one improvement that must be made to a function in order for it to become \n",
    "a generator function in the Python language?\n",
    "\"\"\"\n",
    "\n",
    "# Generator is a written as normal function it uses yield keyword to return values instead of return keyword.\n",
    "# Example\n",
    "def even_no(n):\n",
    "    for i in range(n+1):\n",
    "        if i%2==0:\n",
    "            yield i\n",
    "for i in even_no(10):\n",
    "    print(i,end=\" \")   "
   ]
  },
  {
   "cell_type": "code",
   "execution_count": null,
   "id": "c9f00624-1d3e-406a-9075-674cdc8e286c",
   "metadata": {},
   "outputs": [],
   "source": [
    "# Q12. Identify at least one benefit of generators.\n",
    "\n",
    "\n",
    "\"\"\"\n",
    "The benefites of generator are as followes :\n",
    "\n",
    "1. Memory efficient method of generating sequence types in python.\n",
    "2. Adds further brevity and readability to written code. Generator expressions are\n",
    "generator functions shortened.\n",
    "3. Time-efficient when compared to list comparisons.\n",
    "\n",
    "\"\"\""
   ]
  }
 ],
 "metadata": {
  "kernelspec": {
   "display_name": "Python 3 (ipykernel)",
   "language": "python",
   "name": "python3"
  },
  "language_info": {
   "codemirror_mode": {
    "name": "ipython",
    "version": 3
   },
   "file_extension": ".py",
   "mimetype": "text/x-python",
   "name": "python",
   "nbconvert_exporter": "python",
   "pygments_lexer": "ipython3",
   "version": "3.10.6"
  }
 },
 "nbformat": 4,
 "nbformat_minor": 5
}
