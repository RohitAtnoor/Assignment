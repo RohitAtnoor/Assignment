{
 "cells": [
  {
   "cell_type": "code",
   "execution_count": null,
   "id": "893c653a-4e5c-42a2-ab86-876d5a3543fc",
   "metadata": {},
   "outputs": [],
   "source": [
    "\"\"\"\n",
    "Q1. If you have any, what are your choices for increasing the comparison between \n",
    "different figures on the same graph?\n",
    "\"\"\"\n",
    "\n",
    "\n",
    "\"\"\"\n",
    "Matplotlib provides a conveniet method called subplots for increase the comparison between\n",
    "different figures on the same graph. Subplots means a group of smaller axes( Where each ax\n",
    "is is a plot) that can exist together within a single figure.\n",
    "\n",
    "\"\"\"\n"
   ]
  },
  {
   "cell_type": "code",
   "execution_count": null,
   "id": "2f7552ba-a14a-4f22-a447-3810651740b7",
   "metadata": {},
   "outputs": [],
   "source": [
    "\"\"\"\n",
    "Q2. Can you explain the benefit of compound interest over a higher rate of interest \n",
    "that does not compound after reading this chapter?\n",
    "\"\"\"\n",
    "\n",
    "\n",
    "\"\"\"\n",
    "Compound intrest makes a sum of money grow at a faster rate than simple intrest, because \n",
    "in addition to earning returns on the money you invest, you also earn returns on those returns\n",
    "at the end of every compounding period, which could be dairly, monthly,quarterly or annually.\n",
    "\n",
    "\"\"\"\n"
   ]
  },
  {
   "cell_type": "code",
   "execution_count": null,
   "id": "8b20f8a0-7da5-4ba8-92ac-bfc9909ae937",
   "metadata": {},
   "outputs": [],
   "source": [
    "# Q3. What is a histogram, exactly? Name a numpy method for creating such a graph.\n",
    "\n",
    "\n",
    "\"\"\"\n",
    "Histogram shows total values of X wrt Y. Which means at any particular position of X, Y value \n",
    "shows the total number of counts or data below that value of X. numpy.histogram() is the built\n",
    "in function used.\n",
    "\n",
    "\"\"\"\n"
   ]
  },
  {
   "cell_type": "code",
   "execution_count": null,
   "id": "1f14e520-4e71-48af-bea5-54974a9fd3ae",
   "metadata": {},
   "outputs": [],
   "source": [
    "# Q4. If necessary, how do you change the aspect ratios between the X and Y axes?\n",
    "\n",
    "# Inside the matplot.ptplot library We can use figure(figsize=(10,8)) function to change the figure size.\n"
   ]
  },
  {
   "cell_type": "code",
   "execution_count": null,
   "id": "f94f0509-e626-4c80-aa1a-3ba71fbf5cf9",
   "metadata": {},
   "outputs": [],
   "source": [
    "\"\"\"\n",
    "Q5. Compare and contrast the three types of array multiplication between two numpy arrays\n",
    "dot product, outer product, and regular multiplication of two numpy arrays.\n",
    "\"\"\"\n",
    "\n",
    "\n",
    "\"\"\"\n",
    "In regular multiplication values of same index get multiplied.\n",
    "\n",
    "In dot product there is row wise multiplication, row of one array with column of second array and so on.\n",
    "In outer multiplication every element of first array a1 will be multiply by every element of other array \n",
    "a2 such such the number of columns will be equal to the number of element in another array a2.\n",
    "\n",
    "\"\"\"\n"
   ]
  },
  {
   "cell_type": "code",
   "execution_count": null,
   "id": "c2398bc5-8c9c-48ee-bc4f-9860375c713a",
   "metadata": {},
   "outputs": [],
   "source": [
    "# Q6. Before you buy a home, which numpy function will you use to measure your monthly mortgage payment?\n",
    "\n",
    "\"\"\"\n",
    "np.pmt(rate, nper, pv) function we will be using in order to calculate monthly mortgage \n",
    "payment before you purchase a house\n",
    "\n",
    "\"\"\"\n"
   ]
  },
  {
   "cell_type": "code",
   "execution_count": null,
   "id": "2b26efc6-a3b4-437a-b681-651768c4566e",
   "metadata": {},
   "outputs": [],
   "source": [
    "\"\"\"\n",
    "Q7. Can string data be stored in numpy arrays? If so, list at least one restriction\n",
    "that applies to this data.\n",
    "\"\"\"\n",
    "\n",
    "\"\"\"\n",
    "Yes , an array can store the string\n",
    "Whenever we store the data of string dtype then it should should keep in mind that\n",
    "the string which is having the maximum length is the limit.\n",
    "\n",
    "\"\"\"\n"
   ]
  }
 ],
 "metadata": {
  "kernelspec": {
   "display_name": "Python 3 (ipykernel)",
   "language": "python",
   "name": "python3"
  },
  "language_info": {
   "codemirror_mode": {
    "name": "ipython",
    "version": 3
   },
   "file_extension": ".py",
   "mimetype": "text/x-python",
   "name": "python",
   "nbconvert_exporter": "python",
   "pygments_lexer": "ipython3",
   "version": "3.10.6"
  }
 },
 "nbformat": 4,
 "nbformat_minor": 5
}
