{
 "cells": [
  {
   "cell_type": "code",
   "execution_count": null,
   "id": "70a28aee-c285-4f1e-81a8-33cc9b9bb9d8",
   "metadata": {},
   "outputs": [],
   "source": [
    "# Q1. Which two operator overloading methods can you use in your classes to support iteration?\n",
    "\n",
    "\n",
    "\"\"\"\n",
    "__iter__ and __next__ are the operator overloading methods in python that support iteration and \n",
    "are collectively called iterator protocol.\n",
    "__iter__ returns the iterator object and is called at the start of loop in our respective class.\n",
    "__next__ is called at each loop increment, it returns the incremented value.\n",
    "\"\"\"\n"
   ]
  },
  {
   "cell_type": "code",
   "execution_count": null,
   "id": "2e2cf458-d20f-4537-812f-d95b4039788f",
   "metadata": {},
   "outputs": [],
   "source": [
    "# Q2. In what contexts do the two operator overloading methods manage printing?\n",
    "\n",
    "\n",
    "\"\"\"\n",
    "__str__ and __repr__ are two operator overloading methods that manage printing.\n",
    "\n",
    "The difference between these operators is the goal of __repr__ is to be unambiguous and __str__ is to be readable.\n",
    "Whenever we are printing any object reference internally __str__  method will be called by default.\n",
    "The main purpose of __str__ is for readability. it prints the informal string representation of an object,\n",
    "one that is useful for printing the object. it may not be possible to convert result string to original object.\n",
    "__repr__ is used to print official string representation of an object, so it includes all information\n",
    "and development.\n",
    "\"\"\"\n"
   ]
  },
  {
   "cell_type": "code",
   "execution_count": null,
   "id": "2b502e36-faea-470c-8647-653b59afce94",
   "metadata": {},
   "outputs": [],
   "source": [
    "# Q3. In a class, how do you intercept slice operations?\n",
    "\n",
    "\n",
    "\"\"\"\n",
    "The __getitem__ method is used for intercept slice operation with the function slice()\n",
    "Example : __getitem__(slice(start,stop,step)) \n",
    "here we have to define or give the start,stop, and step numbers as integers.\n",
    "\"\"\""
   ]
  },
  {
   "cell_type": "code",
   "execution_count": 2,
   "id": "291947d9-0ee9-4f9f-8c10-b1e3fe1547e9",
   "metadata": {},
   "outputs": [
    {
     "name": "stdout",
     "output_type": "stream",
     "text": [
      "300\n"
     ]
    }
   ],
   "source": [
    "# Q4. In a class, how do you capture in-place addition?\n",
    "\n",
    "\"\"\"\n",
    "a+b is normal addition. Whereas a+=b is inplace addition operation. In this in-place addition a \n",
    "itself will store the value of addition. In a class __iadd__ method is used for this in-place operation\n",
    "\"\"\"\n",
    "\n",
    "# Example \n",
    "class Book:\n",
    "    def __init__(self,pages):\n",
    "        self.pages = pages\n",
    "    def __iadd__(self,other):\n",
    "        self.pages += other.pages\n",
    "        return self.pages\n",
    "        \n",
    "b1 = Book(100)\n",
    "b2 = Book(200)\n",
    "b1+=b2\n",
    "print(b1)"
   ]
  },
  {
   "cell_type": "code",
   "execution_count": null,
   "id": "7bcb7563-346b-4865-be53-7b44ea7b205b",
   "metadata": {},
   "outputs": [],
   "source": [
    "# Q5. When is it appropriate to use operator overloading?\n",
    "\n",
    "\"\"\"\n",
    "Operator overloading is used when we want to use an operator other than its normal operation to have\n",
    "different meaning according to the context required in user defined function.\n",
    "\"\"\"\n"
   ]
  }
 ],
 "metadata": {
  "kernelspec": {
   "display_name": "Python 3 (ipykernel)",
   "language": "python",
   "name": "python3"
  },
  "language_info": {
   "codemirror_mode": {
    "name": "ipython",
    "version": 3
   },
   "file_extension": ".py",
   "mimetype": "text/x-python",
   "name": "python",
   "nbconvert_exporter": "python",
   "pygments_lexer": "ipython3",
   "version": "3.10.6"
  }
 },
 "nbformat": 4,
 "nbformat_minor": 5
}
