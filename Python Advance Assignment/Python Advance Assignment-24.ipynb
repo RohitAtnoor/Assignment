{
 "cells": [
  {
   "cell_type": "code",
   "execution_count": null,
   "id": "9a62cad9-7d42-4cc5-a240-afc5b3fbd592",
   "metadata": {},
   "outputs": [],
   "source": [
    "\"\"\"\n",
    "Q1. Is it permissible to use several import statements to import the same module? \n",
    "What would the goal be?\n",
    "Can you think of a situation where it would be beneficial?\n",
    "\"\"\"\n",
    "\n",
    "\"\"\"\n",
    "Yes, it is permissiible to use several import statements to import the same module.\n",
    "It is used in case when in case when we have to import multiple functions from same module.\n",
    "\n",
    "\"\"\"\n"
   ]
  },
  {
   "cell_type": "code",
   "execution_count": null,
   "id": "09be6b95-0c05-4f46-996c-7654e289c3b8",
   "metadata": {},
   "outputs": [],
   "source": [
    "# Q2. What are some of a module's characteristics? (Name at least one.)\n",
    "\n",
    "\n",
    "\"\"\"\n",
    "__name__ : It returns the name of the module\n",
    "__doc__ : It denotes the documentation string line written in a module code.\n",
    "__file__ : It holds the name and path of the module file from which it is loaded\n",
    "__dict__ : It return a dictionary object of module attributes\n",
    "\n",
    "\"\"\"\n"
   ]
  },
  {
   "cell_type": "code",
   "execution_count": null,
   "id": "d38ffe47-37db-4bfd-816a-97ee1561d399",
   "metadata": {},
   "outputs": [],
   "source": [
    "\"\"\"\n",
    "Q3. Circular importing, such as when two modules import each other, can lead to dependencies and \n",
    "bugs that aren't visible. How can you go about creating a program that avoids mutual importing?\n",
    "\"\"\"\n",
    "\n",
    "\n",
    "\"\"\"\n",
    "Circular importing means importing the two modules in each other. If suppose we are wokring in MOD1.py \n",
    "file and it is importing some function say F2() from some other module say MOD2.PY file or we can do \n",
    "vice-versa. What will happen is: This will give an import error.\n",
    "\n",
    "This is because when we import F2() function from module MOD2.py, then this will execute MOD2.py file.\n",
    "And in MOD2.py file there is an another statement of importing MOD1.py module.\n",
    "This will result in endless loop. \n",
    "To avoid this error just do one thingWe can use if __name__ == '__main__'\n",
    "\n",
    "\"\"\"\n"
   ]
  },
  {
   "cell_type": "code",
   "execution_count": null,
   "id": "6cb7bf4b-92d9-417a-b682-2e3f7ab98fee",
   "metadata": {},
   "outputs": [],
   "source": [
    "# Q4. Why is  _ _all_ _ in Python?\n",
    "\n",
    "# __all__ is used to find the list of all modules present in a library.\n"
   ]
  },
  {
   "cell_type": "code",
   "execution_count": null,
   "id": "d426a847-8ba4-4e19-aabf-aaebb049cf38",
   "metadata": {},
   "outputs": [],
   "source": [
    "# Q5. In what situation is it useful to refer to the _ _name_ _ attribute or the string '_ _main_ _'?\n",
    "\n",
    "\n",
    "\"\"\"\n",
    "During the time of execution of the code if we want to refer the module in which we \n",
    "are working on then we uses name attribute.\n",
    "The current module in which we are working is refer to the string __main __.\n",
    "\n",
    "\"\"\"\n"
   ]
  },
  {
   "cell_type": "code",
   "execution_count": null,
   "id": "be9c64e0-bdfd-43f7-ac41-e69450f3cfc5",
   "metadata": {},
   "outputs": [],
   "source": [
    "\"\"\"\n",
    "Q6. What are some of the benefits of attaching a program counter to the RPN interpreter\n",
    "application, which interprets an RPN script line by line?\n",
    "\"\"\"\n",
    "\n",
    "\"\"\"\n",
    "The function returns True if we can add operator to current expression:\n",
    "we scan the list and add +1 to counter when we meet a letter\n",
    "and we add -1 when we meet an operator (it reduces\n",
    "last two letters into 1 (say ab+ <--> a + b)\n",
    "\n",
    "\"\"\"\n"
   ]
  },
  {
   "cell_type": "code",
   "execution_count": null,
   "id": "6dab4230-68d9-4a8c-8951-731c4ea96b1b",
   "metadata": {},
   "outputs": [],
   "source": [
    "\"\"\"\n",
    "Q7. What are the minimum expressions or statements (or both) that you'd need to render a \n",
    "basic programming language like RPN primitive but complete— that is, capable of carrying \n",
    "out any computerised task theoretically possible?\n",
    "\"\"\"\n",
    "\n",
    "\n",
    "\"\"\"\n",
    "Notations :  + - /  *  These are the basic notations we require to carry out a computerised task,\n",
    "like RPN Primitive. We also need a particular data structure fo staring elements from a statement\n",
    "except operators.\n",
    "\n",
    "\"\"\"\n"
   ]
  },
  {
   "cell_type": "code",
   "execution_count": null,
   "id": "15445c08-769d-4ab4-8496-547fa8314186",
   "metadata": {},
   "outputs": [],
   "source": []
  }
 ],
 "metadata": {
  "kernelspec": {
   "display_name": "Python 3 (ipykernel)",
   "language": "python",
   "name": "python3"
  },
  "language_info": {
   "codemirror_mode": {
    "name": "ipython",
    "version": 3
   },
   "file_extension": ".py",
   "mimetype": "text/x-python",
   "name": "python",
   "nbconvert_exporter": "python",
   "pygments_lexer": "ipython3",
   "version": "3.10.6"
  }
 },
 "nbformat": 4,
 "nbformat_minor": 5
}
