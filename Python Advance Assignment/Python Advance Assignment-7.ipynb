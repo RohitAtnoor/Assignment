{
 "cells": [
  {
   "cell_type": "code",
   "execution_count": null,
   "id": "a28c382c-c7ef-4f50-8898-a921f62c632a",
   "metadata": {},
   "outputs": [],
   "source": [
    "# Q1. What is the purpose of the try statement?\n",
    "\n",
    "\n",
    "\"\"\"\n",
    "The try statement in Python is used to handle exceptions. An exception is an event that occurs during \n",
    "the execution of a program that disrupts the normal flow of the program. Exceptions can be caused by \n",
    "a variety of factors, such as division by zero, invalid input, or errors in the code.\n",
    "\"\"\"\n",
    "# Example\n",
    "try :\n",
    "    # code that may raise an exception\n",
    "except Exception as e :\n",
    "    # code that handles the exception\n"
   ]
  },
  {
   "cell_type": "code",
   "execution_count": 5,
   "id": "aac0edde-1aa1-4896-b1b4-126a0cac3d21",
   "metadata": {},
   "outputs": [
    {
     "name": "stdin",
     "output_type": "stream",
     "text": [
      "Enter a number:  f\n"
     ]
    },
    {
     "name": "stdout",
     "output_type": "stream",
     "text": [
      "Invalid input. Please enter a number.\n"
     ]
    },
    {
     "name": "stdin",
     "output_type": "stream",
     "text": [
      "Enter a number:  2\n"
     ]
    },
    {
     "name": "stdout",
     "output_type": "stream",
     "text": [
      "The number you entered is: 2\n"
     ]
    }
   ],
   "source": [
    "# Q2. What are the two most popular try statement variations?\n",
    "\n",
    "\"\"\"\n",
    "The two most popular try statement variations are the try/except and the try/except/else statements.\n",
    "The try/except statement is the most basic type of try statement. It is used to handle exceptions that\n",
    "occur in the try clause. The except clause contains the code that handles the exception. \n",
    "\n",
    "The try/except/else statement is a more versatile type of try statement. It is used to handle exceptions\n",
    "that occur in the try clause, and it also allows you to execute code if no exceptions occur.\n",
    "The else clause contains the code that is executed if no exceptions occur.\n",
    "\"\"\"\n",
    "\n",
    "# Example\n",
    "try:\n",
    "    x = int(input(\"Enter a number: \"))\n",
    "except ValueError:\n",
    "    print(\"Invalid input. Please enter a number.\")\n",
    "\n",
    "# Example 2\n",
    "try:\n",
    "    x = int(input(\"Enter a number: \"))\n",
    "except ValueError:\n",
    "    print(\"Invalid input. Please enter a number.\")\n",
    "else:\n",
    "    print(\"The number you entered is:\", x)"
   ]
  },
  {
   "cell_type": "code",
   "execution_count": null,
   "id": "f77db2ca-5eb9-4d64-8835-0ba10ad9b1c9",
   "metadata": {},
   "outputs": [],
   "source": [
    "# Q3. What is the purpose of the raise statement?\n",
    "\n",
    "# raise statement is used to raise an exception, You define what knind of error to raise at that point."
   ]
  },
  {
   "cell_type": "code",
   "execution_count": 3,
   "id": "3f3288e3-fa68-46b6-b177-624d81f35b94",
   "metadata": {},
   "outputs": [
    {
     "ename": "AssertionError",
     "evalue": "number should be grater than 0",
     "output_type": "error",
     "traceback": [
      "\u001b[0;31m---------------------------------------------------------------------------\u001b[0m",
      "\u001b[0;31mAssertionError\u001b[0m                            Traceback (most recent call last)",
      "Cell \u001b[0;32mIn [3], line 10\u001b[0m\n\u001b[1;32m      8\u001b[0m \u001b[38;5;66;03m# Example\u001b[39;00m\n\u001b[1;32m      9\u001b[0m x\u001b[38;5;241m=\u001b[39m\u001b[38;5;241m0\u001b[39m\n\u001b[0;32m---> 10\u001b[0m \u001b[38;5;28;01massert\u001b[39;00m x \u001b[38;5;241m>\u001b[39m \u001b[38;5;241m0\u001b[39m , \u001b[38;5;124m\"\u001b[39m\u001b[38;5;124mnumber should be grater than 0\u001b[39m\u001b[38;5;124m\"\u001b[39m\n\u001b[1;32m     11\u001b[0m \u001b[38;5;28mprint\u001b[39m(\u001b[38;5;124m\"\u001b[39m\u001b[38;5;124meven\u001b[39m\u001b[38;5;124m\"\u001b[39m)\n",
      "\u001b[0;31mAssertionError\u001b[0m: number should be grater than 0"
     ]
    }
   ],
   "source": [
    "# Q4. What does the assert statement do, and what other statement is it like?\n",
    "\n",
    "\"\"\"\n",
    "assert statement will check and test the condition is true or not, if it is not true then it will raise \n",
    "Assertion error.  \n",
    "It is like raise statement, Where we can create our custom exceptions.\n",
    "\"\"\"\n",
    "# Example\n",
    "x=0\n",
    "assert x > 0 , \"number should be grater than 0\"\n",
    "print(\"even\")"
   ]
  },
  {
   "cell_type": "code",
   "execution_count": null,
   "id": "266113c4-b776-480d-adf1-3fdebab21f1b",
   "metadata": {},
   "outputs": [],
   "source": [
    "# Q5. What is the purpose of the with/as argument, and what other statement is it like?\n",
    "\n",
    "\"\"\"\n",
    "with sttement in python is used in exception handling to make the code cleaner and much readable.\n",
    "It simplifies the management of common resources like file streams.The with statement itself \n",
    "ensure proper acquisition and release of resources.This allows common try...except...finally \n",
    "usage patterns to be encapsulated for convenient reuse.\n",
    "\n",
    "When \"as\" is used after \"with\", it will reassign the returned object to a new identifier.\n",
    "\"\"\"\n"
   ]
  }
 ],
 "metadata": {
  "kernelspec": {
   "display_name": "Python 3 (ipykernel)",
   "language": "python",
   "name": "python3"
  },
  "language_info": {
   "codemirror_mode": {
    "name": "ipython",
    "version": 3
   },
   "file_extension": ".py",
   "mimetype": "text/x-python",
   "name": "python",
   "nbconvert_exporter": "python",
   "pygments_lexer": "ipython3",
   "version": "3.10.6"
  }
 },
 "nbformat": 4,
 "nbformat_minor": 5
}
