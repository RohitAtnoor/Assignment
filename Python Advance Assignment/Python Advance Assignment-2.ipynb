{
 "cells": [
  {
   "cell_type": "code",
   "execution_count": null,
   "id": "28c0704a-44fa-47b0-9215-9f341ddad96b",
   "metadata": {},
   "outputs": [],
   "source": [
    "# Q1. What is the relationship between classes and modules?\n",
    "\n",
    "\"\"\"\n",
    "1. Classes may generate instances (objects), and have per-instance state\n",
    "Modules are collections of methods and constants. They cannot generate instances. \n",
    "2. A class is more of a unit, and a module is essentially a loose collection of stuff \n",
    "like functions, variables, or even classes\n",
    "3.  A Python class is like an outline/blueprint/mold for creating a new object.\n",
    "Whereas in Python, Modules are simply files with the . py\n",
    "\n",
    "\"\"\"\n"
   ]
  },
  {
   "cell_type": "code",
   "execution_count": 4,
   "id": "aae1e935-2e7e-4c7f-8e1f-00a76f7731ca",
   "metadata": {},
   "outputs": [],
   "source": [
    "# Q2. How do you make instances and classes?\n",
    "\n",
    "\"\"\"\n",
    "To create instances of a class, you call the class using class name and pass in whatever arguments \n",
    "its __init__ method accepts.\n",
    "\n",
    "To make instances and classes in Python, you need to use the class keyword. \n",
    "The syntax for creating a class is as follows:\n",
    "\"\"\"\n",
    "# Classname is the name of the class\n",
    "class Classname:\n",
    "    # class body here we will create the methods and functions of the class.\n",
    "    pass\n",
    "\n",
    "# To create an instance of a class, you use the object() function. The syntax for creating an instance is as follows:\n",
    "instance = Classname() # The instance variable will now refer to an object of the Classname class."
   ]
  },
  {
   "cell_type": "code",
   "execution_count": 5,
   "id": "40e593fb-c4fc-48d1-997b-2cec0c45d149",
   "metadata": {},
   "outputs": [
    {
     "name": "stdout",
     "output_type": "stream",
     "text": [
      "The Toyota Corolla is driving.\n"
     ]
    }
   ],
   "source": [
    "# Q3. Where and how should be class attributes created?\n",
    "\n",
    "\"\"\"\n",
    "1. Class attributes are created outside the __init__() method. They are shared by all instances of the class.\n",
    "2. Class attributes should be used for data that is shared by all instances of the class.\n",
    "3. Instance attributes should be used for data that is specific to each instance of the class.\n",
    "4. Class attributes should be defined outside the __init__() method.\n",
    "5. Instance attributes should be defined inside the __init__() method.\n",
    "\"\"\"\n",
    "\n",
    "class Car:\n",
    "    \n",
    "    # This is a class attribute\n",
    "    make = \"Toyota\"\n",
    "\n",
    "    def __init__(self, color, model):\n",
    "        # This is an instance attribute\n",
    "        self.color = color\n",
    "        self.model = model\n",
    "\n",
    "    def drive(self):\n",
    "        print(f\"The {self.make} {self.model} is driving.\")\n",
    "\n",
    "my_car = Car(\"red\", \"Corolla\")  # an instance of the Car class called my_car\n",
    "\n",
    "my_car.drive()"
   ]
  },
  {
   "cell_type": "code",
   "execution_count": 6,
   "id": "fcdbe6a6-977f-43c3-895a-52ce7f324cdb",
   "metadata": {},
   "outputs": [
    {
     "name": "stdout",
     "output_type": "stream",
     "text": [
      "red\n"
     ]
    }
   ],
   "source": [
    "# Q4. Where and how are instance attributes created?\n",
    "\n",
    "# Instance attributes should be defined inside the __init__() method.\n",
    "class Car:\n",
    "    def __init__(self, color, model):\n",
    "        # This is an instance attribute\n",
    "        self.color = color\n",
    "        self.model = model\n",
    "\n",
    "    def drive(self):\n",
    "        print(f\"The {self.color} {self.model} is driving.\")\n",
    "\n",
    "my_car = Car(\"red\", \"Corolla\")\n",
    "\n",
    "print(my_car.color)"
   ]
  },
  {
   "cell_type": "code",
   "execution_count": 7,
   "id": "b98dcf19-877c-4d63-9ef1-1e87f4af360a",
   "metadata": {},
   "outputs": [
    {
     "name": "stdout",
     "output_type": "stream",
     "text": [
      "The car is driving.\n"
     ]
    }
   ],
   "source": [
    "# Q5. What does the term \"self\" in a Python class mean?\n",
    "\n",
    "\"\"\"\n",
    "The term \"self\" in a Python class refers to the current instance of the class. It is used to access the attributes\n",
    "and methods of the instance. The self parameter is always the first argument to a method in a class.\n",
    "\"\"\"\n",
    "# Example \n",
    "class Car:\n",
    "    def drive(self):\n",
    "        print(\"The car is driving.\")\n",
    "        \n",
    "        \n",
    "mycar = Car()\n",
    "mycar.drive()"
   ]
  },
  {
   "cell_type": "code",
   "execution_count": 12,
   "id": "08962ab8-5303-44e0-9c94-1fabef32afdb",
   "metadata": {},
   "outputs": [
    {
     "name": "stdout",
     "output_type": "stream",
     "text": [
      "(4, 6)\n"
     ]
    }
   ],
   "source": [
    "# Q6. How does a Python class handle operator overloading?\n",
    "\n",
    "\"\"\"\n",
    "\n",
    "Operator overloading in Python is a way to change the meaning of operators when they are used with objects\n",
    "of a specific class. This can be useful for making your code more concise and readable.\n",
    "\n",
    "To overload an operator, you need to define a special method in your class with the same name as the operator.\n",
    "Example :\n",
    "+ -> __add__()\n",
    "- -> __sub__()\n",
    "* -> __mul__()\n",
    "/ -> __div__()\n",
    "\"\"\"\n",
    "\n",
    "#Example\n",
    "class Point:\n",
    "    def __init__(self, x, y):\n",
    "        self.x = x\n",
    "        self.y = y\n",
    "\n",
    "    def __add__(self, other):\n",
    "        return self.x + other.x, self.y + other.y\n",
    "    \n",
    "p1 = Point(1, 2)\n",
    "p2 = Point(3, 4)\n",
    "\n",
    "p3 = p1 + p2\n",
    "print(p3)"
   ]
  },
  {
   "cell_type": "code",
   "execution_count": null,
   "id": "b2b8ff72-488c-4810-a13b-0be29b0fc646",
   "metadata": {},
   "outputs": [],
   "source": [
    "# Q7. When do you consider allowing operator overloading of your classes?\n",
    "\n",
    "\"\"\"\n",
    "1. Operator overloading should be used sparingly.\n",
    "2. Operator overloading should only be used when it makes your code more concise and readable.\n",
    "3. Operator overloading should not be used to change the semantics of the operators.\n",
    "\n",
    "\"\"\"\n"
   ]
  },
  {
   "cell_type": "code",
   "execution_count": 14,
   "id": "11a35579-539b-48fc-a5de-d4ea5368a054",
   "metadata": {},
   "outputs": [
    {
     "name": "stdout",
     "output_type": "stream",
     "text": [
      "(4, 6)\n"
     ]
    }
   ],
   "source": [
    "# Q8. What is the most popular form of operator overloading?\n",
    "\n",
    "\n",
    "#The most popular form of operator overloading in Python is the use of the __add__() method to overload the + operator.\n",
    "# Example \n",
    "class Point:\n",
    "    def __init__(self, x, y):\n",
    "        self.x = x\n",
    "        self.y = y\n",
    "\n",
    "    def __add__(self, other):\n",
    "        return self.x + other.x, self.y + other.y\n",
    "    \n",
    "p1 = Point(1, 2)\n",
    "p2 = Point(3, 4)\n",
    "\n",
    "p3 = p1 + p2\n",
    "print(p3)\n"
   ]
  },
  {
   "cell_type": "code",
   "execution_count": null,
   "id": "b356315a-6e33-4867-a1ea-c333f1de14a1",
   "metadata": {},
   "outputs": [],
   "source": [
    "# Q9. What are the two most important concepts to grasp in order to comprehend Python OOP code?\n",
    "\n",
    "\"\"\"\n",
    "Classes and objects are the two concepts to comprehend python OOP code as more formally objects are\n",
    "entities that represent instances of general abstract concept called class\n",
    "\n",
    "Along with classes and objects the important concepts to grasp are:\n",
    "Inheritence\n",
    "Multiple Inheritance\n",
    "Abstraction\n",
    "Polymorphism\n",
    "Encapsulation\n",
    "\"\"\""
   ]
  },
  {
   "cell_type": "code",
   "execution_count": null,
   "id": "5947b57d-91b3-4243-a5fb-1a04b3fe98a4",
   "metadata": {},
   "outputs": [],
   "source": []
  }
 ],
 "metadata": {
  "kernelspec": {
   "display_name": "Python 3 (ipykernel)",
   "language": "python",
   "name": "python3"
  },
  "language_info": {
   "codemirror_mode": {
    "name": "ipython",
    "version": 3
   },
   "file_extension": ".py",
   "mimetype": "text/x-python",
   "name": "python",
   "nbconvert_exporter": "python",
   "pygments_lexer": "ipython3",
   "version": "3.10.6"
  }
 },
 "nbformat": 4,
 "nbformat_minor": 5
}
