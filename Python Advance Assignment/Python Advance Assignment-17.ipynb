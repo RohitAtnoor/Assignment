{
 "cells": [
  {
   "cell_type": "code",
   "execution_count": 2,
   "id": "5cd01201-5c7d-4c48-8a7f-eabe7ca53344",
   "metadata": {},
   "outputs": [
    {
     "name": "stdout",
     "output_type": "stream",
     "text": [
      "<Robot is the latest addition to the tech items>\n"
     ]
    },
    {
     "data": {
      "text/plain": [
       "'<Robot is the latest addition to the tech items>'"
      ]
     },
     "execution_count": 2,
     "metadata": {},
     "output_type": "execute_result"
    }
   ],
   "source": [
    "\"\"\"\n",
    "Q1. Explain the difference between greedy and non-greedy syntax with visual terms in as few words \n",
    "as possible. What is the bare minimum effort required to transform a greedy pattern into \n",
    "a non-greedy one? What characters or characters can you introduce or change?\n",
    "\"\"\"\n",
    "\n",
    "\n",
    "\"\"\"\n",
    "The Main difference between Greedy and Non Greedy Match Syntax is The Greedy Match will try to\n",
    "match as many repetitions of the quantified pattern as possible Whereas The Non Greedy Match \n",
    "will try to match as few repetitions of the quantified pattern as possible\n",
    "\n",
    "\"\"\"\n",
    "import re\n",
    "# Example\n",
    "text=\"<Robot is the latest addition to the tech items>\"\n",
    "greedyregobj=re.compile(r\"<.*>\")\n",
    "match=greedyregobj.search(text)\n",
    "print(match.group())\n",
    "\n",
    "#The Non-greedy version of the regex,Python matches the shortest possible string\n",
    "\n",
    "nongreedyreobj=re.compile(r'<Ro.*?>')\n",
    "match1=nongreedyreobj.search(text)\n",
    "match1.group()"
   ]
  },
  {
   "cell_type": "code",
   "execution_count": null,
   "id": "24055b4e-a58b-4f5a-ab06-168e68f8014d",
   "metadata": {},
   "outputs": [],
   "source": [
    "\"\"\"\n",
    "Q2. When exactly does greedy versus non-greedy make a difference?  What if you're looking \n",
    "for a non-greedy match but the only one available is greedy?\n",
    "\"\"\"\n",
    "\n",
    "\n",
    "\"\"\"\n",
    "The Greedy Match will try to match as many repetitions of the quantified pattern as possible. \n",
    "The Non Greedy Match will try to match as few repetitions of the quantified pattern as possible. \n",
    "If only Non Greedy Match is available, we can use other filtering or pattern matching methods\n",
    "of regex and further identify the required pattern.\n",
    "\n",
    "\"\"\""
   ]
  },
  {
   "cell_type": "code",
   "execution_count": 4,
   "id": "1cec2864-e03d-4bb2-bd67-da29bb6bf358",
   "metadata": {},
   "outputs": [
    {
     "name": "stdout",
     "output_type": "stream",
     "text": [
      "Phone number found -> 234\n",
      "Phone number found -> 234\n"
     ]
    }
   ],
   "source": [
    "\"\"\"\n",
    "Q3. In a simple match of a string, which looks only for one match and does not do any replacement,\n",
    "is the use of a nontagged group likely to make any practical difference?\n",
    "\"\"\"\n",
    "\n",
    "# In this Case The Non Tagged Group will not make any diffrence in this case.\n",
    "# Example\n",
    "import re\n",
    "phoneNumRegex = re.compile(r'\\d\\d\\d')\n",
    "num = phoneNumRegex.search('My number is 234-567-8901.')\n",
    "print(f'Phone number found -> {num.group()}') # Non Tagged group\n",
    "print(f'Phone number found -> {num.group(0)}') # Tagged Group"
   ]
  },
  {
   "cell_type": "code",
   "execution_count": 5,
   "id": "fc1bbe93-c837-417a-8dbd-f3315bc76bc6",
   "metadata": {},
   "outputs": [
    {
     "data": {
      "text/plain": [
       "('101', '201')"
      ]
     },
     "execution_count": 5,
     "metadata": {},
     "output_type": "execute_result"
    }
   ],
   "source": [
    "\"\"\"\n",
    "Q4. Describe a scenario in which using a nontagged category would have a significant \n",
    "impact on the program's outcomes.\n",
    "\"\"\"\n",
    "\n",
    "\n",
    "\"\"\"\n",
    "Here in the below Code Snippet . decimal is not tagged or captured. It will useful in scenarios\n",
    "where the separator of value in a string is of no use and we need to capture only the values.\n",
    "\"\"\"\n",
    "# Example\n",
    "import re\n",
    "text='101.201'\n",
    "pattern=r'(\\d+)(?:.)(\\d+)'\n",
    "regobj=re.compile(pattern)\n",
    "matobj=regobj.search(text)\n",
    "matobj.groups()"
   ]
  },
  {
   "cell_type": "code",
   "execution_count": null,
   "id": "5f15c6e0-895d-42ab-a889-71738e29fe7b",
   "metadata": {},
   "outputs": [],
   "source": [
    "\"\"\"\n",
    "Q5. Unlike a normal regex pattern, a look-ahead condition does not consume the characters\n",
    "it examines. Describe a situation in which this could make a difference in the results of your programme.\n",
    "\"\"\"\n",
    "\n",
    "\n",
    "\"\"\"\n",
    "While counting the number of multiple lines or mutiple sentence in a string the positive look\n",
    "ahead makes a difference, without which we wont get the correct count of lines or sentences in a string.\n",
    "\n",
    "\"\"\"\n"
   ]
  },
  {
   "cell_type": "code",
   "execution_count": 7,
   "id": "73a4cef2-b9b5-4f0e-a71b-ed5cd3886a7d",
   "metadata": {},
   "outputs": [
    {
     "name": "stdout",
     "output_type": "stream",
     "text": [
      "Positive lookahead: ['abc']\n",
      "\n",
      "Negative look ahead: ['abc']\n"
     ]
    }
   ],
   "source": [
    "# Q6. In standard expressions, what is the difference between positive look-ahead and negative look-ahead?\n",
    "\n",
    "\n",
    "\"\"\"\n",
    "Positive look ahead : is an assertion continuing the search and extending the string \n",
    "e.g.pattern= r'abc(?=[A-Z])''. \n",
    "Here after 'abc', ? is extending the search and says that in the remaining string, first identify the next \n",
    "charater should be capitalized character between A and Z, but doesnt consume it.\n",
    "Example of Positive lookahead\n",
    "\n",
    "Negative look head is also an assertion to exclude certain patterns e.g. pattern = r'abc(?!abc)', means \n",
    "identify a substring containing \n",
    "'abc' which is not followed by another 'abc'\n",
    "Example of Negative lookahead\n",
    "\"\"\"\n",
    "# Example\n",
    "\n",
    "import re\n",
    "pat=r'abc(?=[A-Z])'\n",
    "text=\"abcABCEF\"\n",
    "regobj=re.compile(pat)\n",
    "matobj=regobj.findall(text)\n",
    "print(\"Positive lookahead:\",matobj)\n",
    "print()\n",
    "\n",
    "import re\n",
    "pat1=r'abc(?!abc)'\n",
    "text1=\"aeiouabcabc\"\n",
    "regobj1=re.compile(pat1)\n",
    "matobj1=regobj1.findall(text)\n",
    "print(\"Negative look ahead:\",matobj1)"
   ]
  },
  {
   "cell_type": "code",
   "execution_count": null,
   "id": "0e1470de-2b47-47cf-b793-2ca811bec68a",
   "metadata": {},
   "outputs": [],
   "source": [
    "# Q7. What is the benefit of referring to groups by name rather than by number in a standard expression?\n",
    "\n",
    "\n",
    "\"\"\"\n",
    "The benfit of referring to the groups by name is as followes.\n",
    "1. The code is clear \n",
    "2. It is easier to maintain the code.\n",
    "\n",
    "\"\"\"\n",
    "\n"
   ]
  },
  {
   "cell_type": "code",
   "execution_count": 9,
   "id": "808e6653-9f13-47c7-99c7-93bb1817ab5d",
   "metadata": {},
   "outputs": [
    {
     "data": {
      "text/plain": [
       "['The', 'the']"
      ]
     },
     "execution_count": 9,
     "metadata": {},
     "output_type": "execute_result"
    }
   ],
   "source": [
    "\"\"\"\n",
    "Q8. Can you identify repeated items within a target string using named groups, as in \n",
    "\"The cow jumped over the moon\"?\n",
    "\"\"\"\n",
    "\n",
    "# Example\n",
    "\n",
    "import re\n",
    "text = \"The sky is blue and the sea is blue\"\n",
    "regobj=re.compile(r'(?P<w1>The)',re.I)\n",
    "regobj.findall(text)"
   ]
  },
  {
   "cell_type": "code",
   "execution_count": null,
   "id": "6a8fdde4-c0ef-4953-a6e5-9e35eccddee7",
   "metadata": {},
   "outputs": [],
   "source": [
    "\"\"\"\n",
    "Q9. When parsing a string, what is at least one thing that the Scanner interface does for \n",
    "you that the re.findall feature does not?\n",
    "\"\"\"\n",
    "\n",
    "\n",
    "\"\"\"\n",
    "re.findall() module is used to search for all occurrences that match a given pattern. \n",
    "In contrast, re.search() will only return the first occurrence that matches the specified \n",
    "pattern. re.findall() will iterate over all the lines of the file and will return all \n",
    "non-overlapping matches of pattern in a single step.\n",
    "\n",
    "\"\"\""
   ]
  },
  {
   "cell_type": "code",
   "execution_count": null,
   "id": "62266d66-ee5f-408c-8db0-02c9697e1803",
   "metadata": {},
   "outputs": [],
   "source": [
    "# Q10. Does a scanner object have to be named scanner?\n",
    "\n",
    "# No, it can have any name."
   ]
  }
 ],
 "metadata": {
  "kernelspec": {
   "display_name": "Python 3 (ipykernel)",
   "language": "python",
   "name": "python3"
  },
  "language_info": {
   "codemirror_mode": {
    "name": "ipython",
    "version": 3
   },
   "file_extension": ".py",
   "mimetype": "text/x-python",
   "name": "python",
   "nbconvert_exporter": "python",
   "pygments_lexer": "ipython3",
   "version": "3.10.6"
  }
 },
 "nbformat": 4,
 "nbformat_minor": 5
}
