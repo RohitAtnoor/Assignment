{
 "cells": [
  {
   "cell_type": "code",
   "execution_count": null,
   "id": "791935ac-b738-4103-8486-a2ca07a9a3b2",
   "metadata": {},
   "outputs": [],
   "source": [
    "# Q1. What is the concept of a metaclass?\n",
    "\n",
    "\"\"\"\n",
    "A class is also an object, and just like ant other object it's a instance of something\n",
    "called Metaclass.A special class type creates these class object. The type class is \n",
    "default metaclass which is reponsible for making classes.\n",
    "\n",
    "A class is itself a instance of Metaclass, and any Instance of Class in Python is an Instance\n",
    "of type metaclass. E.g. Type of of int, str, float, list, tuple and many more is of metaclass type.\n",
    "\n",
    "\"\"\"\n"
   ]
  },
  {
   "cell_type": "code",
   "execution_count": 2,
   "id": "afc4369d-2607-4c8f-b6ac-43b55670deb7",
   "metadata": {},
   "outputs": [
    {
     "name": "stdout",
     "output_type": "stream",
     "text": [
      "<class 'type'>\n",
      "<class '__main__.meta'>\n"
     ]
    }
   ],
   "source": [
    "# Q2. What is the best way to declare a class's metaclass?\n",
    "\n",
    "# the best way ro declear is by using a metaclass keyword.\n",
    "# Example \n",
    "class meta(type):\n",
    "    pass\n",
    "class class_meta(metaclass=meta):\n",
    "    pass\n",
    "\n",
    "print(type(meta))\n",
    "print(type(class_meta))"
   ]
  },
  {
   "cell_type": "code",
   "execution_count": null,
   "id": "319caf4a-0acd-4d99-a358-26c412e122cc",
   "metadata": {},
   "outputs": [],
   "source": [
    "# Q3. How do class decorators overlap with metaclasses for handling classes?\n",
    "\n",
    "\"\"\"\n",
    "Both decorators and metaclass have some common things. When we want to apply some common \n",
    "functionality to attributes of the class instance, both can be used.There are some problems\n",
    "which can be solves by decorators as well as by metaclasses.But there are a few problems that\n",
    "can only be solved by metaclasses.Use of metaclass affects its children while the decorator \n",
    "affects only the current class.\n",
    "\n",
    "\"\"\"\n"
   ]
  },
  {
   "cell_type": "code",
   "execution_count": null,
   "id": "189bd9d6-be33-40d8-8e39-7109e06af781",
   "metadata": {},
   "outputs": [],
   "source": [
    "# Q4. How do class decorators overlap with metaclasses for handling instances?\n",
    "\n",
    "\"\"\"\n",
    "Anything you can do with a class decorator, you can of course do with a custom metaclass \n",
    "just apply the functionality of the \"decorator function\", i.e., the one that takes a class \n",
    "object and modifies it, in the course of the metaclass's __new__ or __init__ that make the class object.\n",
    "\n",
    "\"\"\"\n"
   ]
  }
 ],
 "metadata": {
  "kernelspec": {
   "display_name": "Python 3 (ipykernel)",
   "language": "python",
   "name": "python3"
  },
  "language_info": {
   "codemirror_mode": {
    "name": "ipython",
    "version": 3
   },
   "file_extension": ".py",
   "mimetype": "text/x-python",
   "name": "python",
   "nbconvert_exporter": "python",
   "pygments_lexer": "ipython3",
   "version": "3.10.6"
  }
 },
 "nbformat": 4,
 "nbformat_minor": 5
}
