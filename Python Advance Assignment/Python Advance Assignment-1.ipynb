{
 "cells": [
  {
   "cell_type": "code",
   "execution_count": null,
   "id": "d95c265b-bb22-4aa9-b6c7-4e24c688a888",
   "metadata": {},
   "outputs": [],
   "source": [
    "# Q1. What is the purpose of Python's OOP?\n",
    "\n",
    "\"\"\"\n",
    "The advantages of python OOPS are as followes\n",
    "1. By creating the classes and objects we can increase he code reuseability and reduce the number of lines\n",
    "2. With the help of OOPS we can use real world entities like inheritance, polymorphisms, encapsulation.\n",
    "3. It helps in binding the modules, methods and function together as a single unit.\n",
    "4. Helps in easy maintenance and modification of existing program\n",
    "5. Multiple instances of an object can be made.\n",
    "\n",
    "\"\"\"\n"
   ]
  },
  {
   "cell_type": "code",
   "execution_count": null,
   "id": "4a32a090-fddf-47c0-962c-91d7b239b6ea",
   "metadata": {},
   "outputs": [],
   "source": [
    "# Q2. Where does an inheritance search look for an attribute?\n",
    "\n",
    "\"\"\"\n",
    "The inheritance search look for an attributes first in the instance object, \n",
    "then in the class the instance was created from, then in all higher superclasses,\n",
    "progressing from left to right \n",
    "\n",
    "\"\"\"\n"
   ]
  },
  {
   "cell_type": "code",
   "execution_count": null,
   "id": "072c0519-8833-405a-ad0f-ec0afb1bead8",
   "metadata": {},
   "outputs": [],
   "source": [
    "# Q3. How do you distinguish between a class object and an instance object?\n",
    "\n",
    "\"\"\"\n",
    "1. Class is a blueprint or the template for creating objects whereas object is an instance of class\n",
    "2. classes are created only once but we can create as many objects required from the class.\n",
    "3. The calsses cannot be manuplated but the objects can be manuplated.\n",
    "4. A class describes a data type. An instance of a class is an object of the\n",
    "data typethat exists in memory.\n",
    "\n",
    "\"\"\""
   ]
  },
  {
   "cell_type": "code",
   "execution_count": null,
   "id": "1eb1c174-7aa6-483c-9c0f-712c81a9f18a",
   "metadata": {},
   "outputs": [],
   "source": [
    "# Q4. What makes the first argument in a class’s method function special?\n",
    "\n",
    "\"\"\"\n",
    "self is the first argument for instance methods which refers to the object itself.\n",
    "cls is the first argument for class methods which refers to the class itself\n",
    "static methos and class methods.\n",
    "\n",
    "\"\"\""
   ]
  },
  {
   "cell_type": "code",
   "execution_count": null,
   "id": "e7e41842-b702-4b43-bac5-3b7b43c214ad",
   "metadata": {},
   "outputs": [],
   "source": [
    "# Q5. What is the purpose of the __init__ method?\n",
    "\n",
    "\"\"\"\n",
    "The __init__ method lets the class initialize the object's attributes \n",
    "__init__ is a reseved method in python classes. \n",
    "It acts as a constructor in object oriented in python.\n",
    "\n",
    "\"\"\""
   ]
  },
  {
   "cell_type": "code",
   "execution_count": 1,
   "id": "aab48c04-8bef-4a59-b0fd-99de85c8419a",
   "metadata": {},
   "outputs": [],
   "source": [
    "# Q6. What is the process for creating a class instance?\n",
    "\n",
    "\"\"\"\n",
    "The process of creating a class instances is.\n",
    "first we create a class with the keyword class.\n",
    "and now to create a class instance we need to call the class firstwith the name.\n",
    "\"\"\"\n",
    "\n",
    "# Example\n",
    "class example:\n",
    "    pass\n",
    "\n",
    "instance  = example()"
   ]
  },
  {
   "cell_type": "code",
   "execution_count": null,
   "id": "e467ba57-6754-4ce5-bf6d-0a951f4c7e9e",
   "metadata": {},
   "outputs": [],
   "source": [
    "# Q7. What is the process for creating a class?\n",
    "\n",
    "\"\"\"\n",
    "class is the keyword used to create a class followed by the class name.\n",
    "if we are inheriting another class then we need to specify the parent class name in bracket()\n",
    "ex : class class_name(parent_class) : parrent class or inheritance is used as required in the code.\n",
    "\"\"\"\n",
    "# Example\n",
    "class example :  # example is the class name\n",
    "    pass\n",
    "\n",
    "instance  = example()  # instance is the object "
   ]
  },
  {
   "cell_type": "code",
   "execution_count": 2,
   "id": "34f70c55-b971-4d25-b002-d8309eafbdfc",
   "metadata": {},
   "outputs": [],
   "source": [
    "# Q8. How would you define the superclasses of a class?\n",
    "\n",
    "\"\"\"\n",
    "The super classes or the parent classes are given as a arguments to the child class,\n",
    "ot the class where it is inherited.\n",
    "ex : class class_name(parent_class) : parrent class or inheritance is as required in the code.\n",
    "\"\"\"\n",
    "\n",
    "# Example\n",
    "class parent_class() :    \n",
    "    pass\n",
    "\n",
    "class child_class(parent_class) :\n",
    "    pass\n",
    "\n",
    "child = child_class()\n"
   ]
  },
  {
   "cell_type": "code",
   "execution_count": null,
   "id": "4f4b3afb-0d69-4383-8577-b22cf6f34398",
   "metadata": {},
   "outputs": [],
   "source": []
  }
 ],
 "metadata": {
  "kernelspec": {
   "display_name": "Python 3 (ipykernel)",
   "language": "python",
   "name": "python3"
  },
  "language_info": {
   "codemirror_mode": {
    "name": "ipython",
    "version": 3
   },
   "file_extension": ".py",
   "mimetype": "text/x-python",
   "name": "python",
   "nbconvert_exporter": "python",
   "pygments_lexer": "ipython3",
   "version": "3.10.6"
  }
 },
 "nbformat": 4,
 "nbformat_minor": 5
}
