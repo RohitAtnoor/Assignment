{
 "cells": [
  {
   "cell_type": "code",
   "execution_count": null,
   "id": "62fe6f95-c5b9-4176-8106-c96e9d9c1f4a",
   "metadata": {},
   "outputs": [],
   "source": [
    "# Q1. Describe the differences between text and binary files in a single paragraph.\n",
    "\n",
    "\n",
    "\"\"\"\n",
    "Binary files are those typical files that store data in the form of sequence of bytes grouped \n",
    "into eight bits or sometimes sixteen bits. These bits represent custom data and such files can \n",
    "store multiple types of data (images, audio, text, etc) under a single file.\n",
    "\n",
    "Text files are special subset of binary files that are used to store human readable characters \n",
    "as a rich text document or plain text document. Text files also store data in sequential bytes\n",
    "but bits in text file represents characters.\n",
    "\n",
    "\"\"\"\n"
   ]
  },
  {
   "cell_type": "code",
   "execution_count": null,
   "id": "8e1277c0-f1b6-4baa-a7cf-9ec71e996440",
   "metadata": {},
   "outputs": [],
   "source": [
    "\"\"\"\n",
    "Q2. What are some scenarios where using text files will be the better option? \n",
    "When would you like to use binary files instead of text files?\n",
    "\"\"\"\n",
    "\n",
    "\n",
    "\"\"\"\n",
    "Text files are less prone to get corrupted as any undesired change may just show up once\n",
    "the file is opened and then can easily be removed. Whereas Use binary files instead of \n",
    "text files for image data.\n",
    "\n",
    "\"\"\"\n"
   ]
  },
  {
   "cell_type": "code",
   "execution_count": null,
   "id": "86346e67-6e27-4e4e-81b6-87513d208cf7",
   "metadata": {},
   "outputs": [],
   "source": [
    "\"\"\"\n",
    "Q3. What are some of the issues with using binary operations to read and \n",
    "write a Python integer directly to disc?\n",
    "\"\"\"\n",
    "\n",
    "\n",
    "\"\"\"\n",
    "1. Binary operations deal with raw data\n",
    "2. One needs to identify how many bytes one would read or write.\n",
    "\n",
    "\"\"\"\n",
    "\n"
   ]
  },
  {
   "cell_type": "code",
   "execution_count": null,
   "id": "5dc78be7-4fae-49a5-aafe-84ad7100ee03",
   "metadata": {},
   "outputs": [],
   "source": [
    "# Q4. Describe a benefit of using the with keyword instead of explicitly opening a file.\n",
    "\n",
    "\n",
    "\"\"\"\n",
    "When a file is opened using the with keyword, if some exceptions occur after opening a file,\n",
    "or at the end of the file it automatically does the closing of the file. There by not leaving\n",
    "an file in open mode and there would no need to explicitly close a file.\n",
    "\n",
    "\"\"\"\n"
   ]
  },
  {
   "cell_type": "code",
   "execution_count": null,
   "id": "209df13d-cede-4b69-83ac-06c0b05de66d",
   "metadata": {},
   "outputs": [],
   "source": [
    "\"\"\"\n",
    "Q5. Does Python have the trailing newline while reading a line of text? \n",
    "Does Python append a newline when you write a line of text?\n",
    "\"\"\"\n",
    "\n",
    "\n",
    "\"\"\"\n",
    "Yes, Python have the trailing newline while reading a line of text. When we write a \n",
    "newline has to be provided in python excpicitly\n",
    "\n",
    "\"\"\"\n"
   ]
  },
  {
   "cell_type": "code",
   "execution_count": null,
   "id": "75a56455-3d8c-471b-9220-c4051ad25060",
   "metadata": {},
   "outputs": [],
   "source": [
    "# Q6. What file operations enable for random-access operation?\n",
    "\n",
    "# seek() and tell() enables for random access operation.\n"
   ]
  },
  {
   "cell_type": "code",
   "execution_count": null,
   "id": "5fccbf9b-2a33-4a21-af16-9efdc88e813c",
   "metadata": {},
   "outputs": [],
   "source": [
    "# Q7. When do you think you'll use the struct package the most?\n",
    "\n",
    "\n",
    "\"\"\"\n",
    "The struct package is mostly used while converting a common python types into 'C' language types.\n",
    "This is done \n",
    "by packing python variables into data fields of specific sizes.So, when we try read , right number of bytes are\n",
    "read. This useful when interacting with existing binary files.\n",
    "Reading and writing a single integer using struct package\n",
    "\n",
    "\"\"\"\n"
   ]
  },
  {
   "cell_type": "code",
   "execution_count": null,
   "id": "f1a7e94e-5168-4cb5-a1ec-15f3fc70c434",
   "metadata": {},
   "outputs": [],
   "source": [
    "# Q8. When is pickling the best option?\n",
    "\n",
    "#Once a file is created it can be read by other python programs. The functions available in the pickle package\n",
    "\n"
   ]
  },
  {
   "cell_type": "code",
   "execution_count": null,
   "id": "7cd070ff-6ed6-4ec1-ae86-04807472eacb",
   "metadata": {},
   "outputs": [],
   "source": [
    "# Q9. When will it be best to use the shelve package?\n",
    "\n",
    "\n",
    "\"\"\"\n",
    "Shelve package is used to pickle data but treats the treats the entire file as dictionary. \n",
    "The location of any object is looked up according to its key and is returned easily.\n",
    "\n",
    "\"\"\"\n"
   ]
  },
  {
   "cell_type": "code",
   "execution_count": null,
   "id": "958f32d5-4c6e-4cff-b341-829107528895",
   "metadata": {},
   "outputs": [],
   "source": [
    "# Q10. What is a special restriction when using the shelve package, as opposed to using other data dictionaries?\n",
    "\n",
    "\n",
    "\"\"\"\n",
    "A “shelf” is a persistent, dictionary-like object. The difference with “dbm” databases is that the values \n",
    "not the keys! in a shelf can be essentially arbitrary Python objects — anything that the pickle module can\n",
    "handle. This includes most class instances, recursive data types, and objects containing lots of shared \n",
    "sub-objects. The keys are ordinary strings.\n",
    "\n",
    "\"\"\"\n",
    "\n"
   ]
  }
 ],
 "metadata": {
  "kernelspec": {
   "display_name": "Python 3 (ipykernel)",
   "language": "python",
   "name": "python3"
  },
  "language_info": {
   "codemirror_mode": {
    "name": "ipython",
    "version": 3
   },
   "file_extension": ".py",
   "mimetype": "text/x-python",
   "name": "python",
   "nbconvert_exporter": "python",
   "pygments_lexer": "ipython3",
   "version": "3.10.6"
  }
 },
 "nbformat": 4,
 "nbformat_minor": 5
}
