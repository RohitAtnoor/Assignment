{
 "cells": [
  {
   "cell_type": "code",
   "execution_count": null,
   "id": "7b755640-ed7d-47d1-976e-256c7f6917f2",
   "metadata": {},
   "outputs": [],
   "source": [
    "\"\"\"\n",
    "Q1. Define the relationship between a class and its instances. Is it a one-to-one \n",
    "or a one-to-many partnership, for example?\n",
    "\"\"\"\n",
    "\n",
    "# class and its instances is a one to many partnership.\n"
   ]
  },
  {
   "cell_type": "code",
   "execution_count": null,
   "id": "349d826b-4fd8-436c-bc10-524465b5baaf",
   "metadata": {},
   "outputs": [],
   "source": [
    "# Q2. What kind of data is held only in an instance?\n",
    "\n",
    "# Instance objects contains the Instance variables which are specific to that specify Instance object.\n"
   ]
  },
  {
   "cell_type": "code",
   "execution_count": null,
   "id": "1d27182c-3d36-4413-9564-d50cf84160c2",
   "metadata": {},
   "outputs": [],
   "source": [
    "# Q3. What kind of knowledge is stored in a class?\n",
    "\n",
    "\n",
    "\"\"\"\n",
    "A class is like a blueprint for an object. Class creates a user-defined data structure, \n",
    "which holds its own data members and member functions,which can be accessed and used by \n",
    "creating an instance of that class. \n",
    "\n",
    "\"\"\"\n"
   ]
  },
  {
   "cell_type": "code",
   "execution_count": null,
   "id": "1a9334a0-93ed-4bb8-82b4-6d8091ccf238",
   "metadata": {},
   "outputs": [],
   "source": [
    "# Q4. What exactly is a method, and how is it different from a regular function?\n",
    "\n",
    "\n",
    "\"\"\"\n",
    "The methods with a class can be used to access the insatnce variables of its instance. \n",
    "So,the object's state can be modified by its method. Function can't access the attributes \n",
    "of an instance of a class or can't modify the state of the object.\n",
    "\n",
    "\"\"\"\n"
   ]
  },
  {
   "cell_type": "code",
   "execution_count": 2,
   "id": "27d3a064-78a7-4ef0-9666-787b30f41f6e",
   "metadata": {},
   "outputs": [],
   "source": [
    "# Q5. Is inheritance supported in Python, and if so, what is the syntax?\n",
    "\n",
    "\"\"\"\n",
    "Yes,Python supports inheritance. \n",
    "The Types of Inheritence Supported by Python are:\n",
    "1. Simple Inheritence\n",
    "2. Multiple Inheritence\n",
    "3. Multilevel lInheritence\n",
    "4. Hybrid Inheritence\n",
    "5. Hierracial Inheritence\n",
    "\"\"\"\n",
    "# Example\n",
    "# Parent class\n",
    "class parent :\n",
    "    pass\n",
    "\n",
    "# child class inheriting parent properties.\n",
    "class child(parent):\n",
    "    pass"
   ]
  },
  {
   "cell_type": "code",
   "execution_count": null,
   "id": "739de75e-1d50-4af5-9631-a4783992c756",
   "metadata": {},
   "outputs": [],
   "source": [
    "# Q6. How much encapsulation (making instance or class variables private) does Python support?\n",
    "\n",
    "\"\"\"\n",
    "Encapasulation prevents from accessing accidentally,but not intentionally.\n",
    "Encapsulation describes the idea of wrapping data and the methods that work on data within one unit. \n",
    "\n",
    "\"\"\"\n"
   ]
  },
  {
   "cell_type": "code",
   "execution_count": null,
   "id": "06c26e68-968b-414d-97aa-2e22e190aed9",
   "metadata": {},
   "outputs": [],
   "source": [
    "# Q7. How do you distinguish between a class variable and an instance variable?\n",
    "\n",
    "\"\"\"\n",
    "A single copy of Class attributes is maintained by pvm at the class level. Whereas difference\n",
    "copies of instance attributes are maintained by pvm at objects/instance level.\n",
    "\n",
    "The Class Attribute is available to all the instance objects of that class. whereas Instance\n",
    "Attributes are accessible only to the object or Instance of that class.\n",
    "\n",
    "\"\"\"\n"
   ]
  },
  {
   "cell_type": "code",
   "execution_count": null,
   "id": "d294432e-fb7e-482c-9ad8-d57a6132d850",
   "metadata": {},
   "outputs": [],
   "source": [
    "# Q8. When, if ever, can self be included in a class's method definitions?\n",
    "\n",
    "# Yes self can be included in the class method."
   ]
  },
  {
   "cell_type": "code",
   "execution_count": null,
   "id": "91d34856-d8e8-4e7c-a439-975ea2bea0f6",
   "metadata": {},
   "outputs": [],
   "source": [
    "# Q9. What is the difference between the _ _add_ _ and the _ _radd_ _ methods?\n",
    "\n",
    "\"\"\"\n",
    "When you add two numbers using the + operator ,internally,the add() method will be called.\n",
    "We can overload This method to perform\n",
    "\n",
    "Python will check if the right-hand operand implements __radd__, and if it does,\n",
    "it will call __radd__() rather than raising a TypeError\n",
    "\n",
    "\"\"\"\n"
   ]
  },
  {
   "cell_type": "code",
   "execution_count": null,
   "id": "695fdf75-912c-4e67-9c6e-1ee139be1183",
   "metadata": {},
   "outputs": [],
   "source": [
    "\"\"\"\n",
    "Q10. When is it necessary to use a reflection method? When do you not need it, \n",
    "even though you support the operation in question?\n",
    "\"\"\"\n",
    "\n",
    "\"\"\"\n",
    "Reflection method we often encounter the requirement that a method in the executing object,\n",
    "or a variable in the calling object, or a field of the object should be assigned, while the\n",
    "method name or field name can not be determined when encoding the code, and need to be input\n",
    "in the form of passing strings through parameters.\n",
    "\n",
    "\"\"\"\n"
   ]
  },
  {
   "cell_type": "code",
   "execution_count": null,
   "id": "84cecfeb-1bd5-4af1-98b0-1cd8723ba5c3",
   "metadata": {},
   "outputs": [],
   "source": [
    "# Q11. What is the _ _iadd_ _ method called?\n",
    "\n",
    "# __iadd__ method is called when we use implementation like a+=b \n"
   ]
  },
  {
   "cell_type": "code",
   "execution_count": null,
   "id": "451ae1b0-5226-410b-9e7c-e98688198687",
   "metadata": {},
   "outputs": [],
   "source": [
    "\"\"\"\n",
    "Q12. Is the _ _init_ _ method inherited by subclasses? What do you do if you need to\n",
    "customize its behavior within a subclass?\n",
    "\"\"\"\n",
    "\n",
    "# Yes __init__method is inherited by its subclass.But it can beoverloaded,to customize it with a super() method\n"
   ]
  }
 ],
 "metadata": {
  "kernelspec": {
   "display_name": "Python 3 (ipykernel)",
   "language": "python",
   "name": "python3"
  },
  "language_info": {
   "codemirror_mode": {
    "name": "ipython",
    "version": 3
   },
   "file_extension": ".py",
   "mimetype": "text/x-python",
   "name": "python",
   "nbconvert_exporter": "python",
   "pygments_lexer": "ipython3",
   "version": "3.10.6"
  }
 },
 "nbformat": 4,
 "nbformat_minor": 5
}
