{
 "cells": [
  {
   "cell_type": "code",
   "execution_count": null,
   "id": "b7c60a18-4c5e-48d3-8e9a-0b8ac5a2230d",
   "metadata": {},
   "outputs": [],
   "source": [
    "# 1. What are the new features added in Python 3.8 version?\n",
    "\n",
    "\n",
    "\"\"\"\n",
    "Here are some of the new features added in Python 3.8 version:\n",
    "Assignment expressions: Assignment expressions are a new way to assign values to variables. \n",
    "They are written using the walrus operator (:=). For example, the following code assigns the\n",
    "value of the expression 1 + 2 to the variable x:\n",
    "\n",
    "# Example \n",
    "x := 1 + 2\n",
    "\n",
    "Positional-only parameters: Positional-only parameters are a new way to define parameters that\n",
    "must be passed in positionally, not by keyword. For example, the following function definition\n",
    "has a positional-only parameter called x:\n",
    "\n",
    "# Example\n",
    "def f(x):\n",
    "  print(x)\n",
    "\n",
    "\n",
    "Parallel filesystem cache for compiled bytecode files: Python 3.8 introduces a parallel filesystem \n",
    "cache for compiled bytecode files. This can improve performance when running Python applications \n",
    "that use a lot of compiled bytecode files.\n",
    "\n",
    "Debug build uses the same ABI as release build: In previous versions of Python, the ABI \n",
    "(Application Binary Interface) for debug builds was different from the ABI for release builds. \n",
    "This made it difficult to debug Python applications that were compiled in debug mode. \n",
    "Python 3.8 now uses the same ABI for both debug and release builds, which makes it easier \n",
    "to debug Python applications.\n",
    "\n",
    "Other new features: Python 3.8 also includes a number of other new features, such as:\n",
    "\n",
    "Improved support for f-strings\n",
    "New math and statistics functions\n",
    "Warnings about dangerous syntax\n",
    "Optimizations\n",
    "\n",
    "\"\"\"\n"
   ]
  },
  {
   "cell_type": "code",
   "execution_count": null,
   "id": "a71f2871-6fc2-43b2-87f6-f63ca7167317",
   "metadata": {},
   "outputs": [],
   "source": [
    "# 2. What is monkey patching in Python?\n",
    "\n",
    "\n",
    "\"\"\"\n",
    "In Python, the term monkey patch refers to making dynamic (or run-time) modifications to a class or module.\n",
    "In Python, we can actually change the behavior of code at run-time.\n",
    "\n",
    "\"\"\"\n"
   ]
  },
  {
   "cell_type": "code",
   "execution_count": null,
   "id": "653d145d-c2e4-49c6-be84-d5a6b8a4dd8c",
   "metadata": {},
   "outputs": [],
   "source": [
    "# 3. What is the difference between a shallow copy and deep copy?\n",
    "\n",
    "\n",
    "\"\"\"\n",
    "When an object is copied using copy(), it is called shallow copy as changes made in copied \n",
    "object will also make corresponding changes in original object, because both the objects\n",
    "will be referencing same address location.\n",
    "\n",
    "When an object is copied using deepcopy(), it is called deep copy as changes made in copied \n",
    "object will not make corresponding changes in original object, because both the objects will \n",
    "not be referencing same address location.\n",
    "\n",
    "\"\"\""
   ]
  },
  {
   "cell_type": "code",
   "execution_count": null,
   "id": "b7377140-ec4f-43a0-8479-f28ae56b3bb6",
   "metadata": {},
   "outputs": [],
   "source": [
    "# 4. What is the maximum possible length of an identifier?\n",
    "\n",
    "\"\"\"\n",
    "The maximum possible length of an identifier in Python is 79 characters, as per the PEP-8 style\n",
    "guide recommends that identifiers should be shortand descriptive, and that they should not \n",
    "exceed 40 characters in length\n",
    "\n",
    "\"\"\"\n"
   ]
  },
  {
   "cell_type": "code",
   "execution_count": 10,
   "id": "f1d8d63e-a6f2-4eca-8ff0-cda2813ae9e7",
   "metadata": {},
   "outputs": [
    {
     "name": "stdout",
     "output_type": "stream",
     "text": [
      "<generator object <genexpr> at 0x7f6035d93990>\n",
      "0\n",
      "1\n",
      "2\n",
      "3\n",
      "4\n"
     ]
    }
   ],
   "source": [
    "# 5. What is generator comprehension?\n",
    "\n",
    "\n",
    "\"\"\"\n",
    "A generator comprehension is a single-line specification for defining a generator in Python.\n",
    "\n",
    "It is absolutely essential to learn this syntax in order to write simple and readable code.\n",
    "Generator comprehension uses round bracket unlike square bracket in list comprehension.\n",
    "\"\"\"\n",
    "# Example\n",
    "numbers=(i for i in range(5))\n",
    "print(numbers)\n",
    "print(next(numbers))\n",
    "print(next(numbers))\n",
    "print(next(numbers))\n",
    "print(next(numbers))\n",
    "print(next(numbers))"
   ]
  },
  {
   "cell_type": "code",
   "execution_count": null,
   "id": "84d4c930-5bdc-4007-8a98-2b7f604fd5fe",
   "metadata": {},
   "outputs": [],
   "source": []
  }
 ],
 "metadata": {
  "kernelspec": {
   "display_name": "Python 3 (ipykernel)",
   "language": "python",
   "name": "python3"
  },
  "language_info": {
   "codemirror_mode": {
    "name": "ipython",
    "version": 3
   },
   "file_extension": ".py",
   "mimetype": "text/x-python",
   "name": "python",
   "nbconvert_exporter": "python",
   "pygments_lexer": "ipython3",
   "version": "3.10.6"
  }
 },
 "nbformat": 4,
 "nbformat_minor": 5
}
