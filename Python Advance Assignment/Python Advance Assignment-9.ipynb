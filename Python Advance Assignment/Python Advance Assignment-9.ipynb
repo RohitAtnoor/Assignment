{
 "cells": [
  {
   "cell_type": "code",
   "execution_count": 25,
   "id": "aa83887f-dbee-4188-9984-18e67e610a36",
   "metadata": {},
   "outputs": [
    {
     "name": "stdout",
     "output_type": "stream",
     "text": [
      "The original string is :  hello world\n",
      "capitalize() This method capitalizes the first letter of a string :  Hello world\n",
      "lower() This method converts a string to lowercase :  hello world\n",
      "upper() This method converts a string to uppercase :  HELLO WORLD\n",
      "strip() This method removes whitespace from the beginning and end of a string :  hello world\n",
      "replace() This method replaces a substring with another substring :  zello world\n",
      "split() This method splits a string into a list of substrings :  ['hello', 'world']\n"
     ]
    }
   ],
   "source": [
    "# Q1. In Python 3.X, what are the names and functions of string object types?\n",
    "\n",
    "\"\"\"\n",
    "In Python 3.X, there is only one string object type, called str. The str type is a immutable\n",
    "sequence of Unicode code points. This means that once a string is created, it cannot be changed.\n",
    "\n",
    "The str type has a number of methods that can be used to manipulate strings. Some of the most\n",
    "commonly used methods are:\n",
    "\n",
    "capitalize(): This method capitalizes the first letter of a string.\n",
    "lower(): This method converts a string to lowercase.\n",
    "upper(): This method converts a string to uppercase.\n",
    "strip(): This method removes whitespace from the beginning and end of a string.\n",
    "replace(): This method replaces a substring with another substring.\n",
    "split(): This method splits a string into a list of substrings.\n",
    "join(): This method joins a list of strings into a single string\n",
    "\n",
    "\"\"\"\n",
    "# Example\n",
    "string = \"hello world\"\n",
    "print(\"The original string is : \", string)\n",
    "print(\"capitalize() This method capitalizes the first letter of a string : \",string.capitalize(),)\n",
    "print(\"lower() This method converts a string to lowercase : \", string.lower())\n",
    "print(\"upper() This method converts a string to uppercase : \", string.upper())\n",
    "print(\"strip() This method removes whitespace from the beginning and end of a string : \",string.strip())\n",
    "print(\"replace() This method replaces a substring with another substring : \",string.replace(\"h\",\"z\"))\n",
    "print(\"split() This method splits a string into a list of substrings : \",string.split())"
   ]
  },
  {
   "cell_type": "code",
   "execution_count": null,
   "id": "7e1bbf2b-4bfb-4df2-8d33-ab3d6def5512",
   "metadata": {},
   "outputs": [],
   "source": [
    "# Q2. How do the string forms in Python 3.X vary in terms of operations?\n",
    "\n",
    "\"\"\"\n",
    "In Python3 default format of strings is Unicode Whereas in Pyton2 we need to explicitly \n",
    "mention Unicode value using u.\n",
    "\n",
    "\"\"\""
   ]
  },
  {
   "cell_type": "code",
   "execution_count": null,
   "id": "734bfcd0-8755-4793-9b0f-4df429d2a264",
   "metadata": {},
   "outputs": [],
   "source": [
    "# Q3. In 3.X, how do you put non-ASCII Unicode characters in a string?\n",
    "\n",
    "\"\"\"\n",
    "In Python 3.X, you can put non-ASCII Unicode characters in a string by using the u prefix.\n",
    "For example, the following code will create a string that contains the non-ASCII Unicode character ä:\n",
    "# Create a string with a non-ASCII Unicode character.\n",
    "string = u\"ä\"\n",
    "\n",
    "\"\"\"\n",
    "\n"
   ]
  },
  {
   "cell_type": "code",
   "execution_count": null,
   "id": "1634fde7-582d-49a9-8cd2-d08027ffab6f",
   "metadata": {},
   "outputs": [],
   "source": [
    "# Q4. In Python 3.X, what are the key differences between text-mode and binary-mode files?\n",
    "\n",
    "\n",
    "\"\"\"\n",
    "1. File opened in binary mode return contents as bytes objects without any decoding.\n",
    "In text mode  the contents of the file are returned as strings\n",
    "2. Text mode files also support universal end-of-line translation, and encoding specification arguments.\n",
    "Binary-mode files also accept a bytearray object for the content to be written to the file.\n",
    "\n",
    "\"\"\"\n"
   ]
  },
  {
   "cell_type": "code",
   "execution_count": null,
   "id": "48ffef13-365d-4084-95c8-c5c4bea42ba6",
   "metadata": {},
   "outputs": [],
   "source": [
    "\"\"\"\n",
    "Q5. How can you interpret a Unicode text file containing text encoded in a different encoding than\n",
    "your platform's default?\n",
    "\"\"\"\n",
    "\n",
    "\n",
    "\"\"\"\n",
    "Use of encode() and decode() method can be used to you interpret a Unicode text file containing text\n",
    "encoded in a different encoding than your platform's default, by default encoding parameter is UTF-8\n",
    "\n",
    "\"\"\"\n"
   ]
  },
  {
   "cell_type": "code",
   "execution_count": 26,
   "id": "960765ba-fa90-48f4-ad59-9ed23e4822e1",
   "metadata": {},
   "outputs": [
    {
     "name": "stdout",
     "output_type": "stream",
     "text": [
      "b'Hello World and pyton'\n",
      "\n",
      "b'Hello World and pyton'\n"
     ]
    }
   ],
   "source": [
    "# Q6. What is the best way to make a Unicode text file in a particular encoding format?\n",
    "\n",
    "\n",
    "\"\"\"\n",
    "Use str.encode() and file.write() to make a Unicode text file in a particular encoding format, \n",
    "default encoding format is UTF-18. Call str.encode(encoding) with encoding set to utf8 to encode str.\n",
    "Call open(file, mode) to open a file with mode set to wb . wb writes to files in binary mode & \n",
    "preserves UTF-8format. Call file.write(data) to write data to the file.\n",
    "\n",
    "\"\"\"\n",
    "# Example \n",
    "unicode_text = u\"Hello World and pyton\"\n",
    "encoded_unicode_text = unicode_text.encode(\"utf-8\")\n",
    "print(encoded_unicode_text,end=\"\\n\\n\")\n",
    "\n",
    "w_file = open(\"w_file.txt\",\"wb\")\n",
    "w_file.write(encoded_unicode_text)\n",
    "w_file.close()\n",
    "\n",
    "r_file = open(\"w_file.txt\",\"rb\")\n",
    "data = r_file.read()\n",
    "print(data)"
   ]
  },
  {
   "cell_type": "code",
   "execution_count": null,
   "id": "4b394135-822e-4fb6-8e6a-0f93fdafe7f1",
   "metadata": {},
   "outputs": [],
   "source": [
    "# Q7. What qualifies ASCII text as a form of Unicode text?\n",
    "\n",
    "\n",
    "\"\"\"\n",
    "ASCII text is a subset of Unicode text. This means that any text that can be represented in ASCII \n",
    "can also be represented in Unicode. However, not all software that uses Unicode is capable of \n",
    "processing ASCII text. In these cases, it may be necessary to convert ASCII text to Unicode before\n",
    "it can be processed by the software.\n",
    "\n",
    "\"\"\"\n"
   ]
  },
  {
   "cell_type": "code",
   "execution_count": null,
   "id": "4fd302bc-ff3b-43de-8ac4-a67c5ea8d726",
   "metadata": {},
   "outputs": [],
   "source": [
    "# Q8. How much of an effect does the change in string types in Python 3.X have on your code?\n",
    "\n",
    "\n",
    "\"\"\"\n",
    "Python 3 stores strings as Unicode by default whereas Python 2 requires you to mark a string \n",
    "with a u if you want to store it as Unicode. Unicode strings are more versatile than ASCII strings,\n",
    "which are the Python 3.X default, as they can store letters from foreign languages as well \n",
    "as emoji and the standard Roman letters and numerals.\n",
    "\n",
    "\"\"\"\n"
   ]
  }
 ],
 "metadata": {
  "kernelspec": {
   "display_name": "Python 3 (ipykernel)",
   "language": "python",
   "name": "python3"
  },
  "language_info": {
   "codemirror_mode": {
    "name": "ipython",
    "version": 3
   },
   "file_extension": ".py",
   "mimetype": "text/x-python",
   "name": "python",
   "nbconvert_exporter": "python",
   "pygments_lexer": "ipython3",
   "version": "3.10.6"
  }
 },
 "nbformat": 4,
 "nbformat_minor": 5
}
