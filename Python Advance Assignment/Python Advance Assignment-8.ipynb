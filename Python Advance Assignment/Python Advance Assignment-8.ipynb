{
 "cells": [
  {
   "cell_type": "code",
   "execution_count": null,
   "id": "1bd4ba0a-6e15-43fc-9616-117db5259ab2",
   "metadata": {},
   "outputs": [],
   "source": [
    "# Q1. What are the two latest user-defined exception constraints in Python 3.X?\n",
    "\n",
    "\n",
    "\"\"\"\n",
    "__match__() method: This method is used to check if the exception object matches a given pattern. \n",
    "The pattern can be a string or a regular expression.\n",
    "\n",
    "__ne__() method: This method is used to check if the exception object is not equal to another object.\n",
    "The other object can be any type, including another exception object.\n",
    "\n",
    "\"\"\""
   ]
  },
  {
   "cell_type": "code",
   "execution_count": null,
   "id": "8b906f1a-fab9-44aa-93b8-536213e67bc1",
   "metadata": {},
   "outputs": [],
   "source": [
    "# Q2. How are class-based exceptions that have been raised matched to handlers?\n",
    "\n",
    "\n",
    "\"\"\"\n",
    "When exceptions are raised, then the exception is handled by same mentioned in except statement \n",
    "or its base classes. \"Exception\" is the base class(superclass) for all other exception classes.\n",
    "\n",
    "\"\"\"\n",
    "\n"
   ]
  },
  {
   "cell_type": "code",
   "execution_count": null,
   "id": "3ca52e47-0d81-41e1-80e4-e3e8016d1e66",
   "metadata": {},
   "outputs": [],
   "source": [
    "# Q3. Describe two methods for attaching context information to exception artefacts.\n",
    "\n",
    "\"\"\"\n",
    "The Two methods for attaching contect are \n",
    "1. Using the with statement\n",
    "2. Using the contextlib module\n",
    "\"\"\"\n",
    "# Example Using the with statement\n",
    "with open(\"file.txt\", \"r\") as f:\n",
    "    try:\n",
    "        data = f.read()\n",
    "    except FileNotFoundError as e:\n",
    "        # Attach the context information to the exception object.\n",
    "        e.context[\"file_name\"] = \"file.txt\"\n",
    "\n",
    "# Example Using the contextlib module\n",
    "from contextlib import contextmanager\n",
    "\n",
    "@contextmanager\n",
    "def file_context(file_name):\n",
    "    try:\n",
    "        yield open(file_name, \"r\")\n",
    "    except FileNotFoundError as e:\n",
    "        # Attach the context information to the exception object.\n",
    "        e.context[\"file_name\"] = file_name\n",
    "\n",
    "with file_context(\"file.txt\") as f:\n",
    "    try:\n",
    "        data = f.read()\n",
    "    except FileNotFoundError as e:\n",
    "        # Attach the context information to the exception object.\n",
    "        e.context[\"file_name\"] = \"file.txt\"\n"
   ]
  },
  {
   "cell_type": "code",
   "execution_count": null,
   "id": "b15cdaef-efd3-4c32-89ab-0832ec084352",
   "metadata": {},
   "outputs": [],
   "source": [
    "# Q4. Describe two methods for specifying the text of an exception object's error message.\n",
    "\n",
    "\"\"\"\n",
    "raise and assert are two methods for specifying the text of an exception object's error message.\n",
    "raise statement is used to trigger explicit exception, if certain condition is not as per \n",
    "requirement of programmer. it helps in triggering exception as per need of programmer and logic.\n",
    "\n",
    "\"\"\""
   ]
  },
  {
   "cell_type": "code",
   "execution_count": null,
   "id": "7ec5a38d-f288-44bd-8506-c9649ceceb71",
   "metadata": {},
   "outputs": [],
   "source": [
    "# Q5. Why do you no longer use string-based exceptions?\n",
    "\n",
    "\"\"\"\n",
    "String-based Exceptions doesn't inherit from Exceptions. \n",
    "so plain exceptions catch all exceptions and not only system.\n",
    "\n",
    "\"\"\""
   ]
  }
 ],
 "metadata": {
  "kernelspec": {
   "display_name": "Python 3 (ipykernel)",
   "language": "python",
   "name": "python3"
  },
  "language_info": {
   "codemirror_mode": {
    "name": "ipython",
    "version": 3
   },
   "file_extension": ".py",
   "mimetype": "text/x-python",
   "name": "python",
   "nbconvert_exporter": "python",
   "pygments_lexer": "ipython3",
   "version": "3.10.6"
  }
 },
 "nbformat": 4,
 "nbformat_minor": 5
}
