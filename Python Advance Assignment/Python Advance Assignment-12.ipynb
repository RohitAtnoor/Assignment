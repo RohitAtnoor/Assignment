{
 "cells": [
  {
   "cell_type": "code",
   "execution_count": null,
   "id": "29351409-5924-433d-a649-d501f8908076",
   "metadata": {},
   "outputs": [],
   "source": [
    "# Q1. Does assigning a value to a string's indexed character violate Python's string immutability?\n",
    "\n",
    "\"\"\"\n",
    "Yes. It is because of string immutability that means we can change the characters \n",
    "in strings by assigning new values to indexes.\n",
    "\"\"\"\n"
   ]
  },
  {
   "cell_type": "code",
   "execution_count": 1,
   "id": "a06bb9ef-429f-455b-9196-125210246a7c",
   "metadata": {},
   "outputs": [
    {
     "name": "stdout",
     "output_type": "stream",
     "text": [
      "140332334051824\n",
      "140332287318320\n"
     ]
    }
   ],
   "source": [
    "# Q2. Does using the += operator to concatenate strings violate Python's string immutability? Why or why not?\n",
    "\n",
    "\"\"\"\n",
    "No. When we concatenate string, we assign new value to the same string variable. \n",
    "We are not altering string based on the indexes, so it won't violate Python's string immutability\n",
    "\"\"\"\n",
    "str_1 = 'a'\n",
    "print(id(str_1))\n",
    "str_1 += 'b'\n",
    "print(id(str_1))"
   ]
  },
  {
   "cell_type": "code",
   "execution_count": 2,
   "id": "46abc416-f4f4-4313-b101-f5bf53f43edf",
   "metadata": {},
   "outputs": [
    {
     "name": "stdout",
     "output_type": "stream",
     "text": [
      "u l e\n",
      "e i c\n"
     ]
    }
   ],
   "source": [
    "# Q3. In Python, how many different ways are there to index a character?\n",
    "\n",
    "in_string = \"iNeuron Full Stack Data Science\"\n",
    "print(in_string[9],in_string[10],in_string[2]) # Positive Indexing\n",
    "print(in_string[-1],in_string[-5],in_string[-2]) # negative indexing"
   ]
  },
  {
   "cell_type": "code",
   "execution_count": 3,
   "id": "2fb8b602-7c4b-445a-b29c-09e8b4f7d47b",
   "metadata": {},
   "outputs": [
    {
     "name": "stdout",
     "output_type": "stream",
     "text": [
      "ohi\n",
      "ti\n"
     ]
    }
   ],
   "source": [
    "# Q4. What is the relationship between indexing and slicing?\n",
    "\n",
    "\"\"\"\n",
    "Indexing is a way to access an element of a string by its position or index. \n",
    "Slicing is accessing only part of a string and not a full string . String slicing is done by using index.\n",
    "\"\"\"\n",
    "\n",
    "s=\"Rohit\"\n",
    "print(s[1:4])\n",
    "print(s[-1:2:-1])"
   ]
  },
  {
   "cell_type": "code",
   "execution_count": 4,
   "id": "23286981-1ceb-46d8-9a9c-1f2cb23635f3",
   "metadata": {},
   "outputs": [
    {
     "name": "stdout",
     "output_type": "stream",
     "text": [
      "<class 'str'>\n",
      "<class 'str'>\n"
     ]
    }
   ],
   "source": [
    "# Q5. What is an indexed character's exact data type? What is the data form of a slicing-generated substring?\n",
    "\n",
    "# Indexed characters and sliced substrings both have datatype String.\n",
    "# Example\n",
    "in_string = \"iNeuron Full Stack Data Science\"\n",
    "print(type(in_string[3])) # Indexing -> str\n",
    "print(type(in_string[1:10])) # Indexing -> str"
   ]
  },
  {
   "cell_type": "code",
   "execution_count": null,
   "id": "2d0ea2c0-736c-4959-b114-347f405aa75e",
   "metadata": {},
   "outputs": [],
   "source": [
    "# Q6. What is the relationship between string and character \"types\" in Python?\n",
    "\n",
    "# In Python, There is no char data type,even a single character enclosed in double quotes is considered as str."
   ]
  },
  {
   "cell_type": "code",
   "execution_count": 5,
   "id": "e26b6e65-221b-4752-8c72-28a909556928",
   "metadata": {},
   "outputs": [
    {
     "name": "stdout",
     "output_type": "stream",
     "text": [
      "Hello!How are you?\n",
      "RainRainRainRain\n",
      "Howareyou?\n"
     ]
    }
   ],
   "source": [
    "\"\"\"\n",
    "Q7. Identify at least two operators and one method that allow you to combine one or more\n",
    "smaller strings to create a larger string.\n",
    "\"\"\"\n",
    "\n",
    "\"\"\"\n",
    "\"+\"will concatenate two strings and\"*\"will repeat the string number of times mentioned.\n",
    "We can also use join()method for getting a larger string.\n",
    "\"\"\"\n",
    "print(\"Hello!\"+\"How are you?\")\n",
    "print(\"Rain\"*4)\n",
    "I=[\"How\",\"are\",\"you?\"]\n",
    "s=\"\".join(I)\n",
    "print(s)"
   ]
  },
  {
   "cell_type": "code",
   "execution_count": null,
   "id": "fc0d6aaa-6dee-4d55-a768-2852d58ba919",
   "metadata": {},
   "outputs": [],
   "source": [
    "\"\"\"\n",
    "Q8. What is the benefit of first checking the target string with in or not in before using \n",
    "the index method to find a substring?\n",
    "\"\"\"\n",
    "\n",
    "\n",
    "\"\"\"\n",
    "Checking the target string with in or not Operators before using the index method to find \n",
    "a substring just helps confirming availability of substring and thus avoid raising of ValueError.\n",
    "\n",
    "\"\"\"\n"
   ]
  },
  {
   "cell_type": "code",
   "execution_count": null,
   "id": "8539124b-730c-4a88-935c-31706ae71bce",
   "metadata": {},
   "outputs": [],
   "source": [
    "# Q9. Which operators and built-in string methods produce simple Boolean (true/false) results?\n",
    "\n",
    "\n",
    "\"\"\"\n",
    "Operators:\n",
    "1. Comparison operators : (== ,!= ,< ,> ,<=, >=) \n",
    "2. Logical Operators : (and, or, not)\n",
    "3. Identity Operators : (is , is not)\n",
    "4. Membership Operators : (in, not in)\n",
    "\n",
    "string methods are : \n",
    "1. endswith()   Returns true if the string ends with the specified value \n",
    "2. isalnum()    Returns True if all characters in the string are alphanumeric        \n",
    "3. isalpha()    Returns True if all characters in the string are in the alphabet        \n",
    "4. isdecimal()  Returns True if all characters in the string are decimals       \n",
    "5. isdigit()    Returns True if all characters in the string are digits        \n",
    "6. isidentifier()   Returns True if the string is an identifier        \n",
    "7. islower()    Returns True if all characters in the string are lower case        \n",
    "8. isnumeric()  Returns True if all characters in the string are numeric        \n",
    "9. isprintable()    Returns True if all characters in the string are printable        \n",
    "10. isspace()   Returns True if all characters in the string are whitespaces        \n",
    "11. istitle()   Returns True if the string follows the rules of a title        \n",
    "12. isupper()   Returns True if all characters in the string are upper case\n",
    "\n",
    "\"\"\""
   ]
  }
 ],
 "metadata": {
  "kernelspec": {
   "display_name": "Python 3 (ipykernel)",
   "language": "python",
   "name": "python3"
  },
  "language_info": {
   "codemirror_mode": {
    "name": "ipython",
    "version": 3
   },
   "file_extension": ".py",
   "mimetype": "text/x-python",
   "name": "python",
   "nbconvert_exporter": "python",
   "pygments_lexer": "ipython3",
   "version": "3.10.6"
  }
 },
 "nbformat": 4,
 "nbformat_minor": 5
}
