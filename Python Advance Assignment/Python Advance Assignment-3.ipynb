{
 "cells": [
  {
   "cell_type": "code",
   "execution_count": 4,
   "id": "fe3ccacc-d77e-4fb8-aeaa-6b843ef83bb9",
   "metadata": {},
   "outputs": [
    {
     "name": "stdout",
     "output_type": "stream",
     "text": [
      "I am a concrete subclass and I am implementing the method!\n"
     ]
    }
   ],
   "source": [
    "# 1. What is the concept of an abstract superclass?\n",
    "\n",
    "\"\"\"\n",
    "In Python, an abstract superclass is a class that cannot be instantiated. It is used to provide a common \n",
    "interface for its subclasses. Abstract superclasses are often used to enforce certain behavior on their subclasses.\n",
    "\"\"\"\n",
    "\n",
    "from abc import ABCMeta, abstractmethod\n",
    "\n",
    "class AbstractSuperclass(metaclass=ABCMeta):\n",
    "\n",
    "    @abstractmethod\n",
    "    def method_to_implement(self):\n",
    "        pass\n",
    "\n",
    "class ConcreteSubclass(AbstractSuperclass):\n",
    "\n",
    "    def method_to_implement(self):\n",
    "        print(\"I am a concrete subclass and I am implementing the method!\")\n",
    "\n",
    "if __name__ == \"__main__\":\n",
    "\n",
    "    # You cannot instantiate an abstract superclass\n",
    "    # abstract_superclass = AbstractSuperclass()\n",
    "\n",
    "    # You can instantiate a concrete subclass\n",
    "    concrete_subclass = ConcreteSubclass()\n",
    "    concrete_subclass.method_to_implement()\n",
    "    \n",
    "# As you can see, the ConcreteSubclass class can be instantiated, but the AbstractSuperclass class cannot. \n",
    "# This is because the AbstractSuperclass class has an abstract method that must be implemented by its subclasses."
   ]
  },
  {
   "cell_type": "code",
   "execution_count": null,
   "id": "336e0b59-5caa-4a6d-b676-7ebe1b960b0c",
   "metadata": {},
   "outputs": [],
   "source": [
    "# 2. What happens when a class statement's top level contains a basic assignment statement?\n",
    "\n",
    "\"\"\"\n",
    "When a Class statement's top level contains a basic assignment statement, its usually treated as a \n",
    "class attribute or class level variable.\n",
    "where as assignment statements inside methods are treated as instance attributes or local attributes.\n",
    "\"\"\"\n"
   ]
  },
  {
   "cell_type": "code",
   "execution_count": 8,
   "id": "771a07d8-5210-4fec-af56-47b4fcc49a4e",
   "metadata": {},
   "outputs": [
    {
     "name": "stdout",
     "output_type": "stream",
     "text": [
      "Rohit\n",
      "25\n"
     ]
    }
   ],
   "source": [
    "# 3. Why does a class need to manually call a superclass's __init__ method?\n",
    "\n",
    "\"\"\"\n",
    "In Python, when a class inherits from another class, the child class inherits all of the attributes and methods\n",
    "of the parent class. However, the child class does not automatically call the parent class's __init__() method.\n",
    "This is because the __init__() method is a special method that is called when an instance of the class is created.\n",
    "\n",
    "To avoid this, the child class must explicitly call the parent class's __init__() method in its own __init__() method. \n",
    "This can be done using the super() keyword.\n",
    "\"\"\"\n",
    "\n",
    "# Example\n",
    "\n",
    "# Parent class\n",
    "class Parent:\n",
    "\n",
    "    def __init__(self, name):\n",
    "        self.name = name\n",
    "\n",
    "# Child class\n",
    "class Child(Parent):\n",
    "\n",
    "    def __init__(self, name, age):\n",
    "        super().__init__(name) # Inheriting the init method from the parent class with super() Keyword.\n",
    "        self.age = age\n",
    "\n",
    "# Create an instance of the Child class\n",
    "child = Child(\"Rohit\", 25)\n",
    "\n",
    "# Print the child's name and age\n",
    "print(child.name)\n",
    "print(child.age)"
   ]
  },
  {
   "cell_type": "code",
   "execution_count": null,
   "id": "51c064bf-bd04-484e-a0fd-9fb65c96113f",
   "metadata": {},
   "outputs": [],
   "source": [
    "# 4. How can you augment, instead of completely replacing, an inherited method?\n",
    "\n",
    "# super() method can be used to augment, instead of completely replacing, an inherited method.\n"
   ]
  },
  {
   "cell_type": "code",
   "execution_count": null,
   "id": "091c0769-45a8-4c6b-90e7-f2b33551252d",
   "metadata": {},
   "outputs": [],
   "source": [
    "# 5. How is the local scope of a class different from that of a function?\n",
    "\n",
    "\"\"\"\n",
    "1. Local variables: Variables declared inside a class are local to that class and cannot be accessed \n",
    "from outside the class. Variables declared inside a function are local to that function and cannot be \n",
    "accessed from outside the function.\n",
    "2. Method calls: Methods declared inside a class can only be called on instances of that class. \n",
    "Methods declared inside a function can be called on any object,including instances of the class \n",
    "that the method is defined in.\n",
    "\"\"\"\n"
   ]
  }
 ],
 "metadata": {
  "kernelspec": {
   "display_name": "Python 3 (ipykernel)",
   "language": "python",
   "name": "python3"
  },
  "language_info": {
   "codemirror_mode": {
    "name": "ipython",
    "version": 3
   },
   "file_extension": ".py",
   "mimetype": "text/x-python",
   "name": "python",
   "nbconvert_exporter": "python",
   "pygments_lexer": "ipython3",
   "version": "3.10.6"
  }
 },
 "nbformat": 4,
 "nbformat_minor": 5
}
