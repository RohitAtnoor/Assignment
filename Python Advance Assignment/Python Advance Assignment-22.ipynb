{
 "cells": [
  {
   "cell_type": "code",
   "execution_count": null,
   "id": "24bc1eed-292d-4c54-947d-2cffb8b24c07",
   "metadata": {},
   "outputs": [],
   "source": [
    "# Q1. What are the benefits of the built-in array package, if any?\n",
    "\n",
    "\n",
    "\"\"\"\n",
    "The benefits of using the built-in array package in Python:\n",
    "\n",
    "1. Speed: Arrays are stored in contiguous memory, which makes them faster to access than lists.\n",
    "2. Memory efficiency: Arrays use less memory than lists, because they only store the data,\n",
    "not the references to the data.\n",
    "3. Ease of use: Arrays are easy to use, because they provide a number of built-in methods \n",
    "for performing common operations, such as sorting, searching, and slicing.\n",
    "\n",
    "Some examples of when you might want to use the built-in array package:\n",
    "\n",
    "1. When performing simple operations on small datasets.\n",
    "2. When speed and memory efficiency are important.\n",
    "3. When you need to use a data type that is not supported by other libraries.\n",
    "\n",
    "\"\"\"\n"
   ]
  },
  {
   "cell_type": "code",
   "execution_count": null,
   "id": "47ba8dc0-ecec-46fd-af59-5299f3fdad75",
   "metadata": {},
   "outputs": [],
   "source": [
    "# Q2. What are some of the array package's limitations?\n",
    "\n",
    "\n",
    "\"\"\"\n",
    "The array package in Python has some limitations, including:\n",
    "\n",
    "1. It is not as fast as NumPy. The array package is not as fast as NumPy, which is a \n",
    "specialized library for scientific computing. This is because the array package is\n",
    "not optimized for speed.\n",
    "2. It does not support all of the features of NumPy. The array package does not support \n",
    "all of the features of NumPy. This includes features such as broadcasting, advanced \n",
    "indexing, and ufuncs.\n",
    "3. It is not as flexible as NumPy. The array package is not as flexible as NumPy. This is\n",
    "because the array package only supports a limited number of data types.\n",
    "\n",
    "\"\"\"\n"
   ]
  },
  {
   "cell_type": "code",
   "execution_count": null,
   "id": "2601be84-644f-4135-b04d-32f73ceb42fb",
   "metadata": {},
   "outputs": [],
   "source": [
    "# Q3. Describe the main differences between the array and numpy packages.\n",
    "\n",
    "\n",
    "\"\"\"\n",
    "The array package doesn't provide any help with numerical calculation with the items \n",
    "insdie it in number form while NumPy give you a wide variety of numerical operations.\n",
    "\n",
    "An array is a single dimensional entity which hold the numerical data, while numpy can\n",
    "have more than 1 dimension.\n",
    "\n",
    "In case of array, item can be accessed by its index position and it is easy task while \n",
    "in numpy item is accessed by its column and row index, which makes it slightly time taking.\n",
    "Same goes with appending operation.\n",
    "\n",
    "In case of array we do not form a tabular structure, while in numpy it forms a tabular structure\n",
    "\n",
    "\"\"\"\n"
   ]
  },
  {
   "cell_type": "code",
   "execution_count": null,
   "id": "3cb20cfa-5192-4028-acef-922f6000c766",
   "metadata": {},
   "outputs": [],
   "source": [
    "# Q4. Explain the distinctions between the empty, ones, and zeros functions.\n",
    "\n",
    "\"\"\"\n",
    "Empty function: An empty function is a function that does not contain any statement within its body.\n",
    "If you try to write a function definition without any statement in python ,it will return an error. \n",
    "\n",
    "Ones: This function returns a new array of given shape and data type, where the element’s value is 1.\n",
    "\n",
    "Zeros: This function returns a new array of given shape and data type, where the element’s value is 0.\n",
    "\n",
    "\"\"\"\n"
   ]
  },
  {
   "cell_type": "code",
   "execution_count": null,
   "id": "dcb0a955-bf61-477b-af81-cf1dee2f8650",
   "metadata": {},
   "outputs": [],
   "source": [
    "\"\"\"\n",
    "Q5. In the fromfunction function, which is used to construct new arrays, what is \n",
    "the role of the callable argument?\n",
    "\"\"\"\n",
    "\n",
    "\n",
    "\"\"\"\n",
    "Its function is to execute the function over each coordinate and the resulting array. \n",
    "The function is called with N parameters, where N is the rank of shape. Each parameter\n",
    "represents the coordinates of the array varying along a specific axis.\n",
    "\n",
    "\"\"\"\n"
   ]
  },
  {
   "cell_type": "code",
   "execution_count": null,
   "id": "f6ec2ce2-7fd4-48eb-949d-f9eddb80195e",
   "metadata": {},
   "outputs": [],
   "source": [
    "\"\"\"\n",
    "Q6. What happens when a numpy array is combined with a single-value operand \n",
    "(a scalar, such as an int or a floating-point value) through addition, as in the expression A + n?\n",
    "\"\"\"\n",
    "\n",
    "\n",
    "\"\"\"\n",
    "If any scaler value such as integer is added to the numpy array then all the\n",
    "elements inside the array will add that value in it\n",
    "\n",
    "\"\"\"\n"
   ]
  },
  {
   "cell_type": "code",
   "execution_count": null,
   "id": "70fca47f-0dee-499c-bdbc-1a5788fcf36f",
   "metadata": {},
   "outputs": [],
   "source": [
    "\"\"\"\n",
    "Q7. Can array-to-scalar operations use combined operation-assign operators\n",
    "(such as += or *=)? What is the outcome?\n",
    "\"\"\"\n",
    "\n",
    "# It will carry out provided operation on all elements of array.\n"
   ]
  },
  {
   "cell_type": "code",
   "execution_count": null,
   "id": "e7bae483-5289-4b75-b657-2c037b7c4292",
   "metadata": {},
   "outputs": [],
   "source": [
    "\"\"\"\n",
    "Q8. Does a numpy array contain fixed-length strings? What happens if you allocate\n",
    "a longer string to one of these arrays?\n",
    "\"\"\"\n",
    "\n",
    "\n",
    "\"\"\"\n",
    "No, NumPy arrays do not contain fixed-length strings. Each string in a NumPy array can\n",
    "be of any length. If you allocate a longer string to one of these arrays, the extra \n",
    "characters will be stored in the array but will not be accessible using the normal indexing methods.\n",
    "\n",
    "\"\"\"\n"
   ]
  },
  {
   "cell_type": "code",
   "execution_count": null,
   "id": "77d2adb6-8454-452f-802e-c6c555516573",
   "metadata": {},
   "outputs": [],
   "source": [
    "\"\"\"\n",
    "Q9. What happens when you combine two numpy arrays using an operation like addition (+)\n",
    "or multiplication (*)? What are the conditions for combining two numpy arrays?\n",
    "\"\"\"\n",
    "\n",
    "# It will simply add or multiply element to element at same position.\n"
   ]
  },
  {
   "cell_type": "code",
   "execution_count": null,
   "id": "13779a8c-b88d-4954-9534-6276393a02aa",
   "metadata": {},
   "outputs": [],
   "source": [
    "# Q10. What is the best way to use a Boolean array to mask another array?\n",
    "\n",
    "# The best way to use a Boolean array to mask another array is by Using masked_where of numpy package\n"
   ]
  },
  {
   "cell_type": "code",
   "execution_count": null,
   "id": "3c3ff626-171c-46c1-9f2c-41b680f40991",
   "metadata": {},
   "outputs": [],
   "source": [
    "\"\"\"\n",
    "Q11. What are three different ways to get the standard deviation of a wide collection of data\n",
    "using both standard Python and its packages? Sort the three of them by how quickly they execute\n",
    "\"\"\"\n",
    "\n",
    "\n",
    "\"\"\"\n",
    "The 3 different ways to get the SD is as followes.\n",
    "1. Use statistics.stdev() from standard Python library. Slowest but most portable.\n",
    "2. Use numpy.std() from numpy library. Faster but less portable.\n",
    "3. Use pandas.std() from pandas library. Fastest but least portable.\n",
    "\n",
    "\"\"\"\n"
   ]
  },
  {
   "cell_type": "code",
   "execution_count": null,
   "id": "69232c2b-c239-4c6e-831d-bbc92ee830a7",
   "metadata": {},
   "outputs": [],
   "source": [
    "# 12. What is the dimensionality of a Boolean mask-generated array?\n",
    "\n",
    "\n",
    "\"\"\"\n",
    "The dimensionality of a Boolean mask-generated array is the same as the dimensionality\n",
    "of the array it was generated from. For example, if you have a 2D array and you generate\n",
    "a Boolean mask from it, the resulting mask will also be 2D.\n",
    "\n",
    "\"\"\"\n"
   ]
  }
 ],
 "metadata": {
  "kernelspec": {
   "display_name": "Python 3 (ipykernel)",
   "language": "python",
   "name": "python3"
  },
  "language_info": {
   "codemirror_mode": {
    "name": "ipython",
    "version": 3
   },
   "file_extension": ".py",
   "mimetype": "text/x-python",
   "name": "python",
   "nbconvert_exporter": "python",
   "pygments_lexer": "ipython3",
   "version": "3.10.6"
  }
 },
 "nbformat": 4,
 "nbformat_minor": 5
}
