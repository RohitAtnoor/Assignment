{
 "cells": [
  {
   "cell_type": "code",
   "execution_count": null,
   "id": "1e45e802-9234-4b4c-902b-1a996d43cb23",
   "metadata": {},
   "outputs": [],
   "source": [
    "# Q1. What is the benefit of regular expressions?\n",
    "\n",
    "\"\"\"\n",
    "Regular expression let us search the piece of text that matches the given pattern.\n",
    "The main benifit of using them is , it saves lot of time and are very efficent to use.\n",
    "Regular Expressions, also known as regex or regexp\n",
    "\"\"\""
   ]
  },
  {
   "cell_type": "code",
   "execution_count": null,
   "id": "795785fc-cd49-48b8-894b-5549a158aea1",
   "metadata": {},
   "outputs": [],
   "source": [
    "\"\"\"\n",
    "Q2. Describe the difference between the effects of \"(ab)c+\" and \"a(bc)+.\" Which of these,\n",
    "if any, is the unqualified pattern \"abc+\"?\n",
    "\"\"\"\n",
    "\n",
    "\n",
    "\"\"\"\n",
    "Pattern (ab)c+ will search for at only one occurence of \"ab\" and one or more occurences of c.\n",
    "Pattern b(bc)+ will search for at only one occurence of \"a\" and one or more occurences of bc.\n",
    "Pattern (ab)c+ can be unqualified pattern \"abc+\"\n",
    "\n",
    "\"\"\"\n"
   ]
  },
  {
   "cell_type": "code",
   "execution_count": 1,
   "id": "16a6f635-2bda-4efc-9081-f2946304192b",
   "metadata": {},
   "outputs": [],
   "source": [
    "\"\"\"\n",
    "Q3. How much do you need to use the following sentence while using regular expressions?\n",
    "import re\n",
    "\"\"\"\n",
    "\n",
    "# Whenever we use regular expression we have to import re module\n",
    "import re"
   ]
  },
  {
   "cell_type": "code",
   "execution_count": null,
   "id": "bf18c67f-4ed8-4810-abeb-28e797bfc6df",
   "metadata": {},
   "outputs": [],
   "source": [
    "\"\"\"\n",
    "Q4. Which characters have special significance in square brackets when expressing a range, \n",
    "and under what circumstances?\n",
    "\"\"\"\n",
    "\n",
    "\n",
    "\"\"\"\n",
    "The Characters .,*,?,^,or,(), have a special signiface when used with square brackets. \n",
    "They need not be be explicitly escaped by \\ as in case of pattern texts in a raw string.\n",
    "\"\"\"\n"
   ]
  },
  {
   "cell_type": "code",
   "execution_count": null,
   "id": "ceeffba8-c996-407f-bdf9-f4dd17283281",
   "metadata": {},
   "outputs": [],
   "source": [
    "# Q5. How does compiling a regular-expression object benefit you?\n",
    "\n",
    "# It is faster compared to using pattern ad other re functions.\n"
   ]
  },
  {
   "cell_type": "code",
   "execution_count": 3,
   "id": "cfa501e7-1d4a-4b16-844d-f4635b25d8d3",
   "metadata": {},
   "outputs": [
    {
     "name": "stdout",
     "output_type": "stream",
     "text": [
      "<re.Match object; span=(11, 16), match='Rohit'>\n",
      "None\n"
     ]
    }
   ],
   "source": [
    "# Q6. What are some examples of how to use the match object returned by re.match and re.search?\n",
    "\n",
    "\"\"\"\n",
    "re.search() searches for the whole string even if the string contains multi lines and tries\n",
    "to find a match of the substring in all the line of string\n",
    "\n",
    "re.match() searches only from the beginning of the string and return match object if found.\n",
    "But if a match of substring is found somewhere in the middle of the string, it returns none.\n",
    "\"\"\"\n",
    "# Example\n",
    "import re\n",
    "pattern =\"Rohit\"\n",
    "search=re.search(pattern,\"My name is Rohit\" ,re.IGNORECASE)\n",
    "print(search)\n",
    "match=re.match(pattern,\"My full name is Rohit A\",re.IGNORECASE)\n",
    "print(match)"
   ]
  },
  {
   "cell_type": "code",
   "execution_count": 4,
   "id": "abd80b68-833f-4fae-bd15-febfb21a63e5",
   "metadata": {},
   "outputs": [
    {
     "name": "stdout",
     "output_type": "stream",
     "text": [
      "['She']\n",
      "['she is great human!']\n"
     ]
    }
   ],
   "source": [
    "\"\"\"\n",
    "Q7. What is the difference between using a vertical bar (|) as an alteration and \n",
    "using square brackets as a character set?\n",
    "\"\"\"\n",
    "\n",
    "\"\"\"\n",
    "| : is regex or. It will check either of any string is present in search string.\n",
    "[] : This will search for any character is present in string\n",
    "\"\"\"\n",
    "\n",
    "import re\n",
    "print(re.findall(\"She|he\", \"She is a great human!\"))\n",
    "print(re.findall(r'[^\\d]+',\"she is great human!\"))"
   ]
  },
  {
   "cell_type": "code",
   "execution_count": null,
   "id": "ed6ef037-aeab-4290-8610-49fe4fdca691",
   "metadata": {},
   "outputs": [],
   "source": [
    "\"\"\"\n",
    "Q8. In regular-expression search patterns, why is it necessary to use the raw-string\n",
    "indicator (r)? In   replacement strings?\n",
    "\"\"\"\n",
    "\n",
    "\"\"\"\n",
    "Raw Strings are used in the regular-expression search patterns, so that blackslashes\n",
    "donot have to be escaped.\n",
    "\"\"\"\n"
   ]
  }
 ],
 "metadata": {
  "kernelspec": {
   "display_name": "Python 3 (ipykernel)",
   "language": "python",
   "name": "python3"
  },
  "language_info": {
   "codemirror_mode": {
    "name": "ipython",
    "version": 3
   },
   "file_extension": ".py",
   "mimetype": "text/x-python",
   "name": "python",
   "nbconvert_exporter": "python",
   "pygments_lexer": "ipython3",
   "version": "3.10.6"
  }
 },
 "nbformat": 4,
 "nbformat_minor": 5
}
