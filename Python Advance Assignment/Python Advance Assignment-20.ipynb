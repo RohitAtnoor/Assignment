{
 "cells": [
  {
   "cell_type": "code",
   "execution_count": null,
   "id": "7272f816-fd16-4d9c-87b4-a43ebf223dcf",
   "metadata": {},
   "outputs": [],
   "source": [
    "# 1. Compare and contrast the float and Decimal classes' benefits and drawbacks.\n",
    "\n",
    "\"\"\"\n",
    "The float and decimal classes are both used to represent numbers in Python. \n",
    "\n",
    "Floats Benefits:\n",
    "1. Fast\n",
    "2. Small memory footprint\n",
    "3. Can represent a wide range of values\n",
    "Floats Drawbacks:\n",
    "1. Not as precise as decimals\n",
    "2. Can lose precision when performing calculations\n",
    "\n",
    "Decimals Benefits:\n",
    "1. Very precise\n",
    "2. Can represent very small and very large numbers\n",
    "3. Does not lose precision when performing calculations\n",
    "Decimals Drawbacks:\n",
    "1. Slower than floats\n",
    "2. Uses more memory than floats\n",
    "\n",
    "\"\"\"\n",
    "\n"
   ]
  },
  {
   "cell_type": "code",
   "execution_count": 2,
   "id": "0bbc087a-ddd9-4b3e-ab2b-3cb90ec53042",
   "metadata": {},
   "outputs": [
    {
     "name": "stdout",
     "output_type": "stream",
     "text": [
      "1.200\n",
      "1.2\n"
     ]
    }
   ],
   "source": [
    "\"\"\"\n",
    "2. Decimal('1.200') and Decimal('1.2') are two objects to consider. In what sense are \n",
    "these the same object? Are these just two ways of representing the exact same value, or\n",
    "do they correspond to different internal states?\n",
    "\"\"\"\n",
    "\n",
    "# Though they are indentical value wise,internal representation or internal state of these two \n",
    "from decimal import Decimal\n",
    "print(Decimal(\"1.200\"))\n",
    "print(Decimal(\"1.2\"))"
   ]
  },
  {
   "cell_type": "code",
   "execution_count": 3,
   "id": "fbbe6ad2-b820-41e5-b20d-e58ad120551d",
   "metadata": {},
   "outputs": [
    {
     "name": "stdout",
     "output_type": "stream",
     "text": [
      "True\n"
     ]
    }
   ],
   "source": [
    "# 3. What happens if the equality of Decimal('1.200') and Decimal('1.2') is checked?\n",
    "\n",
    "# It returns the value True in this condition.\n",
    "print(Decimal(\"1.200\") == Decimal(\"1.2\"))"
   ]
  },
  {
   "cell_type": "code",
   "execution_count": null,
   "id": "f1558805-42bd-47b5-8393-ae7d1324657d",
   "metadata": {},
   "outputs": [],
   "source": [
    "# 4. Why is it preferable to start a Decimal object with a string rather than a floating-point value?\n",
    "\n",
    "\"\"\"\n",
    "Floating-point value is converted to decimal format.Decimal can store float value with\n",
    "absolute precision.But when float value is given as Decimal object.it first has to be \n",
    "converted from floating point value which as Decimal objects with a string.\n",
    "\n",
    "\"\"\"\n"
   ]
  },
  {
   "cell_type": "code",
   "execution_count": null,
   "id": "74e26c27-d59d-4f0b-8b54-1d8ee6d45e10",
   "metadata": {},
   "outputs": [],
   "source": [
    "# 5. In an arithmetic phrase, how simple is it to combine Decimal objects with integers?\n",
    "\n",
    "# We can do it with use of Decimal().\n"
   ]
  },
  {
   "cell_type": "code",
   "execution_count": null,
   "id": "c30fe200-3b38-4b51-9d3a-f5b7625820c6",
   "metadata": {},
   "outputs": [],
   "source": [
    "# 6. Can Decimal objects and floating-point values be combined easily?\n",
    "\n",
    "\"\"\"\n",
    "Arthmetic operator like Adding,Subtracting or multiplying a Decimal object by a\n",
    "floating-point value is generates an error.To do these operations,the floating \n",
    "points has to be converted to a Decimal object-for example ,converting from a \n",
    "floating-point value and then rounding.\n",
    "\n",
    "\"\"\"\n"
   ]
  },
  {
   "cell_type": "code",
   "execution_count": 5,
   "id": "eedfda21-00f5-4128-8525-6b72a594fdac",
   "metadata": {},
   "outputs": [
    {
     "name": "stdout",
     "output_type": "stream",
     "text": [
      "1/2\n"
     ]
    }
   ],
   "source": [
    "\"\"\"\n",
    "7. Using the Fraction class but not the Decimal class, give an example of a quantity \n",
    "that can be expressed with absolute precision.\n",
    "\"\"\"\n",
    "\n",
    "# Value of 0.5 will be represented as 1/2.\n",
    "from fractions import Fraction\n",
    "val=0.5\n",
    "fr=Fraction(val)\n",
    "print(fr)"
   ]
  },
  {
   "cell_type": "code",
   "execution_count": 7,
   "id": "ae47d0cd-3ed0-458d-b32a-280be222e0b0",
   "metadata": {},
   "outputs": [
    {
     "name": "stdout",
     "output_type": "stream",
     "text": [
      "decimal= 0.01\n",
      "float value = 0.010000000000000002\n"
     ]
    }
   ],
   "source": [
    "\"\"\"\n",
    "8. Describe a quantity that can be accurately expressed by the Decimal or Fraction \n",
    "classes but not by a floating-point value.\n",
    "\"\"\"\n",
    "\n",
    "d=Decimal(\"0.1\")*Decimal(\"0.1\")\n",
    "print(\"decimal=\",d)\n",
    "frac=Fraction(\"1/10\")*Fraction(\"1/10\")\n",
    "f1=0.1*0.1\n",
    "print(\"float value =\",f1)"
   ]
  },
  {
   "cell_type": "code",
   "execution_count": 8,
   "id": "7d5cd781-bdba-4b7d-abd5-8c2792f11760",
   "metadata": {},
   "outputs": [
    {
     "name": "stdout",
     "output_type": "stream",
     "text": [
      "1/2\n",
      "1/2\n",
      "Fraction (1,2) and Fraction(5,10) are equal\n"
     ]
    }
   ],
   "source": [
    "\"\"\"\n",
    "Q9.Consider the following two fraction objects: Fraction(1, 2) and Fraction(1, 2). (5, 10).\n",
    "Is the internal state of these two objects the same? Why do you think that is?\n",
    "\"\"\"\n",
    "\n",
    "# Both will be reduced to 1/2\n",
    "from fractions import Fraction\n",
    "frac1=Fraction(1,2)\n",
    "print(frac1)\n",
    "frac2=Fraction(5,10)\n",
    "print(frac2)\n",
    "if (frac1==frac2):\n",
    "    print(\"Fraction (1,2) and Fraction(5,10) are equal\")"
   ]
  },
  {
   "cell_type": "code",
   "execution_count": 9,
   "id": "5f29bcca-9e6d-436b-af8a-f37e87f8f68a",
   "metadata": {},
   "outputs": [
    {
     "name": "stdout",
     "output_type": "stream",
     "text": [
      "numerator is  1 <class 'int'>\n",
      "denominator is 2 <class 'int'>\n"
     ]
    }
   ],
   "source": [
    "# Q10. How do the Fraction class and the integer type (int) relate to each other? Containment or inheritance?\n",
    "\n",
    "\"\"\"\n",
    "Fraction class and integer type(int) are related in form of a container.\n",
    "It contains two ints, one the numerator and the other the denominator.\n",
    "\"\"\"\n",
    "# Example\n",
    "from fractions import Fraction\n",
    "frac=Fraction(1,2)\n",
    "print(\"numerator is \",frac.numerator,type(frac.numerator))\n",
    "print(\"denominator is\",frac.denominator,type(frac.numerator))"
   ]
  },
  {
   "cell_type": "code",
   "execution_count": null,
   "id": "5d7174be-6c6d-4185-9fbe-56014c84024b",
   "metadata": {},
   "outputs": [],
   "source": []
  }
 ],
 "metadata": {
  "kernelspec": {
   "display_name": "Python 3 (ipykernel)",
   "language": "python",
   "name": "python3"
  },
  "language_info": {
   "codemirror_mode": {
    "name": "ipython",
    "version": 3
   },
   "file_extension": ".py",
   "mimetype": "text/x-python",
   "name": "python",
   "nbconvert_exporter": "python",
   "pygments_lexer": "ipython3",
   "version": "3.10.6"
  }
 },
 "nbformat": 4,
 "nbformat_minor": 5
}
