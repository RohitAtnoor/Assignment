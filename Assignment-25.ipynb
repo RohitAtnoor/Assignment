{
 "cells": [
  {
   "cell_type": "code",
   "execution_count": null,
   "id": "6781d14b-711f-4a50-93ea-54e6674f8417",
   "metadata": {},
   "outputs": [],
   "source": [
    "# 1. What is the difference between enclosing a list comprehension in square brackets and parentheses?\n",
    "\n",
    "\"\"\"\n",
    "The difference between enclosing a list comprehension in square brackets [ ] and \n",
    "parentheses ( ) is that square brackets create a list, while parentheses create a generator object.\n",
    "\"\"\""
   ]
  },
  {
   "cell_type": "code",
   "execution_count": null,
   "id": "af8354e4-675b-43d4-b361-21891d41c6fb",
   "metadata": {},
   "outputs": [],
   "source": [
    "# 2) What is the relationship between generators and iterators?\n",
    "\n",
    "\"\"\"\n",
    "The relationship between generators and iterators:\n",
    "A generator is a special type of iterator that is defined using a function or an expression with the yield keyword.\n",
    "An iterator is a more general concept that represents an object capable of producing a sequence of values. \n",
    "An iterator is an object which contains a countable number of values and it is used to iterate \n",
    "over iterable objects like list, tuples, sets, etc.\n",
    "\"\"\"\n"
   ]
  },
  {
   "cell_type": "code",
   "execution_count": null,
   "id": "17edc584-64b1-4b24-80c8-8fd5a065e83d",
   "metadata": {},
   "outputs": [],
   "source": [
    "# 3) What are the signs that a function is a generator function?\n",
    "\n",
    "\"\"\"\n",
    "Use of the yield keyword: Generator functions contain the yield keyword, which is used to yield values one at a time. \n",
    "Unlike regular functions that use the return statement \n",
    "When a generator function is called, it does not immediately execute the entire function body. \n",
    "Instead, it returns a generator object, which can be iterated over.\n",
    "\n",
    "\"\"\""
   ]
  },
  {
   "cell_type": "code",
   "execution_count": null,
   "id": "43f8a23b-e26e-464e-95a1-c43b9a8a86ac",
   "metadata": {},
   "outputs": [],
   "source": [
    "# 4) What is the purpose of a yield statement?\n",
    "\n",
    "\"\"\"\n",
    "The purpose of a yield statement in a function is to define a point at which the function \n",
    "will yield a value and temporarily suspend its execution.\n",
    "When a function encounters a yield statement, it generates a value and \"pauses\" its execution,\n",
    "preserving its internal state.\n",
    "\n",
    "\"\"\""
   ]
  },
  {
   "cell_type": "code",
   "execution_count": null,
   "id": "b4028dab-49f6-4de7-b249-788f5698b80b",
   "metadata": {},
   "outputs": [],
   "source": [
    "\"\"\"\n",
    "5) What is the relationship between map calls and list comprehensions? Make a comparison and\n",
    "contrast between the two.\n",
    "\"\"\"\n",
    "\n",
    "\"\"\"\n",
    "Both map calls and list comprehensions in Python are used to transform and process elements of an iterable. \n",
    "1. The map function takes a function and one or more iterables as arguments and returns an iterator \n",
    "that applies the function to each element of the iterables.\n",
    "List comprehensions have a concise syntax that allows you to createa new list by \n",
    "specifying an expression and an optional condition.\n",
    "2. Map applies the given function to each element of the iterables, returning a new iterator containing the results.\n",
    "List comprehensions are based on expressing the transformation or filtering logic directly in the syntax,\n",
    "without explicitly using a separate function.\n",
    "\n",
    "\"\"\""
   ]
  }
 ],
 "metadata": {
  "kernelspec": {
   "display_name": "Python 3 (ipykernel)",
   "language": "python",
   "name": "python3"
  },
  "language_info": {
   "codemirror_mode": {
    "name": "ipython",
    "version": 3
   },
   "file_extension": ".py",
   "mimetype": "text/x-python",
   "name": "python",
   "nbconvert_exporter": "python",
   "pygments_lexer": "ipython3",
   "version": "3.10.6"
  }
 },
 "nbformat": 4,
 "nbformat_minor": 5
}
