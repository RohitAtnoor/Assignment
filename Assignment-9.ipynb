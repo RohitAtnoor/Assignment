{
 "cells": [
  {
   "cell_type": "code",
   "execution_count": null,
   "id": "41155168-1584-48ef-b0d3-76137c4b7588",
   "metadata": {},
   "outputs": [],
   "source": [
    "# 1. To what does a relative path refer?\n",
    "\n",
    "\"\"\"\n",
    "A relative path refers to the location of a file or directory relative to the current working directory \n",
    "or another specified reference point\n",
    "\n",
    "\"\"\""
   ]
  },
  {
   "cell_type": "code",
   "execution_count": null,
   "id": "ff4cc71c-b5e0-4e33-9db6-3828e7ca1998",
   "metadata": {},
   "outputs": [],
   "source": [
    "# 2. What does an absolute path start with your operating system?\n",
    "\n",
    "\"\"\"\n",
    "1. In Windows the absolute path starts with \"C:\\ or D:\\ \"\n",
    "2. In Linux the absolute path starts with \"/\"\n",
    "\n",
    "\"\"\""
   ]
  },
  {
   "cell_type": "code",
   "execution_count": null,
   "id": "f61b684d-a729-47b3-92c9-4005e4e0184b",
   "metadata": {},
   "outputs": [],
   "source": [
    "# 3. What do the functions os.getcwd() and os.chdir() do?\n",
    "\n",
    "\"\"\"\n",
    "1. os.getcwd() is a built in function in OS module which helps in getting the path of present working directory.\n",
    "2. os.chdir(path) is a built in function in OS module which helps in changing the present workinf path.\n",
    "we need to specify the path which needs to be changed.\n",
    "\n",
    "\"\"\""
   ]
  },
  {
   "cell_type": "code",
   "execution_count": null,
   "id": "ff8dce14-c8ef-4cb4-a000-5d6ceab0b698",
   "metadata": {},
   "outputs": [],
   "source": [
    "# 4. What are the . and .. folders?\n",
    "\n",
    "# \" . \" represent the current directory and \" .. \" represent the parnent directory."
   ]
  },
  {
   "cell_type": "code",
   "execution_count": null,
   "id": "11435908-ccda-4ce7-82f8-ef560a2a9aff",
   "metadata": {},
   "outputs": [],
   "source": [
    "# 5. In C:\\bacon\\eggs\\spam.txt, which part is the dir name, and which part is the base name?\n",
    "\n",
    "\"\"\"\n",
    "C:\\bacon\\eggs\\spam.txt in this path the \n",
    "directory name is : C:\\bacon\\eggs\n",
    "base name : spam.txt\n",
    "\n",
    "\"\"\""
   ]
  },
  {
   "cell_type": "code",
   "execution_count": null,
   "id": "8530637f-6d4a-4348-9605-d35d00f9ed86",
   "metadata": {},
   "outputs": [],
   "source": [
    "# 6. What are the three “mode” arguments that can be passed to the open() function?\n",
    "\n",
    "\"\"\"\n",
    "The open() function in Python is used to open files and has three main \"mode\" arguments that can be passed:\n",
    "\n",
    "1. 'r' (Read mode): This is the default mode when no mode is specified. It allows reading from the file.\n",
    "2. 'w' (Write mode): This mode is used to open a file for writing. \n",
    "If the file exists, it will be truncated (emptied) before writing\n",
    "3. 'a' (Append mode): This mode is used to open a file for appending data. \n",
    "It allows writing to the end of the file without truncating its contents.\n",
    "\n",
    "\"\"\""
   ]
  },
  {
   "cell_type": "code",
   "execution_count": null,
   "id": "4bee736d-f16e-43da-b8f4-b635f0fc15f4",
   "metadata": {},
   "outputs": [],
   "source": [
    "# 7. What happens if an existing file is opened in write mode?\n",
    "\n",
    "\"\"\"\n",
    "if a existing file is opened in write mode the the existing content will be completelt over written.\n",
    "The detalis in existing file will be cleared, and new details will be updated.\n",
    "\n",
    "\"\"\""
   ]
  },
  {
   "cell_type": "code",
   "execution_count": null,
   "id": "59c90fdd-dfec-4a40-b9c8-5842aa3b0ffd",
   "metadata": {},
   "outputs": [],
   "source": [
    "# 8. How do you tell the difference between read() and readlines()?\n",
    "\n",
    "\"\"\"\n",
    "read(): The read() method is used to read the entire contents of a file as a single string. \n",
    "readlines(): The readlines() method is used to read the contents of a file line by line\n",
    "and returns a list where each line is an element of the list.\n",
    "\n",
    "\"\"\""
   ]
  },
  {
   "cell_type": "code",
   "execution_count": null,
   "id": "84ac7192-4b7c-47b5-8176-5d5347173c3b",
   "metadata": {},
   "outputs": [],
   "source": [
    "# 9. What data structure does a shelf value resemble?\n",
    "\n",
    "#In Python, the shelf module provides a dictionary-like data structure for storing and retrieving objects. "
   ]
  }
 ],
 "metadata": {
  "kernelspec": {
   "display_name": "Python 3 (ipykernel)",
   "language": "python",
   "name": "python3"
  },
  "language_info": {
   "codemirror_mode": {
    "name": "ipython",
    "version": 3
   },
   "file_extension": ".py",
   "mimetype": "text/x-python",
   "name": "python",
   "nbconvert_exporter": "python",
   "pygments_lexer": "ipython3",
   "version": "3.10.6"
  }
 },
 "nbformat": 4,
 "nbformat_minor": 5
}
